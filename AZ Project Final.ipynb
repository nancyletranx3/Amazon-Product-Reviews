{
 "cells": [
  {
   "cell_type": "markdown",
   "id": "8fe84dac",
   "metadata": {},
   "source": [
    "# Connecting to MongoDB"
   ]
  },
  {
   "cell_type": "code",
   "execution_count": 1,
   "id": "1dbad894",
   "metadata": {},
   "outputs": [],
   "source": [
    "import pymongo\n",
    "from pymongo import MongoClient\n",
    "import warnings\n",
    "warnings.filterwarnings('ignore')"
   ]
  },
  {
   "cell_type": "code",
   "execution_count": 2,
   "id": "e202f798",
   "metadata": {},
   "outputs": [],
   "source": [
    "# Local host\n",
    "cluster = MongoClient(\"mongodb://localhost:27017/?readPreference=primary&appname=MongoDB%20Compass&directConnection=true&ssl=false\")"
   ]
  },
  {
   "cell_type": "code",
   "execution_count": 3,
   "id": "82093422",
   "metadata": {},
   "outputs": [],
   "source": [
    "# Connect to database2\n",
    "db = cluster[\"database2\"]"
   ]
  },
  {
   "cell_type": "code",
   "execution_count": 4,
   "id": "244b85a3",
   "metadata": {},
   "outputs": [],
   "source": [
    "# Work with Amazon collection\n",
    "collection = db[\"Amazon\"]"
   ]
  },
  {
   "cell_type": "code",
   "execution_count": 5,
   "id": "5737894c",
   "metadata": {},
   "outputs": [
    {
     "data": {
      "text/plain": [
       "Collection(Database(MongoClient(host=['localhost:27017'], document_class=dict, tz_aware=False, connect=True, readpreference='primary', appname='MongoDB Compass', directconnection=True, ssl=False), 'database2'), 'Amazon')"
      ]
     },
     "execution_count": 5,
     "metadata": {},
     "output_type": "execute_result"
    }
   ],
   "source": [
    "collection"
   ]
  },
  {
   "cell_type": "code",
   "execution_count": 6,
   "id": "36d1ec5b",
   "metadata": {},
   "outputs": [],
   "source": [
    "# Assign dataframe to all the data in Amazon collection\n",
    "import pandas as pd\n",
    "df = pd.DataFrame(collection.find(no_cursor_timeout=True))"
   ]
  },
  {
   "cell_type": "markdown",
   "id": "9a1b553c",
   "metadata": {},
   "source": [
    "# Data Exploratory and Data Preprocessing"
   ]
  },
  {
   "cell_type": "code",
   "execution_count": 7,
   "id": "837c2162",
   "metadata": {},
   "outputs": [
    {
     "data": {
      "text/html": [
       "<div>\n",
       "<style scoped>\n",
       "    .dataframe tbody tr th:only-of-type {\n",
       "        vertical-align: middle;\n",
       "    }\n",
       "\n",
       "    .dataframe tbody tr th {\n",
       "        vertical-align: top;\n",
       "    }\n",
       "\n",
       "    .dataframe thead th {\n",
       "        text-align: right;\n",
       "    }\n",
       "</style>\n",
       "<table border=\"1\" class=\"dataframe\">\n",
       "  <thead>\n",
       "    <tr style=\"text-align: right;\">\n",
       "      <th></th>\n",
       "      <th>_id</th>\n",
       "      <th></th>\n",
       "      <th>overall</th>\n",
       "      <th>vote</th>\n",
       "      <th>verified</th>\n",
       "      <th>reviewTime</th>\n",
       "      <th>reviewerID</th>\n",
       "      <th>asin</th>\n",
       "      <th>style</th>\n",
       "      <th>reviewerName</th>\n",
       "      <th>reviewText</th>\n",
       "      <th>summary</th>\n",
       "      <th>unixReviewTime</th>\n",
       "      <th>image</th>\n",
       "    </tr>\n",
       "  </thead>\n",
       "  <tbody>\n",
       "    <tr>\n",
       "      <th>0</th>\n",
       "      <td>60eca3c94d530690eb41d84a</td>\n",
       "      <td>0</td>\n",
       "      <td>5</td>\n",
       "      <td>4</td>\n",
       "      <td>True</td>\n",
       "      <td>11 6, 2013</td>\n",
       "      <td>A3U4E9PIZ8OWH1</td>\n",
       "      <td>449819906</td>\n",
       "      <td>{'Format:': ' Kindle Edition'}</td>\n",
       "      <td>Shirley Curtis</td>\n",
       "      <td>I've read this book already and I've got plans...</td>\n",
       "      <td>A  WONDERFUL BOOK</td>\n",
       "      <td>1383696000</td>\n",
       "      <td></td>\n",
       "    </tr>\n",
       "    <tr>\n",
       "      <th>1</th>\n",
       "      <td>60eca3c94d530690eb41d84b</td>\n",
       "      <td>7</td>\n",
       "      <td>5</td>\n",
       "      <td></td>\n",
       "      <td>True</td>\n",
       "      <td>11 29, 2016</td>\n",
       "      <td>A1IQJ7PGO9I4MI</td>\n",
       "      <td>449819906</td>\n",
       "      <td>{'Format:': ' Kindle Edition'}</td>\n",
       "      <td>GPS</td>\n",
       "      <td>This book is a most have, if you are serious a...</td>\n",
       "      <td>Magnificent</td>\n",
       "      <td>1480377600</td>\n",
       "      <td></td>\n",
       "    </tr>\n",
       "    <tr>\n",
       "      <th>2</th>\n",
       "      <td>60eca3c94d530690eb41d84c</td>\n",
       "      <td>6</td>\n",
       "      <td>5</td>\n",
       "      <td></td>\n",
       "      <td>True</td>\n",
       "      <td>12 23, 2016</td>\n",
       "      <td>A1GJKG5OAQQ69</td>\n",
       "      <td>449819906</td>\n",
       "      <td>{'Format:': ' Kindle Edition'}</td>\n",
       "      <td>Kindle Customer</td>\n",
       "      <td>The best knitting  instruction book I own in m...</td>\n",
       "      <td>Thank you for the best knitting  book I have i...</td>\n",
       "      <td>1482451200</td>\n",
       "      <td></td>\n",
       "    </tr>\n",
       "    <tr>\n",
       "      <th>3</th>\n",
       "      <td>60eca3c94d530690eb41d84d</td>\n",
       "      <td>4</td>\n",
       "      <td>5</td>\n",
       "      <td></td>\n",
       "      <td>True</td>\n",
       "      <td>01 12, 2017</td>\n",
       "      <td>A2846L8Q507JC4</td>\n",
       "      <td>449819906</td>\n",
       "      <td>{'Format:': ' Kindle Edition'}</td>\n",
       "      <td>Dulce</td>\n",
       "      <td>A gazillion pattern stitches, lucidly explaine...</td>\n",
       "      <td>Extremely clear, thorough</td>\n",
       "      <td>1484179200</td>\n",
       "      <td></td>\n",
       "    </tr>\n",
       "    <tr>\n",
       "      <th>4</th>\n",
       "      <td>60eca3c94d530690eb41d84e</td>\n",
       "      <td>5</td>\n",
       "      <td>2</td>\n",
       "      <td></td>\n",
       "      <td>True</td>\n",
       "      <td>01 6, 2017</td>\n",
       "      <td>A3V21ZT37Y242L</td>\n",
       "      <td>449819906</td>\n",
       "      <td>{'Format:': ' Kindle Edition'}</td>\n",
       "      <td>Sheila Fenchak</td>\n",
       "      <td>Just ok. Read better knit books.</td>\n",
       "      <td>Just ok</td>\n",
       "      <td>1483660800</td>\n",
       "      <td></td>\n",
       "    </tr>\n",
       "  </tbody>\n",
       "</table>\n",
       "</div>"
      ],
      "text/plain": [
       "                        _id     overall vote verified   reviewTime  \\\n",
       "0  60eca3c94d530690eb41d84a  0        5    4     True   11 6, 2013   \n",
       "1  60eca3c94d530690eb41d84b  7        5          True  11 29, 2016   \n",
       "2  60eca3c94d530690eb41d84c  6        5          True  12 23, 2016   \n",
       "3  60eca3c94d530690eb41d84d  4        5          True  01 12, 2017   \n",
       "4  60eca3c94d530690eb41d84e  5        2          True   01 6, 2017   \n",
       "\n",
       "       reviewerID       asin                           style     reviewerName  \\\n",
       "0  A3U4E9PIZ8OWH1  449819906  {'Format:': ' Kindle Edition'}   Shirley Curtis   \n",
       "1  A1IQJ7PGO9I4MI  449819906  {'Format:': ' Kindle Edition'}              GPS   \n",
       "2   A1GJKG5OAQQ69  449819906  {'Format:': ' Kindle Edition'}  Kindle Customer   \n",
       "3  A2846L8Q507JC4  449819906  {'Format:': ' Kindle Edition'}            Dulce   \n",
       "4  A3V21ZT37Y242L  449819906  {'Format:': ' Kindle Edition'}   Sheila Fenchak   \n",
       "\n",
       "                                          reviewText  \\\n",
       "0  I've read this book already and I've got plans...   \n",
       "1  This book is a most have, if you are serious a...   \n",
       "2  The best knitting  instruction book I own in m...   \n",
       "3  A gazillion pattern stitches, lucidly explaine...   \n",
       "4                   Just ok. Read better knit books.   \n",
       "\n",
       "                                             summary  unixReviewTime image  \n",
       "0                                  A  WONDERFUL BOOK      1383696000        \n",
       "1                                        Magnificent      1480377600        \n",
       "2  Thank you for the best knitting  book I have i...      1482451200        \n",
       "3                          Extremely clear, thorough      1484179200        \n",
       "4                                            Just ok      1483660800        "
      ]
     },
     "execution_count": 7,
     "metadata": {},
     "output_type": "execute_result"
    }
   ],
   "source": [
    "df.head()"
   ]
  },
  {
   "cell_type": "code",
   "execution_count": 8,
   "id": "c24bef0c",
   "metadata": {},
   "outputs": [
    {
     "data": {
      "text/plain": [
       "(2875917, 14)"
      ]
     },
     "execution_count": 8,
     "metadata": {},
     "output_type": "execute_result"
    }
   ],
   "source": [
    "# Checking how many rows and columns\n",
    "df.shape"
   ]
  },
  {
   "cell_type": "code",
   "execution_count": 9,
   "id": "ecb7d9f9",
   "metadata": {},
   "outputs": [
    {
     "data": {
      "text/plain": [
       "5    1984651\n",
       "4     361840\n",
       "1     210232\n",
       "3     198200\n",
       "2     120994\n",
       "Name: overall, dtype: int64"
      ]
     },
     "execution_count": 9,
     "metadata": {},
     "output_type": "execute_result"
    }
   ],
   "source": [
    "# Checking if we can use overall as the target variable\n",
    "df.overall.value_counts()"
   ]
  },
  {
   "cell_type": "code",
   "execution_count": 10,
   "id": "5d64650b",
   "metadata": {},
   "outputs": [
    {
     "data": {
      "text/html": [
       "<div>\n",
       "<style scoped>\n",
       "    .dataframe tbody tr th:only-of-type {\n",
       "        vertical-align: middle;\n",
       "    }\n",
       "\n",
       "    .dataframe tbody tr th {\n",
       "        vertical-align: top;\n",
       "    }\n",
       "\n",
       "    .dataframe thead th {\n",
       "        text-align: right;\n",
       "    }\n",
       "</style>\n",
       "<table border=\"1\" class=\"dataframe\">\n",
       "  <thead>\n",
       "    <tr style=\"text-align: right;\">\n",
       "      <th></th>\n",
       "      <th>_id</th>\n",
       "      <th></th>\n",
       "      <th>overall</th>\n",
       "      <th>vote</th>\n",
       "      <th>verified</th>\n",
       "      <th>reviewTime</th>\n",
       "      <th>reviewerID</th>\n",
       "      <th>asin</th>\n",
       "      <th>style</th>\n",
       "      <th>reviewerName</th>\n",
       "      <th>reviewText</th>\n",
       "      <th>summary</th>\n",
       "      <th>unixReviewTime</th>\n",
       "      <th>image</th>\n",
       "    </tr>\n",
       "  </thead>\n",
       "  <tbody>\n",
       "    <tr>\n",
       "      <th>0</th>\n",
       "      <td>60eca3c94d530690eb41d84a</td>\n",
       "      <td>0</td>\n",
       "      <td>positive</td>\n",
       "      <td>4</td>\n",
       "      <td>True</td>\n",
       "      <td>11 6, 2013</td>\n",
       "      <td>A3U4E9PIZ8OWH1</td>\n",
       "      <td>449819906</td>\n",
       "      <td>{'Format:': ' Kindle Edition'}</td>\n",
       "      <td>Shirley Curtis</td>\n",
       "      <td>I've read this book already and I've got plans...</td>\n",
       "      <td>A  WONDERFUL BOOK</td>\n",
       "      <td>1383696000</td>\n",
       "      <td></td>\n",
       "    </tr>\n",
       "    <tr>\n",
       "      <th>1</th>\n",
       "      <td>60eca3c94d530690eb41d84b</td>\n",
       "      <td>7</td>\n",
       "      <td>positive</td>\n",
       "      <td></td>\n",
       "      <td>True</td>\n",
       "      <td>11 29, 2016</td>\n",
       "      <td>A1IQJ7PGO9I4MI</td>\n",
       "      <td>449819906</td>\n",
       "      <td>{'Format:': ' Kindle Edition'}</td>\n",
       "      <td>GPS</td>\n",
       "      <td>This book is a most have, if you are serious a...</td>\n",
       "      <td>Magnificent</td>\n",
       "      <td>1480377600</td>\n",
       "      <td></td>\n",
       "    </tr>\n",
       "    <tr>\n",
       "      <th>2</th>\n",
       "      <td>60eca3c94d530690eb41d84c</td>\n",
       "      <td>6</td>\n",
       "      <td>positive</td>\n",
       "      <td></td>\n",
       "      <td>True</td>\n",
       "      <td>12 23, 2016</td>\n",
       "      <td>A1GJKG5OAQQ69</td>\n",
       "      <td>449819906</td>\n",
       "      <td>{'Format:': ' Kindle Edition'}</td>\n",
       "      <td>Kindle Customer</td>\n",
       "      <td>The best knitting  instruction book I own in m...</td>\n",
       "      <td>Thank you for the best knitting  book I have i...</td>\n",
       "      <td>1482451200</td>\n",
       "      <td></td>\n",
       "    </tr>\n",
       "    <tr>\n",
       "      <th>3</th>\n",
       "      <td>60eca3c94d530690eb41d84d</td>\n",
       "      <td>4</td>\n",
       "      <td>positive</td>\n",
       "      <td></td>\n",
       "      <td>True</td>\n",
       "      <td>01 12, 2017</td>\n",
       "      <td>A2846L8Q507JC4</td>\n",
       "      <td>449819906</td>\n",
       "      <td>{'Format:': ' Kindle Edition'}</td>\n",
       "      <td>Dulce</td>\n",
       "      <td>A gazillion pattern stitches, lucidly explaine...</td>\n",
       "      <td>Extremely clear, thorough</td>\n",
       "      <td>1484179200</td>\n",
       "      <td></td>\n",
       "    </tr>\n",
       "    <tr>\n",
       "      <th>4</th>\n",
       "      <td>60eca3c94d530690eb41d84e</td>\n",
       "      <td>5</td>\n",
       "      <td>negative</td>\n",
       "      <td></td>\n",
       "      <td>True</td>\n",
       "      <td>01 6, 2017</td>\n",
       "      <td>A3V21ZT37Y242L</td>\n",
       "      <td>449819906</td>\n",
       "      <td>{'Format:': ' Kindle Edition'}</td>\n",
       "      <td>Sheila Fenchak</td>\n",
       "      <td>Just ok. Read better knit books.</td>\n",
       "      <td>Just ok</td>\n",
       "      <td>1483660800</td>\n",
       "      <td></td>\n",
       "    </tr>\n",
       "  </tbody>\n",
       "</table>\n",
       "</div>"
      ],
      "text/plain": [
       "                        _id      overall vote verified   reviewTime  \\\n",
       "0  60eca3c94d530690eb41d84a  0  positive    4     True   11 6, 2013   \n",
       "1  60eca3c94d530690eb41d84b  7  positive          True  11 29, 2016   \n",
       "2  60eca3c94d530690eb41d84c  6  positive          True  12 23, 2016   \n",
       "3  60eca3c94d530690eb41d84d  4  positive          True  01 12, 2017   \n",
       "4  60eca3c94d530690eb41d84e  5  negative          True   01 6, 2017   \n",
       "\n",
       "       reviewerID       asin                           style     reviewerName  \\\n",
       "0  A3U4E9PIZ8OWH1  449819906  {'Format:': ' Kindle Edition'}   Shirley Curtis   \n",
       "1  A1IQJ7PGO9I4MI  449819906  {'Format:': ' Kindle Edition'}              GPS   \n",
       "2   A1GJKG5OAQQ69  449819906  {'Format:': ' Kindle Edition'}  Kindle Customer   \n",
       "3  A2846L8Q507JC4  449819906  {'Format:': ' Kindle Edition'}            Dulce   \n",
       "4  A3V21ZT37Y242L  449819906  {'Format:': ' Kindle Edition'}   Sheila Fenchak   \n",
       "\n",
       "                                          reviewText  \\\n",
       "0  I've read this book already and I've got plans...   \n",
       "1  This book is a most have, if you are serious a...   \n",
       "2  The best knitting  instruction book I own in m...   \n",
       "3  A gazillion pattern stitches, lucidly explaine...   \n",
       "4                   Just ok. Read better knit books.   \n",
       "\n",
       "                                             summary  unixReviewTime image  \n",
       "0                                  A  WONDERFUL BOOK      1383696000        \n",
       "1                                        Magnificent      1480377600        \n",
       "2  Thank you for the best knitting  book I have i...      1482451200        \n",
       "3                          Extremely clear, thorough      1484179200        \n",
       "4                                            Just ok      1483660800        "
      ]
     },
     "execution_count": 10,
     "metadata": {},
     "output_type": "execute_result"
    }
   ],
   "source": [
    "# Change 1-2 to negative, 3 to neutral, and 4-5 to positive for overall column\n",
    "df.overall.mask(df.overall == 1, \"negative\", inplace = True)\n",
    "df.overall.mask(df.overall == 2, \"negative\", inplace = True)\n",
    "df.overall.mask(df.overall == 3, \"neutral\", inplace = True)\n",
    "df.overall.mask(df.overall == 4, \"positive\", inplace = True)\n",
    "df.overall.mask(df.overall == 5, \"positive\", inplace = True)\n",
    "df.head()"
   ]
  },
  {
   "cell_type": "code",
   "execution_count": 11,
   "id": "587da197",
   "metadata": {},
   "outputs": [],
   "source": [
    "# Make a copy for testing later\n",
    "temp = df.copy()"
   ]
  },
  {
   "cell_type": "code",
   "execution_count": 12,
   "id": "1106fb84",
   "metadata": {},
   "outputs": [
    {
     "data": {
      "text/plain": [
       "_id                 0\n",
       "                    0\n",
       "overall             0\n",
       "vote                0\n",
       "verified            0\n",
       "reviewTime          0\n",
       "reviewerID          0\n",
       "asin                0\n",
       "style               0\n",
       "reviewerName      326\n",
       "reviewText          0\n",
       "summary             0\n",
       "unixReviewTime      0\n",
       "image               0\n",
       "dtype: int64"
      ]
     },
     "execution_count": 12,
     "metadata": {},
     "output_type": "execute_result"
    }
   ],
   "source": [
    "# Check if there's any nulls\n",
    "df.isnull().sum()"
   ]
  },
  {
   "cell_type": "code",
   "execution_count": 13,
   "id": "cec0a8f8",
   "metadata": {},
   "outputs": [
    {
     "data": {
      "text/plain": [
       "B004AKS59O    4534\n",
       "B0014DGXU8    4006\n",
       "B000Y00DDK    3862\n",
       "B00172XBQA    3860\n",
       "B00122CN64    3772\n",
       "              ... \n",
       "B016PHU4WA       1\n",
       "B00D0FJUGM       1\n",
       "B0157JSGPE       1\n",
       "B012VZ4534       1\n",
       "B00OTKQCYK       1\n",
       "Name: asin, Length: 302809, dtype: int64"
      ]
     },
     "execution_count": 13,
     "metadata": {},
     "output_type": "execute_result"
    }
   ],
   "source": [
    "# Checking how many reviews are in each item\n",
    "df.asin.value_counts()"
   ]
  },
  {
   "cell_type": "code",
   "execution_count": 14,
   "id": "21991974",
   "metadata": {},
   "outputs": [
    {
     "data": {
      "text/plain": [
       "B004AKS59O    4534\n",
       "B0014DGXU8    4006\n",
       "B000Y00DDK    3862\n",
       "B00172XBQA    3860\n",
       "B00122CN64    3772\n",
       "              ... \n",
       "B0092RKJNU     101\n",
       "B00FR07HP4     101\n",
       "B004L0AIDE     101\n",
       "B007JL37I0     101\n",
       "B00JU6OO5M     101\n",
       "Name: asin, Length: 4544, dtype: int64"
      ]
     },
     "execution_count": 14,
     "metadata": {},
     "output_type": "execute_result"
    }
   ],
   "source": [
    "# Removing rows that have only 100 value count in their asin since we have more than 2 mil rows\n",
    "df = df.groupby('asin').filter(lambda x : len(x) > 100)\n",
    "df.asin.value_counts()"
   ]
  },
  {
   "cell_type": "code",
   "execution_count": 15,
   "id": "1c64f600",
   "metadata": {},
   "outputs": [
    {
     "data": {
      "text/plain": [
       "1282703"
      ]
     },
     "execution_count": 15,
     "metadata": {},
     "output_type": "execute_result"
    }
   ],
   "source": [
    "# Checking the length and still have over a million of rows\n",
    "len(df)"
   ]
  },
  {
   "cell_type": "code",
   "execution_count": 16,
   "id": "f814b58f",
   "metadata": {},
   "outputs": [
    {
     "data": {
      "text/html": [
       "<div>\n",
       "<style scoped>\n",
       "    .dataframe tbody tr th:only-of-type {\n",
       "        vertical-align: middle;\n",
       "    }\n",
       "\n",
       "    .dataframe tbody tr th {\n",
       "        vertical-align: top;\n",
       "    }\n",
       "\n",
       "    .dataframe thead th {\n",
       "        text-align: right;\n",
       "    }\n",
       "</style>\n",
       "<table border=\"1\" class=\"dataframe\">\n",
       "  <thead>\n",
       "    <tr style=\"text-align: right;\">\n",
       "      <th></th>\n",
       "      <th>_id</th>\n",
       "      <th></th>\n",
       "      <th>overall</th>\n",
       "      <th>vote</th>\n",
       "      <th>verified</th>\n",
       "      <th>reviewTime</th>\n",
       "      <th>reviewerID</th>\n",
       "      <th>asin</th>\n",
       "      <th>style</th>\n",
       "      <th>reviewerName</th>\n",
       "      <th>reviewText</th>\n",
       "      <th>summary</th>\n",
       "      <th>unixReviewTime</th>\n",
       "      <th>image</th>\n",
       "    </tr>\n",
       "  </thead>\n",
       "  <tbody>\n",
       "    <tr>\n",
       "      <th>242</th>\n",
       "      <td>60eca3c94d530690eb41d93c</td>\n",
       "      <td>242</td>\n",
       "      <td>positive</td>\n",
       "      <td>44</td>\n",
       "      <td>True</td>\n",
       "      <td>06 26, 2007</td>\n",
       "      <td>A2YJ0QZF5CQ2X4</td>\n",
       "      <td>823013626</td>\n",
       "      <td>{'Format:': ' Paperback'}</td>\n",
       "      <td>Cindy</td>\n",
       "      <td>I've loved Donna Kato's work for some time, bu...</td>\n",
       "      <td>Wow!  What a resource!</td>\n",
       "      <td>1182816000</td>\n",
       "      <td></td>\n",
       "    </tr>\n",
       "    <tr>\n",
       "      <th>243</th>\n",
       "      <td>60eca3c94d530690eb41d93d</td>\n",
       "      <td>243</td>\n",
       "      <td>positive</td>\n",
       "      <td></td>\n",
       "      <td>True</td>\n",
       "      <td>08 16, 2015</td>\n",
       "      <td>A3K068L50RQXCC</td>\n",
       "      <td>823013626</td>\n",
       "      <td>{'Format:': ' Paperback'}</td>\n",
       "      <td>Carol P</td>\n",
       "      <td>Absolutely fantastic  book. If I could give it...</td>\n",
       "      <td>Essential reading</td>\n",
       "      <td>1439683200</td>\n",
       "      <td></td>\n",
       "    </tr>\n",
       "    <tr>\n",
       "      <th>244</th>\n",
       "      <td>60eca3c94d530690eb41d93e</td>\n",
       "      <td>244</td>\n",
       "      <td>positive</td>\n",
       "      <td></td>\n",
       "      <td>True</td>\n",
       "      <td>07 28, 2015</td>\n",
       "      <td>A2NMB9ID620BHK</td>\n",
       "      <td>823013626</td>\n",
       "      <td>{'Format:': ' Paperback'}</td>\n",
       "      <td>Mrs. Eve Smith</td>\n",
       "      <td>Exciting and inspirational!  Great information.</td>\n",
       "      <td>Great information.</td>\n",
       "      <td>1438041600</td>\n",
       "      <td></td>\n",
       "    </tr>\n",
       "    <tr>\n",
       "      <th>245</th>\n",
       "      <td>60eca3c94d530690eb41d93f</td>\n",
       "      <td>245</td>\n",
       "      <td>positive</td>\n",
       "      <td></td>\n",
       "      <td>True</td>\n",
       "      <td>07 23, 2015</td>\n",
       "      <td>A24GSIBPJNJWEF</td>\n",
       "      <td>823013626</td>\n",
       "      <td>{'Format:': ' Paperback'}</td>\n",
       "      <td>William V Harrold</td>\n",
       "      <td>very good</td>\n",
       "      <td>Five Stars</td>\n",
       "      <td>1437609600</td>\n",
       "      <td></td>\n",
       "    </tr>\n",
       "    <tr>\n",
       "      <th>246</th>\n",
       "      <td>60eca3c94d530690eb41d940</td>\n",
       "      <td>246</td>\n",
       "      <td>positive</td>\n",
       "      <td>2</td>\n",
       "      <td>True</td>\n",
       "      <td>07 3, 2015</td>\n",
       "      <td>A3LAFC1BW6N4N2</td>\n",
       "      <td>823013626</td>\n",
       "      <td>{'Format:': ' Paperback'}</td>\n",
       "      <td>Susan L</td>\n",
       "      <td>I just received Donna Kato's Creative Surface ...</td>\n",
       "      <td>Never enough hours in a day for these beautifu...</td>\n",
       "      <td>1435881600</td>\n",
       "      <td></td>\n",
       "    </tr>\n",
       "  </tbody>\n",
       "</table>\n",
       "</div>"
      ],
      "text/plain": [
       "                          _id        overall vote verified   reviewTime  \\\n",
       "242  60eca3c94d530690eb41d93c  242  positive   44     True  06 26, 2007   \n",
       "243  60eca3c94d530690eb41d93d  243  positive          True  08 16, 2015   \n",
       "244  60eca3c94d530690eb41d93e  244  positive          True  07 28, 2015   \n",
       "245  60eca3c94d530690eb41d93f  245  positive          True  07 23, 2015   \n",
       "246  60eca3c94d530690eb41d940  246  positive    2     True   07 3, 2015   \n",
       "\n",
       "         reviewerID       asin                      style       reviewerName  \\\n",
       "242  A2YJ0QZF5CQ2X4  823013626  {'Format:': ' Paperback'}              Cindy   \n",
       "243  A3K068L50RQXCC  823013626  {'Format:': ' Paperback'}            Carol P   \n",
       "244  A2NMB9ID620BHK  823013626  {'Format:': ' Paperback'}     Mrs. Eve Smith   \n",
       "245  A24GSIBPJNJWEF  823013626  {'Format:': ' Paperback'}  William V Harrold   \n",
       "246  A3LAFC1BW6N4N2  823013626  {'Format:': ' Paperback'}            Susan L   \n",
       "\n",
       "                                            reviewText  \\\n",
       "242  I've loved Donna Kato's work for some time, bu...   \n",
       "243  Absolutely fantastic  book. If I could give it...   \n",
       "244    Exciting and inspirational!  Great information.   \n",
       "245                                          very good   \n",
       "246  I just received Donna Kato's Creative Surface ...   \n",
       "\n",
       "                                               summary  unixReviewTime image  \n",
       "242                             Wow!  What a resource!      1182816000        \n",
       "243                                  Essential reading      1439683200        \n",
       "244                                 Great information.      1438041600        \n",
       "245                                         Five Stars      1437609600        \n",
       "246  Never enough hours in a day for these beautifu...      1435881600        "
      ]
     },
     "execution_count": 16,
     "metadata": {},
     "output_type": "execute_result"
    }
   ],
   "source": [
    "df.head()"
   ]
  },
  {
   "cell_type": "code",
   "execution_count": 17,
   "id": "061e87ad",
   "metadata": {},
   "outputs": [
    {
     "data": {
      "text/plain": [
       "(1191326, 14)"
      ]
     },
     "execution_count": 17,
     "metadata": {},
     "output_type": "execute_result"
    }
   ],
   "source": [
    "# Remove rows that verified is FALSE because the reviews are not verified\n",
    "df = df[df.verified == \"True\"]\n",
    "df.shape"
   ]
  },
  {
   "cell_type": "code",
   "execution_count": 18,
   "id": "b16b9d66",
   "metadata": {},
   "outputs": [
    {
     "data": {
      "text/html": [
       "<div>\n",
       "<style scoped>\n",
       "    .dataframe tbody tr th:only-of-type {\n",
       "        vertical-align: middle;\n",
       "    }\n",
       "\n",
       "    .dataframe tbody tr th {\n",
       "        vertical-align: top;\n",
       "    }\n",
       "\n",
       "    .dataframe thead th {\n",
       "        text-align: right;\n",
       "    }\n",
       "</style>\n",
       "<table border=\"1\" class=\"dataframe\">\n",
       "  <thead>\n",
       "    <tr style=\"text-align: right;\">\n",
       "      <th></th>\n",
       "      <th>_id</th>\n",
       "      <th></th>\n",
       "      <th>overall</th>\n",
       "      <th>vote</th>\n",
       "      <th>verified</th>\n",
       "      <th>reviewTime</th>\n",
       "      <th>reviewerID</th>\n",
       "      <th>asin</th>\n",
       "      <th>style</th>\n",
       "      <th>reviewerName</th>\n",
       "      <th>reviewText</th>\n",
       "      <th>summary</th>\n",
       "      <th>unixReviewTime</th>\n",
       "      <th>image</th>\n",
       "    </tr>\n",
       "  </thead>\n",
       "  <tbody>\n",
       "    <tr>\n",
       "      <th>242</th>\n",
       "      <td>60eca3c94d530690eb41d93c</td>\n",
       "      <td>242</td>\n",
       "      <td>positive</td>\n",
       "      <td>44</td>\n",
       "      <td>True</td>\n",
       "      <td>06 26, 2007</td>\n",
       "      <td>A2YJ0QZF5CQ2X4</td>\n",
       "      <td>823013626</td>\n",
       "      <td>{'Format:': ' Paperback'}</td>\n",
       "      <td>Cindy</td>\n",
       "      <td>I've loved Donna Kato's work for some time, bu...</td>\n",
       "      <td>Wow!  What a resource!</td>\n",
       "      <td>1182816000</td>\n",
       "      <td>NaN</td>\n",
       "    </tr>\n",
       "    <tr>\n",
       "      <th>243</th>\n",
       "      <td>60eca3c94d530690eb41d93d</td>\n",
       "      <td>243</td>\n",
       "      <td>positive</td>\n",
       "      <td>NaN</td>\n",
       "      <td>True</td>\n",
       "      <td>08 16, 2015</td>\n",
       "      <td>A3K068L50RQXCC</td>\n",
       "      <td>823013626</td>\n",
       "      <td>{'Format:': ' Paperback'}</td>\n",
       "      <td>Carol P</td>\n",
       "      <td>Absolutely fantastic  book. If I could give it...</td>\n",
       "      <td>Essential reading</td>\n",
       "      <td>1439683200</td>\n",
       "      <td>NaN</td>\n",
       "    </tr>\n",
       "    <tr>\n",
       "      <th>244</th>\n",
       "      <td>60eca3c94d530690eb41d93e</td>\n",
       "      <td>244</td>\n",
       "      <td>positive</td>\n",
       "      <td>NaN</td>\n",
       "      <td>True</td>\n",
       "      <td>07 28, 2015</td>\n",
       "      <td>A2NMB9ID620BHK</td>\n",
       "      <td>823013626</td>\n",
       "      <td>{'Format:': ' Paperback'}</td>\n",
       "      <td>Mrs. Eve Smith</td>\n",
       "      <td>Exciting and inspirational!  Great information.</td>\n",
       "      <td>Great information.</td>\n",
       "      <td>1438041600</td>\n",
       "      <td>NaN</td>\n",
       "    </tr>\n",
       "    <tr>\n",
       "      <th>245</th>\n",
       "      <td>60eca3c94d530690eb41d93f</td>\n",
       "      <td>245</td>\n",
       "      <td>positive</td>\n",
       "      <td>NaN</td>\n",
       "      <td>True</td>\n",
       "      <td>07 23, 2015</td>\n",
       "      <td>A24GSIBPJNJWEF</td>\n",
       "      <td>823013626</td>\n",
       "      <td>{'Format:': ' Paperback'}</td>\n",
       "      <td>William V Harrold</td>\n",
       "      <td>very good</td>\n",
       "      <td>Five Stars</td>\n",
       "      <td>1437609600</td>\n",
       "      <td>NaN</td>\n",
       "    </tr>\n",
       "    <tr>\n",
       "      <th>246</th>\n",
       "      <td>60eca3c94d530690eb41d940</td>\n",
       "      <td>246</td>\n",
       "      <td>positive</td>\n",
       "      <td>2</td>\n",
       "      <td>True</td>\n",
       "      <td>07 3, 2015</td>\n",
       "      <td>A3LAFC1BW6N4N2</td>\n",
       "      <td>823013626</td>\n",
       "      <td>{'Format:': ' Paperback'}</td>\n",
       "      <td>Susan L</td>\n",
       "      <td>I just received Donna Kato's Creative Surface ...</td>\n",
       "      <td>Never enough hours in a day for these beautifu...</td>\n",
       "      <td>1435881600</td>\n",
       "      <td>NaN</td>\n",
       "    </tr>\n",
       "  </tbody>\n",
       "</table>\n",
       "</div>"
      ],
      "text/plain": [
       "                          _id        overall vote verified   reviewTime  \\\n",
       "242  60eca3c94d530690eb41d93c  242  positive   44     True  06 26, 2007   \n",
       "243  60eca3c94d530690eb41d93d  243  positive  NaN     True  08 16, 2015   \n",
       "244  60eca3c94d530690eb41d93e  244  positive  NaN     True  07 28, 2015   \n",
       "245  60eca3c94d530690eb41d93f  245  positive  NaN     True  07 23, 2015   \n",
       "246  60eca3c94d530690eb41d940  246  positive    2     True   07 3, 2015   \n",
       "\n",
       "         reviewerID       asin                      style       reviewerName  \\\n",
       "242  A2YJ0QZF5CQ2X4  823013626  {'Format:': ' Paperback'}              Cindy   \n",
       "243  A3K068L50RQXCC  823013626  {'Format:': ' Paperback'}            Carol P   \n",
       "244  A2NMB9ID620BHK  823013626  {'Format:': ' Paperback'}     Mrs. Eve Smith   \n",
       "245  A24GSIBPJNJWEF  823013626  {'Format:': ' Paperback'}  William V Harrold   \n",
       "246  A3LAFC1BW6N4N2  823013626  {'Format:': ' Paperback'}            Susan L   \n",
       "\n",
       "                                            reviewText  \\\n",
       "242  I've loved Donna Kato's work for some time, bu...   \n",
       "243  Absolutely fantastic  book. If I could give it...   \n",
       "244    Exciting and inspirational!  Great information.   \n",
       "245                                          very good   \n",
       "246  I just received Donna Kato's Creative Surface ...   \n",
       "\n",
       "                                               summary  unixReviewTime image  \n",
       "242                             Wow!  What a resource!      1182816000   NaN  \n",
       "243                                  Essential reading      1439683200   NaN  \n",
       "244                                 Great information.      1438041600   NaN  \n",
       "245                                         Five Stars      1437609600   NaN  \n",
       "246  Never enough hours in a day for these beautifu...      1435881600   NaN  "
      ]
     },
     "execution_count": 18,
     "metadata": {},
     "output_type": "execute_result"
    }
   ],
   "source": [
    "# Replacing all blank with NaN values\n",
    "import numpy as np\n",
    "df.replace(\"\", np.nan, inplace = True)\n",
    "df.head()"
   ]
  },
  {
   "cell_type": "code",
   "execution_count": 19,
   "id": "c448ef53",
   "metadata": {},
   "outputs": [
    {
     "data": {
      "text/plain": [
       "_id                     0\n",
       "                        0\n",
       "overall                 0\n",
       "vote              1051047\n",
       "verified                0\n",
       "reviewTime              0\n",
       "reviewerID              0\n",
       "asin                    0\n",
       "style              491364\n",
       "reviewerName          213\n",
       "reviewText            977\n",
       "summary               367\n",
       "unixReviewTime          0\n",
       "image             1160148\n",
       "dtype: int64"
      ]
     },
     "execution_count": 19,
     "metadata": {},
     "output_type": "execute_result"
    }
   ],
   "source": [
    "# Checking for na values again\n",
    "df.isnull().sum()"
   ]
  },
  {
   "cell_type": "code",
   "execution_count": 20,
   "id": "9452f2f0",
   "metadata": {},
   "outputs": [
    {
     "data": {
      "text/html": [
       "<div>\n",
       "<style scoped>\n",
       "    .dataframe tbody tr th:only-of-type {\n",
       "        vertical-align: middle;\n",
       "    }\n",
       "\n",
       "    .dataframe tbody tr th {\n",
       "        vertical-align: top;\n",
       "    }\n",
       "\n",
       "    .dataframe thead th {\n",
       "        text-align: right;\n",
       "    }\n",
       "</style>\n",
       "<table border=\"1\" class=\"dataframe\">\n",
       "  <thead>\n",
       "    <tr style=\"text-align: right;\">\n",
       "      <th></th>\n",
       "      <th>overall</th>\n",
       "      <th>reviewText</th>\n",
       "    </tr>\n",
       "  </thead>\n",
       "  <tbody>\n",
       "    <tr>\n",
       "      <th>242</th>\n",
       "      <td>positive</td>\n",
       "      <td>I've loved Donna Kato's work for some time, bu...</td>\n",
       "    </tr>\n",
       "    <tr>\n",
       "      <th>243</th>\n",
       "      <td>positive</td>\n",
       "      <td>Absolutely fantastic  book. If I could give it...</td>\n",
       "    </tr>\n",
       "    <tr>\n",
       "      <th>244</th>\n",
       "      <td>positive</td>\n",
       "      <td>Exciting and inspirational!  Great information.</td>\n",
       "    </tr>\n",
       "    <tr>\n",
       "      <th>245</th>\n",
       "      <td>positive</td>\n",
       "      <td>very good</td>\n",
       "    </tr>\n",
       "    <tr>\n",
       "      <th>246</th>\n",
       "      <td>positive</td>\n",
       "      <td>I just received Donna Kato's Creative Surface ...</td>\n",
       "    </tr>\n",
       "  </tbody>\n",
       "</table>\n",
       "</div>"
      ],
      "text/plain": [
       "      overall                                         reviewText\n",
       "242  positive  I've loved Donna Kato's work for some time, bu...\n",
       "243  positive  Absolutely fantastic  book. If I could give it...\n",
       "244  positive    Exciting and inspirational!  Great information.\n",
       "245  positive                                          very good\n",
       "246  positive  I just received Donna Kato's Creative Surface ..."
      ]
     },
     "execution_count": 20,
     "metadata": {},
     "output_type": "execute_result"
    }
   ],
   "source": [
    "# Choosing only overall and review text column\n",
    "df = df[[\"overall\", \"reviewText\"]]\n",
    "df.head()"
   ]
  },
  {
   "cell_type": "code",
   "execution_count": 21,
   "id": "80128cf6",
   "metadata": {},
   "outputs": [
    {
     "data": {
      "text/plain": [
       "overall         0\n",
       "reviewText    977\n",
       "dtype: int64"
      ]
     },
     "execution_count": 21,
     "metadata": {},
     "output_type": "execute_result"
    }
   ],
   "source": [
    "# Checking if there's any nulls still\n",
    "df.isnull().sum()"
   ]
  },
  {
   "cell_type": "code",
   "execution_count": 22,
   "id": "085dc004",
   "metadata": {},
   "outputs": [
    {
     "data": {
      "text/plain": [
       "overall       0\n",
       "reviewText    0\n",
       "dtype: int64"
      ]
     },
     "execution_count": 22,
     "metadata": {},
     "output_type": "execute_result"
    }
   ],
   "source": [
    "# Dropping the rows with NA values since reviewText is an important variable\n",
    "df.dropna(inplace = True)\n",
    "df.isnull().sum()"
   ]
  },
  {
   "cell_type": "code",
   "execution_count": 23,
   "id": "8eb99770",
   "metadata": {},
   "outputs": [
    {
     "data": {
      "text/plain": [
       "(1190349, 2)"
      ]
     },
     "execution_count": 23,
     "metadata": {},
     "output_type": "execute_result"
    }
   ],
   "source": [
    "# Checking the shape of dataframe\n",
    "df.shape"
   ]
  },
  {
   "cell_type": "code",
   "execution_count": 24,
   "id": "b799b22d",
   "metadata": {},
   "outputs": [],
   "source": [
    "# Creating length of words column\n",
    "df[\"length\"] = df[\"reviewText\"].str.split().str.len()"
   ]
  },
  {
   "cell_type": "code",
   "execution_count": 25,
   "id": "5f538a9a",
   "metadata": {},
   "outputs": [
    {
     "data": {
      "text/html": [
       "<div>\n",
       "<style scoped>\n",
       "    .dataframe tbody tr th:only-of-type {\n",
       "        vertical-align: middle;\n",
       "    }\n",
       "\n",
       "    .dataframe tbody tr th {\n",
       "        vertical-align: top;\n",
       "    }\n",
       "\n",
       "    .dataframe thead th {\n",
       "        text-align: right;\n",
       "    }\n",
       "</style>\n",
       "<table border=\"1\" class=\"dataframe\">\n",
       "  <thead>\n",
       "    <tr style=\"text-align: right;\">\n",
       "      <th></th>\n",
       "      <th>overall</th>\n",
       "      <th>reviewText</th>\n",
       "      <th>length</th>\n",
       "    </tr>\n",
       "  </thead>\n",
       "  <tbody>\n",
       "    <tr>\n",
       "      <th>50582</th>\n",
       "      <td>positive</td>\n",
       "      <td>1</td>\n",
       "      <td>NaN</td>\n",
       "    </tr>\n",
       "    <tr>\n",
       "      <th>50737</th>\n",
       "      <td>positive</td>\n",
       "      <td>1</td>\n",
       "      <td>NaN</td>\n",
       "    </tr>\n",
       "    <tr>\n",
       "      <th>108437</th>\n",
       "      <td>positive</td>\n",
       "      <td>1</td>\n",
       "      <td>NaN</td>\n",
       "    </tr>\n",
       "    <tr>\n",
       "      <th>125948</th>\n",
       "      <td>positive</td>\n",
       "      <td>1</td>\n",
       "      <td>NaN</td>\n",
       "    </tr>\n",
       "    <tr>\n",
       "      <th>128244</th>\n",
       "      <td>positive</td>\n",
       "      <td>1</td>\n",
       "      <td>NaN</td>\n",
       "    </tr>\n",
       "    <tr>\n",
       "      <th>...</th>\n",
       "      <td>...</td>\n",
       "      <td>...</td>\n",
       "      <td>...</td>\n",
       "    </tr>\n",
       "    <tr>\n",
       "      <th>1685641</th>\n",
       "      <td>positive</td>\n",
       "      <td>1</td>\n",
       "      <td>NaN</td>\n",
       "    </tr>\n",
       "    <tr>\n",
       "      <th>1872640</th>\n",
       "      <td>positive</td>\n",
       "      <td>1</td>\n",
       "      <td>NaN</td>\n",
       "    </tr>\n",
       "    <tr>\n",
       "      <th>1968848</th>\n",
       "      <td>positive</td>\n",
       "      <td>1</td>\n",
       "      <td>NaN</td>\n",
       "    </tr>\n",
       "    <tr>\n",
       "      <th>1986641</th>\n",
       "      <td>positive</td>\n",
       "      <td>1</td>\n",
       "      <td>NaN</td>\n",
       "    </tr>\n",
       "    <tr>\n",
       "      <th>2213828</th>\n",
       "      <td>positive</td>\n",
       "      <td>1</td>\n",
       "      <td>NaN</td>\n",
       "    </tr>\n",
       "  </tbody>\n",
       "</table>\n",
       "<p>65 rows × 3 columns</p>\n",
       "</div>"
      ],
      "text/plain": [
       "          overall reviewText  length\n",
       "50582    positive          1     NaN\n",
       "50737    positive          1     NaN\n",
       "108437   positive          1     NaN\n",
       "125948   positive          1     NaN\n",
       "128244   positive          1     NaN\n",
       "...           ...        ...     ...\n",
       "1685641  positive          1     NaN\n",
       "1872640  positive          1     NaN\n",
       "1968848  positive          1     NaN\n",
       "1986641  positive          1     NaN\n",
       "2213828  positive          1     NaN\n",
       "\n",
       "[65 rows x 3 columns]"
      ]
     },
     "execution_count": 25,
     "metadata": {},
     "output_type": "execute_result"
    }
   ],
   "source": [
    "# Checking why there's null values in the length\n",
    "row_has_NaN = df.isnull().any(axis=1)\n",
    "df[row_has_NaN]\n",
    "# It seems like the length of NaN means that the reviews aren't words"
   ]
  },
  {
   "cell_type": "code",
   "execution_count": 26,
   "id": "05afe093",
   "metadata": {},
   "outputs": [
    {
     "data": {
      "text/plain": [
       "overall       0\n",
       "reviewText    0\n",
       "length        0\n",
       "dtype: int64"
      ]
     },
     "execution_count": 26,
     "metadata": {},
     "output_type": "execute_result"
    }
   ],
   "source": [
    "# Because those reviews are not text, will get rid of those rows so we could turn the length column into integer\n",
    "df.dropna(inplace = True)\n",
    "df.isnull().sum()"
   ]
  },
  {
   "cell_type": "code",
   "execution_count": 27,
   "id": "eaccd2b2",
   "metadata": {},
   "outputs": [],
   "source": [
    "# Change to integer\n",
    "df.length = df.length.astype(\"int\")"
   ]
  },
  {
   "cell_type": "code",
   "execution_count": 28,
   "id": "7c43d641",
   "metadata": {},
   "outputs": [
    {
     "data": {
      "text/html": [
       "<div>\n",
       "<style scoped>\n",
       "    .dataframe tbody tr th:only-of-type {\n",
       "        vertical-align: middle;\n",
       "    }\n",
       "\n",
       "    .dataframe tbody tr th {\n",
       "        vertical-align: top;\n",
       "    }\n",
       "\n",
       "    .dataframe thead th {\n",
       "        text-align: right;\n",
       "    }\n",
       "</style>\n",
       "<table border=\"1\" class=\"dataframe\">\n",
       "  <thead>\n",
       "    <tr style=\"text-align: right;\">\n",
       "      <th></th>\n",
       "      <th>overall</th>\n",
       "      <th>reviewText</th>\n",
       "      <th>length</th>\n",
       "      <th>punct</th>\n",
       "    </tr>\n",
       "  </thead>\n",
       "  <tbody>\n",
       "    <tr>\n",
       "      <th>242</th>\n",
       "      <td>positive</td>\n",
       "      <td>I've loved Donna Kato's work for some time, bu...</td>\n",
       "      <td>110</td>\n",
       "      <td>26</td>\n",
       "    </tr>\n",
       "    <tr>\n",
       "      <th>243</th>\n",
       "      <td>positive</td>\n",
       "      <td>Absolutely fantastic  book. If I could give it...</td>\n",
       "      <td>12</td>\n",
       "      <td>3</td>\n",
       "    </tr>\n",
       "    <tr>\n",
       "      <th>244</th>\n",
       "      <td>positive</td>\n",
       "      <td>Exciting and inspirational!  Great information.</td>\n",
       "      <td>5</td>\n",
       "      <td>2</td>\n",
       "    </tr>\n",
       "    <tr>\n",
       "      <th>245</th>\n",
       "      <td>positive</td>\n",
       "      <td>very good</td>\n",
       "      <td>2</td>\n",
       "      <td>0</td>\n",
       "    </tr>\n",
       "    <tr>\n",
       "      <th>246</th>\n",
       "      <td>positive</td>\n",
       "      <td>I just received Donna Kato's Creative Surface ...</td>\n",
       "      <td>121</td>\n",
       "      <td>12</td>\n",
       "    </tr>\n",
       "  </tbody>\n",
       "</table>\n",
       "</div>"
      ],
      "text/plain": [
       "      overall                                         reviewText  length  \\\n",
       "242  positive  I've loved Donna Kato's work for some time, bu...     110   \n",
       "243  positive  Absolutely fantastic  book. If I could give it...      12   \n",
       "244  positive    Exciting and inspirational!  Great information.       5   \n",
       "245  positive                                          very good       2   \n",
       "246  positive  I just received Donna Kato's Creative Surface ...     121   \n",
       "\n",
       "     punct  \n",
       "242     26  \n",
       "243      3  \n",
       "244      2  \n",
       "245      0  \n",
       "246     12  "
      ]
     },
     "execution_count": 28,
     "metadata": {},
     "output_type": "execute_result"
    }
   ],
   "source": [
    "# Create number of punc column\n",
    "import string\n",
    "count = lambda l1, l2: sum([1 for x in l1 if x in l2])\n",
    "\n",
    "df[\"punct\"] = df.reviewText.apply(lambda y: count(y, string.punctuation))\n",
    "df.head()"
   ]
  },
  {
   "cell_type": "code",
   "execution_count": 29,
   "id": "1cf63ad0",
   "metadata": {},
   "outputs": [
    {
     "data": {
      "text/plain": [
       "[]"
      ]
     },
     "execution_count": 29,
     "metadata": {},
     "output_type": "execute_result"
    }
   ],
   "source": [
    "# check for space i.e. any blank message\n",
    "blanks = []\n",
    "\n",
    "for idx, label, review, length, punct in df.itertuples():\n",
    "    if review.isspace():\n",
    "        blanks.append(i)\n",
    "blanks\n",
    "\n",
    "# Since there isn't any blank messages, we can continue to the next step"
   ]
  },
  {
   "cell_type": "code",
   "execution_count": 30,
   "id": "d7340344",
   "metadata": {},
   "outputs": [
    {
     "data": {
      "text/html": [
       "<div>\n",
       "<style scoped>\n",
       "    .dataframe tbody tr th:only-of-type {\n",
       "        vertical-align: middle;\n",
       "    }\n",
       "\n",
       "    .dataframe tbody tr th {\n",
       "        vertical-align: top;\n",
       "    }\n",
       "\n",
       "    .dataframe thead th {\n",
       "        text-align: right;\n",
       "    }\n",
       "</style>\n",
       "<table border=\"1\" class=\"dataframe\">\n",
       "  <thead>\n",
       "    <tr style=\"text-align: right;\">\n",
       "      <th></th>\n",
       "      <th>overall</th>\n",
       "      <th>reviewText</th>\n",
       "      <th>length</th>\n",
       "      <th>punct</th>\n",
       "    </tr>\n",
       "  </thead>\n",
       "  <tbody>\n",
       "    <tr>\n",
       "      <th>242</th>\n",
       "      <td>positive</td>\n",
       "      <td>I've loved Donna Kato's work for some time, bu...</td>\n",
       "      <td>110</td>\n",
       "      <td>26</td>\n",
       "    </tr>\n",
       "    <tr>\n",
       "      <th>243</th>\n",
       "      <td>positive</td>\n",
       "      <td>Absolutely fantastic  book. If I could give it...</td>\n",
       "      <td>12</td>\n",
       "      <td>3</td>\n",
       "    </tr>\n",
       "    <tr>\n",
       "      <th>244</th>\n",
       "      <td>positive</td>\n",
       "      <td>Exciting and inspirational!  Great information.</td>\n",
       "      <td>5</td>\n",
       "      <td>2</td>\n",
       "    </tr>\n",
       "    <tr>\n",
       "      <th>245</th>\n",
       "      <td>positive</td>\n",
       "      <td>very good</td>\n",
       "      <td>2</td>\n",
       "      <td>0</td>\n",
       "    </tr>\n",
       "    <tr>\n",
       "      <th>246</th>\n",
       "      <td>positive</td>\n",
       "      <td>I just received Donna Kato's Creative Surface ...</td>\n",
       "      <td>121</td>\n",
       "      <td>12</td>\n",
       "    </tr>\n",
       "  </tbody>\n",
       "</table>\n",
       "</div>"
      ],
      "text/plain": [
       "      overall                                         reviewText  length  \\\n",
       "242  positive  I've loved Donna Kato's work for some time, bu...     110   \n",
       "243  positive  Absolutely fantastic  book. If I could give it...      12   \n",
       "244  positive    Exciting and inspirational!  Great information.       5   \n",
       "245  positive                                          very good       2   \n",
       "246  positive  I just received Donna Kato's Creative Surface ...     121   \n",
       "\n",
       "     punct  \n",
       "242     26  \n",
       "243      3  \n",
       "244      2  \n",
       "245      0  \n",
       "246     12  "
      ]
     },
     "execution_count": 30,
     "metadata": {},
     "output_type": "execute_result"
    }
   ],
   "source": [
    "# Remove HTML code artifacts\n",
    "from bs4 import BeautifulSoup\n",
    "\n",
    "df['reviewText'] = [BeautifulSoup(text).get_text() for text in df['reviewText']]\n",
    "df.head()"
   ]
  },
  {
   "cell_type": "code",
   "execution_count": 31,
   "id": "e0e0b268",
   "metadata": {},
   "outputs": [],
   "source": [
    "# Create a copy to see if it's better without the preprocessing\n",
    "temp2 = df.copy()"
   ]
  },
  {
   "cell_type": "code",
   "execution_count": 32,
   "id": "d48088b8",
   "metadata": {},
   "outputs": [
    {
     "data": {
      "text/html": [
       "<div>\n",
       "<style scoped>\n",
       "    .dataframe tbody tr th:only-of-type {\n",
       "        vertical-align: middle;\n",
       "    }\n",
       "\n",
       "    .dataframe tbody tr th {\n",
       "        vertical-align: top;\n",
       "    }\n",
       "\n",
       "    .dataframe thead th {\n",
       "        text-align: right;\n",
       "    }\n",
       "</style>\n",
       "<table border=\"1\" class=\"dataframe\">\n",
       "  <thead>\n",
       "    <tr style=\"text-align: right;\">\n",
       "      <th></th>\n",
       "      <th>overall</th>\n",
       "      <th>reviewText</th>\n",
       "      <th>length</th>\n",
       "      <th>punct</th>\n",
       "    </tr>\n",
       "  </thead>\n",
       "  <tbody>\n",
       "    <tr>\n",
       "      <th>242</th>\n",
       "      <td>positive</td>\n",
       "      <td>I ve loved Donna Kato s work for some time  bu...</td>\n",
       "      <td>110</td>\n",
       "      <td>26</td>\n",
       "    </tr>\n",
       "    <tr>\n",
       "      <th>243</th>\n",
       "      <td>positive</td>\n",
       "      <td>Absolutely fantastic  book  If I could give it...</td>\n",
       "      <td>12</td>\n",
       "      <td>3</td>\n",
       "    </tr>\n",
       "    <tr>\n",
       "      <th>244</th>\n",
       "      <td>positive</td>\n",
       "      <td>Exciting and inspirational   Great information</td>\n",
       "      <td>5</td>\n",
       "      <td>2</td>\n",
       "    </tr>\n",
       "    <tr>\n",
       "      <th>245</th>\n",
       "      <td>positive</td>\n",
       "      <td>very good</td>\n",
       "      <td>2</td>\n",
       "      <td>0</td>\n",
       "    </tr>\n",
       "    <tr>\n",
       "      <th>246</th>\n",
       "      <td>positive</td>\n",
       "      <td>I just received Donna Kato s Creative Surface ...</td>\n",
       "      <td>121</td>\n",
       "      <td>12</td>\n",
       "    </tr>\n",
       "  </tbody>\n",
       "</table>\n",
       "</div>"
      ],
      "text/plain": [
       "      overall                                         reviewText  length  \\\n",
       "242  positive  I ve loved Donna Kato s work for some time  bu...     110   \n",
       "243  positive  Absolutely fantastic  book  If I could give it...      12   \n",
       "244  positive    Exciting and inspirational   Great information        5   \n",
       "245  positive                                          very good       2   \n",
       "246  positive  I just received Donna Kato s Creative Surface ...     121   \n",
       "\n",
       "     punct  \n",
       "242     26  \n",
       "243      3  \n",
       "244      2  \n",
       "245      0  \n",
       "246     12  "
      ]
     },
     "execution_count": 32,
     "metadata": {},
     "output_type": "execute_result"
    }
   ],
   "source": [
    "# Remove non letters\n",
    "df['reviewText'] = df.reviewText.str.replace('[^a-zA-Z]', ' ')\n",
    "df.head()"
   ]
  },
  {
   "cell_type": "code",
   "execution_count": 33,
   "id": "d0ef2585",
   "metadata": {},
   "outputs": [
    {
     "data": {
      "text/html": [
       "<div>\n",
       "<style scoped>\n",
       "    .dataframe tbody tr th:only-of-type {\n",
       "        vertical-align: middle;\n",
       "    }\n",
       "\n",
       "    .dataframe tbody tr th {\n",
       "        vertical-align: top;\n",
       "    }\n",
       "\n",
       "    .dataframe thead th {\n",
       "        text-align: right;\n",
       "    }\n",
       "</style>\n",
       "<table border=\"1\" class=\"dataframe\">\n",
       "  <thead>\n",
       "    <tr style=\"text-align: right;\">\n",
       "      <th></th>\n",
       "      <th>overall</th>\n",
       "      <th>reviewText</th>\n",
       "      <th>length</th>\n",
       "      <th>punct</th>\n",
       "    </tr>\n",
       "  </thead>\n",
       "  <tbody>\n",
       "    <tr>\n",
       "      <th>242</th>\n",
       "      <td>positive</td>\n",
       "      <td>I ve loved Donna Kato s work for some time  bu...</td>\n",
       "      <td>110</td>\n",
       "      <td>26</td>\n",
       "    </tr>\n",
       "    <tr>\n",
       "      <th>243</th>\n",
       "      <td>positive</td>\n",
       "      <td>Absolutely fantastic  book  If I could give it...</td>\n",
       "      <td>12</td>\n",
       "      <td>3</td>\n",
       "    </tr>\n",
       "    <tr>\n",
       "      <th>244</th>\n",
       "      <td>positive</td>\n",
       "      <td>Exciting and inspirational   Great information</td>\n",
       "      <td>5</td>\n",
       "      <td>2</td>\n",
       "    </tr>\n",
       "    <tr>\n",
       "      <th>245</th>\n",
       "      <td>positive</td>\n",
       "      <td>very good</td>\n",
       "      <td>2</td>\n",
       "      <td>0</td>\n",
       "    </tr>\n",
       "    <tr>\n",
       "      <th>246</th>\n",
       "      <td>positive</td>\n",
       "      <td>I just received Donna Kato s Creative Surface ...</td>\n",
       "      <td>121</td>\n",
       "      <td>12</td>\n",
       "    </tr>\n",
       "  </tbody>\n",
       "</table>\n",
       "</div>"
      ],
      "text/plain": [
       "      overall                                         reviewText  length  \\\n",
       "242  positive  I ve loved Donna Kato s work for some time  bu...     110   \n",
       "243  positive  Absolutely fantastic  book  If I could give it...      12   \n",
       "244  positive    Exciting and inspirational   Great information        5   \n",
       "245  positive                                          very good       2   \n",
       "246  positive  I just received Donna Kato s Creative Surface ...     121   \n",
       "\n",
       "     punct  \n",
       "242     26  \n",
       "243      3  \n",
       "244      2  \n",
       "245      0  \n",
       "246     12  "
      ]
     },
     "execution_count": 33,
     "metadata": {},
     "output_type": "execute_result"
    }
   ],
   "source": [
    "# Remove punctuations from the reviews\n",
    "df[\"reviewText\"] = df['reviewText'].str.replace('[^\\w\\s]','')\n",
    "df.head()"
   ]
  },
  {
   "cell_type": "code",
   "execution_count": 34,
   "id": "c1543766",
   "metadata": {},
   "outputs": [
    {
     "data": {
      "text/plain": [
       "['i',\n",
       " 'me',\n",
       " 'my',\n",
       " 'myself',\n",
       " 'we',\n",
       " 'our',\n",
       " 'ours',\n",
       " 'ourselves',\n",
       " 'you',\n",
       " \"you're\",\n",
       " \"you've\",\n",
       " \"you'll\",\n",
       " \"you'd\",\n",
       " 'your',\n",
       " 'yours',\n",
       " 'yourself',\n",
       " 'yourselves',\n",
       " 'he',\n",
       " 'him',\n",
       " 'his',\n",
       " 'himself',\n",
       " 'she',\n",
       " \"she's\",\n",
       " 'her',\n",
       " 'hers',\n",
       " 'herself',\n",
       " 'it',\n",
       " \"it's\",\n",
       " 'its',\n",
       " 'itself',\n",
       " 'they',\n",
       " 'them',\n",
       " 'their',\n",
       " 'theirs',\n",
       " 'themselves',\n",
       " 'what',\n",
       " 'which',\n",
       " 'who',\n",
       " 'whom',\n",
       " 'this',\n",
       " 'that',\n",
       " \"that'll\",\n",
       " 'these',\n",
       " 'those',\n",
       " 'am',\n",
       " 'is',\n",
       " 'are',\n",
       " 'was',\n",
       " 'were',\n",
       " 'be',\n",
       " 'been',\n",
       " 'being',\n",
       " 'have',\n",
       " 'has',\n",
       " 'had',\n",
       " 'having',\n",
       " 'do',\n",
       " 'does',\n",
       " 'did',\n",
       " 'doing',\n",
       " 'a',\n",
       " 'an',\n",
       " 'the',\n",
       " 'and',\n",
       " 'but',\n",
       " 'if',\n",
       " 'or',\n",
       " 'because',\n",
       " 'as',\n",
       " 'until',\n",
       " 'while',\n",
       " 'of',\n",
       " 'at',\n",
       " 'by',\n",
       " 'for',\n",
       " 'with',\n",
       " 'about',\n",
       " 'against',\n",
       " 'between',\n",
       " 'into',\n",
       " 'through',\n",
       " 'during',\n",
       " 'before',\n",
       " 'after',\n",
       " 'above',\n",
       " 'below',\n",
       " 'to',\n",
       " 'from',\n",
       " 'up',\n",
       " 'down',\n",
       " 'in',\n",
       " 'out',\n",
       " 'on',\n",
       " 'off',\n",
       " 'over',\n",
       " 'under',\n",
       " 'again',\n",
       " 'further',\n",
       " 'then',\n",
       " 'once',\n",
       " 'here',\n",
       " 'there',\n",
       " 'when',\n",
       " 'where',\n",
       " 'why',\n",
       " 'how',\n",
       " 'all',\n",
       " 'any',\n",
       " 'both',\n",
       " 'each',\n",
       " 'few',\n",
       " 'more',\n",
       " 'most',\n",
       " 'other',\n",
       " 'some',\n",
       " 'such',\n",
       " 'no',\n",
       " 'nor',\n",
       " 'not',\n",
       " 'only',\n",
       " 'own',\n",
       " 'same',\n",
       " 'so',\n",
       " 'than',\n",
       " 'too',\n",
       " 'very',\n",
       " 's',\n",
       " 't',\n",
       " 'can',\n",
       " 'will',\n",
       " 'just',\n",
       " 'don',\n",
       " \"don't\",\n",
       " 'should',\n",
       " \"should've\",\n",
       " 'now',\n",
       " 'd',\n",
       " 'll',\n",
       " 'm',\n",
       " 'o',\n",
       " 're',\n",
       " 've',\n",
       " 'y',\n",
       " 'ain',\n",
       " 'aren',\n",
       " \"aren't\",\n",
       " 'couldn',\n",
       " \"couldn't\",\n",
       " 'didn',\n",
       " \"didn't\",\n",
       " 'doesn',\n",
       " \"doesn't\",\n",
       " 'hadn',\n",
       " \"hadn't\",\n",
       " 'hasn',\n",
       " \"hasn't\",\n",
       " 'haven',\n",
       " \"haven't\",\n",
       " 'isn',\n",
       " \"isn't\",\n",
       " 'ma',\n",
       " 'mightn',\n",
       " \"mightn't\",\n",
       " 'mustn',\n",
       " \"mustn't\",\n",
       " 'needn',\n",
       " \"needn't\",\n",
       " 'shan',\n",
       " \"shan't\",\n",
       " 'shouldn',\n",
       " \"shouldn't\",\n",
       " 'wasn',\n",
       " \"wasn't\",\n",
       " 'weren',\n",
       " \"weren't\",\n",
       " 'won',\n",
       " \"won't\",\n",
       " 'wouldn',\n",
       " \"wouldn't\"]"
      ]
     },
     "execution_count": 34,
     "metadata": {},
     "output_type": "execute_result"
    }
   ],
   "source": [
    "# Checking what are stop words\n",
    "from nltk.corpus import stopwords\n",
    "stop = stopwords.words(\"english\")\n",
    "stop"
   ]
  },
  {
   "cell_type": "code",
   "execution_count": 35,
   "id": "fa200b0e",
   "metadata": {},
   "outputs": [
    {
     "data": {
      "text/html": [
       "<div>\n",
       "<style scoped>\n",
       "    .dataframe tbody tr th:only-of-type {\n",
       "        vertical-align: middle;\n",
       "    }\n",
       "\n",
       "    .dataframe tbody tr th {\n",
       "        vertical-align: top;\n",
       "    }\n",
       "\n",
       "    .dataframe thead th {\n",
       "        text-align: right;\n",
       "    }\n",
       "</style>\n",
       "<table border=\"1\" class=\"dataframe\">\n",
       "  <thead>\n",
       "    <tr style=\"text-align: right;\">\n",
       "      <th></th>\n",
       "      <th>overall</th>\n",
       "      <th>reviewText</th>\n",
       "      <th>length</th>\n",
       "      <th>punct</th>\n",
       "    </tr>\n",
       "  </thead>\n",
       "  <tbody>\n",
       "    <tr>\n",
       "      <th>242</th>\n",
       "      <td>positive</td>\n",
       "      <td>I loved Donna Kato work time I purchased sever...</td>\n",
       "      <td>110</td>\n",
       "      <td>26</td>\n",
       "    </tr>\n",
       "    <tr>\n",
       "      <th>243</th>\n",
       "      <td>positive</td>\n",
       "      <td>Absolutely fantastic book If I could give star...</td>\n",
       "      <td>12</td>\n",
       "      <td>3</td>\n",
       "    </tr>\n",
       "    <tr>\n",
       "      <th>244</th>\n",
       "      <td>positive</td>\n",
       "      <td>Exciting inspirational Great information</td>\n",
       "      <td>5</td>\n",
       "      <td>2</td>\n",
       "    </tr>\n",
       "    <tr>\n",
       "      <th>245</th>\n",
       "      <td>positive</td>\n",
       "      <td>good</td>\n",
       "      <td>2</td>\n",
       "      <td>0</td>\n",
       "    </tr>\n",
       "    <tr>\n",
       "      <th>246</th>\n",
       "      <td>positive</td>\n",
       "      <td>I received Donna Kato Creative Surface effects...</td>\n",
       "      <td>121</td>\n",
       "      <td>12</td>\n",
       "    </tr>\n",
       "  </tbody>\n",
       "</table>\n",
       "</div>"
      ],
      "text/plain": [
       "      overall                                         reviewText  length  \\\n",
       "242  positive  I loved Donna Kato work time I purchased sever...     110   \n",
       "243  positive  Absolutely fantastic book If I could give star...      12   \n",
       "244  positive           Exciting inspirational Great information       5   \n",
       "245  positive                                               good       2   \n",
       "246  positive  I received Donna Kato Creative Surface effects...     121   \n",
       "\n",
       "     punct  \n",
       "242     26  \n",
       "243      3  \n",
       "244      2  \n",
       "245      0  \n",
       "246     12  "
      ]
     },
     "execution_count": 35,
     "metadata": {},
     "output_type": "execute_result"
    }
   ],
   "source": [
    "# Removing stop words\n",
    "df.reviewText = df.reviewText.apply(lambda x: \" \".join([word for word in x.split() if word not in (stop)]))\n",
    "df.head()"
   ]
  },
  {
   "cell_type": "code",
   "execution_count": 36,
   "id": "979bdca2",
   "metadata": {},
   "outputs": [
    {
     "data": {
      "text/html": [
       "<div>\n",
       "<style scoped>\n",
       "    .dataframe tbody tr th:only-of-type {\n",
       "        vertical-align: middle;\n",
       "    }\n",
       "\n",
       "    .dataframe tbody tr th {\n",
       "        vertical-align: top;\n",
       "    }\n",
       "\n",
       "    .dataframe thead th {\n",
       "        text-align: right;\n",
       "    }\n",
       "</style>\n",
       "<table border=\"1\" class=\"dataframe\">\n",
       "  <thead>\n",
       "    <tr style=\"text-align: right;\">\n",
       "      <th></th>\n",
       "      <th>0</th>\n",
       "    </tr>\n",
       "  </thead>\n",
       "  <tbody>\n",
       "    <tr>\n",
       "      <th>0</th>\n",
       "      <td>a</td>\n",
       "    </tr>\n",
       "    <tr>\n",
       "      <th>1</th>\n",
       "      <td>able</td>\n",
       "    </tr>\n",
       "    <tr>\n",
       "      <th>2</th>\n",
       "      <td>about</td>\n",
       "    </tr>\n",
       "    <tr>\n",
       "      <th>3</th>\n",
       "      <td>above</td>\n",
       "    </tr>\n",
       "    <tr>\n",
       "      <th>4</th>\n",
       "      <td>abst</td>\n",
       "    </tr>\n",
       "  </tbody>\n",
       "</table>\n",
       "</div>"
      ],
      "text/plain": [
       "       0\n",
       "0      a\n",
       "1   able\n",
       "2  about\n",
       "3  above\n",
       "4   abst"
      ]
     },
     "execution_count": 36,
     "metadata": {},
     "output_type": "execute_result"
    }
   ],
   "source": [
    "# Import the stop words csv file that I created from the website\n",
    "# https://www.ranks.nl/stopwords\n",
    "\n",
    "stop = pd.read_csv(\"stop_words.csv\", header = None)\n",
    "stop.head()"
   ]
  },
  {
   "cell_type": "code",
   "execution_count": 37,
   "id": "25b0beec",
   "metadata": {},
   "outputs": [
    {
     "data": {
      "text/html": [
       "<div>\n",
       "<style scoped>\n",
       "    .dataframe tbody tr th:only-of-type {\n",
       "        vertical-align: middle;\n",
       "    }\n",
       "\n",
       "    .dataframe tbody tr th {\n",
       "        vertical-align: top;\n",
       "    }\n",
       "\n",
       "    .dataframe thead th {\n",
       "        text-align: right;\n",
       "    }\n",
       "</style>\n",
       "<table border=\"1\" class=\"dataframe\">\n",
       "  <thead>\n",
       "    <tr style=\"text-align: right;\">\n",
       "      <th></th>\n",
       "      <th>overall</th>\n",
       "      <th>reviewText</th>\n",
       "      <th>length</th>\n",
       "      <th>punct</th>\n",
       "    </tr>\n",
       "  </thead>\n",
       "  <tbody>\n",
       "    <tr>\n",
       "      <th>242</th>\n",
       "      <td>positive</td>\n",
       "      <td>I loved Donna Kato work time I purchased polym...</td>\n",
       "      <td>110</td>\n",
       "      <td>26</td>\n",
       "    </tr>\n",
       "    <tr>\n",
       "      <th>243</th>\n",
       "      <td>positive</td>\n",
       "      <td>Absolutely fantastic book If I stars I</td>\n",
       "      <td>12</td>\n",
       "      <td>3</td>\n",
       "    </tr>\n",
       "    <tr>\n",
       "      <th>244</th>\n",
       "      <td>positive</td>\n",
       "      <td>Exciting inspirational Great</td>\n",
       "      <td>5</td>\n",
       "      <td>2</td>\n",
       "    </tr>\n",
       "    <tr>\n",
       "      <th>245</th>\n",
       "      <td>positive</td>\n",
       "      <td>good</td>\n",
       "      <td>2</td>\n",
       "      <td>0</td>\n",
       "    </tr>\n",
       "    <tr>\n",
       "      <th>246</th>\n",
       "      <td>positive</td>\n",
       "      <td>I received Donna Kato Creative Surface effects...</td>\n",
       "      <td>121</td>\n",
       "      <td>12</td>\n",
       "    </tr>\n",
       "  </tbody>\n",
       "</table>\n",
       "</div>"
      ],
      "text/plain": [
       "      overall                                         reviewText  length  \\\n",
       "242  positive  I loved Donna Kato work time I purchased polym...     110   \n",
       "243  positive             Absolutely fantastic book If I stars I      12   \n",
       "244  positive                       Exciting inspirational Great       5   \n",
       "245  positive                                               good       2   \n",
       "246  positive  I received Donna Kato Creative Surface effects...     121   \n",
       "\n",
       "     punct  \n",
       "242     26  \n",
       "243      3  \n",
       "244      2  \n",
       "245      0  \n",
       "246     12  "
      ]
     },
     "execution_count": 37,
     "metadata": {},
     "output_type": "execute_result"
    }
   ],
   "source": [
    "# Turn it into a list\n",
    "stop = [x for x in stop[0]]\n",
    "\n",
    "# Removing stop words again\n",
    "df.reviewText = df.reviewText.apply(lambda x: \" \".join([word for word in x.split() if word not in (stop)]))\n",
    "df.head()"
   ]
  },
  {
   "cell_type": "code",
   "execution_count": 38,
   "id": "69b22da1",
   "metadata": {},
   "outputs": [
    {
     "data": {
      "text/plain": [
       "'I loved Donna Kato work time I purchased polymer clay books years I working PC Ms Kato books I purchased It I received today read cover cover My hands itching techniques generously painstakingly shares While leading polymer clay artists sell techniques individually seminars expensive DVDs Ms Kato demonstrated processes I hungry learn place beautiful inexpensive written book Hats Donna Kato'"
      ]
     },
     "execution_count": 38,
     "metadata": {},
     "output_type": "execute_result"
    }
   ],
   "source": [
    "df.reviewText[242]"
   ]
  },
  {
   "cell_type": "code",
   "execution_count": 39,
   "id": "b2509131",
   "metadata": {},
   "outputs": [],
   "source": [
    "# Making a copy of the data frame so we can test one with lemmatization and one without\n",
    "# Lemmatizing means to assign the base form of words. This will help turn all the text into its base words so we won't\n",
    "# duplicate the same words. For example: shop, shopping, shopped\n",
    "df2 = df.copy()"
   ]
  },
  {
   "cell_type": "code",
   "execution_count": 40,
   "id": "d693ac57",
   "metadata": {},
   "outputs": [],
   "source": [
    "# Lemmatize the copied dataframe with PorterStemmer\n",
    "import nltk\n",
    "\n",
    "lm = nltk.PorterStemmer()"
   ]
  },
  {
   "cell_type": "code",
   "execution_count": 41,
   "id": "36771596",
   "metadata": {},
   "outputs": [
    {
     "data": {
      "text/html": [
       "<div>\n",
       "<style scoped>\n",
       "    .dataframe tbody tr th:only-of-type {\n",
       "        vertical-align: middle;\n",
       "    }\n",
       "\n",
       "    .dataframe tbody tr th {\n",
       "        vertical-align: top;\n",
       "    }\n",
       "\n",
       "    .dataframe thead th {\n",
       "        text-align: right;\n",
       "    }\n",
       "</style>\n",
       "<table border=\"1\" class=\"dataframe\">\n",
       "  <thead>\n",
       "    <tr style=\"text-align: right;\">\n",
       "      <th></th>\n",
       "      <th>overall</th>\n",
       "      <th>reviewText</th>\n",
       "      <th>length</th>\n",
       "      <th>punct</th>\n",
       "    </tr>\n",
       "  </thead>\n",
       "  <tbody>\n",
       "    <tr>\n",
       "      <th>242</th>\n",
       "      <td>positive</td>\n",
       "      <td>i love donna kato work time i purchas polym cl...</td>\n",
       "      <td>110</td>\n",
       "      <td>26</td>\n",
       "    </tr>\n",
       "    <tr>\n",
       "      <th>243</th>\n",
       "      <td>positive</td>\n",
       "      <td>absolut fantast book if i star i</td>\n",
       "      <td>12</td>\n",
       "      <td>3</td>\n",
       "    </tr>\n",
       "    <tr>\n",
       "      <th>244</th>\n",
       "      <td>positive</td>\n",
       "      <td>excit inspir great</td>\n",
       "      <td>5</td>\n",
       "      <td>2</td>\n",
       "    </tr>\n",
       "    <tr>\n",
       "      <th>245</th>\n",
       "      <td>positive</td>\n",
       "      <td>good</td>\n",
       "      <td>2</td>\n",
       "      <td>0</td>\n",
       "    </tr>\n",
       "    <tr>\n",
       "      <th>246</th>\n",
       "      <td>positive</td>\n",
       "      <td>i receiv donna kato creativ surfac effect thi ...</td>\n",
       "      <td>121</td>\n",
       "      <td>12</td>\n",
       "    </tr>\n",
       "  </tbody>\n",
       "</table>\n",
       "</div>"
      ],
      "text/plain": [
       "      overall                                         reviewText  length  \\\n",
       "242  positive  i love donna kato work time i purchas polym cl...     110   \n",
       "243  positive                   absolut fantast book if i star i      12   \n",
       "244  positive                                 excit inspir great       5   \n",
       "245  positive                                               good       2   \n",
       "246  positive  i receiv donna kato creativ surfac effect thi ...     121   \n",
       "\n",
       "     punct  \n",
       "242     26  \n",
       "243      3  \n",
       "244      2  \n",
       "245      0  \n",
       "246     12  "
      ]
     },
     "execution_count": 41,
     "metadata": {},
     "output_type": "execute_result"
    }
   ],
   "source": [
    "# Create a function for PorterStemmer\n",
    "def lemmatize_txt(text):\n",
    "    word_list = nltk.word_tokenize(text)\n",
    "    \n",
    "    lm_output = \" \".join([lm.stem(x) for x in word_list])\n",
    "    return lm_output\n",
    "\n",
    "# Lemmatize the reviews\n",
    "df2.reviewText = df.reviewText.apply(lemmatize_txt)\n",
    "df2.head()"
   ]
  },
  {
   "cell_type": "code",
   "execution_count": 42,
   "id": "03eb017c",
   "metadata": {},
   "outputs": [
    {
     "data": {
      "text/html": [
       "<div>\n",
       "<style scoped>\n",
       "    .dataframe tbody tr th:only-of-type {\n",
       "        vertical-align: middle;\n",
       "    }\n",
       "\n",
       "    .dataframe tbody tr th {\n",
       "        vertical-align: top;\n",
       "    }\n",
       "\n",
       "    .dataframe thead th {\n",
       "        text-align: right;\n",
       "    }\n",
       "</style>\n",
       "<table border=\"1\" class=\"dataframe\">\n",
       "  <thead>\n",
       "    <tr style=\"text-align: right;\">\n",
       "      <th></th>\n",
       "      <th>overall</th>\n",
       "      <th>reviewText</th>\n",
       "      <th>length</th>\n",
       "      <th>punct</th>\n",
       "    </tr>\n",
       "  </thead>\n",
       "  <tbody>\n",
       "    <tr>\n",
       "      <th>242</th>\n",
       "      <td>positive</td>\n",
       "      <td>I loved Donna Kato work time I purchased polym...</td>\n",
       "      <td>110</td>\n",
       "      <td>26</td>\n",
       "    </tr>\n",
       "    <tr>\n",
       "      <th>243</th>\n",
       "      <td>positive</td>\n",
       "      <td>Absolutely fantastic book If I star I</td>\n",
       "      <td>12</td>\n",
       "      <td>3</td>\n",
       "    </tr>\n",
       "    <tr>\n",
       "      <th>244</th>\n",
       "      <td>positive</td>\n",
       "      <td>Exciting inspirational Great</td>\n",
       "      <td>5</td>\n",
       "      <td>2</td>\n",
       "    </tr>\n",
       "    <tr>\n",
       "      <th>245</th>\n",
       "      <td>positive</td>\n",
       "      <td>good</td>\n",
       "      <td>2</td>\n",
       "      <td>0</td>\n",
       "    </tr>\n",
       "    <tr>\n",
       "      <th>246</th>\n",
       "      <td>positive</td>\n",
       "      <td>I received Donna Kato Creative Surface effect ...</td>\n",
       "      <td>121</td>\n",
       "      <td>12</td>\n",
       "    </tr>\n",
       "  </tbody>\n",
       "</table>\n",
       "</div>"
      ],
      "text/plain": [
       "      overall                                         reviewText  length  \\\n",
       "242  positive  I loved Donna Kato work time I purchased polym...     110   \n",
       "243  positive              Absolutely fantastic book If I star I      12   \n",
       "244  positive                       Exciting inspirational Great       5   \n",
       "245  positive                                               good       2   \n",
       "246  positive  I received Donna Kato Creative Surface effect ...     121   \n",
       "\n",
       "     punct  \n",
       "242     26  \n",
       "243      3  \n",
       "244      2  \n",
       "245      0  \n",
       "246     12  "
      ]
     },
     "execution_count": 42,
     "metadata": {},
     "output_type": "execute_result"
    }
   ],
   "source": [
    "# Making another copy of the data frame\n",
    "lm2 = nltk.stem.WordNetLemmatizer()\n",
    "\n",
    "df3 = df.copy()\n",
    "\n",
    "# Create a function for WordNetLemmatizer\n",
    "def lemmatize_txt2(text):\n",
    "    word_list = nltk.word_tokenize(text)\n",
    "    \n",
    "    lm_output = \" \".join([lm2.lemmatize(x) for x in word_list])\n",
    "    return lm_output\n",
    "\n",
    "# Lemmatize the reviews\n",
    "df3.reviewText = df3.reviewText.apply(lemmatize_txt2)\n",
    "df3.head()"
   ]
  },
  {
   "cell_type": "code",
   "execution_count": 43,
   "id": "b17793fb",
   "metadata": {},
   "outputs": [
    {
     "data": {
      "image/png": "[encoded data removed]",
      "text/plain": [
       "<Figure size 720x432 with 1 Axes>"
      ]
     },
     "metadata": {
      "needs_background": "light"
     },
     "output_type": "display_data"
    }
   ],
   "source": [
    "# Time to create graphs with the original dataframe\n",
    "import seaborn as sns\n",
    "import matplotlib.pyplot as plt\n",
    "%matplotlib inline\n",
    "\n",
    "fig, ax = plt.subplots(figsize = (10, 6))\n",
    "ax.ticklabel_format(useOffset = False, style = \"plain\")\n",
    "sns.countplot(df.overall, palette = \"rainbow\")\n",
    "plt.xlabel(\"Overall Rating\")\n",
    "plt.ylabel(\"Count\")\n",
    "plt.title(\"Bar Chart of Overall Rating\");\n",
    "\n",
    "# This bar graph shows that there are more positive reviews than neutral and negative. It also shows that there's definitely an\n",
    "# imbalance with the overall rating. "
   ]
  },
  {
   "cell_type": "code",
   "execution_count": 44,
   "id": "4afc241d",
   "metadata": {},
   "outputs": [
    {
     "data": {
      "image/png": "[encoded data removed]",
      "text/plain": [
       "<Figure size 720x576 with 1 Axes>"
      ]
     },
     "metadata": {
      "needs_background": "light"
     },
     "output_type": "display_data"
    }
   ],
   "source": [
    "# Creating histogram with the length of words, scaling the x by log so it would respond to skewness towards large values\n",
    "# (which  one or a few points are much larger than the majority of the data)\n",
    "plt.figure(figsize = (10,8))\n",
    "plt.xscale(\"log\")\n",
    "bins = 1.5 ** (np.arange(0,15))\n",
    "plt.hist(df[df.overall == \"positive\"][\"length\"], bins = bins, alpha = .6)\n",
    "plt.hist(df[df.overall == \"negative\"][\"length\"], bins = bins, alpha = .6)\n",
    "plt.hist(df[df.overall == \"neutral\"][\"length\"], bins = bins, alpha = .6)\n",
    "plt.xlabel(\"Number of Words\")\n",
    "plt.ylabel(\"Count\")\n",
    "plt.title(\"Histogram of Number of Words by Rating (scaled)\")\n",
    "plt.legend((\"positive\", \"negative\", \"neutral\"))\n",
    "plt.show();\n",
    "\n",
    "# There's not that much difference between number of words between the ratings"
   ]
  },
  {
   "cell_type": "code",
   "execution_count": 45,
   "id": "6b75bbe8",
   "metadata": {},
   "outputs": [
    {
     "data": {
      "image/png": "[encoded data removed]",
      "text/plain": [
       "<Figure size 720x576 with 1 Axes>"
      ]
     },
     "metadata": {
      "needs_background": "light"
     },
     "output_type": "display_data"
    }
   ],
   "source": [
    "# Creating a graph with number of punctuations, scaling x by log\n",
    "plt.figure(figsize = (10,8))\n",
    "plt.xscale(\"log\")\n",
    "bins = 1.5 ** (np.arange(0,15))\n",
    "plt.hist(df[df.overall == \"positive\"][\"punct\"], bins = bins, alpha = .6)\n",
    "plt.hist(df[df.overall == \"negative\"][\"punct\"], bins = bins, alpha = .6)\n",
    "plt.hist(df[df.overall == \"neutral\"][\"punct\"], bins = bins, alpha = .6)\n",
    "plt.xlabel(\"Number of Punctuations\")\n",
    "plt.ylabel(\"Count\")\n",
    "plt.title(\"Histogram of Number of Punctuations by Rating (scaled)\")\n",
    "plt.legend((\"positive\", \"negative\", \"neutral\"))\n",
    "plt.show();\n",
    "\n",
    "# This histogram shows the positive reviews will have less number of punctuations compared to the neutral and negative reviews"
   ]
  },
  {
   "cell_type": "code",
   "execution_count": 46,
   "id": "91afb37a",
   "metadata": {},
   "outputs": [
    {
     "data": {
      "image/png": "[encoded data removed]",
      "text/plain": [
       "<Figure size 720x576 with 1 Axes>"
      ]
     },
     "metadata": {
      "needs_background": "light"
     },
     "output_type": "display_data"
    }
   ],
   "source": [
    "# Getting the scatterplot between the number of words and number of punctuations\n",
    "plt.figure(figsize = (10, 8))\n",
    "sns.scatterplot(x = \"length\", y = \"punct\", data = df, alpha = .5)\n",
    "m, b = np.polyfit(df.length, df.punct, 1)\n",
    "plt.plot(df.length, m * df.length + b)\n",
    "plt.xlabel(\"Number of Words\")\n",
    "plt.ylabel(\"Number of Punctuations\")\n",
    "plt.title(\"Scatterplot of Number of Words vs. Number of Punctuations\");\n",
    "\n",
    "# As expected, there is a positive correlation between the number of words and number of punctuations. If we are writing a \n",
    "# long review with lots of sentences, there will be lots of punctuations"
   ]
  },
  {
   "cell_type": "code",
   "execution_count": 47,
   "id": "202ef35e",
   "metadata": {},
   "outputs": [
    {
     "data": {
      "text/plain": [
       "positive    979620\n",
       "negative    130437\n",
       "neutral      80227\n",
       "Name: overall, dtype: int64"
      ]
     },
     "execution_count": 47,
     "metadata": {},
     "output_type": "execute_result"
    }
   ],
   "source": [
    "df.overall.value_counts()"
   ]
  },
  {
   "cell_type": "code",
   "execution_count": 48,
   "id": "ef1db2ac",
   "metadata": {},
   "outputs": [
    {
     "data": {
      "image/png": "[encoded data removed]",
      "text/plain": [
       "<Figure size 576x576 with 1 Axes>"
      ]
     },
     "metadata": {
      "needs_background": "light"
     },
     "output_type": "display_data"
    }
   ],
   "source": [
    "# Word Cloud\n",
    "\n",
    "import matplotlib.pyplot as plt\n",
    "from wordcloud import WordCloud, STOPWORDS\n",
    "\n",
    "comment_words = \" \"\n",
    "stopwords = set(STOPWORDS)\n",
    "\n",
    "# iterate through reviews\n",
    "for val in df.reviewText:\n",
    "    # Turn each review to string in case if it's not string\n",
    "    val = str(val)\n",
    "    \n",
    "    # split the value\n",
    "    tokens = val.split()\n",
    "    \n",
    "# Converts each token to lowercase\n",
    "for i in range(len(tokens)):\n",
    "    tokens[i] = tokens[i].lower()\n",
    "    \n",
    "for words in tokens:    \n",
    "    comment_words = comment_words + words + \" \"\n",
    "    \n",
    "wordcloud = WordCloud(width = 800,\n",
    "                     height = 800,\n",
    "                     background_color = \"white\",\n",
    "                     stopwords = stopwords,\n",
    "                     min_font_size = 1).generate(comment_words)\n",
    "\n",
    "# Plot the wordcloud image\n",
    "plt.figure(figsize = (8,8), facecolor = None)\n",
    "plt.imshow(wordcloud)\n",
    "plt.axis(\"off\")\n",
    "plt.tight_layout(pad = 0)\n",
    "plt.show()"
   ]
  },
  {
   "cell_type": "markdown",
   "id": "f2a7919f",
   "metadata": {},
   "source": [
    "# Partition the Data"
   ]
  },
  {
   "cell_type": "code",
   "execution_count": 49,
   "id": "4881d2b1",
   "metadata": {},
   "outputs": [],
   "source": [
    "from sklearn.model_selection import train_test_split\n",
    "X = temp2.reviewText\n",
    "y = temp2.overall\n",
    "\n",
    "X_train, X_test, y_train, y_test = train_test_split(X, \n",
    "                                                    y, \n",
    "                                                    test_size = 0.1, \n",
    "                                                    stratify = y, \n",
    "                                                    random_state = 42)"
   ]
  },
  {
   "cell_type": "code",
   "execution_count": 50,
   "id": "e7c03f72",
   "metadata": {},
   "outputs": [],
   "source": [
    "# Try this with the preprocessed data\n",
    "X1 = df.reviewText\n",
    "y1 = df.overall\n",
    "\n",
    "X1_train, X1_test, y1_train, y1_test = train_test_split(X1, \n",
    "                                                        y1, \n",
    "                                                        test_size = 0.1, \n",
    "                                                        stratify = y1, \n",
    "                                                        random_state = 42)"
   ]
  },
  {
   "cell_type": "code",
   "execution_count": 51,
   "id": "ca76d139",
   "metadata": {},
   "outputs": [],
   "source": [
    "# Try this with Porter Stemmer data\n",
    "X2 = df2.reviewText\n",
    "y2 = df2.overall\n",
    "\n",
    "X2_train, X2_test, y2_train, y2_test = train_test_split(X2, y2, test_size = 0.1, stratify = y2, random_state = 42)"
   ]
  },
  {
   "cell_type": "code",
   "execution_count": 52,
   "id": "06efdaa2",
   "metadata": {},
   "outputs": [],
   "source": [
    "# Try this with Word Net Lemmatizer data\n",
    "X3 = df3.reviewText\n",
    "y3 = df3.overall\n",
    "\n",
    "X3_train, X3_test, y3_train, y3_test = train_test_split(X3, y3, test_size = 0.1, stratify = y3, random_state = 42)"
   ]
  },
  {
   "cell_type": "markdown",
   "id": "eae2b2d4",
   "metadata": {},
   "source": [
    "# Building Pipeline for both TfidfVectorizer and Classifier"
   ]
  },
  {
   "cell_type": "code",
   "execution_count": 53,
   "id": "1cd2be0b",
   "metadata": {},
   "outputs": [
    {
     "data": {
      "text/plain": [
       "Pipeline(steps=[('tfidf',\n",
       "                 TfidfVectorizer(max_df=0.98, min_df=2, stop_words='english')),\n",
       "                ('clf', LinearSVC())])"
      ]
     },
     "execution_count": 53,
     "metadata": {},
     "output_type": "execute_result"
    }
   ],
   "source": [
    "from sklearn.feature_extraction.text import TfidfVectorizer\n",
    "from sklearn.pipeline import Pipeline\n",
    "from sklearn.svm import LinearSVC\n",
    "\n",
    "# Use the pipeline and fit the training data to the model\n",
    "# Use the temp2 data\n",
    "# min df = 2 means a word must occur in at least 2 documents from the corpus\n",
    "# max df = .98 means ignore words that occur in more than 98% of the documents from the corpus\n",
    "# Try with Linear SVC first\n",
    "text_svc = Pipeline([(\"tfidf\", TfidfVectorizer(min_df = 2, max_df = .98, stop_words = \"english\")),\n",
    "                     (\"clf\", LinearSVC())])\n",
    "\n",
    "text_svc.fit(X_train, y_train)"
   ]
  },
  {
   "cell_type": "code",
   "execution_count": 54,
   "id": "189c8e66",
   "metadata": {},
   "outputs": [
    {
     "data": {
      "text/plain": [
       "Pipeline(steps=[('tfidf',\n",
       "                 TfidfVectorizer(max_df=0.98, min_df=2, stop_words='english')),\n",
       "                ('clf', LinearSVC())])"
      ]
     },
     "execution_count": 54,
     "metadata": {},
     "output_type": "execute_result"
    }
   ],
   "source": [
    "# Try it with the other data (preprocessed, porter stemmer, and word net stemmer)\n",
    "text_svc1 = Pipeline([(\"tfidf\", TfidfVectorizer(min_df = 2, max_df = .98, stop_words = \"english\")),\n",
    "                     (\"clf\", LinearSVC())])\n",
    "text_svc2 = Pipeline([(\"tfidf\", TfidfVectorizer(min_df = 2, max_df = .98, stop_words = \"english\")),\n",
    "                     (\"clf\", LinearSVC())])\n",
    "text_svc3 = Pipeline([(\"tfidf\", TfidfVectorizer(min_df = 2, max_df = .98, stop_words = \"english\")),\n",
    "                     (\"clf\", LinearSVC())])\n",
    "\n",
    "text_svc1.fit(X1_train, y1_train)\n",
    "text_svc2.fit(X2_train, y2_train)\n",
    "text_svc3.fit(X3_train, y3_train)"
   ]
  },
  {
   "cell_type": "code",
   "execution_count": 55,
   "id": "60452d3e",
   "metadata": {},
   "outputs": [],
   "source": [
    "# Form a prediction set for the temp2 data\n",
    "pred = text_svc.predict(X_test)"
   ]
  },
  {
   "cell_type": "code",
   "execution_count": 56,
   "id": "7625046b",
   "metadata": {},
   "outputs": [],
   "source": [
    "# Predictions with other data\n",
    "pred1 = text_svc1.predict(X1_test)\n",
    "pred2 = text_svc1.predict(X2_test)\n",
    "pred3 = text_svc1.predict(X3_test)"
   ]
  },
  {
   "cell_type": "code",
   "execution_count": 57,
   "id": "4bf1550a",
   "metadata": {},
   "outputs": [
    {
     "name": "stdout",
     "output_type": "stream",
     "text": [
      "[[ 8783   264  3997]\n",
      " [ 1915   542  5566]\n",
      " [ 1436   312 96214]]\n",
      "              precision    recall  f1-score   support\n",
      "\n",
      "    negative       0.72      0.67      0.70     13044\n",
      "     neutral       0.48      0.07      0.12      8023\n",
      "    positive       0.91      0.98      0.94     97962\n",
      "\n",
      "    accuracy                           0.89    119029\n",
      "   macro avg       0.71      0.57      0.59    119029\n",
      "weighted avg       0.86      0.89      0.86    119029\n",
      "\n"
     ]
    }
   ],
   "source": [
    "# Check the confusion matrix and the classification reports for temp2\n",
    "from sklearn.metrics import confusion_matrix, classification_report\n",
    "\n",
    "print(confusion_matrix(y_test, pred))\n",
    "print(classification_report(y_test, pred))"
   ]
  },
  {
   "cell_type": "code",
   "execution_count": 198,
   "id": "f2bcc246",
   "metadata": {},
   "outputs": [
    {
     "name": "stdout",
     "output_type": "stream",
     "text": [
      "Negative precision: 0.7238338552826767\n",
      "Neutral precision: 0.4847942754919499\n",
      "Positive precision: 0.9095928226363009\n"
     ]
    }
   ],
   "source": [
    "# Math behind the classification report\n",
    "# Precision\n",
    "prec_neg = 8783 / (8783 + 1915 + 1436)\n",
    "print(\"Negative precision:\", prec_neg)\n",
    "\n",
    "prec_neu = 542 / (264 + 542 + 312)\n",
    "print(\"Neutral precision:\", prec_neu)\n",
    "\n",
    "prec_pos = 96214 / (3997 + 5566 + 96214)\n",
    "print(\"Positive precision:\", prec_pos)"
   ]
  },
  {
   "cell_type": "code",
   "execution_count": 199,
   "id": "694de428",
   "metadata": {},
   "outputs": [
    {
     "name": "stdout",
     "output_type": "stream",
     "text": [
      "Negative recall: 0.6733363998773383\n",
      "Neutral recall: 0.06755577714072043\n",
      "Positive recall: 0.9821563463383761\n"
     ]
    }
   ],
   "source": [
    "# Recall\n",
    "rec_neg = 8783 / (8783 + 264 + 3997)\n",
    "print(\"Negative recall:\", rec_neg)\n",
    "\n",
    "rec_neu = 542 / (1915 + 542 + 5566)\n",
    "print(\"Neutral recall:\", rec_neu)\n",
    "\n",
    "rec_pos = 96214 / (1436 + 312 + 96214)\n",
    "print(\"Positive recall:\", rec_pos)"
   ]
  },
  {
   "cell_type": "code",
   "execution_count": 200,
   "id": "2c7fbebd",
   "metadata": {},
   "outputs": [
    {
     "name": "stdout",
     "output_type": "stream",
     "text": [
      "Negative f1-score: 0.6976725712923981\n",
      "Neutral f1-score: 0.11858658790066733\n",
      "Positive f1-score: 0.9444828923279294\n"
     ]
    }
   ],
   "source": [
    "# f1-score\n",
    "f1_neg = 2 * (prec_neg * rec_neg) / (prec_neg + rec_neg)\n",
    "print(\"Negative f1-score:\", f1_neg)\n",
    "\n",
    "f1_neu = 2 * (prec_neu * rec_neu) / (prec_neu + rec_neu)\n",
    "print(\"Neutral f1-score:\", f1_neu)\n",
    "\n",
    "f1_pos = 2 * (prec_pos * rec_pos) / (prec_pos + rec_pos)\n",
    "print(\"Positive f1-score:\", f1_pos)"
   ]
  },
  {
   "cell_type": "code",
   "execution_count": 61,
   "id": "9ff122c3",
   "metadata": {},
   "outputs": [
    {
     "name": "stdout",
     "output_type": "stream",
     "text": [
      "[[ 8338   217  4489]\n",
      " [ 1782   417  5824]\n",
      " [ 1450   240 96272]]\n",
      "              precision    recall  f1-score   support\n",
      "\n",
      "    negative       0.72      0.64      0.68     13044\n",
      "     neutral       0.48      0.05      0.09      8023\n",
      "    positive       0.90      0.98      0.94     97962\n",
      "\n",
      "    accuracy                           0.88    119029\n",
      "   macro avg       0.70      0.56      0.57    119029\n",
      "weighted avg       0.85      0.88      0.86    119029\n",
      "\n"
     ]
    }
   ],
   "source": [
    "# With other data\n",
    "print(confusion_matrix(y1_test, pred1))\n",
    "print(classification_report(y1_test, pred1))"
   ]
  },
  {
   "cell_type": "code",
   "execution_count": 62,
   "id": "93d5233e",
   "metadata": {},
   "outputs": [
    {
     "name": "stdout",
     "output_type": "stream",
     "text": [
      "Negative precision: 0.720656871218669\n",
      "Neutral precision: 0.477116704805492\n",
      "Positive precision: 0.9032415443073604\n"
     ]
    }
   ],
   "source": [
    "# Math behind the classification report\n",
    "# Precision\n",
    "prec_neg = 8338 / (8338 + 1782 + 1450)\n",
    "print(\"Negative precision:\", prec_neg)\n",
    "\n",
    "prec_neu = 417 / (217 + 417 + 240)\n",
    "print(\"Neutral precision:\", prec_neu)\n",
    "\n",
    "prec_pos = 96272 / (4489 + 5824 + 96272)\n",
    "print(\"Positive precision:\", prec_pos)"
   ]
  },
  {
   "cell_type": "code",
   "execution_count": 63,
   "id": "7e015a56",
   "metadata": {},
   "outputs": [
    {
     "name": "stdout",
     "output_type": "stream",
     "text": [
      "Negative recall: 0.6392210978227537\n",
      "Neutral recall: 0.05197557023557273\n",
      "Positive recall: 0.982748412649803\n"
     ]
    }
   ],
   "source": [
    "# Recall\n",
    "rec_neg = 8338 / (8338 + 217 + 4489)\n",
    "print(\"Negative recall:\", rec_neg)\n",
    "\n",
    "rec_neu = 417 / (1782 + 417 + 5824)\n",
    "print(\"Neutral recall:\", rec_neu)\n",
    "\n",
    "rec_pos = 96272 / (1450 + 240 + 96272)\n",
    "print(\"Positive recall:\", rec_pos)"
   ]
  },
  {
   "cell_type": "code",
   "execution_count": 64,
   "id": "15f91ca7",
   "metadata": {},
   "outputs": [
    {
     "name": "stdout",
     "output_type": "stream",
     "text": [
      "Negative f1-score: 0.6775006094092793\n",
      "Neutral f1-score: 0.09373946274024952\n",
      "Positive f1-score: 0.941319110033391\n"
     ]
    }
   ],
   "source": [
    "# f1-score\n",
    "f1_neg = 2 * (prec_neg * rec_neg) / (prec_neg + rec_neg)\n",
    "print(\"Negative f1-score:\", f1_neg)\n",
    "\n",
    "f1_neu = 2 * (prec_neu * rec_neu) / (prec_neu + rec_neu)\n",
    "print(\"Neutral f1-score:\", f1_neu)\n",
    "\n",
    "f1_pos = 2 * (prec_pos * rec_pos) / (prec_pos + rec_pos)\n",
    "print(\"Positive f1-score:\", f1_pos)"
   ]
  },
  {
   "cell_type": "code",
   "execution_count": 65,
   "id": "650e3bce",
   "metadata": {},
   "outputs": [
    {
     "name": "stdout",
     "output_type": "stream",
     "text": [
      "[[ 5056   203  7785]\n",
      " [ 1263   281  6479]\n",
      " [ 1989   385 95588]]\n",
      "              precision    recall  f1-score   support\n",
      "\n",
      "    negative       0.61      0.39      0.47     13044\n",
      "     neutral       0.32      0.04      0.06      8023\n",
      "    positive       0.87      0.98      0.92     97962\n",
      "\n",
      "    accuracy                           0.85    119029\n",
      "   macro avg       0.60      0.47      0.49    119029\n",
      "weighted avg       0.80      0.85      0.81    119029\n",
      "\n"
     ]
    }
   ],
   "source": [
    "# Next Porter Stemmer\n",
    "print(confusion_matrix(y2_test, pred2))\n",
    "print(classification_report(y2_test, pred2))"
   ]
  },
  {
   "cell_type": "code",
   "execution_count": 66,
   "id": "f4968a2f",
   "metadata": {},
   "outputs": [
    {
     "name": "stdout",
     "output_type": "stream",
     "text": [
      "Negative precision: 0.6085700529610014\n",
      "Neutral precision: 0.3233601841196778\n",
      "Positive precision: 0.8701525689108983\n"
     ]
    }
   ],
   "source": [
    "# Math behind the classification report\n",
    "# Precision\n",
    "prec_neg = 5056 / (5056 + 1263 + 1989)\n",
    "print(\"Negative precision:\", prec_neg)\n",
    "\n",
    "prec_neu = 281 / (203 + 281 + 385)\n",
    "print(\"Neutral precision:\", prec_neu)\n",
    "\n",
    "prec_pos = 95588 / (7785 + 6479 + 95588)\n",
    "print(\"Positive precision:\", prec_pos)"
   ]
  },
  {
   "cell_type": "code",
   "execution_count": 67,
   "id": "8cccf443",
   "metadata": {},
   "outputs": [
    {
     "name": "stdout",
     "output_type": "stream",
     "text": [
      "Negative recall: 0.3876111622201779\n",
      "Neutral recall: 0.03502430512277203\n",
      "Positive recall: 0.9757661133909067\n"
     ]
    }
   ],
   "source": [
    "# Recall\n",
    "rec_neg = 5056 / (5056 + 203 + 7785)\n",
    "print(\"Negative recall:\", rec_neg)\n",
    "\n",
    "rec_neu = 281 / (1263 + 281 + 6479)\n",
    "print(\"Neutral recall:\", rec_neu)\n",
    "\n",
    "rec_pos = 95588 / (1989 + 385 + 95588)\n",
    "print(\"Positive recall:\", rec_pos)"
   ]
  },
  {
   "cell_type": "code",
   "execution_count": 68,
   "id": "0c6bb8bd",
   "metadata": {},
   "outputs": [
    {
     "name": "stdout",
     "output_type": "stream",
     "text": [
      "Negative f1-score: 0.4735856125889847\n",
      "Neutral f1-score: 0.06320287899235266\n",
      "Positive f1-score: 0.9199380214999952\n"
     ]
    }
   ],
   "source": [
    "# f1-score\n",
    "f1_neg = 2 * (prec_neg * rec_neg) / (prec_neg + rec_neg)\n",
    "print(\"Negative f1-score:\", f1_neg)\n",
    "\n",
    "f1_neu = 2 * (prec_neu * rec_neu) / (prec_neu + rec_neu)\n",
    "print(\"Neutral f1-score:\", f1_neu)\n",
    "\n",
    "f1_pos = 2 * (prec_pos * rec_pos) / (prec_pos + rec_pos)\n",
    "print(\"Positive f1-score:\", f1_pos)"
   ]
  },
  {
   "cell_type": "code",
   "execution_count": 69,
   "id": "df56487c",
   "metadata": {},
   "outputs": [
    {
     "name": "stdout",
     "output_type": "stream",
     "text": [
      "[[ 8450   210  4384]\n",
      " [ 1943   390  5690]\n",
      " [ 1803   257 95902]]\n",
      "              precision    recall  f1-score   support\n",
      "\n",
      "    negative       0.69      0.65      0.67     13044\n",
      "     neutral       0.46      0.05      0.09      8023\n",
      "    positive       0.90      0.98      0.94     97962\n",
      "\n",
      "    accuracy                           0.88    119029\n",
      "   macro avg       0.68      0.56      0.57    119029\n",
      "weighted avg       0.85      0.88      0.85    119029\n",
      "\n"
     ]
    }
   ],
   "source": [
    "# Lastly Word Net Lemmatizer\n",
    "print(confusion_matrix(y3_test, pred3))\n",
    "print(classification_report(y3_test, pred3))"
   ]
  },
  {
   "cell_type": "code",
   "execution_count": 70,
   "id": "9922e176",
   "metadata": {},
   "outputs": [
    {
     "name": "stdout",
     "output_type": "stream",
     "text": [
      "Negative precision: 0.692850114791735\n",
      "Neutral precision: 0.45507584597432904\n",
      "Positive precision: 0.904940741299917\n"
     ]
    }
   ],
   "source": [
    "# Math behind the classification report\n",
    "# Precision\n",
    "prec_neg = 8450 / (8450 + 1943 + 1803)\n",
    "print(\"Negative precision:\", prec_neg)\n",
    "\n",
    "prec_neu = 390 / (210 + 390 + 257)\n",
    "print(\"Neutral precision:\", prec_neu)\n",
    "\n",
    "prec_pos = 95902 / (4384 + 5690 + 95902)\n",
    "print(\"Positive precision:\", prec_pos)"
   ]
  },
  {
   "cell_type": "code",
   "execution_count": 71,
   "id": "249bce1d",
   "metadata": {},
   "outputs": [
    {
     "name": "stdout",
     "output_type": "stream",
     "text": [
      "Negative recall: 0.6478074210364919\n",
      "Neutral recall: 0.04861024554406083\n",
      "Positive recall: 0.9789714379044936\n"
     ]
    }
   ],
   "source": [
    "# Recall\n",
    "rec_neg = 8450 / (8450 + 210 + 4384)\n",
    "print(\"Negative recall:\", rec_neg)\n",
    "\n",
    "rec_neu = 390 / (1943 + 390 + 5690)\n",
    "print(\"Neutral recall:\", rec_neu)\n",
    "\n",
    "rec_pos = 95902 / (1803 + 257 + 95902)\n",
    "print(\"Positive recall:\", rec_pos)"
   ]
  },
  {
   "cell_type": "code",
   "execution_count": 72,
   "id": "d75a3db8",
   "metadata": {},
   "outputs": [
    {
     "name": "stdout",
     "output_type": "stream",
     "text": [
      "Negative f1-score: 0.6695721077654517\n",
      "Neutral f1-score: 0.08783783783783784\n",
      "Positive f1-score: 0.9405015249732762\n"
     ]
    }
   ],
   "source": [
    "# f1-score\n",
    "f1_neg = 2 * (prec_neg * rec_neg) / (prec_neg + rec_neg)\n",
    "print(\"Negative f1-score:\", f1_neg)\n",
    "\n",
    "f1_neu = 2 * (prec_neu * rec_neu) / (prec_neu + rec_neu)\n",
    "print(\"Neutral f1-score:\", f1_neu)\n",
    "\n",
    "f1_pos = 2 * (prec_pos * rec_pos) / (prec_pos + rec_pos)\n",
    "print(\"Positive f1-score:\", f1_pos)"
   ]
  },
  {
   "cell_type": "markdown",
   "id": "7575e262",
   "metadata": {},
   "source": [
    "# Undersampling"
   ]
  },
  {
   "cell_type": "code",
   "execution_count": 73,
   "id": "e7ea9083",
   "metadata": {},
   "outputs": [
    {
     "data": {
      "text/plain": [
       "Pipeline(steps=[('tfidfvectorizer',\n",
       "                 TfidfVectorizer(max_df=0.98, min_df=2, stop_words='english')),\n",
       "                ('randomundersampler',\n",
       "                 RandomUnderSampler(random_state=42,\n",
       "                                    sampling_strategy='majority')),\n",
       "                ('linearsvc', LinearSVC())])"
      ]
     },
     "execution_count": 73,
     "metadata": {},
     "output_type": "execute_result"
    }
   ],
   "source": [
    "# Using undersampling with the majority class where it under samples the majority class (positive) then fit it to the model\n",
    "# using LinearSVC\n",
    "# Do this with df data\n",
    "from sklearn.feature_extraction.text import TfidfTransformer, CountVectorizer\n",
    "from imblearn.pipeline import make_pipeline\n",
    "from imblearn.under_sampling import RandomUnderSampler\n",
    "\n",
    "model = make_pipeline(TfidfVectorizer(min_df = 2, max_df = .98, stop_words = \"english\"),\n",
    "                     RandomUnderSampler(random_state = 42, sampling_strategy = \"majority\"),\n",
    "                      LinearSVC())\n",
    "\n",
    "model.fit(X1_train, y1_train)"
   ]
  },
  {
   "cell_type": "code",
   "execution_count": 74,
   "id": "48c95339",
   "metadata": {},
   "outputs": [],
   "source": [
    "# Make predictions\n",
    "y_pred = model.predict(X1_test)"
   ]
  },
  {
   "cell_type": "code",
   "execution_count": 75,
   "id": "2af16e17",
   "metadata": {},
   "outputs": [
    {
     "name": "stdout",
     "output_type": "stream",
     "text": [
      "[[10918  1486   640]\n",
      " [ 3330  3299  1394]\n",
      " [10696 11195 76071]]\n"
     ]
    }
   ],
   "source": [
    "# Print confusion matrix\n",
    "print(confusion_matrix(y1_test, y_pred))"
   ]
  },
  {
   "cell_type": "code",
   "execution_count": 76,
   "id": "865dfe60",
   "metadata": {},
   "outputs": [
    {
     "name": "stdout",
     "output_type": "stream",
     "text": [
      "              precision    recall  f1-score   support\n",
      "\n",
      "    negative       0.44      0.84      0.57     13044\n",
      "     neutral       0.21      0.41      0.27      8023\n",
      "    positive       0.97      0.78      0.86     97962\n",
      "\n",
      "    accuracy                           0.76    119029\n",
      "   macro avg       0.54      0.67      0.57    119029\n",
      "weighted avg       0.86      0.76      0.79    119029\n",
      "\n"
     ]
    }
   ],
   "source": [
    "# Print classification report\n",
    "print(classification_report(y1_test, y_pred))"
   ]
  },
  {
   "cell_type": "code",
   "execution_count": 77,
   "id": "49841f54",
   "metadata": {},
   "outputs": [
    {
     "name": "stdout",
     "output_type": "stream",
     "text": [
      "Negative precision: 0.43770044900577293\n",
      "Neutral precision: 0.20644555694618272\n",
      "Positive precision: 0.9739581332821202\n"
     ]
    }
   ],
   "source": [
    "# Math behind the classification report\n",
    "# Precision\n",
    "prec_neg = 10918 / (10918 + 3330 + 10696)\n",
    "print(\"Negative precision:\", prec_neg)\n",
    "\n",
    "prec_neu = 3299 / (1486 + 3299 + 11195)\n",
    "print(\"Neutral precision:\", prec_neu)\n",
    "\n",
    "prec_pos = 76071 / (640 + 1394 + 76071)\n",
    "print(\"Positive precision:\", prec_pos)"
   ]
  },
  {
   "cell_type": "code",
   "execution_count": 78,
   "id": "e90cd72c",
   "metadata": {},
   "outputs": [
    {
     "name": "stdout",
     "output_type": "stream",
     "text": [
      "Negative recall: 0.837013186139221\n",
      "Neutral recall: 0.4111928206406581\n",
      "Positive recall: 0.7765357995957616\n"
     ]
    }
   ],
   "source": [
    "# Recall\n",
    "rec_neg = 10918 / (10918 + 1486 + 640)\n",
    "print(\"Negative recall:\", rec_neg)\n",
    "\n",
    "rec_neu = 3299 / (3330 + 3299 + 1394)\n",
    "print(\"Neutral recall:\", rec_neu)\n",
    "\n",
    "rec_pos = 76071 / (10696 + 11195 + 76071)\n",
    "print(\"Positive recall:\", rec_pos)"
   ]
  },
  {
   "cell_type": "code",
   "execution_count": 79,
   "id": "78ef5206",
   "metadata": {},
   "outputs": [
    {
     "name": "stdout",
     "output_type": "stream",
     "text": [
      "Negative f1-score: 0.5748130988733284\n",
      "Neutral f1-score: 0.27488230637836936\n",
      "Positive f1-score: 0.8641142292422772\n"
     ]
    }
   ],
   "source": [
    "# f1-score\n",
    "f1_neg = 2 * (prec_neg * rec_neg) / (prec_neg + rec_neg)\n",
    "print(\"Negative f1-score:\", f1_neg)\n",
    "\n",
    "f1_neu = 2 * (prec_neu * rec_neu) / (prec_neu + rec_neu)\n",
    "print(\"Neutral f1-score:\", f1_neu)\n",
    "\n",
    "f1_pos = 2 * (prec_pos * rec_pos) / (prec_pos + rec_pos)\n",
    "print(\"Positive f1-score:\", f1_pos)"
   ]
  },
  {
   "cell_type": "code",
   "execution_count": 80,
   "id": "e5c6cee8",
   "metadata": {},
   "outputs": [
    {
     "data": {
      "text/plain": [
       "Pipeline(steps=[('tfidfvectorizer',\n",
       "                 TfidfVectorizer(max_df=0.98, min_df=2, stop_words='english')),\n",
       "                ('randomundersampler',\n",
       "                 RandomUnderSampler(random_state=42,\n",
       "                                    sampling_strategy='not minority')),\n",
       "                ('linearsvc', LinearSVC())])"
      ]
     },
     "execution_count": 80,
     "metadata": {},
     "output_type": "execute_result"
    }
   ],
   "source": [
    "# Trying this with sampling strategy of not minority meaning it will resample all classes but the minority class (neutral)\n",
    "# then fit the model\n",
    "model = make_pipeline(TfidfVectorizer(min_df = 2, max_df = .98, stop_words = \"english\"),\n",
    "                     RandomUnderSampler(random_state = 42, sampling_strategy = \"not minority\"),\n",
    "                      LinearSVC())\n",
    "\n",
    "model.fit(X1_train, y1_train)"
   ]
  },
  {
   "cell_type": "code",
   "execution_count": 81,
   "id": "d06f62e4",
   "metadata": {},
   "outputs": [],
   "source": [
    "# Make predictions\n",
    "y_pred = model.predict(X1_test)"
   ]
  },
  {
   "cell_type": "code",
   "execution_count": 82,
   "id": "4058922d",
   "metadata": {},
   "outputs": [
    {
     "name": "stdout",
     "output_type": "stream",
     "text": [
      "[[ 9272  2939   833]\n",
      " [ 2019  4479  1525]\n",
      " [ 5500 15189 77273]]\n"
     ]
    }
   ],
   "source": [
    "# Print confusion matrix\n",
    "print(confusion_matrix(y1_test, y_pred))"
   ]
  },
  {
   "cell_type": "code",
   "execution_count": 83,
   "id": "b3100d0d",
   "metadata": {},
   "outputs": [
    {
     "name": "stdout",
     "output_type": "stream",
     "text": [
      "              precision    recall  f1-score   support\n",
      "\n",
      "    negative       0.55      0.71      0.62     13044\n",
      "     neutral       0.20      0.56      0.29      8023\n",
      "    positive       0.97      0.79      0.87     97962\n",
      "\n",
      "    accuracy                           0.76    119029\n",
      "   macro avg       0.57      0.69      0.59    119029\n",
      "weighted avg       0.87      0.76      0.80    119029\n",
      "\n"
     ]
    }
   ],
   "source": [
    "# Print classification report\n",
    "print(classification_report(y1_test, y_pred))"
   ]
  },
  {
   "cell_type": "code",
   "execution_count": 84,
   "id": "008badb2",
   "metadata": {},
   "outputs": [
    {
     "name": "stdout",
     "output_type": "stream",
     "text": [
      "Negative precision: 0.5522005836460009\n",
      "Neutral precision: 0.1981244747202194\n",
      "Positive precision: 0.9703884165714357\n"
     ]
    }
   ],
   "source": [
    "# Math behind the classification report\n",
    "# Precision\n",
    "prec_neg = 9272 / (9272 + 2019 + 5500)\n",
    "print(\"Negative precision:\", prec_neg)\n",
    "\n",
    "prec_neu = 4479 / (2939 + 4479 + 15189)\n",
    "print(\"Neutral precision:\", prec_neu)\n",
    "\n",
    "prec_pos = 77273 / (833 + 1525 + 77273)\n",
    "print(\"Positive precision:\", prec_pos)"
   ]
  },
  {
   "cell_type": "code",
   "execution_count": 85,
   "id": "58181de1",
   "metadata": {},
   "outputs": [
    {
     "name": "stdout",
     "output_type": "stream",
     "text": [
      "Negative recall: 0.7108249003373198\n",
      "Neutral recall: 0.5582699738252525\n",
      "Positive recall: 0.7888058634980911\n"
     ]
    }
   ],
   "source": [
    "# Recall\n",
    "rec_neg = 9272 / (9272 + 2939 + 833)\n",
    "print(\"Negative recall:\", rec_neg)\n",
    "\n",
    "rec_neu = 4479 / (2019 + 4479 + 1525)\n",
    "print(\"Neutral recall:\", rec_neu)\n",
    "\n",
    "rec_pos = 77273 / (5500 + 15189 + 77273)\n",
    "print(\"Positive recall:\", rec_pos)"
   ]
  },
  {
   "cell_type": "code",
   "execution_count": 86,
   "id": "2ae29b79",
   "metadata": {},
   "outputs": [
    {
     "name": "stdout",
     "output_type": "stream",
     "text": [
      "Negative f1-score: 0.6215518686106921\n",
      "Neutral f1-score: 0.292458374142997\n",
      "Positive f1-score: 0.8702257408794265\n"
     ]
    }
   ],
   "source": [
    "# f1-score\n",
    "f1_neg = 2 * (prec_neg * rec_neg) / (prec_neg + rec_neg)\n",
    "print(\"Negative f1-score:\", f1_neg)\n",
    "\n",
    "f1_neu = 2 * (prec_neu * rec_neu) / (prec_neu + rec_neu)\n",
    "print(\"Neutral f1-score:\", f1_neu)\n",
    "\n",
    "f1_pos = 2 * (prec_pos * rec_pos) / (prec_pos + rec_pos)\n",
    "print(\"Positive f1-score:\", f1_pos)"
   ]
  },
  {
   "cell_type": "code",
   "execution_count": 87,
   "id": "26a15d50",
   "metadata": {},
   "outputs": [
    {
     "data": {
      "text/plain": [
       "Pipeline(steps=[('tfidfvectorizer',\n",
       "                 TfidfVectorizer(max_df=0.98, min_df=2, stop_words='english')),\n",
       "                ('randomundersampler',\n",
       "                 RandomUnderSampler(random_state=42,\n",
       "                                    sampling_strategy='not minority')),\n",
       "                ('multinomialnb', MultinomialNB())])"
      ]
     },
     "execution_count": 87,
     "metadata": {},
     "output_type": "execute_result"
    }
   ],
   "source": [
    "# Using Naive Bayes\n",
    "from sklearn.naive_bayes import MultinomialNB\n",
    "model = make_pipeline(TfidfVectorizer(min_df = 2, max_df = .98, stop_words = \"english\"),\n",
    "                     RandomUnderSampler(random_state = 42, sampling_strategy = \"not minority\"),\n",
    "                      MultinomialNB())\n",
    "\n",
    "model.fit(X1_train, y1_train)"
   ]
  },
  {
   "cell_type": "code",
   "execution_count": 88,
   "id": "10efd09d",
   "metadata": {},
   "outputs": [],
   "source": [
    "# Make predictions\n",
    "y_pred = model.predict(X1_test)"
   ]
  },
  {
   "cell_type": "code",
   "execution_count": 89,
   "id": "35129aab",
   "metadata": {},
   "outputs": [
    {
     "name": "stdout",
     "output_type": "stream",
     "text": [
      "[[ 9117  3244   683]\n",
      " [ 2039  4690  1294]\n",
      " [ 6865 17985 73112]]\n"
     ]
    }
   ],
   "source": [
    "# Print confusion matrix\n",
    "print(confusion_matrix(y1_test, y_pred))"
   ]
  },
  {
   "cell_type": "code",
   "execution_count": 90,
   "id": "ab3c8ea0",
   "metadata": {},
   "outputs": [
    {
     "name": "stdout",
     "output_type": "stream",
     "text": [
      "              precision    recall  f1-score   support\n",
      "\n",
      "    negative       0.51      0.70      0.59     13044\n",
      "     neutral       0.18      0.58      0.28      8023\n",
      "    positive       0.97      0.75      0.84     97962\n",
      "\n",
      "    accuracy                           0.73    119029\n",
      "   macro avg       0.55      0.68      0.57    119029\n",
      "weighted avg       0.87      0.73      0.78    119029\n",
      "\n"
     ]
    }
   ],
   "source": [
    "# Print classification report\n",
    "print(classification_report(y1_test, y_pred))"
   ]
  },
  {
   "cell_type": "code",
   "execution_count": 91,
   "id": "ddacfc8d",
   "metadata": {},
   "outputs": [
    {
     "name": "stdout",
     "output_type": "stream",
     "text": [
      "Negative precision: 0.5059097719327451\n",
      "Neutral precision: 0.18094833905629076\n",
      "Positive precision: 0.9736712434577635\n"
     ]
    }
   ],
   "source": [
    "# Math behind the classification report\n",
    "# Precision\n",
    "prec_neg = 9117 / (9117 + 2039 + 6865)\n",
    "print(\"Negative precision:\", prec_neg)\n",
    "\n",
    "prec_neu = 4690 / (3244 + 4690 + 17985)\n",
    "print(\"Neutral precision:\", prec_neu)\n",
    "\n",
    "prec_pos = 73112 / (683 + 1294 + 73112)\n",
    "print(\"Positive precision:\", prec_pos)"
   ]
  },
  {
   "cell_type": "code",
   "execution_count": 92,
   "id": "998e6494",
   "metadata": {},
   "outputs": [
    {
     "name": "stdout",
     "output_type": "stream",
     "text": [
      "Negative recall: 0.6989420423183073\n",
      "Neutral recall: 0.5845693630811417\n",
      "Positive recall: 0.7463302096731386\n"
     ]
    }
   ],
   "source": [
    "# Recall\n",
    "rec_neg = 9117 / (9117 + 3244 + 683)\n",
    "print(\"Negative recall:\", rec_neg)\n",
    "\n",
    "rec_neu = 4690 / (2039 + 4690 + 1294)\n",
    "print(\"Neutral recall:\", rec_neu)\n",
    "\n",
    "rec_pos = 73112 / (6865 + 17985 + 73112)\n",
    "print(\"Positive recall:\", rec_pos)"
   ]
  },
  {
   "cell_type": "code",
   "execution_count": 93,
   "id": "6dfc89f8",
   "metadata": {},
   "outputs": [
    {
     "name": "stdout",
     "output_type": "stream",
     "text": [
      "Negative f1-score: 0.5869628198937711\n",
      "Neutral f1-score: 0.2763537799776089\n",
      "Positive f1-score: 0.8449763364557269\n"
     ]
    }
   ],
   "source": [
    "# f1-score\n",
    "f1_neg = 2 * (prec_neg * rec_neg) / (prec_neg + rec_neg)\n",
    "print(\"Negative f1-score:\", f1_neg)\n",
    "\n",
    "f1_neu = 2 * (prec_neu * rec_neu) / (prec_neu + rec_neu)\n",
    "print(\"Neutral f1-score:\", f1_neu)\n",
    "\n",
    "f1_pos = 2 * (prec_pos * rec_pos) / (prec_pos + rec_pos)\n",
    "print(\"Positive f1-score:\", f1_pos)"
   ]
  },
  {
   "cell_type": "code",
   "execution_count": 94,
   "id": "6cf8c49e",
   "metadata": {},
   "outputs": [
    {
     "data": {
      "text/plain": [
       "Pipeline(steps=[('tfidfvectorizer',\n",
       "                 TfidfVectorizer(max_df=0.98, min_df=2, stop_words='english')),\n",
       "                ('randomundersampler',\n",
       "                 RandomUnderSampler(random_state=42,\n",
       "                                    sampling_strategy='not minority')),\n",
       "                ('logisticregression', LogisticRegression())])"
      ]
     },
     "execution_count": 94,
     "metadata": {},
     "output_type": "execute_result"
    }
   ],
   "source": [
    "# Using Logistic Regression\n",
    "from sklearn.linear_model import LogisticRegression\n",
    "model = make_pipeline(TfidfVectorizer(min_df = 2, max_df = .98, stop_words = \"english\"),\n",
    "                     RandomUnderSampler(random_state = 42, sampling_strategy = \"not minority\"),\n",
    "                      LogisticRegression())\n",
    "\n",
    "model.fit(X1_train, y1_train)"
   ]
  },
  {
   "cell_type": "code",
   "execution_count": 95,
   "id": "af9abe87",
   "metadata": {},
   "outputs": [],
   "source": [
    "# Make predictions\n",
    "y_pred = model.predict(X1_test)"
   ]
  },
  {
   "cell_type": "code",
   "execution_count": 96,
   "id": "77b64aa8",
   "metadata": {},
   "outputs": [
    {
     "name": "stdout",
     "output_type": "stream",
     "text": [
      "[[ 9332  3034   678]\n",
      " [ 1940  4724  1359]\n",
      " [ 4673 16686 76603]]\n"
     ]
    }
   ],
   "source": [
    "# Print confusion matrix\n",
    "print(confusion_matrix(y1_test, y_pred))"
   ]
  },
  {
   "cell_type": "code",
   "execution_count": 97,
   "id": "36600ec5",
   "metadata": {},
   "outputs": [
    {
     "name": "stdout",
     "output_type": "stream",
     "text": [
      "              precision    recall  f1-score   support\n",
      "\n",
      "    negative       0.59      0.72      0.64     13044\n",
      "     neutral       0.19      0.59      0.29      8023\n",
      "    positive       0.97      0.78      0.87     97962\n",
      "\n",
      "    accuracy                           0.76    119029\n",
      "   macro avg       0.58      0.70      0.60    119029\n",
      "weighted avg       0.88      0.76      0.80    119029\n",
      "\n"
     ]
    }
   ],
   "source": [
    "# Print classification report\n",
    "print(classification_report(y1_test, y_pred))"
   ]
  },
  {
   "cell_type": "code",
   "execution_count": 98,
   "id": "50936208",
   "metadata": {},
   "outputs": [
    {
     "name": "stdout",
     "output_type": "stream",
     "text": [
      "Negative precision: 0.5852618375666353\n",
      "Neutral precision: 0.1932580592374407\n",
      "Positive precision: 0.9740971515768057\n"
     ]
    }
   ],
   "source": [
    "# Math behind the classification report\n",
    "# Precision\n",
    "prec_neg = 9332 / (9332 + 1940 + 4673)\n",
    "print(\"Negative precision:\", prec_neg)\n",
    "\n",
    "prec_neu = 4724 / (3034 + 4724 + 16686)\n",
    "print(\"Neutral precision:\", prec_neu)\n",
    "\n",
    "prec_pos = 76603 / (678 + 1359 + 76603)\n",
    "print(\"Positive precision:\", prec_pos)"
   ]
  },
  {
   "cell_type": "code",
   "execution_count": 99,
   "id": "9ee83ac7",
   "metadata": {},
   "outputs": [
    {
     "name": "stdout",
     "output_type": "stream",
     "text": [
      "Negative recall: 0.7154247163446795\n",
      "Neutral recall: 0.5888071793593419\n",
      "Positive recall: 0.7819664767971254\n"
     ]
    }
   ],
   "source": [
    "# Recall\n",
    "rec_neg = 9332 / (9332 + 3034 + 678)\n",
    "print(\"Negative recall:\", rec_neg)\n",
    "\n",
    "rec_neu = 4724 / (1940 + 4724 + 1359)\n",
    "print(\"Neutral recall:\", rec_neu)\n",
    "\n",
    "rec_pos = 76603 / (4673 + 16686 + 76603)\n",
    "print(\"Positive recall:\", rec_pos)"
   ]
  },
  {
   "cell_type": "code",
   "execution_count": 100,
   "id": "115a9781",
   "metadata": {},
   "outputs": [
    {
     "name": "stdout",
     "output_type": "stream",
     "text": [
      "Negative f1-score: 0.6438304184345786\n",
      "Neutral f1-score: 0.2910031724520282\n",
      "Positive f1-score: 0.8675213191243587\n"
     ]
    }
   ],
   "source": [
    "# f1-score\n",
    "f1_neg = 2 * (prec_neg * rec_neg) / (prec_neg + rec_neg)\n",
    "print(\"Negative f1-score:\", f1_neg)\n",
    "\n",
    "f1_neu = 2 * (prec_neu * rec_neu) / (prec_neu + rec_neu)\n",
    "print(\"Neutral f1-score:\", f1_neu)\n",
    "\n",
    "f1_pos = 2 * (prec_pos * rec_pos) / (prec_pos + rec_pos)\n",
    "print(\"Positive f1-score:\", f1_pos)"
   ]
  },
  {
   "cell_type": "code",
   "execution_count": 101,
   "id": "3dffdcd9",
   "metadata": {},
   "outputs": [
    {
     "data": {
      "text/plain": [
       "Pipeline(steps=[('tfidfvectorizer',\n",
       "                 TfidfVectorizer(max_df=0.98, min_df=2, stop_words='english')),\n",
       "                ('randomundersampler',\n",
       "                 RandomUnderSampler(random_state=42,\n",
       "                                    sampling_strategy='not minority')),\n",
       "                ('kneighborsclassifier', KNeighborsClassifier())])"
      ]
     },
     "execution_count": 101,
     "metadata": {},
     "output_type": "execute_result"
    }
   ],
   "source": [
    "# Using KNN\n",
    "from sklearn.neighbors import KNeighborsClassifier\n",
    "model = make_pipeline(TfidfVectorizer(min_df = 2, max_df = .98, stop_words = \"english\"),\n",
    "                     RandomUnderSampler(random_state = 42, sampling_strategy = \"not minority\"),\n",
    "                      KNeighborsClassifier(n_neighbors = 5))\n",
    "\n",
    "model.fit(X1_train, y1_train)"
   ]
  },
  {
   "cell_type": "code",
   "execution_count": 102,
   "id": "15f3129b",
   "metadata": {},
   "outputs": [],
   "source": [
    "# Make predictions\n",
    "y_pred = model.predict(X1_test)"
   ]
  },
  {
   "cell_type": "code",
   "execution_count": 103,
   "id": "34089e8d",
   "metadata": {},
   "outputs": [
    {
     "name": "stdout",
     "output_type": "stream",
     "text": [
      "[[ 5170  5975  1899]\n",
      " [ 1673  4798  1552]\n",
      " [10962 38128 48872]]\n"
     ]
    }
   ],
   "source": [
    "# Print confusion matrix\n",
    "print(confusion_matrix(y1_test, y_pred))"
   ]
  },
  {
   "cell_type": "code",
   "execution_count": 104,
   "id": "c4c9e93e",
   "metadata": {},
   "outputs": [
    {
     "name": "stdout",
     "output_type": "stream",
     "text": [
      "              precision    recall  f1-score   support\n",
      "\n",
      "    negative       0.29      0.40      0.34     13044\n",
      "     neutral       0.10      0.60      0.17      8023\n",
      "    positive       0.93      0.50      0.65     97962\n",
      "\n",
      "    accuracy                           0.49    119029\n",
      "   macro avg       0.44      0.50      0.38    119029\n",
      "weighted avg       0.81      0.49      0.58    119029\n",
      "\n"
     ]
    }
   ],
   "source": [
    "# Print classification report\n",
    "print(classification_report(y1_test, y_pred))"
   ]
  },
  {
   "cell_type": "code",
   "execution_count": 105,
   "id": "07f01035",
   "metadata": {},
   "outputs": [
    {
     "name": "stdout",
     "output_type": "stream",
     "text": [
      "Negative precision: 0.29036787419264254\n",
      "Neutral precision: 0.09809654270000613\n",
      "Positive precision: 0.9340443017411081\n"
     ]
    }
   ],
   "source": [
    "# Math behind the classification report\n",
    "# Precision\n",
    "prec_neg = 5170 / (5170 + 1673 + 10962)\n",
    "print(\"Negative precision:\", prec_neg)\n",
    "\n",
    "prec_neu = 4798 / (5985 + 4798 + 38128)\n",
    "print(\"Neutral precision:\", prec_neu)\n",
    "\n",
    "prec_pos = 48872 / (1899 + 1552 + 48872)\n",
    "print(\"Positive precision:\", prec_pos)"
   ]
  },
  {
   "cell_type": "code",
   "execution_count": 106,
   "id": "bd396c19",
   "metadata": {},
   "outputs": [
    {
     "name": "stdout",
     "output_type": "stream",
     "text": [
      "Negative recall: 0.3963508126341613\n",
      "Neutral recall: 0.5980306618471893\n",
      "Positive recall: 0.49888732365611155\n"
     ]
    }
   ],
   "source": [
    "# Recall\n",
    "rec_neg = 5170 / (5170 + 5975 + 1899)\n",
    "print(\"Negative recall:\", rec_neg)\n",
    "\n",
    "rec_neu = 4798 / (1673 + 4798 + 1552)\n",
    "print(\"Neutral recall:\", rec_neu)\n",
    "\n",
    "rec_pos = 48872 / (10962 + 38128 + 48872)\n",
    "print(\"Positive recall:\", rec_pos)"
   ]
  },
  {
   "cell_type": "code",
   "execution_count": 107,
   "id": "a15d82f1",
   "metadata": {},
   "outputs": [
    {
     "name": "stdout",
     "output_type": "stream",
     "text": [
      "Negative f1-score: 0.3351810431456449\n",
      "Neutral f1-score: 0.1685460357607054\n",
      "Positive f1-score: 0.6503909239112352\n"
     ]
    }
   ],
   "source": [
    "# f1-score\n",
    "f1_neg = 2 * (prec_neg * rec_neg) / (prec_neg + rec_neg)\n",
    "print(\"Negative f1-score:\", f1_neg)\n",
    "\n",
    "f1_neu = 2 * (prec_neu * rec_neu) / (prec_neu + rec_neu)\n",
    "print(\"Neutral f1-score:\", f1_neu)\n",
    "\n",
    "f1_pos = 2 * (prec_pos * rec_pos) / (prec_pos + rec_pos)\n",
    "print(\"Positive f1-score:\", f1_pos)"
   ]
  },
  {
   "cell_type": "code",
   "execution_count": 108,
   "id": "95f8f6ad",
   "metadata": {},
   "outputs": [
    {
     "data": {
      "text/plain": [
       "Pipeline(steps=[('tfidfvectorizer',\n",
       "                 TfidfVectorizer(max_df=0.98, min_df=2, stop_words='english')),\n",
       "                ('randomundersampler',\n",
       "                 RandomUnderSampler(random_state=42,\n",
       "                                    sampling_strategy='not minority')),\n",
       "                ('decisiontreeclassifier',\n",
       "                 DecisionTreeClassifier(max_depth=5, random_state=42))])"
      ]
     },
     "execution_count": 108,
     "metadata": {},
     "output_type": "execute_result"
    }
   ],
   "source": [
    "# Using Decision Tree\n",
    "from sklearn.tree import DecisionTreeClassifier\n",
    "\n",
    "model = make_pipeline(TfidfVectorizer(min_df = 2, max_df = .98, stop_words = \"english\"),\n",
    "                     RandomUnderSampler(random_state = 42, sampling_strategy = \"not minority\"),\n",
    "                      DecisionTreeClassifier(max_depth = 5, \n",
    "                             random_state = 42))\n",
    "\n",
    "model.fit(X1_train, y1_train)"
   ]
  },
  {
   "cell_type": "code",
   "execution_count": 109,
   "id": "feffd669",
   "metadata": {},
   "outputs": [],
   "source": [
    "# Make predictions\n",
    "y_pred = model.predict(X1_test)"
   ]
  },
  {
   "cell_type": "code",
   "execution_count": 110,
   "id": "93d71ce6",
   "metadata": {},
   "outputs": [
    {
     "name": "stdout",
     "output_type": "stream",
     "text": [
      "[[ 1623 10976   445]\n",
      " [  301  6973   749]\n",
      " [  453 59595 37914]]\n"
     ]
    }
   ],
   "source": [
    "# Print confusion matrix\n",
    "print(confusion_matrix(y1_test, y_pred))"
   ]
  },
  {
   "cell_type": "code",
   "execution_count": 111,
   "id": "4d4794d6",
   "metadata": {},
   "outputs": [
    {
     "name": "stdout",
     "output_type": "stream",
     "text": [
      "              precision    recall  f1-score   support\n",
      "\n",
      "    negative       0.68      0.12      0.21     13044\n",
      "     neutral       0.09      0.87      0.16      8023\n",
      "    positive       0.97      0.39      0.55     97962\n",
      "\n",
      "    accuracy                           0.39    119029\n",
      "   macro avg       0.58      0.46      0.31    119029\n",
      "weighted avg       0.88      0.39      0.49    119029\n",
      "\n"
     ]
    }
   ],
   "source": [
    "# Print classification report\n",
    "print(classification_report(y1_test, y_pred))"
   ]
  },
  {
   "cell_type": "code",
   "execution_count": 112,
   "id": "458a0bd1",
   "metadata": {},
   "outputs": [
    {
     "name": "stdout",
     "output_type": "stream",
     "text": [
      "Negative precision: 0.6827934371055953\n",
      "Neutral precision: 0.08992314041060559\n",
      "Positive precision: 0.96946916231973\n"
     ]
    }
   ],
   "source": [
    "# Math behind the classification report\n",
    "# Precision\n",
    "prec_neg = 1623 / (1623 + 301 + 453)\n",
    "print(\"Negative precision:\", prec_neg)\n",
    "\n",
    "prec_neu = 6973 / (10976 + 6973 + 59595)\n",
    "print(\"Neutral precision:\", prec_neu)\n",
    "\n",
    "prec_pos = 37914 / (445 + 749 + 37914)\n",
    "print(\"Positive precision:\", prec_pos)"
   ]
  },
  {
   "cell_type": "code",
   "execution_count": 113,
   "id": "026559ba",
   "metadata": {},
   "outputs": [
    {
     "name": "stdout",
     "output_type": "stream",
     "text": [
      "Negative recall: 0.12442502299908004\n",
      "Neutral recall: 0.8691262619967594\n",
      "Positive recall: 0.38702762295584003\n"
     ]
    }
   ],
   "source": [
    "# Recall\n",
    "rec_neg = 1623 / (1623 + 10976 + 445)\n",
    "print(\"Negative recall:\", rec_neg)\n",
    "\n",
    "rec_neu = 6973 / (301 + 6973 + 749)\n",
    "print(\"Neutral recall:\", rec_neu)\n",
    "\n",
    "rec_pos = 37914 / (453 + 59595 + 37914)\n",
    "print(\"Positive recall:\", rec_pos)"
   ]
  },
  {
   "cell_type": "code",
   "execution_count": 114,
   "id": "34959f9a",
   "metadata": {},
   "outputs": [
    {
     "name": "stdout",
     "output_type": "stream",
     "text": [
      "Negative f1-score: 0.21049218598015693\n",
      "Neutral f1-score: 0.16298339313052929\n",
      "Positive f1-score: 0.5532063908951631\n"
     ]
    }
   ],
   "source": [
    "# f1-score\n",
    "f1_neg = 2 * (prec_neg * rec_neg) / (prec_neg + rec_neg)\n",
    "print(\"Negative f1-score:\", f1_neg)\n",
    "\n",
    "f1_neu = 2 * (prec_neu * rec_neu) / (prec_neu + rec_neu)\n",
    "print(\"Neutral f1-score:\", f1_neu)\n",
    "\n",
    "f1_pos = 2 * (prec_pos * rec_pos) / (prec_pos + rec_pos)\n",
    "print(\"Positive f1-score:\", f1_pos)"
   ]
  },
  {
   "cell_type": "code",
   "execution_count": 115,
   "id": "d254cf25",
   "metadata": {},
   "outputs": [
    {
     "data": {
      "text/plain": [
       "Pipeline(steps=[('tfidfvectorizer',\n",
       "                 TfidfVectorizer(max_df=0.98, min_df=2, stop_words='english')),\n",
       "                ('randomundersampler',\n",
       "                 RandomUnderSampler(random_state=42,\n",
       "                                    sampling_strategy='not minority')),\n",
       "                ('smote',\n",
       "                 SMOTE(random_state=42, sampling_strategy='not majority')),\n",
       "                ('linearsvc', LinearSVC())])"
      ]
     },
     "execution_count": 115,
     "metadata": {},
     "output_type": "execute_result"
    }
   ],
   "source": [
    "# Using Random Over Sampling and SMOTE\n",
    "from imblearn.over_sampling import SMOTE\n",
    "model = make_pipeline(TfidfVectorizer(min_df = 2, max_df = .98, stop_words = \"english\"),\n",
    "                     RandomUnderSampler(random_state = 42, sampling_strategy = \"not minority\"),\n",
    "                      SMOTE(random_state = 42, sampling_strategy = \"not majority\"),\n",
    "                      LinearSVC())\n",
    "\n",
    "model.fit(X1_train, y1_train)"
   ]
  },
  {
   "cell_type": "code",
   "execution_count": 116,
   "id": "45ea54ef",
   "metadata": {},
   "outputs": [],
   "source": [
    "# Make predictions\n",
    "y_pred = model.predict(X1_test)"
   ]
  },
  {
   "cell_type": "code",
   "execution_count": 117,
   "id": "215e674c",
   "metadata": {},
   "outputs": [
    {
     "name": "stdout",
     "output_type": "stream",
     "text": [
      "[[ 9272  2939   833]\n",
      " [ 2019  4479  1525]\n",
      " [ 5500 15189 77273]]\n"
     ]
    }
   ],
   "source": [
    "# Print confusion matrix\n",
    "print(confusion_matrix(y1_test, y_pred))"
   ]
  },
  {
   "cell_type": "code",
   "execution_count": 118,
   "id": "43593bd6",
   "metadata": {},
   "outputs": [
    {
     "name": "stdout",
     "output_type": "stream",
     "text": [
      "              precision    recall  f1-score   support\n",
      "\n",
      "    negative       0.55      0.71      0.62     13044\n",
      "     neutral       0.20      0.56      0.29      8023\n",
      "    positive       0.97      0.79      0.87     97962\n",
      "\n",
      "    accuracy                           0.76    119029\n",
      "   macro avg       0.57      0.69      0.59    119029\n",
      "weighted avg       0.87      0.76      0.80    119029\n",
      "\n"
     ]
    }
   ],
   "source": [
    "# Print classification report\n",
    "print(classification_report(y1_test, y_pred))"
   ]
  },
  {
   "cell_type": "code",
   "execution_count": 119,
   "id": "36aa5e57",
   "metadata": {},
   "outputs": [
    {
     "name": "stdout",
     "output_type": "stream",
     "text": [
      "Negative precision: 0.5522005836460009\n",
      "Neutral precision: 0.19813323896310714\n",
      "Positive precision: 0.9703887884267631\n"
     ]
    }
   ],
   "source": [
    "# Math behind the classification report\n",
    "# Precision\n",
    "prec_neg = 9272 / (9272 + 2019 + 5500)\n",
    "print(\"Negative precision:\", prec_neg)\n",
    "\n",
    "prec_neu = 4479 / (2939 + 4479 + 15188)\n",
    "print(\"Neutral precision:\", prec_neu)\n",
    "\n",
    "prec_pos = 77274 / (833 + 1525 + 77273)\n",
    "print(\"Positive precision:\", prec_pos)"
   ]
  },
  {
   "cell_type": "code",
   "execution_count": 120,
   "id": "232c1439",
   "metadata": {},
   "outputs": [
    {
     "name": "stdout",
     "output_type": "stream",
     "text": [
      "Negative recall: 0.7108249003373198\n",
      "Neutral recall: 0.5582699738252525\n",
      "Positive recall: 0.7888160715379433\n"
     ]
    }
   ],
   "source": [
    "# Recall\n",
    "rec_neg = 9272 / (9272 + 2939 + 833)\n",
    "print(\"Negative recall:\", rec_neg)\n",
    "\n",
    "rec_neu = 4479 / (2019 + 4479 + 1525)\n",
    "print(\"Neutral recall:\", rec_neu)\n",
    "\n",
    "rec_pos = 77274 / (5500 + 15188 + 77273)\n",
    "print(\"Positive recall:\", rec_pos)"
   ]
  },
  {
   "cell_type": "code",
   "execution_count": 121,
   "id": "21c6d59e",
   "metadata": {},
   "outputs": [
    {
     "name": "stdout",
     "output_type": "stream",
     "text": [
      "Negative f1-score: 0.6215518686106921\n",
      "Neutral f1-score: 0.29246792255705384\n",
      "Positive f1-score: 0.8702321024358931\n"
     ]
    }
   ],
   "source": [
    "# f1-score\n",
    "f1_neg = 2 * (prec_neg * rec_neg) / (prec_neg + rec_neg)\n",
    "print(\"Negative f1-score:\", f1_neg)\n",
    "\n",
    "f1_neu = 2 * (prec_neu * rec_neu) / (prec_neu + rec_neu)\n",
    "print(\"Neutral f1-score:\", f1_neu)\n",
    "\n",
    "f1_pos = 2 * (prec_pos * rec_pos) / (prec_pos + rec_pos)\n",
    "print(\"Positive f1-score:\", f1_pos)"
   ]
  },
  {
   "cell_type": "code",
   "execution_count": 122,
   "id": "105b3678",
   "metadata": {},
   "outputs": [
    {
     "data": {
      "text/plain": [
       "Pipeline(steps=[('tfidfvectorizer',\n",
       "                 TfidfVectorizer(max_df=0.98, min_df=2, ngram_range=(1, 2),\n",
       "                                 stop_words='english')),\n",
       "                ('randomundersampler',\n",
       "                 RandomUnderSampler(random_state=42,\n",
       "                                    sampling_strategy='not minority')),\n",
       "                ('linearsvc', LinearSVC())])"
      ]
     },
     "execution_count": 122,
     "metadata": {},
     "output_type": "execute_result"
    }
   ],
   "source": [
    "# Add n-gram to range (1,2) bigram for the df data\n",
    "model = make_pipeline(TfidfVectorizer(min_df = 2, max_df = .98, stop_words = \"english\", ngram_range = (1,2)),\n",
    "                     RandomUnderSampler(random_state = 42, sampling_strategy = \"not minority\"),\n",
    "                      LinearSVC())\n",
    "\n",
    "model.fit(X1_train, y1_train)"
   ]
  },
  {
   "cell_type": "code",
   "execution_count": 123,
   "id": "53c51b25",
   "metadata": {},
   "outputs": [],
   "source": [
    "# Make predictions\n",
    "y_pred = model.predict(X1_test)"
   ]
  },
  {
   "cell_type": "code",
   "execution_count": 124,
   "id": "87e63250",
   "metadata": {},
   "outputs": [
    {
     "name": "stdout",
     "output_type": "stream",
     "text": [
      "[[ 9445  2855   744]\n",
      " [ 1794  4943  1286]\n",
      " [ 4927 14541 78494]]\n"
     ]
    }
   ],
   "source": [
    "# Print confusion matrix\n",
    "print(confusion_matrix(y1_test, y_pred))"
   ]
  },
  {
   "cell_type": "code",
   "execution_count": 125,
   "id": "cf297ae9",
   "metadata": {},
   "outputs": [
    {
     "name": "stdout",
     "output_type": "stream",
     "text": [
      "              precision    recall  f1-score   support\n",
      "\n",
      "    negative       0.58      0.72      0.65     13044\n",
      "     neutral       0.22      0.62      0.33      8023\n",
      "    positive       0.97      0.80      0.88     97962\n",
      "\n",
      "    accuracy                           0.78    119029\n",
      "   macro avg       0.59      0.71      0.62    119029\n",
      "weighted avg       0.88      0.78      0.82    119029\n",
      "\n"
     ]
    }
   ],
   "source": [
    "# Print classification report\n",
    "print(classification_report(y1_test, y_pred))"
   ]
  },
  {
   "cell_type": "code",
   "execution_count": 126,
   "id": "9518930d",
   "metadata": {},
   "outputs": [
    {
     "name": "stdout",
     "output_type": "stream",
     "text": [
      "Negative precision: 0.5842508969442038\n",
      "Neutral precision: 0.22127221451273557\n",
      "Positive precision: 0.9747901246833243\n"
     ]
    }
   ],
   "source": [
    "# Math behind the classification report\n",
    "# Precision\n",
    "prec_neg = 9445 / (9445 + 1794 + 4927)\n",
    "print(\"Negative precision:\", prec_neg)\n",
    "\n",
    "prec_neu = 4943 / (2855 + 4943 + 14541)\n",
    "print(\"Neutral precision:\", prec_neu)\n",
    "\n",
    "prec_pos = 78494 / (744 + 1286 + 78494)\n",
    "print(\"Positive precision:\", prec_pos)"
   ]
  },
  {
   "cell_type": "code",
   "execution_count": 127,
   "id": "21035fbb",
   "metadata": {},
   "outputs": [
    {
     "name": "stdout",
     "output_type": "stream",
     "text": [
      "Negative recall: 0.7240877031585403\n",
      "Neutral recall: 0.6161037018571607\n",
      "Positive recall: 0.8012698801576121\n"
     ]
    }
   ],
   "source": [
    "# Recall\n",
    "rec_neg = 9445 / (9445 + 2855 + 744)\n",
    "print(\"Negative recall:\", rec_neg)\n",
    "\n",
    "rec_neu = 4943 / (1794 + 4943 + 1286)\n",
    "print(\"Neutral recall:\", rec_neu)\n",
    "\n",
    "rec_pos = 78494 / (4927 + 14541 + 78494)\n",
    "print(\"Positive recall:\", rec_pos)"
   ]
  },
  {
   "cell_type": "code",
   "execution_count": 128,
   "id": "5ade1adb",
   "metadata": {},
   "outputs": [
    {
     "name": "stdout",
     "output_type": "stream",
     "text": [
      "Negative f1-score: 0.6466963368709345\n",
      "Neutral f1-score: 0.3256043738884131\n",
      "Positive f1-score: 0.8795535784319218\n"
     ]
    }
   ],
   "source": [
    "# f1-score\n",
    "f1_neg = 2 * (prec_neg * rec_neg) / (prec_neg + rec_neg)\n",
    "print(\"Negative f1-score:\", f1_neg)\n",
    "\n",
    "f1_neu = 2 * (prec_neu * rec_neu) / (prec_neu + rec_neu)\n",
    "print(\"Neutral f1-score:\", f1_neu)\n",
    "\n",
    "f1_pos = 2 * (prec_pos * rec_pos) / (prec_pos + rec_pos)\n",
    "print(\"Positive f1-score:\", f1_pos)"
   ]
  },
  {
   "cell_type": "code",
   "execution_count": 129,
   "id": "b85b7d5d",
   "metadata": {},
   "outputs": [
    {
     "data": {
      "text/plain": [
       "Pipeline(steps=[('tfidfvectorizer',\n",
       "                 TfidfVectorizer(max_df=0.98, min_df=2, ngram_range=(1, 3),\n",
       "                                 stop_words='english')),\n",
       "                ('randomundersampler',\n",
       "                 RandomUnderSampler(random_state=42,\n",
       "                                    sampling_strategy='not minority')),\n",
       "                ('linearsvc', LinearSVC())])"
      ]
     },
     "execution_count": 129,
     "metadata": {},
     "output_type": "execute_result"
    }
   ],
   "source": [
    "# Add n-gram to range (1,3) trigram\n",
    "model = make_pipeline(TfidfVectorizer(min_df = 2, max_df = .98, stop_words = \"english\", ngram_range = (1,3)),\n",
    "                     RandomUnderSampler(random_state = 42, sampling_strategy = \"not minority\"),\n",
    "                      LinearSVC())\n",
    "\n",
    "model.fit(X1_train, y1_train)"
   ]
  },
  {
   "cell_type": "code",
   "execution_count": 130,
   "id": "6e5ec0b4",
   "metadata": {},
   "outputs": [],
   "source": [
    "# Make predictions\n",
    "y_pred = model.predict(X1_test)"
   ]
  },
  {
   "cell_type": "code",
   "execution_count": 131,
   "id": "ddd0e84c",
   "metadata": {},
   "outputs": [
    {
     "name": "stdout",
     "output_type": "stream",
     "text": [
      "[[ 9521  2727   796]\n",
      " [ 1773  4840  1410]\n",
      " [ 4894 13296 79772]]\n"
     ]
    }
   ],
   "source": [
    "# Print confusion matrix\n",
    "print(confusion_matrix(y1_test, y_pred))"
   ]
  },
  {
   "cell_type": "code",
   "execution_count": 132,
   "id": "624d793b",
   "metadata": {},
   "outputs": [
    {
     "name": "stdout",
     "output_type": "stream",
     "text": [
      "              precision    recall  f1-score   support\n",
      "\n",
      "    negative       0.59      0.73      0.65     13044\n",
      "     neutral       0.23      0.60      0.34      8023\n",
      "    positive       0.97      0.81      0.89     97962\n",
      "\n",
      "    accuracy                           0.79    119029\n",
      "   macro avg       0.60      0.72      0.62    119029\n",
      "weighted avg       0.88      0.79      0.82    119029\n",
      "\n"
     ]
    }
   ],
   "source": [
    "# Print classification report\n",
    "print(classification_report(y1_test, y_pred))"
   ]
  },
  {
   "cell_type": "code",
   "execution_count": 133,
   "id": "63ab5f3e",
   "metadata": {},
   "outputs": [
    {
     "name": "stdout",
     "output_type": "stream",
     "text": [
      "Negative precision: 0.5881517173214726\n",
      "Neutral precision: 0.2319896467430379\n",
      "Positive precision: 0.9730903413110834\n"
     ]
    }
   ],
   "source": [
    "# Math behind the classification report\n",
    "# Precision\n",
    "prec_neg = 9521 / (9521 + 1773 + 4894)\n",
    "print(\"Negative precision:\", prec_neg)\n",
    "\n",
    "prec_neu = 4840 / (2727 + 4840 + 13296)\n",
    "print(\"Neutral precision:\", prec_neu)\n",
    "\n",
    "prec_pos = 79772 / (796 + 1410 + 79772)\n",
    "print(\"Positive precision:\", prec_pos)"
   ]
  },
  {
   "cell_type": "code",
   "execution_count": 134,
   "id": "e744001a",
   "metadata": {},
   "outputs": [
    {
     "name": "stdout",
     "output_type": "stream",
     "text": [
      "Negative recall: 0.7299141367678627\n",
      "Neutral recall: 0.6032656113673189\n",
      "Positive recall: 0.8143157550887079\n"
     ]
    }
   ],
   "source": [
    "# Recall\n",
    "rec_neg = 9521 / (9521 + 2727 + 796)\n",
    "print(\"Negative recall:\", rec_neg)\n",
    "\n",
    "rec_neu = 4840 / (1773 + 4840 + 1410)\n",
    "print(\"Neutral recall:\", rec_neu)\n",
    "\n",
    "rec_pos = 79772 / (4894 + 13296 + 79772)\n",
    "print(\"Positive recall:\", rec_pos)"
   ]
  },
  {
   "cell_type": "code",
   "execution_count": 135,
   "id": "a943dc97",
   "metadata": {},
   "outputs": [
    {
     "name": "stdout",
     "output_type": "stream",
     "text": [
      "Negative f1-score: 0.6514094143404489\n",
      "Neutral f1-score: 0.3351104341203351\n",
      "Positive f1-score: 0.8866511059241969\n"
     ]
    }
   ],
   "source": [
    "# f1-score\n",
    "f1_neg = 2 * (prec_neg * rec_neg) / (prec_neg + rec_neg)\n",
    "print(\"Negative f1-score:\", f1_neg)\n",
    "\n",
    "f1_neu = 2 * (prec_neu * rec_neu) / (prec_neu + rec_neu)\n",
    "print(\"Neutral f1-score:\", f1_neu)\n",
    "\n",
    "f1_pos = 2 * (prec_pos * rec_pos) / (prec_pos + rec_pos)\n",
    "print(\"Positive f1-score:\", f1_pos)"
   ]
  },
  {
   "cell_type": "code",
   "execution_count": 136,
   "id": "f8fbe435",
   "metadata": {},
   "outputs": [
    {
     "data": {
      "text/plain": [
       "Pipeline(steps=[('tfidfvectorizer',\n",
       "                 TfidfVectorizer(max_df=0.98, min_df=2, ngram_range=(1, 4),\n",
       "                                 stop_words='english')),\n",
       "                ('randomundersampler',\n",
       "                 RandomUnderSampler(random_state=42,\n",
       "                                    sampling_strategy='not minority')),\n",
       "                ('linearsvc', LinearSVC())])"
      ]
     },
     "execution_count": 136,
     "metadata": {},
     "output_type": "execute_result"
    }
   ],
   "source": [
    "# Add n-gram to range (1,4) qualgram\n",
    "model = make_pipeline(TfidfVectorizer(min_df = 2, max_df = .98, stop_words = \"english\", ngram_range = (1,4)),\n",
    "                     RandomUnderSampler(random_state = 42, sampling_strategy = \"not minority\"),\n",
    "                      LinearSVC())\n",
    "\n",
    "model.fit(X1_train, y1_train)"
   ]
  },
  {
   "cell_type": "code",
   "execution_count": 137,
   "id": "44845cde",
   "metadata": {},
   "outputs": [],
   "source": [
    "# Make predictions\n",
    "y_pred = model.predict(X1_test)"
   ]
  },
  {
   "cell_type": "code",
   "execution_count": 138,
   "id": "37e0ea26",
   "metadata": {},
   "outputs": [
    {
     "name": "stdout",
     "output_type": "stream",
     "text": [
      "[[ 9517  2723   804]\n",
      " [ 1769  4853  1401]\n",
      " [ 4905 13359 79698]]\n"
     ]
    }
   ],
   "source": [
    "# Print confusion matrix\n",
    "print(confusion_matrix(y1_test, y_pred))"
   ]
  },
  {
   "cell_type": "code",
   "execution_count": 139,
   "id": "cd2c9430",
   "metadata": {},
   "outputs": [
    {
     "name": "stdout",
     "output_type": "stream",
     "text": [
      "              precision    recall  f1-score   support\n",
      "\n",
      "    negative       0.59      0.73      0.65     13044\n",
      "     neutral       0.23      0.60      0.34      8023\n",
      "    positive       0.97      0.81      0.89     97962\n",
      "\n",
      "    accuracy                           0.79    119029\n",
      "   macro avg       0.60      0.72      0.62    119029\n",
      "weighted avg       0.88      0.79      0.82    119029\n",
      "\n"
     ]
    }
   ],
   "source": [
    "# Print classification report\n",
    "print(classification_report(y1_test, y_pred))"
   ]
  },
  {
   "cell_type": "code",
   "execution_count": 140,
   "id": "cd721f74",
   "metadata": {},
   "outputs": [
    {
     "name": "stdout",
     "output_type": "stream",
     "text": [
      "Negative precision: 0.5877956889630042\n",
      "Neutral precision: 0.23181275376164318\n",
      "Positive precision: 0.973077909234094\n"
     ]
    }
   ],
   "source": [
    "# Math behind the classification report\n",
    "# Precision\n",
    "prec_neg = 9517 / (9517 + 1769 + 4905)\n",
    "print(\"Negative precision:\", prec_neg)\n",
    "\n",
    "prec_neu = 4853 / (2723 + 4853 + 13359)\n",
    "print(\"Neutral precision:\", prec_neu)\n",
    "\n",
    "prec_pos = 79698 / (804 + 1401 + 79698)\n",
    "print(\"Positive precision:\", prec_pos)"
   ]
  },
  {
   "cell_type": "code",
   "execution_count": 141,
   "id": "2f8208da",
   "metadata": {},
   "outputs": [
    {
     "name": "stdout",
     "output_type": "stream",
     "text": [
      "Negative recall: 0.7296074823673719\n",
      "Neutral recall: 0.6048859528854543\n",
      "Positive recall: 0.8135603601396459\n"
     ]
    }
   ],
   "source": [
    "# Recall\n",
    "rec_neg = 9517 / (9517 + 2723 + 804)\n",
    "print(\"Negative recall:\", rec_neg)\n",
    "\n",
    "rec_neu = 4853 / (1769 + 4853 + 1401)\n",
    "print(\"Neutral recall:\", rec_neu)\n",
    "\n",
    "rec_pos = 79698 / (4905 + 13359 + 79698)\n",
    "print(\"Positive recall:\", rec_pos)"
   ]
  },
  {
   "cell_type": "code",
   "execution_count": 142,
   "id": "d4898866",
   "metadata": {},
   "outputs": [
    {
     "name": "stdout",
     "output_type": "stream",
     "text": [
      "Negative f1-score: 0.6510689242346502\n",
      "Neutral f1-score: 0.3351750811520133\n",
      "Positive f1-score: 0.8861979818196981\n"
     ]
    }
   ],
   "source": [
    "# f1-score\n",
    "f1_neg = 2 * (prec_neg * rec_neg) / (prec_neg + rec_neg)\n",
    "print(\"Negative f1-score:\", f1_neg)\n",
    "\n",
    "f1_neu = 2 * (prec_neu * rec_neu) / (prec_neu + rec_neu)\n",
    "print(\"Neutral f1-score:\", f1_neu)\n",
    "\n",
    "f1_pos = 2 * (prec_pos * rec_pos) / (prec_pos + rec_pos)\n",
    "print(\"Positive f1-score:\", f1_pos)"
   ]
  },
  {
   "cell_type": "code",
   "execution_count": 143,
   "id": "7e55b166",
   "metadata": {},
   "outputs": [
    {
     "data": {
      "text/plain": [
       "Pipeline(steps=[('tfidfvectorizer',\n",
       "                 TfidfVectorizer(max_df=0.98, min_df=2, ngram_range=(1, 5),\n",
       "                                 stop_words='english')),\n",
       "                ('randomundersampler',\n",
       "                 RandomUnderSampler(random_state=42,\n",
       "                                    sampling_strategy='not minority')),\n",
       "                ('linearsvc', LinearSVC())])"
      ]
     },
     "execution_count": 143,
     "metadata": {},
     "output_type": "execute_result"
    }
   ],
   "source": [
    "# Add n-gram to range (1,5) Not sure what it's called after qualgram\n",
    "model = make_pipeline(TfidfVectorizer(min_df = 2, max_df = .98, stop_words = \"english\", ngram_range = (1,5)),\n",
    "                     RandomUnderSampler(random_state = 42, sampling_strategy = \"not minority\"),\n",
    "                      LinearSVC())\n",
    "\n",
    "model.fit(X1_train, y1_train)"
   ]
  },
  {
   "cell_type": "code",
   "execution_count": 144,
   "id": "87ad07cb",
   "metadata": {},
   "outputs": [],
   "source": [
    "# Make predictions\n",
    "y_pred = model.predict(X1_test)"
   ]
  },
  {
   "cell_type": "code",
   "execution_count": 145,
   "id": "ba3f8e0a",
   "metadata": {},
   "outputs": [
    {
     "name": "stdout",
     "output_type": "stream",
     "text": [
      "[[ 9510  2734   800]\n",
      " [ 1767  4859  1397]\n",
      " [ 4901 13409 79652]]\n"
     ]
    }
   ],
   "source": [
    "# Print confusion matrix\n",
    "print(confusion_matrix(y1_test, y_pred))"
   ]
  },
  {
   "cell_type": "code",
   "execution_count": 146,
   "id": "a9600690",
   "metadata": {},
   "outputs": [
    {
     "name": "stdout",
     "output_type": "stream",
     "text": [
      "              precision    recall  f1-score   support\n",
      "\n",
      "    negative       0.59      0.73      0.65     13044\n",
      "     neutral       0.23      0.61      0.33      8023\n",
      "    positive       0.97      0.81      0.89     97962\n",
      "\n",
      "    accuracy                           0.79    119029\n",
      "   macro avg       0.60      0.72      0.62    119029\n",
      "weighted avg       0.88      0.79      0.82    119029\n",
      "\n"
     ]
    }
   ],
   "source": [
    "# Print classification report\n",
    "print(classification_report(y1_test, y_pred))"
   ]
  },
  {
   "cell_type": "code",
   "execution_count": 147,
   "id": "a5b2bde2",
   "metadata": {},
   "outputs": [
    {
     "name": "stdout",
     "output_type": "stream",
     "text": [
      "Negative precision: 0.5878353319322537\n",
      "Neutral precision: 0.23135891819826684\n",
      "Positive precision: 0.9731578883065156\n"
     ]
    }
   ],
   "source": [
    "# Math behind the classification report\n",
    "# Precision\n",
    "prec_neg = 9510 / (9510 + 1767 + 4901)\n",
    "print(\"Negative precision:\", prec_neg)\n",
    "\n",
    "prec_neu = 4859 / (2734 + 4859 + 13409)\n",
    "print(\"Neutral precision:\", prec_neu)\n",
    "\n",
    "prec_pos = 79652 / (800 + 1397 + 79652)\n",
    "print(\"Positive precision:\", prec_pos)"
   ]
  },
  {
   "cell_type": "code",
   "execution_count": 148,
   "id": "ca4d31f9",
   "metadata": {},
   "outputs": [
    {
     "name": "stdout",
     "output_type": "stream",
     "text": [
      "Negative recall: 0.7290708371665133\n",
      "Neutral recall: 0.6056338028169014\n",
      "Positive recall: 0.8130907903064454\n"
     ]
    }
   ],
   "source": [
    "# Recall\n",
    "rec_neg = 9510 / (9510 + 2734 + 800)\n",
    "print(\"Negative recall:\", rec_neg)\n",
    "\n",
    "rec_neu = 4859 / (1767 + 4859 + 1397)\n",
    "print(\"Neutral recall:\", rec_neu)\n",
    "\n",
    "rec_pos = 79652 / (4901 + 13409 + 79652)\n",
    "print(\"Positive recall:\", rec_pos)"
   ]
  },
  {
   "cell_type": "code",
   "execution_count": 149,
   "id": "61586e78",
   "metadata": {},
   "outputs": [
    {
     "name": "stdout",
     "output_type": "stream",
     "text": [
      "Negative f1-score: 0.6508794743686264\n",
      "Neutral f1-score: 0.33481481481481484\n",
      "Positive f1-score: 0.8859524723181562\n"
     ]
    }
   ],
   "source": [
    "# f1-score\n",
    "f1_neg = 2 * (prec_neg * rec_neg) / (prec_neg + rec_neg)\n",
    "print(\"Negative f1-score:\", f1_neg)\n",
    "\n",
    "f1_neu = 2 * (prec_neu * rec_neu) / (prec_neu + rec_neu)\n",
    "print(\"Neutral f1-score:\", f1_neu)\n",
    "\n",
    "f1_pos = 2 * (prec_pos * rec_pos) / (prec_pos + rec_pos)\n",
    "print(\"Positive f1-score:\", f1_pos)"
   ]
  },
  {
   "cell_type": "code",
   "execution_count": 150,
   "id": "b99bbaa4",
   "metadata": {},
   "outputs": [
    {
     "data": {
      "text/plain": [
       "Pipeline(steps=[('tfidfvectorizer',\n",
       "                 TfidfVectorizer(max_df=0.98, min_df=2, stop_words='english')),\n",
       "                ('randomundersampler',\n",
       "                 RandomUnderSampler(random_state=42,\n",
       "                                    sampling_strategy='majority')),\n",
       "                ('linearsvc', LinearSVC())])"
      ]
     },
     "execution_count": 150,
     "metadata": {},
     "output_type": "execute_result"
    }
   ],
   "source": [
    "#Try with the temp2 data with sampling strategy of majority\n",
    "model = make_pipeline(TfidfVectorizer(min_df = 2, max_df = .98, stop_words = \"english\"),\n",
    "                     RandomUnderSampler(random_state = 42, sampling_strategy = \"majority\"),\n",
    "                      LinearSVC())\n",
    "\n",
    "model.fit(X_train, y_train)"
   ]
  },
  {
   "cell_type": "code",
   "execution_count": 151,
   "id": "efc87caa",
   "metadata": {},
   "outputs": [],
   "source": [
    "# Make predictions\n",
    "y_pred = model.predict(X_test)"
   ]
  },
  {
   "cell_type": "code",
   "execution_count": 152,
   "id": "21d51e0d",
   "metadata": {},
   "outputs": [
    {
     "name": "stdout",
     "output_type": "stream",
     "text": [
      "[[10971  1500   573]\n",
      " [ 3104  3608  1311]\n",
      " [ 9150 10967 77845]]\n"
     ]
    }
   ],
   "source": [
    "# Print confusion matrix\n",
    "print(confusion_matrix(y_test, y_pred))"
   ]
  },
  {
   "cell_type": "code",
   "execution_count": 153,
   "id": "ea200f56",
   "metadata": {},
   "outputs": [
    {
     "name": "stdout",
     "output_type": "stream",
     "text": [
      "              precision    recall  f1-score   support\n",
      "\n",
      "    negative       0.47      0.84      0.60     13044\n",
      "     neutral       0.22      0.45      0.30      8023\n",
      "    positive       0.98      0.79      0.88     97962\n",
      "\n",
      "    accuracy                           0.78    119029\n",
      "   macro avg       0.56      0.70      0.59    119029\n",
      "weighted avg       0.87      0.78      0.81    119029\n",
      "\n"
     ]
    }
   ],
   "source": [
    "# Print classification report\n",
    "print(classification_report(y_test, y_pred))"
   ]
  },
  {
   "cell_type": "code",
   "execution_count": 201,
   "id": "9d36f1bd",
   "metadata": {},
   "outputs": [
    {
     "name": "stdout",
     "output_type": "stream",
     "text": [
      "Negative precision: 0.4723789020452099\n",
      "Neutral precision: 0.224447900466563\n",
      "Positive precision: 0.976369953216521\n"
     ]
    }
   ],
   "source": [
    "# Math behind the classification report\n",
    "# Precision\n",
    "prec_neg = 10971 / (10971 + 3104 + 9150)\n",
    "print(\"Negative precision:\", prec_neg)\n",
    "\n",
    "prec_neu = 3608 / (1500 + 3608 +10967)\n",
    "print(\"Neutral precision:\", prec_neu)\n",
    "\n",
    "prec_pos = 77845 / (573 + 1311 + 77845)\n",
    "print(\"Positive precision:\", prec_pos)"
   ]
  },
  {
   "cell_type": "code",
   "execution_count": 202,
   "id": "d621bd51",
   "metadata": {},
   "outputs": [
    {
     "name": "stdout",
     "output_type": "stream",
     "text": [
      "Negative recall: 0.8410763569457221\n",
      "Neutral recall: 0.4497070921101832\n",
      "Positive recall: 0.7946448622935424\n"
     ]
    }
   ],
   "source": [
    "# Recall\n",
    "rec_neg = 10971 / (10971 + 1500 + 573)\n",
    "print(\"Negative recall:\", rec_neg)\n",
    "\n",
    "rec_neu = 3608 / (3104 + 3608 + 1311)\n",
    "print(\"Neutral recall:\", rec_neu)\n",
    "\n",
    "rec_pos = 77845 / (9150 + 10967 + 77845)\n",
    "print(\"Positive recall:\", rec_pos)"
   ]
  },
  {
   "cell_type": "code",
   "execution_count": 203,
   "id": "3a0c72ae",
   "metadata": {},
   "outputs": [
    {
     "name": "stdout",
     "output_type": "stream",
     "text": [
      "Negative f1-score: 0.6049794590421572\n",
      "Neutral f1-score: 0.29944393725620383\n",
      "Positive f1-score: 0.8761839372843868\n"
     ]
    }
   ],
   "source": [
    "# f1-score\n",
    "f1_neg = 2 * (prec_neg * rec_neg) / (prec_neg + rec_neg)\n",
    "print(\"Negative f1-score:\", f1_neg)\n",
    "\n",
    "f1_neu = 2 * (prec_neu * rec_neu) / (prec_neu + rec_neu)\n",
    "print(\"Neutral f1-score:\", f1_neu)\n",
    "\n",
    "f1_pos = 2 * (prec_pos * rec_pos) / (prec_pos + rec_pos)\n",
    "print(\"Positive f1-score:\", f1_pos)"
   ]
  },
  {
   "cell_type": "code",
   "execution_count": 157,
   "id": "89a63684",
   "metadata": {},
   "outputs": [
    {
     "data": {
      "text/plain": [
       "Pipeline(steps=[('tfidfvectorizer',\n",
       "                 TfidfVectorizer(max_df=0.98, min_df=2, stop_words='english')),\n",
       "                ('randomundersampler',\n",
       "                 RandomUnderSampler(random_state=42,\n",
       "                                    sampling_strategy='not minority')),\n",
       "                ('linearsvc', LinearSVC())])"
      ]
     },
     "execution_count": 157,
     "metadata": {},
     "output_type": "execute_result"
    }
   ],
   "source": [
    "# Try this with sampling strategy of not minority\n",
    "model = make_pipeline(TfidfVectorizer(min_df = 2, max_df = .98, stop_words = \"english\"),\n",
    "                     RandomUnderSampler(random_state = 42, sampling_strategy = \"not minority\"),\n",
    "                      LinearSVC())\n",
    "\n",
    "model.fit(X_train, y_train)"
   ]
  },
  {
   "cell_type": "code",
   "execution_count": 158,
   "id": "72076bee",
   "metadata": {},
   "outputs": [],
   "source": [
    "# Make predictions\n",
    "y_pred = model.predict(X_test)"
   ]
  },
  {
   "cell_type": "code",
   "execution_count": 159,
   "id": "c57f51aa",
   "metadata": {},
   "outputs": [
    {
     "name": "stdout",
     "output_type": "stream",
     "text": [
      "[[ 9594  2688   762]\n",
      " [ 2046  4591  1386]\n",
      " [ 5499 13310 79153]]\n"
     ]
    }
   ],
   "source": [
    "# Print confusion matrix\n",
    "print(confusion_matrix(y_test, y_pred))"
   ]
  },
  {
   "cell_type": "code",
   "execution_count": 160,
   "id": "705facf9",
   "metadata": {},
   "outputs": [
    {
     "name": "stdout",
     "output_type": "stream",
     "text": [
      "              precision    recall  f1-score   support\n",
      "\n",
      "    negative       0.56      0.74      0.64     13044\n",
      "     neutral       0.22      0.57      0.32      8023\n",
      "    positive       0.97      0.81      0.88     97962\n",
      "\n",
      "    accuracy                           0.78    119029\n",
      "   macro avg       0.59      0.71      0.61    119029\n",
      "weighted avg       0.88      0.78      0.82    119029\n",
      "\n"
     ]
    }
   ],
   "source": [
    "# Print classification report\n",
    "print(classification_report(y_test, y_pred))"
   ]
  },
  {
   "cell_type": "code",
   "execution_count": 161,
   "id": "9d7b4acf",
   "metadata": {},
   "outputs": [
    {
     "name": "stdout",
     "output_type": "stream",
     "text": [
      "Negative precision: 0.5522005836460009\n",
      "Neutral precision: 0.1981244747202194\n",
      "Positive precision: 0.9703884165714357\n"
     ]
    }
   ],
   "source": [
    "# Math behind the classification report\n",
    "# Precision\n",
    "prec_neg = 9594 / (9594 + 2046 + 5499)\n",
    "print(\"Negative precision:\", prec_neg)\n",
    "\n",
    "prec_neu = 4591 / (2688 + 4591 + 13310)\n",
    "print(\"Neutral precision:\", prec_neu)\n",
    "\n",
    "prec_pos = 79153 / (762 + 1386 + 79153)\n",
    "print(\"Positive precision:\", prec_pos)"
   ]
  },
  {
   "cell_type": "code",
   "execution_count": 204,
   "id": "b5b622e8",
   "metadata": {},
   "outputs": [
    {
     "name": "stdout",
     "output_type": "stream",
     "text": [
      "Negative recall: 0.735510579576817\n",
      "Neutral recall: 0.5722298392122648\n",
      "Positive recall: 0.8079969784202038\n"
     ]
    }
   ],
   "source": [
    "# Recall\n",
    "rec_neg = 9594 / (9594 + 2688 + 762)\n",
    "print(\"Negative recall:\", rec_neg)\n",
    "\n",
    "rec_neu = 4591 / (2046 + 4591 + 1386)\n",
    "print(\"Neutral recall:\", rec_neu)\n",
    "\n",
    "rec_pos = 79153 / (5499 + 13310 + 79153)\n",
    "print(\"Positive recall:\", rec_pos)"
   ]
  },
  {
   "cell_type": "code",
   "execution_count": 205,
   "id": "f5b41e7e",
   "metadata": {},
   "outputs": [
    {
     "name": "stdout",
     "output_type": "stream",
     "text": [
      "Negative f1-score: 0.5752838903052121\n",
      "Neutral f1-score: 0.3224284540629672\n",
      "Positive f1-score: 0.8842396236244933\n"
     ]
    }
   ],
   "source": [
    "# f1-score\n",
    "f1_neg = 2 * (prec_neg * rec_neg) / (prec_neg + rec_neg)\n",
    "print(\"Negative f1-score:\", f1_neg)\n",
    "\n",
    "f1_neu = 2 * (prec_neu * rec_neu) / (prec_neu + rec_neu)\n",
    "print(\"Neutral f1-score:\", f1_neu)\n",
    "\n",
    "f1_pos = 2 * (prec_pos * rec_pos) / (prec_pos + rec_pos)\n",
    "print(\"Positive f1-score:\", f1_pos)"
   ]
  },
  {
   "cell_type": "markdown",
   "id": "e81647f2",
   "metadata": {},
   "source": [
    "## This is the model I want to use"
   ]
  },
  {
   "cell_type": "code",
   "execution_count": 236,
   "id": "29aa9bb8",
   "metadata": {},
   "outputs": [
    {
     "data": {
      "text/plain": [
       "Pipeline(steps=[('tfidfvectorizer',\n",
       "                 TfidfVectorizer(max_df=0.98, min_df=2, ngram_range=(1, 2),\n",
       "                                 stop_words='english')),\n",
       "                ('randomundersampler',\n",
       "                 RandomUnderSampler(random_state=42,\n",
       "                                    sampling_strategy='not minority')),\n",
       "                ('linearsvc', LinearSVC())])"
      ]
     },
     "execution_count": 236,
     "metadata": {},
     "output_type": "execute_result"
    }
   ],
   "source": [
    "# Trying with ngram of (1,2) \n",
    "chosen_model = make_pipeline(TfidfVectorizer(min_df = 2, max_df = .98, stop_words = \"english\", ngram_range = (1,2)),\n",
    "                     RandomUnderSampler(random_state = 42, sampling_strategy = \"not minority\"),\n",
    "                      LinearSVC())\n",
    "\n",
    "chosen_model.fit(X_train, y_train)"
   ]
  },
  {
   "cell_type": "code",
   "execution_count": 237,
   "id": "c448c57a",
   "metadata": {},
   "outputs": [],
   "source": [
    "# Make predictions\n",
    "y_pred = chosen_model.predict(X_test)"
   ]
  },
  {
   "cell_type": "code",
   "execution_count": 238,
   "id": "68535a8d",
   "metadata": {},
   "outputs": [
    {
     "name": "stdout",
     "output_type": "stream",
     "text": [
      "[[ 9782  2589   673]\n",
      " [ 1705  5153  1165]\n",
      " [ 4220 12369 81373]]\n"
     ]
    }
   ],
   "source": [
    "# Print confusion matrix\n",
    "print(confusion_matrix(y_test, y_pred))"
   ]
  },
  {
   "cell_type": "code",
   "execution_count": 239,
   "id": "117f38c8",
   "metadata": {},
   "outputs": [
    {
     "name": "stdout",
     "output_type": "stream",
     "text": [
      "              precision    recall  f1-score   support\n",
      "\n",
      "    negative       0.62      0.75      0.68     13044\n",
      "     neutral       0.26      0.64      0.37      8023\n",
      "    positive       0.98      0.83      0.90     97962\n",
      "\n",
      "    accuracy                           0.81    119029\n",
      "   macro avg       0.62      0.74      0.65    119029\n",
      "weighted avg       0.89      0.81      0.84    119029\n",
      "\n"
     ]
    }
   ],
   "source": [
    "# Print classification report\n",
    "print(classification_report(y_test, y_pred))"
   ]
  },
  {
   "cell_type": "code",
   "execution_count": 212,
   "id": "557e810f",
   "metadata": {},
   "outputs": [],
   "source": [
    "# Save model in h5\n",
    "import pickle as p\n",
    "filename = \"rus_svc_ngram.h5\"\n",
    "\n",
    "p.dump(chosen_model, open(filename, \"wb\"))"
   ]
  },
  {
   "cell_type": "code",
   "execution_count": 206,
   "id": "0a00e669",
   "metadata": {},
   "outputs": [
    {
     "name": "stdout",
     "output_type": "stream",
     "text": [
      "Negative precision: 0.6227796523842872\n",
      "Neutral precision: 0.25622793496096663\n",
      "Positive precision: 0.9779115741909122\n"
     ]
    }
   ],
   "source": [
    "# Math behind the classification report\n",
    "# Precision\n",
    "prec_neg = 9782 / (9782 + 1705 + 4220)\n",
    "print(\"Negative precision:\", prec_neg)\n",
    "\n",
    "prec_neu = 5153 / (2589 + 5153 + 12369)\n",
    "print(\"Neutral precision:\", prec_neu)\n",
    "\n",
    "prec_pos = 81373 / (673 + 1165 + 81373)\n",
    "print(\"Positive precision:\", prec_pos)"
   ]
  },
  {
   "cell_type": "code",
   "execution_count": 207,
   "id": "74402bf3",
   "metadata": {},
   "outputs": [
    {
     "name": "stdout",
     "output_type": "stream",
     "text": [
      "Negative recall: 0.7499233363998773\n",
      "Neutral recall: 0.6422784494578088\n",
      "Positive recall: 0.8306588268920602\n"
     ]
    }
   ],
   "source": [
    "# Recall\n",
    "rec_neg = 9782 / (9782 + 2589 + 673)\n",
    "print(\"Negative recall:\", rec_neg)\n",
    "\n",
    "rec_neu = 5153 / (1705 + 5153 + 1165)\n",
    "print(\"Neutral recall:\", rec_neu)\n",
    "\n",
    "rec_pos = 81373 / (4220 + 12369 + 81373)\n",
    "print(\"Positive recall:\", rec_pos)"
   ]
  },
  {
   "cell_type": "code",
   "execution_count": 208,
   "id": "6cf5282a",
   "metadata": {},
   "outputs": [
    {
     "name": "stdout",
     "output_type": "stream",
     "text": [
      "Negative f1-score: 0.6804632882334527\n",
      "Neutral f1-score: 0.36631833368877514\n",
      "Positive f1-score: 0.8982905841378129\n"
     ]
    }
   ],
   "source": [
    "# f1-score\n",
    "f1_neg = 2 * (prec_neg * rec_neg) / (prec_neg + rec_neg)\n",
    "print(\"Negative f1-score:\", f1_neg)\n",
    "\n",
    "f1_neu = 2 * (prec_neu * rec_neu) / (prec_neu + rec_neu)\n",
    "print(\"Neutral f1-score:\", f1_neu)\n",
    "\n",
    "f1_pos = 2 * (prec_pos * rec_pos) / (prec_pos + rec_pos)\n",
    "print(\"Positive f1-score:\", f1_pos)"
   ]
  },
  {
   "cell_type": "code",
   "execution_count": 171,
   "id": "464ec5d3",
   "metadata": {},
   "outputs": [
    {
     "data": {
      "text/plain": [
       "Pipeline(steps=[('tfidfvectorizer',\n",
       "                 TfidfVectorizer(max_df=0.98, min_df=2, ngram_range=(1, 3),\n",
       "                                 stop_words='english')),\n",
       "                ('randomundersampler',\n",
       "                 RandomUnderSampler(random_state=42,\n",
       "                                    sampling_strategy='not minority')),\n",
       "                ('linearsvc', LinearSVC())])"
      ]
     },
     "execution_count": 171,
     "metadata": {},
     "output_type": "execute_result"
    }
   ],
   "source": [
    "# Trying it with ngram of (1,3)\n",
    "model = make_pipeline(TfidfVectorizer(min_df = 2, max_df = .98, stop_words = \"english\", ngram_range = (1,3)),\n",
    "                     RandomUnderSampler(random_state = 42, sampling_strategy = \"not minority\"),\n",
    "                      LinearSVC())\n",
    "\n",
    "model.fit(X_train, y_train)"
   ]
  },
  {
   "cell_type": "code",
   "execution_count": 172,
   "id": "75bb6d4a",
   "metadata": {},
   "outputs": [],
   "source": [
    "# Make predictions\n",
    "y_pred1 = model.predict(X_test)"
   ]
  },
  {
   "cell_type": "code",
   "execution_count": 173,
   "id": "8d142243",
   "metadata": {},
   "outputs": [
    {
     "name": "stdout",
     "output_type": "stream",
     "text": [
      "[[ 9831  2542   671]\n",
      " [ 1689  5183  1151]\n",
      " [ 4053 12327 81582]]\n"
     ]
    }
   ],
   "source": [
    "# Print confusion matrix\n",
    "print(confusion_matrix(y_test, y_pred1))"
   ]
  },
  {
   "cell_type": "code",
   "execution_count": 174,
   "id": "9e887efa",
   "metadata": {},
   "outputs": [
    {
     "name": "stdout",
     "output_type": "stream",
     "text": [
      "              precision    recall  f1-score   support\n",
      "\n",
      "    negative       0.63      0.75      0.69     13044\n",
      "     neutral       0.26      0.65      0.37      8023\n",
      "    positive       0.98      0.83      0.90     97962\n",
      "\n",
      "    accuracy                           0.81    119029\n",
      "   macro avg       0.62      0.74      0.65    119029\n",
      "weighted avg       0.89      0.81      0.84    119029\n",
      "\n"
     ]
    }
   ],
   "source": [
    "# Print classification report\n",
    "print(classification_report(y_test, y_pred1))"
   ]
  },
  {
   "cell_type": "code",
   "execution_count": 209,
   "id": "e5638544",
   "metadata": {},
   "outputs": [
    {
     "name": "stdout",
     "output_type": "stream",
     "text": [
      "Negative precision: 0.6312849162011173\n",
      "Neutral precision: 0.25847795731099144\n",
      "Positive precision: 0.9781545249628315\n"
     ]
    }
   ],
   "source": [
    "# Math behind the classification report\n",
    "# Precision\n",
    "prec_neg = 9831 / (9831 + 1689 + 4053)\n",
    "print(\"Negative precision:\", prec_neg)\n",
    "\n",
    "prec_neu = 5183 / (2542 + 5183 + 12327)\n",
    "print(\"Neutral precision:\", prec_neu)\n",
    "\n",
    "prec_pos = 81582 / (671 + 1151 + 81582)\n",
    "print(\"Positive precision:\", prec_pos)"
   ]
  },
  {
   "cell_type": "code",
   "execution_count": 210,
   "id": "891e5e1a",
   "metadata": {},
   "outputs": [
    {
     "name": "stdout",
     "output_type": "stream",
     "text": [
      "Negative recall: 0.7536798528058878\n",
      "Neutral recall: 0.6460176991150443\n",
      "Positive recall: 0.8327923072211674\n"
     ]
    }
   ],
   "source": [
    "# Recall\n",
    "rec_neg = 9831 / (9831 + 2542 + 671)\n",
    "print(\"Negative recall:\", rec_neg)\n",
    "\n",
    "rec_neu = 5183 / (1689 + 5183 + 1151)\n",
    "print(\"Neutral recall:\", rec_neu)\n",
    "\n",
    "rec_pos = 81582 / (4053 + 12327 + 81582)\n",
    "print(\"Positive recall:\", rec_pos)"
   ]
  },
  {
   "cell_type": "code",
   "execution_count": 211,
   "id": "eeec15e0",
   "metadata": {},
   "outputs": [
    {
     "name": "stdout",
     "output_type": "stream",
     "text": [
      "Negative f1-score: 0.68707411678373\n",
      "Neutral f1-score: 0.36922528940338384\n",
      "Positive f1-score: 0.8996394031957478\n"
     ]
    }
   ],
   "source": [
    "# f1-score\n",
    "f1_neg = 2 * (prec_neg * rec_neg) / (prec_neg + rec_neg)\n",
    "print(\"Negative f1-score:\", f1_neg)\n",
    "\n",
    "f1_neu = 2 * (prec_neu * rec_neu) / (prec_neu + rec_neu)\n",
    "print(\"Neutral f1-score:\", f1_neu)\n",
    "\n",
    "f1_pos = 2 * (prec_pos * rec_pos) / (prec_pos + rec_pos)\n",
    "print(\"Positive f1-score:\", f1_pos)"
   ]
  },
  {
   "cell_type": "code",
   "execution_count": 179,
   "id": "b312d7f7",
   "metadata": {},
   "outputs": [
    {
     "data": {
      "text/plain": [
       "Pipeline(steps=[('tfidfvectorizer',\n",
       "                 TfidfVectorizer(max_df=0.98, min_df=2, ngram_range=(1, 4),\n",
       "                                 stop_words='english')),\n",
       "                ('randomundersampler',\n",
       "                 RandomUnderSampler(random_state=42,\n",
       "                                    sampling_strategy='not minority')),\n",
       "                ('linearsvc', LinearSVC())])"
      ]
     },
     "execution_count": 179,
     "metadata": {},
     "output_type": "execute_result"
    }
   ],
   "source": [
    "# Trying it with ngram of (1,4)\n",
    "model = make_pipeline(TfidfVectorizer(min_df = 2, max_df = .98, stop_words = \"english\", ngram_range = (1,4)),\n",
    "                     RandomUnderSampler(random_state = 42, sampling_strategy = \"not minority\"),\n",
    "                      LinearSVC())\n",
    "\n",
    "model.fit(X_train, y_train)"
   ]
  },
  {
   "cell_type": "code",
   "execution_count": 180,
   "id": "63c1d6f7",
   "metadata": {},
   "outputs": [],
   "source": [
    "# Make predictions\n",
    "y_pred1 = model.predict(X_test)"
   ]
  },
  {
   "cell_type": "code",
   "execution_count": 181,
   "id": "4643cecf",
   "metadata": {},
   "outputs": [
    {
     "name": "stdout",
     "output_type": "stream",
     "text": [
      "[[ 9829  2547   668]\n",
      " [ 1693  5181  1149]\n",
      " [ 4052 12393 81517]]\n"
     ]
    }
   ],
   "source": [
    "# Print confusion matrix\n",
    "print(confusion_matrix(y_test, y_pred1))"
   ]
  },
  {
   "cell_type": "code",
   "execution_count": 182,
   "id": "236b4638",
   "metadata": {},
   "outputs": [
    {
     "name": "stdout",
     "output_type": "stream",
     "text": [
      "              precision    recall  f1-score   support\n",
      "\n",
      "    negative       0.63      0.75      0.69     13044\n",
      "     neutral       0.26      0.65      0.37      8023\n",
      "    positive       0.98      0.83      0.90     97962\n",
      "\n",
      "    accuracy                           0.81    119029\n",
      "   macro avg       0.62      0.74      0.65    119029\n",
      "weighted avg       0.89      0.81      0.84    119029\n",
      "\n"
     ]
    }
   ],
   "source": [
    "# Print classification report\n",
    "print(classification_report(y_test, y_pred1))"
   ]
  },
  {
   "cell_type": "code",
   "execution_count": 213,
   "id": "6941461d",
   "metadata": {},
   "outputs": [
    {
     "name": "stdout",
     "output_type": "stream",
     "text": [
      "Negative precision: 0.6311159625016053\n",
      "Neutral precision: 0.2574921723572387\n",
      "Positive precision: 0.9781961744306046\n"
     ]
    }
   ],
   "source": [
    "# Math behind the classification report\n",
    "# Precision\n",
    "prec_neg = 9829 / (9829 + 1693 + 4052)\n",
    "print(\"Negative precision:\", prec_neg)\n",
    "\n",
    "prec_neu = 5181 / (2547 + 5181 + 12393)\n",
    "print(\"Neutral precision:\", prec_neu)\n",
    "\n",
    "prec_pos = 81517 / (668 + 1149 + 81517)\n",
    "print(\"Positive precision:\", prec_pos)"
   ]
  },
  {
   "cell_type": "code",
   "execution_count": 214,
   "id": "6bd76c34",
   "metadata": {},
   "outputs": [
    {
     "name": "stdout",
     "output_type": "stream",
     "text": [
      "Negative recall: 0.7535265256056425\n",
      "Neutral recall: 0.6457684158045619\n",
      "Positive recall: 0.8321287846307752\n"
     ]
    }
   ],
   "source": [
    "# Recall\n",
    "rec_neg = 9829 / (9829 + 2547 + 668)\n",
    "print(\"Negative recall:\", rec_neg)\n",
    "\n",
    "rec_neu = 5181 / (1693 + 5181 + 1149)\n",
    "print(\"Neutral recall:\", rec_neu)\n",
    "\n",
    "rec_pos = 81517 / (4052 + 12393 + 81517)\n",
    "print(\"Positive recall:\", rec_pos)"
   ]
  },
  {
   "cell_type": "code",
   "execution_count": 215,
   "id": "545edb12",
   "metadata": {},
   "outputs": [
    {
     "name": "stdout",
     "output_type": "stream",
     "text": [
      "Negative f1-score: 0.6869103361520721\n",
      "Neutral f1-score: 0.36817794201250714\n",
      "Positive f1-score: 0.8992697025858266\n"
     ]
    }
   ],
   "source": [
    "# f1-score\n",
    "f1_neg = 2 * (prec_neg * rec_neg) / (prec_neg + rec_neg)\n",
    "print(\"Negative f1-score:\", f1_neg)\n",
    "\n",
    "f1_neu = 2 * (prec_neu * rec_neu) / (prec_neu + rec_neu)\n",
    "print(\"Neutral f1-score:\", f1_neu)\n",
    "\n",
    "f1_pos = 2 * (prec_pos * rec_pos) / (prec_pos + rec_pos)\n",
    "print(\"Positive f1-score:\", f1_pos)"
   ]
  },
  {
   "cell_type": "code",
   "execution_count": 186,
   "id": "7561eba2",
   "metadata": {},
   "outputs": [
    {
     "data": {
      "text/plain": [
       "Pipeline(steps=[('tfidfvectorizer',\n",
       "                 TfidfVectorizer(max_df=0.98, min_df=2, ngram_range=(1, 5),\n",
       "                                 stop_words='english')),\n",
       "                ('randomundersampler',\n",
       "                 RandomUnderSampler(random_state=42,\n",
       "                                    sampling_strategy='not minority')),\n",
       "                ('linearsvc', LinearSVC())])"
      ]
     },
     "execution_count": 186,
     "metadata": {},
     "output_type": "execute_result"
    }
   ],
   "source": [
    "# Trying it with ngram of (1,5)\n",
    "model = make_pipeline(TfidfVectorizer(min_df = 2, max_df = .98, stop_words = \"english\", ngram_range = (1,5)),\n",
    "                     RandomUnderSampler(random_state = 42, sampling_strategy = \"not minority\"),\n",
    "                      LinearSVC())\n",
    "\n",
    "model.fit(X_train, y_train)"
   ]
  },
  {
   "cell_type": "code",
   "execution_count": 187,
   "id": "d6dbb001",
   "metadata": {},
   "outputs": [],
   "source": [
    "# Make predictions\n",
    "y_pred1 = model.predict(X_test)"
   ]
  },
  {
   "cell_type": "code",
   "execution_count": 188,
   "id": "4e848a53",
   "metadata": {},
   "outputs": [
    {
     "name": "stdout",
     "output_type": "stream",
     "text": [
      "[[ 9833  2543   668]\n",
      " [ 1693  5183  1147]\n",
      " [ 4049 12420 81493]]\n"
     ]
    }
   ],
   "source": [
    "# Print confusion matrix\n",
    "print(confusion_matrix(y_test, y_pred1))"
   ]
  },
  {
   "cell_type": "code",
   "execution_count": 189,
   "id": "3958dcb2",
   "metadata": {},
   "outputs": [
    {
     "name": "stdout",
     "output_type": "stream",
     "text": [
      "              precision    recall  f1-score   support\n",
      "\n",
      "    negative       0.63      0.75      0.69     13044\n",
      "     neutral       0.26      0.65      0.37      8023\n",
      "    positive       0.98      0.83      0.90     97962\n",
      "\n",
      "    accuracy                           0.81    119029\n",
      "   macro avg       0.62      0.74      0.65    119029\n",
      "weighted avg       0.89      0.81      0.84    119029\n",
      "\n"
     ]
    }
   ],
   "source": [
    "# Print classification report\n",
    "print(classification_report(y_test, y_pred1))"
   ]
  },
  {
   "cell_type": "code",
   "execution_count": 216,
   "id": "24cc06e9",
   "metadata": {},
   "outputs": [
    {
     "name": "stdout",
     "output_type": "stream",
     "text": [
      "Negative precision: 0.6313322632423756\n",
      "Neutral precision: 0.25727191502035146\n",
      "Positive precision: 0.9782133768665674\n"
     ]
    }
   ],
   "source": [
    "# Math behind the classification report\n",
    "# Precision\n",
    "prec_neg = 9833 / (9833 + 1693 + 4049)\n",
    "print(\"Negative precision:\", prec_neg)\n",
    "\n",
    "prec_neu = 5183 / (2543 + 5183 + 12420)\n",
    "print(\"Neutral precision:\", prec_neu)\n",
    "\n",
    "prec_pos = 81493 / (668 + 1147 + 81493)\n",
    "print(\"Positive precision:\", prec_pos)"
   ]
  },
  {
   "cell_type": "code",
   "execution_count": 217,
   "id": "d7de1433",
   "metadata": {},
   "outputs": [
    {
     "name": "stdout",
     "output_type": "stream",
     "text": [
      "Negative recall: 0.7538331800061331\n",
      "Neutral recall: 0.6460176991150443\n",
      "Positive recall: 0.8318837916743227\n"
     ]
    }
   ],
   "source": [
    "# Recall\n",
    "rec_neg = 9833 / (9833 + 2543 + 668)\n",
    "print(\"Negative recall:\", rec_neg)\n",
    "\n",
    "rec_neu = 5183 / (1693 + 5183 + 1147)\n",
    "print(\"Neutral recall:\", rec_neu)\n",
    "\n",
    "rec_pos = 81493 / (4049 + 12420 + 81493)\n",
    "print(\"Positive recall:\", rec_pos)"
   ]
  },
  {
   "cell_type": "code",
   "execution_count": 218,
   "id": "d99f92d5",
   "metadata": {},
   "outputs": [
    {
     "name": "stdout",
     "output_type": "stream",
     "text": [
      "Negative f1-score: 0.6871658688284006\n",
      "Neutral f1-score: 0.36799318399659203\n",
      "Positive f1-score: 0.8991338886743533\n"
     ]
    }
   ],
   "source": [
    "# f1-score\n",
    "f1_neg = 2 * (prec_neg * rec_neg) / (prec_neg + rec_neg)\n",
    "print(\"Negative f1-score:\", f1_neg)\n",
    "\n",
    "f1_neu = 2 * (prec_neu * rec_neu) / (prec_neu + rec_neu)\n",
    "print(\"Neutral f1-score:\", f1_neu)\n",
    "\n",
    "f1_pos = 2 * (prec_pos * rec_pos) / (prec_pos + rec_pos)\n",
    "print(\"Positive f1-score:\", f1_pos)"
   ]
  },
  {
   "cell_type": "markdown",
   "id": "e69052eb",
   "metadata": {},
   "source": [
    "### Going to try a higher test size for SMOTE"
   ]
  },
  {
   "cell_type": "code",
   "execution_count": 193,
   "id": "a8f9a378",
   "metadata": {},
   "outputs": [],
   "source": [
    "# Here we will use a 30% test size\n",
    "X_train, X_test, y_train, y_test = train_test_split(X, \n",
    "                                                    y, \n",
    "                                                    test_size = 0.3, \n",
    "                                                    stratify = y, \n",
    "                                                    random_state = 42)"
   ]
  },
  {
   "cell_type": "code",
   "execution_count": 194,
   "id": "91ea19c0",
   "metadata": {},
   "outputs": [
    {
     "data": {
      "text/plain": [
       "Pipeline(steps=[('tfidfvectorizer', TfidfVectorizer()),\n",
       "                ('smote', SMOTE(random_state=42)),\n",
       "                ('kneighborsclassifier', KNeighborsClassifier())])"
      ]
     },
     "execution_count": 194,
     "metadata": {},
     "output_type": "execute_result"
    }
   ],
   "source": [
    "# SMOTE and KNN\n",
    "from imblearn.over_sampling import ADASYN, SMOTE, RandomOverSampler\n",
    "from sklearn.feature_extraction.text import TfidfTransformer, CountVectorizer\n",
    "from sklearn.neighbors import KNeighborsClassifier\n",
    "from imblearn.pipeline import make_pipeline\n",
    "\n",
    "model = make_pipeline(TfidfVectorizer(),\n",
    "                     SMOTE(random_state = 42),\n",
    "                     KNeighborsClassifier(n_neighbors = 5))\n",
    "\n",
    "model.fit(X_train, y_train)"
   ]
  },
  {
   "cell_type": "code",
   "execution_count": 195,
   "id": "5fe948d0",
   "metadata": {},
   "outputs": [],
   "source": [
    "# Make predictions\n",
    "ypred = model.predict(X_test)"
   ]
  },
  {
   "cell_type": "code",
   "execution_count": 196,
   "id": "6c55481e",
   "metadata": {},
   "outputs": [
    {
     "name": "stdout",
     "output_type": "stream",
     "text": [
      "[[ 25746  12874    511]\n",
      " [  7450  15442   1176]\n",
      " [ 69039 115798 109050]]\n"
     ]
    }
   ],
   "source": [
    "# Print confusion matrix\n",
    "print(confusion_matrix(y_test, ypred))"
   ]
  },
  {
   "cell_type": "code",
   "execution_count": 197,
   "id": "d45511e7",
   "metadata": {},
   "outputs": [
    {
     "name": "stdout",
     "output_type": "stream",
     "text": [
      "              precision    recall  f1-score   support\n",
      "\n",
      "    negative       0.25      0.66      0.36     39131\n",
      "     neutral       0.11      0.64      0.18     24068\n",
      "    positive       0.98      0.37      0.54    293887\n",
      "\n",
      "    accuracy                           0.42    357086\n",
      "   macro avg       0.45      0.56      0.36    357086\n",
      "weighted avg       0.85      0.42      0.50    357086\n",
      "\n"
     ]
    }
   ],
   "source": [
    "# Print classification report\n",
    "print(classification_report(y_test, ypred))"
   ]
  },
  {
   "cell_type": "code",
   "execution_count": 219,
   "id": "ec51595a",
   "metadata": {},
   "outputs": [
    {
     "name": "stdout",
     "output_type": "stream",
     "text": [
      "Negative precision: 0.2518315645326943\n",
      "Neutral precision: 0.1071512830120599\n",
      "Positive precision: 0.9847657061325483\n"
     ]
    }
   ],
   "source": [
    "# Math behind the classification report\n",
    "# Precision\n",
    "prec_neg = 25746 / (25746 + 7450 + 69039)\n",
    "print(\"Negative precision:\", prec_neg)\n",
    "\n",
    "prec_neu = 15442 / (12874 + 15442 + 115798)\n",
    "print(\"Neutral precision:\", prec_neu)\n",
    "\n",
    "prec_pos = 109050 / (511 + 1176 + 109050)\n",
    "print(\"Positive precision:\", prec_pos)"
   ]
  },
  {
   "cell_type": "code",
   "execution_count": 220,
   "id": "d365dead",
   "metadata": {},
   "outputs": [
    {
     "name": "stdout",
     "output_type": "stream",
     "text": [
      "Negative recall: 0.6579438297002377\n",
      "Neutral recall: 0.6415988033903939\n",
      "Positive recall: 0.371060986025241\n"
     ]
    }
   ],
   "source": [
    "# Recall\n",
    "rec_neg = 25746 / (25746 + 12874 + 511)\n",
    "print(\"Negative recall:\", rec_neg)\n",
    "\n",
    "rec_neu = 15442 / (7450 + 15442 + 1176)\n",
    "print(\"Neutral recall:\", rec_neu)\n",
    "\n",
    "rec_pos = 109050 / (69039 + 115798 + 109050)\n",
    "print(\"Positive recall:\", rec_pos)"
   ]
  },
  {
   "cell_type": "code",
   "execution_count": 221,
   "id": "0ace04ed",
   "metadata": {},
   "outputs": [
    {
     "name": "stdout",
     "output_type": "stream",
     "text": [
      "Negative f1-score: 0.3642459997453419\n",
      "Neutral f1-score: 0.18363439607092313\n",
      "Positive f1-score: 0.5390189410415596\n"
     ]
    }
   ],
   "source": [
    "# f1-score\n",
    "f1_neg = 2 * (prec_neg * rec_neg) / (prec_neg + rec_neg)\n",
    "print(\"Negative f1-score:\", f1_neg)\n",
    "\n",
    "f1_neu = 2 * (prec_neu * rec_neu) / (prec_neu + rec_neu)\n",
    "print(\"Neutral f1-score:\", f1_neu)\n",
    "\n",
    "f1_pos = 2 * (prec_pos * rec_pos) / (prec_pos + rec_pos)\n",
    "print(\"Positive f1-score:\", f1_pos)"
   ]
  },
  {
   "cell_type": "markdown",
   "id": "243f9369",
   "metadata": {},
   "source": [
    "# GridsearchCV"
   ]
  },
  {
   "cell_type": "code",
   "execution_count": 222,
   "id": "6fb305c8",
   "metadata": {},
   "outputs": [],
   "source": [
    "# Redo the sample back to 10% testing\n",
    "X_train, X_test, y_train, y_test = train_test_split(X, \n",
    "                                                    y, \n",
    "                                                    test_size = 0.1, \n",
    "                                                    stratify = y, \n",
    "                                                    random_state = 42)"
   ]
  },
  {
   "cell_type": "code",
   "execution_count": 223,
   "id": "9416d8b7",
   "metadata": {},
   "outputs": [],
   "source": [
    "# Using gridsearchCV \n",
    "from sklearn.pipeline import Pipeline\n",
    "from sklearn.feature_extraction.text import CountVectorizer\n",
    "\n",
    "pipe = Pipeline([(\"cvec\", CountVectorizer(min_df = 2, max_df = .98, stop_words = \"english\")),\n",
    "                 (\"svc\", LinearSVC())])"
   ]
  },
  {
   "cell_type": "code",
   "execution_count": 224,
   "id": "edbfab23",
   "metadata": {},
   "outputs": [],
   "source": [
    "from sklearn.model_selection import GridSearchCV\n",
    "\n",
    "# Create the possible parameters\n",
    "pipe_params = {\"cvec__max_df\": [.9, .95],\n",
    "              \"cvec__max_features\": [4000, 4500, 5000],\n",
    "              \"cvec__min_df\": [2, 3],\n",
    "              \"cvec__ngram_range\": [(1,1), (1,2)]}\n",
    "\n",
    "# Create an instance of the gridsearch CV with cross validation of 3\n",
    "gs = GridSearchCV(estimator = pipe,\n",
    "                 cv = 3,\n",
    "                 param_grid = pipe_params)"
   ]
  },
  {
   "cell_type": "code",
   "execution_count": 225,
   "id": "e8cb87f0",
   "metadata": {},
   "outputs": [
    {
     "data": {
      "text/plain": [
       "GridSearchCV(cv=3,\n",
       "             estimator=Pipeline(steps=[('cvec',\n",
       "                                        CountVectorizer(max_df=0.98, min_df=2,\n",
       "                                                        stop_words='english')),\n",
       "                                       ('svc', LinearSVC())]),\n",
       "             param_grid={'cvec__max_df': [0.9, 0.95],\n",
       "                         'cvec__max_features': [4000, 4500, 5000],\n",
       "                         'cvec__min_df': [2, 3],\n",
       "                         'cvec__ngram_range': [(1, 1), (1, 2)]})"
      ]
     },
     "execution_count": 225,
     "metadata": {},
     "output_type": "execute_result"
    }
   ],
   "source": [
    "# Fit the training data\n",
    "gs.fit(X_train, y_train)"
   ]
  },
  {
   "cell_type": "code",
   "execution_count": 226,
   "id": "09d70869",
   "metadata": {},
   "outputs": [],
   "source": [
    "# Make predictions\n",
    "y_pred = gs.predict(X_test)"
   ]
  },
  {
   "cell_type": "code",
   "execution_count": 227,
   "id": "a093d615",
   "metadata": {},
   "outputs": [
    {
     "name": "stdout",
     "output_type": "stream",
     "text": [
      "[[ 7821   241  4982]\n",
      " [ 1507   662  5854]\n",
      " [ 1099   350 96513]]\n"
     ]
    }
   ],
   "source": [
    "# Print confusion matrix\n",
    "print(confusion_matrix(y_test, y_pred))"
   ]
  },
  {
   "cell_type": "code",
   "execution_count": 228,
   "id": "dc96c76c",
   "metadata": {},
   "outputs": [
    {
     "name": "stdout",
     "output_type": "stream",
     "text": [
      "              precision    recall  f1-score   support\n",
      "\n",
      "    negative       0.75      0.60      0.67     13044\n",
      "     neutral       0.53      0.08      0.14      8023\n",
      "    positive       0.90      0.99      0.94     97962\n",
      "\n",
      "    accuracy                           0.88    119029\n",
      "   macro avg       0.73      0.56      0.58    119029\n",
      "weighted avg       0.86      0.88      0.86    119029\n",
      "\n"
     ]
    }
   ],
   "source": [
    "# Print classification report\n",
    "print(classification_report(y_test, y_pred))"
   ]
  },
  {
   "cell_type": "markdown",
   "id": "712662b1",
   "metadata": {},
   "source": [
    "# Need to do!"
   ]
  },
  {
   "cell_type": "code",
   "execution_count": null,
   "id": "00415a79",
   "metadata": {},
   "outputs": [],
   "source": [
    "# Math behind the classification report\n",
    "# Precision\n",
    "prec_neg = 25746 / (25746 + 7450 + 69039)\n",
    "print(\"Negative precision:\", prec_neg)\n",
    "\n",
    "prec_neu = 15442 / (12874 + 15442 + 115798)\n",
    "print(\"Neutral precision:\", prec_neu)\n",
    "\n",
    "prec_pos = 109050 / (511 + 1176 + 109050)\n",
    "print(\"Positive precision:\", prec_pos)"
   ]
  },
  {
   "cell_type": "code",
   "execution_count": null,
   "id": "b3b542e3",
   "metadata": {},
   "outputs": [],
   "source": [
    "# Recall\n",
    "rec_neg = 25746 / (25746 + 12874 + 511)\n",
    "print(\"Negative recall:\", rec_neg)\n",
    "\n",
    "rec_neu = 15442 / (7450 + 15442 + 1176)\n",
    "print(\"Neutral recall:\", rec_neu)\n",
    "\n",
    "rec_pos = 109050 / (69039 + 115798 + 109050)\n",
    "print(\"Positive recall:\", rec_pos)"
   ]
  },
  {
   "cell_type": "code",
   "execution_count": null,
   "id": "1cdb5e69",
   "metadata": {},
   "outputs": [],
   "source": [
    "# f1-score\n",
    "f1_neg = 2 * (prec_neg * rec_neg) / (prec_neg + rec_neg)\n",
    "print(\"Negative f1-score:\", f1_neg)\n",
    "\n",
    "f1_neu = 2 * (prec_neu * rec_neu) / (prec_neu + rec_neu)\n",
    "print(\"Neutral f1-score:\", f1_neu)\n",
    "\n",
    "f1_pos = 2 * (prec_pos * rec_pos) / (prec_pos + rec_pos)\n",
    "print(\"Positive f1-score:\", f1_pos)"
   ]
  },
  {
   "cell_type": "markdown",
   "id": "e5f46f5f",
   "metadata": {},
   "source": [
    "# Fit the model to the entire dataset"
   ]
  },
  {
   "cell_type": "code",
   "execution_count": 230,
   "id": "3fb13fdf",
   "metadata": {},
   "outputs": [
    {
     "data": {
      "text/html": [
       "<div>\n",
       "<style scoped>\n",
       "    .dataframe tbody tr th:only-of-type {\n",
       "        vertical-align: middle;\n",
       "    }\n",
       "\n",
       "    .dataframe tbody tr th {\n",
       "        vertical-align: top;\n",
       "    }\n",
       "\n",
       "    .dataframe thead th {\n",
       "        text-align: right;\n",
       "    }\n",
       "</style>\n",
       "<table border=\"1\" class=\"dataframe\">\n",
       "  <thead>\n",
       "    <tr style=\"text-align: right;\">\n",
       "      <th></th>\n",
       "      <th>_id</th>\n",
       "      <th></th>\n",
       "      <th>overall</th>\n",
       "      <th>vote</th>\n",
       "      <th>verified</th>\n",
       "      <th>reviewTime</th>\n",
       "      <th>reviewerID</th>\n",
       "      <th>asin</th>\n",
       "      <th>style</th>\n",
       "      <th>reviewerName</th>\n",
       "      <th>reviewText</th>\n",
       "      <th>summary</th>\n",
       "      <th>unixReviewTime</th>\n",
       "      <th>image</th>\n",
       "    </tr>\n",
       "  </thead>\n",
       "  <tbody>\n",
       "    <tr>\n",
       "      <th>0</th>\n",
       "      <td>60eca3c94d530690eb41d84a</td>\n",
       "      <td>0</td>\n",
       "      <td>positive</td>\n",
       "      <td>4</td>\n",
       "      <td>True</td>\n",
       "      <td>11 6, 2013</td>\n",
       "      <td>A3U4E9PIZ8OWH1</td>\n",
       "      <td>449819906</td>\n",
       "      <td>{'Format:': ' Kindle Edition'}</td>\n",
       "      <td>Shirley Curtis</td>\n",
       "      <td>I've read this book already and I've got plans...</td>\n",
       "      <td>A  WONDERFUL BOOK</td>\n",
       "      <td>1383696000</td>\n",
       "      <td></td>\n",
       "    </tr>\n",
       "    <tr>\n",
       "      <th>1</th>\n",
       "      <td>60eca3c94d530690eb41d84b</td>\n",
       "      <td>7</td>\n",
       "      <td>positive</td>\n",
       "      <td></td>\n",
       "      <td>True</td>\n",
       "      <td>11 29, 2016</td>\n",
       "      <td>A1IQJ7PGO9I4MI</td>\n",
       "      <td>449819906</td>\n",
       "      <td>{'Format:': ' Kindle Edition'}</td>\n",
       "      <td>GPS</td>\n",
       "      <td>This book is a most have, if you are serious a...</td>\n",
       "      <td>Magnificent</td>\n",
       "      <td>1480377600</td>\n",
       "      <td></td>\n",
       "    </tr>\n",
       "    <tr>\n",
       "      <th>2</th>\n",
       "      <td>60eca3c94d530690eb41d84c</td>\n",
       "      <td>6</td>\n",
       "      <td>positive</td>\n",
       "      <td></td>\n",
       "      <td>True</td>\n",
       "      <td>12 23, 2016</td>\n",
       "      <td>A1GJKG5OAQQ69</td>\n",
       "      <td>449819906</td>\n",
       "      <td>{'Format:': ' Kindle Edition'}</td>\n",
       "      <td>Kindle Customer</td>\n",
       "      <td>The best knitting  instruction book I own in m...</td>\n",
       "      <td>Thank you for the best knitting  book I have i...</td>\n",
       "      <td>1482451200</td>\n",
       "      <td></td>\n",
       "    </tr>\n",
       "    <tr>\n",
       "      <th>3</th>\n",
       "      <td>60eca3c94d530690eb41d84d</td>\n",
       "      <td>4</td>\n",
       "      <td>positive</td>\n",
       "      <td></td>\n",
       "      <td>True</td>\n",
       "      <td>01 12, 2017</td>\n",
       "      <td>A2846L8Q507JC4</td>\n",
       "      <td>449819906</td>\n",
       "      <td>{'Format:': ' Kindle Edition'}</td>\n",
       "      <td>Dulce</td>\n",
       "      <td>A gazillion pattern stitches, lucidly explaine...</td>\n",
       "      <td>Extremely clear, thorough</td>\n",
       "      <td>1484179200</td>\n",
       "      <td></td>\n",
       "    </tr>\n",
       "    <tr>\n",
       "      <th>4</th>\n",
       "      <td>60eca3c94d530690eb41d84e</td>\n",
       "      <td>5</td>\n",
       "      <td>negative</td>\n",
       "      <td></td>\n",
       "      <td>True</td>\n",
       "      <td>01 6, 2017</td>\n",
       "      <td>A3V21ZT37Y242L</td>\n",
       "      <td>449819906</td>\n",
       "      <td>{'Format:': ' Kindle Edition'}</td>\n",
       "      <td>Sheila Fenchak</td>\n",
       "      <td>Just ok. Read better knit books.</td>\n",
       "      <td>Just ok</td>\n",
       "      <td>1483660800</td>\n",
       "      <td></td>\n",
       "    </tr>\n",
       "  </tbody>\n",
       "</table>\n",
       "</div>"
      ],
      "text/plain": [
       "                        _id      overall vote verified   reviewTime  \\\n",
       "0  60eca3c94d530690eb41d84a  0  positive    4     True   11 6, 2013   \n",
       "1  60eca3c94d530690eb41d84b  7  positive          True  11 29, 2016   \n",
       "2  60eca3c94d530690eb41d84c  6  positive          True  12 23, 2016   \n",
       "3  60eca3c94d530690eb41d84d  4  positive          True  01 12, 2017   \n",
       "4  60eca3c94d530690eb41d84e  5  negative          True   01 6, 2017   \n",
       "\n",
       "       reviewerID       asin                           style     reviewerName  \\\n",
       "0  A3U4E9PIZ8OWH1  449819906  {'Format:': ' Kindle Edition'}   Shirley Curtis   \n",
       "1  A1IQJ7PGO9I4MI  449819906  {'Format:': ' Kindle Edition'}              GPS   \n",
       "2   A1GJKG5OAQQ69  449819906  {'Format:': ' Kindle Edition'}  Kindle Customer   \n",
       "3  A2846L8Q507JC4  449819906  {'Format:': ' Kindle Edition'}            Dulce   \n",
       "4  A3V21ZT37Y242L  449819906  {'Format:': ' Kindle Edition'}   Sheila Fenchak   \n",
       "\n",
       "                                          reviewText  \\\n",
       "0  I've read this book already and I've got plans...   \n",
       "1  This book is a most have, if you are serious a...   \n",
       "2  The best knitting  instruction book I own in m...   \n",
       "3  A gazillion pattern stitches, lucidly explaine...   \n",
       "4                   Just ok. Read better knit books.   \n",
       "\n",
       "                                             summary  unixReviewTime image  \n",
       "0                                  A  WONDERFUL BOOK      1383696000        \n",
       "1                                        Magnificent      1480377600        \n",
       "2  Thank you for the best knitting  book I have i...      1482451200        \n",
       "3                          Extremely clear, thorough      1484179200        \n",
       "4                                            Just ok      1483660800        "
      ]
     },
     "execution_count": 230,
     "metadata": {},
     "output_type": "execute_result"
    }
   ],
   "source": [
    "# Check our testing data again\n",
    "temp.head()"
   ]
  },
  {
   "cell_type": "code",
   "execution_count": 231,
   "id": "9ecdb78b",
   "metadata": {},
   "outputs": [
    {
     "data": {
      "text/html": [
       "<div>\n",
       "<style scoped>\n",
       "    .dataframe tbody tr th:only-of-type {\n",
       "        vertical-align: middle;\n",
       "    }\n",
       "\n",
       "    .dataframe tbody tr th {\n",
       "        vertical-align: top;\n",
       "    }\n",
       "\n",
       "    .dataframe thead th {\n",
       "        text-align: right;\n",
       "    }\n",
       "</style>\n",
       "<table border=\"1\" class=\"dataframe\">\n",
       "  <thead>\n",
       "    <tr style=\"text-align: right;\">\n",
       "      <th></th>\n",
       "      <th>overall</th>\n",
       "      <th>reviewText</th>\n",
       "    </tr>\n",
       "  </thead>\n",
       "  <tbody>\n",
       "    <tr>\n",
       "      <th>0</th>\n",
       "      <td>positive</td>\n",
       "      <td>I've read this book already and I've got plans...</td>\n",
       "    </tr>\n",
       "    <tr>\n",
       "      <th>1</th>\n",
       "      <td>positive</td>\n",
       "      <td>This book is a most have, if you are serious a...</td>\n",
       "    </tr>\n",
       "    <tr>\n",
       "      <th>2</th>\n",
       "      <td>positive</td>\n",
       "      <td>The best knitting  instruction book I own in m...</td>\n",
       "    </tr>\n",
       "    <tr>\n",
       "      <th>3</th>\n",
       "      <td>positive</td>\n",
       "      <td>A gazillion pattern stitches, lucidly explaine...</td>\n",
       "    </tr>\n",
       "    <tr>\n",
       "      <th>4</th>\n",
       "      <td>negative</td>\n",
       "      <td>Just ok. Read better knit books.</td>\n",
       "    </tr>\n",
       "  </tbody>\n",
       "</table>\n",
       "</div>"
      ],
      "text/plain": [
       "    overall                                         reviewText\n",
       "0  positive  I've read this book already and I've got plans...\n",
       "1  positive  This book is a most have, if you are serious a...\n",
       "2  positive  The best knitting  instruction book I own in m...\n",
       "3  positive  A gazillion pattern stitches, lucidly explaine...\n",
       "4  negative                   Just ok. Read better knit books."
      ]
     },
     "execution_count": 231,
     "metadata": {},
     "output_type": "execute_result"
    }
   ],
   "source": [
    "# Get subset of only reviews and rating\n",
    "temp = temp[[\"overall\", \"reviewText\"]]\n",
    "temp.head()"
   ]
  },
  {
   "cell_type": "code",
   "execution_count": 232,
   "id": "7a61b69e",
   "metadata": {},
   "outputs": [
    {
     "data": {
      "text/html": [
       "<div>\n",
       "<style scoped>\n",
       "    .dataframe tbody tr th:only-of-type {\n",
       "        vertical-align: middle;\n",
       "    }\n",
       "\n",
       "    .dataframe tbody tr th {\n",
       "        vertical-align: top;\n",
       "    }\n",
       "\n",
       "    .dataframe thead th {\n",
       "        text-align: right;\n",
       "    }\n",
       "</style>\n",
       "<table border=\"1\" class=\"dataframe\">\n",
       "  <thead>\n",
       "    <tr style=\"text-align: right;\">\n",
       "      <th></th>\n",
       "      <th>overall</th>\n",
       "      <th>reviewText</th>\n",
       "    </tr>\n",
       "  </thead>\n",
       "  <tbody>\n",
       "    <tr>\n",
       "      <th>0</th>\n",
       "      <td>positive</td>\n",
       "      <td>I've read this book already and I've got plans...</td>\n",
       "    </tr>\n",
       "    <tr>\n",
       "      <th>1</th>\n",
       "      <td>positive</td>\n",
       "      <td>This book is a most have, if you are serious a...</td>\n",
       "    </tr>\n",
       "    <tr>\n",
       "      <th>2</th>\n",
       "      <td>positive</td>\n",
       "      <td>The best knitting  instruction book I own in m...</td>\n",
       "    </tr>\n",
       "    <tr>\n",
       "      <th>3</th>\n",
       "      <td>positive</td>\n",
       "      <td>A gazillion pattern stitches, lucidly explaine...</td>\n",
       "    </tr>\n",
       "    <tr>\n",
       "      <th>4</th>\n",
       "      <td>negative</td>\n",
       "      <td>Just ok. Read better knit books.</td>\n",
       "    </tr>\n",
       "  </tbody>\n",
       "</table>\n",
       "</div>"
      ],
      "text/plain": [
       "    overall                                         reviewText\n",
       "0  positive  I've read this book already and I've got plans...\n",
       "1  positive  This book is a most have, if you are serious a...\n",
       "2  positive  The best knitting  instruction book I own in m...\n",
       "3  positive  A gazillion pattern stitches, lucidly explaine...\n",
       "4  negative                   Just ok. Read better knit books."
      ]
     },
     "execution_count": 232,
     "metadata": {},
     "output_type": "execute_result"
    }
   ],
   "source": [
    "# Change all reviews to string (for numerical/symbol reviews)\n",
    "temp.reviewText = [str(item) for item in temp.reviewText]\n",
    "temp.head()"
   ]
  },
  {
   "cell_type": "code",
   "execution_count": 234,
   "id": "25f3022a",
   "metadata": {},
   "outputs": [],
   "source": [
    "import pickle\n",
    "\n",
    "chosen_model = pickle.load(open(\"rus_svc_ngram.h5\", 'rb')) "
   ]
  },
  {
   "cell_type": "code",
   "execution_count": 240,
   "id": "e499f12c",
   "metadata": {},
   "outputs": [],
   "source": [
    "# Make predictions\n",
    "y_test_pred = chosen_model.predict(temp[\"reviewText\"])"
   ]
  },
  {
   "cell_type": "code",
   "execution_count": 241,
   "id": "586ee687",
   "metadata": {},
   "outputs": [
    {
     "data": {
      "text/html": [
       "<div>\n",
       "<style scoped>\n",
       "    .dataframe tbody tr th:only-of-type {\n",
       "        vertical-align: middle;\n",
       "    }\n",
       "\n",
       "    .dataframe tbody tr th {\n",
       "        vertical-align: top;\n",
       "    }\n",
       "\n",
       "    .dataframe thead th {\n",
       "        text-align: right;\n",
       "    }\n",
       "</style>\n",
       "<table border=\"1\" class=\"dataframe\">\n",
       "  <thead>\n",
       "    <tr style=\"text-align: right;\">\n",
       "      <th></th>\n",
       "      <th>Predicted_Rating</th>\n",
       "    </tr>\n",
       "  </thead>\n",
       "  <tbody>\n",
       "    <tr>\n",
       "      <th>0</th>\n",
       "      <td>positive</td>\n",
       "    </tr>\n",
       "    <tr>\n",
       "      <th>1</th>\n",
       "      <td>positive</td>\n",
       "    </tr>\n",
       "    <tr>\n",
       "      <th>2</th>\n",
       "      <td>positive</td>\n",
       "    </tr>\n",
       "    <tr>\n",
       "      <th>3</th>\n",
       "      <td>positive</td>\n",
       "    </tr>\n",
       "    <tr>\n",
       "      <th>4</th>\n",
       "      <td>neutral</td>\n",
       "    </tr>\n",
       "    <tr>\n",
       "      <th>...</th>\n",
       "      <td>...</td>\n",
       "    </tr>\n",
       "    <tr>\n",
       "      <th>2875912</th>\n",
       "      <td>neutral</td>\n",
       "    </tr>\n",
       "    <tr>\n",
       "      <th>2875913</th>\n",
       "      <td>positive</td>\n",
       "    </tr>\n",
       "    <tr>\n",
       "      <th>2875914</th>\n",
       "      <td>positive</td>\n",
       "    </tr>\n",
       "    <tr>\n",
       "      <th>2875915</th>\n",
       "      <td>negative</td>\n",
       "    </tr>\n",
       "    <tr>\n",
       "      <th>2875916</th>\n",
       "      <td>negative</td>\n",
       "    </tr>\n",
       "  </tbody>\n",
       "</table>\n",
       "<p>2875917 rows × 1 columns</p>\n",
       "</div>"
      ],
      "text/plain": [
       "        Predicted_Rating\n",
       "0               positive\n",
       "1               positive\n",
       "2               positive\n",
       "3               positive\n",
       "4                neutral\n",
       "...                  ...\n",
       "2875912          neutral\n",
       "2875913         positive\n",
       "2875914         positive\n",
       "2875915         negative\n",
       "2875916         negative\n",
       "\n",
       "[2875917 rows x 1 columns]"
      ]
     },
     "execution_count": 241,
     "metadata": {},
     "output_type": "execute_result"
    }
   ],
   "source": [
    "# Turn it to a dataframe then rename the column\n",
    "y_test_pred = pd.DataFrame(y_test_pred)\n",
    "y_test_pred.rename(columns = {0: \"Predicted_Rating\"}, inplace = True)\n",
    "y_test_pred"
   ]
  },
  {
   "cell_type": "code",
   "execution_count": 242,
   "id": "826f2576",
   "metadata": {},
   "outputs": [
    {
     "data": {
      "text/html": [
       "<div>\n",
       "<style scoped>\n",
       "    .dataframe tbody tr th:only-of-type {\n",
       "        vertical-align: middle;\n",
       "    }\n",
       "\n",
       "    .dataframe tbody tr th {\n",
       "        vertical-align: top;\n",
       "    }\n",
       "\n",
       "    .dataframe thead th {\n",
       "        text-align: right;\n",
       "    }\n",
       "</style>\n",
       "<table border=\"1\" class=\"dataframe\">\n",
       "  <thead>\n",
       "    <tr style=\"text-align: right;\">\n",
       "      <th></th>\n",
       "      <th>overall</th>\n",
       "      <th>reviewText</th>\n",
       "      <th>Predicted_Rating</th>\n",
       "    </tr>\n",
       "  </thead>\n",
       "  <tbody>\n",
       "    <tr>\n",
       "      <th>0</th>\n",
       "      <td>positive</td>\n",
       "      <td>I've read this book already and I've got plans...</td>\n",
       "      <td>positive</td>\n",
       "    </tr>\n",
       "    <tr>\n",
       "      <th>1</th>\n",
       "      <td>positive</td>\n",
       "      <td>This book is a most have, if you are serious a...</td>\n",
       "      <td>positive</td>\n",
       "    </tr>\n",
       "    <tr>\n",
       "      <th>2</th>\n",
       "      <td>positive</td>\n",
       "      <td>The best knitting  instruction book I own in m...</td>\n",
       "      <td>positive</td>\n",
       "    </tr>\n",
       "    <tr>\n",
       "      <th>3</th>\n",
       "      <td>positive</td>\n",
       "      <td>A gazillion pattern stitches, lucidly explaine...</td>\n",
       "      <td>positive</td>\n",
       "    </tr>\n",
       "    <tr>\n",
       "      <th>4</th>\n",
       "      <td>negative</td>\n",
       "      <td>Just ok. Read better knit books.</td>\n",
       "      <td>neutral</td>\n",
       "    </tr>\n",
       "    <tr>\n",
       "      <th>5</th>\n",
       "      <td>positive</td>\n",
       "      <td>Nicely written directions.</td>\n",
       "      <td>positive</td>\n",
       "    </tr>\n",
       "    <tr>\n",
       "      <th>6</th>\n",
       "      <td>positive</td>\n",
       "      <td>love it</td>\n",
       "      <td>positive</td>\n",
       "    </tr>\n",
       "    <tr>\n",
       "      <th>7</th>\n",
       "      <td>positive</td>\n",
       "      <td>excellent variety - easy instructions</td>\n",
       "      <td>positive</td>\n",
       "    </tr>\n",
       "    <tr>\n",
       "      <th>8</th>\n",
       "      <td>positive</td>\n",
       "      <td>Good additional knitting reference to have ava...</td>\n",
       "      <td>neutral</td>\n",
       "    </tr>\n",
       "    <tr>\n",
       "      <th>9</th>\n",
       "      <td>positive</td>\n",
       "      <td>Love all the patterns in this book.  Made a sc...</td>\n",
       "      <td>positive</td>\n",
       "    </tr>\n",
       "  </tbody>\n",
       "</table>\n",
       "</div>"
      ],
      "text/plain": [
       "    overall                                         reviewText  \\\n",
       "0  positive  I've read this book already and I've got plans...   \n",
       "1  positive  This book is a most have, if you are serious a...   \n",
       "2  positive  The best knitting  instruction book I own in m...   \n",
       "3  positive  A gazillion pattern stitches, lucidly explaine...   \n",
       "4  negative                   Just ok. Read better knit books.   \n",
       "5  positive                         Nicely written directions.   \n",
       "6  positive                                            love it   \n",
       "7  positive              excellent variety - easy instructions   \n",
       "8  positive  Good additional knitting reference to have ava...   \n",
       "9  positive  Love all the patterns in this book.  Made a sc...   \n",
       "\n",
       "  Predicted_Rating  \n",
       "0         positive  \n",
       "1         positive  \n",
       "2         positive  \n",
       "3         positive  \n",
       "4          neutral  \n",
       "5         positive  \n",
       "6         positive  \n",
       "7         positive  \n",
       "8          neutral  \n",
       "9         positive  "
      ]
     },
     "execution_count": 242,
     "metadata": {},
     "output_type": "execute_result"
    }
   ],
   "source": [
    "final = pd.concat([temp, y_test_pred], sort = False, axis = 1)\n",
    "final.head(10)"
   ]
  },
  {
   "cell_type": "markdown",
   "id": "eabb98dc",
   "metadata": {},
   "source": [
    "# Sentiment Analysis"
   ]
  },
  {
   "cell_type": "code",
   "execution_count": 243,
   "id": "ed65546a",
   "metadata": {},
   "outputs": [
    {
     "name": "stderr",
     "output_type": "stream",
     "text": [
      "[nltk_data] Downloading package vader_lexicon to\n",
      "[nltk_data]     C:\\Users\\ntran\\AppData\\Roaming\\nltk_data...\n",
      "[nltk_data]   Package vader_lexicon is already up-to-date!\n"
     ]
    },
    {
     "data": {
      "text/plain": [
       "True"
      ]
     },
     "execution_count": 243,
     "metadata": {},
     "output_type": "execute_result"
    }
   ],
   "source": [
    "import nltk\n",
    "nltk.download('vader_lexicon')"
   ]
  },
  {
   "cell_type": "code",
   "execution_count": 244,
   "id": "519d9129",
   "metadata": {},
   "outputs": [
    {
     "name": "stdout",
     "output_type": "stream",
     "text": [
      "Requirement already satisfied: nltk[twitter] in c:\\users\\ntran\\anaconda3\\lib\\site-packages (3.6.1)\n",
      "Requirement already satisfied: regex in c:\\users\\ntran\\anaconda3\\lib\\site-packages (from nltk[twitter]) (2021.4.4)\n",
      "Requirement already satisfied: tqdm in c:\\users\\ntran\\anaconda3\\lib\\site-packages (from nltk[twitter]) (4.59.0)\n",
      "Requirement already satisfied: click in c:\\users\\ntran\\anaconda3\\lib\\site-packages (from nltk[twitter]) (7.1.2)\n",
      "Requirement already satisfied: joblib in c:\\users\\ntran\\anaconda3\\lib\\site-packages (from nltk[twitter]) (1.0.1)\n",
      "Requirement already satisfied: twython in c:\\users\\ntran\\anaconda3\\lib\\site-packages (from nltk[twitter]) (3.9.1)\n",
      "Requirement already satisfied: requests>=2.1.0 in c:\\users\\ntran\\anaconda3\\lib\\site-packages (from twython->nltk[twitter]) (2.25.1)\n",
      "Requirement already satisfied: requests-oauthlib>=0.4.0 in c:\\users\\ntran\\anaconda3\\lib\\site-packages (from twython->nltk[twitter]) (1.3.0)\n",
      "Requirement already satisfied: urllib3<1.27,>=1.21.1 in c:\\users\\ntran\\anaconda3\\lib\\site-packages (from requests>=2.1.0->twython->nltk[twitter]) (1.26.4)\n",
      "Requirement already satisfied: certifi>=2017.4.17 in c:\\users\\ntran\\anaconda3\\lib\\site-packages (from requests>=2.1.0->twython->nltk[twitter]) (2021.5.30)\n",
      "Requirement already satisfied: idna<3,>=2.5 in c:\\users\\ntran\\anaconda3\\lib\\site-packages (from requests>=2.1.0->twython->nltk[twitter]) (2.10)\n",
      "Requirement already satisfied: chardet<5,>=3.0.2 in c:\\users\\ntran\\anaconda3\\lib\\site-packages (from requests>=2.1.0->twython->nltk[twitter]) (4.0.0)\n",
      "Requirement already satisfied: oauthlib>=3.0.0 in c:\\users\\ntran\\anaconda3\\lib\\site-packages (from requests-oauthlib>=0.4.0->twython->nltk[twitter]) (3.1.1)\n"
     ]
    },
    {
     "name": "stderr",
     "output_type": "stream",
     "text": [
      "WARNING: Ignoring invalid distribution -illow (c:\\users\\ntran\\anaconda3\\lib\\site-packages)\n",
      "WARNING: Ignoring invalid distribution -illow (c:\\users\\ntran\\anaconda3\\lib\\site-packages)\n",
      "WARNING: Ignoring invalid distribution -illow (c:\\users\\ntran\\anaconda3\\lib\\site-packages)\n",
      "WARNING: Ignoring invalid distribution -illow (c:\\users\\ntran\\anaconda3\\lib\\site-packages)\n",
      "WARNING: Ignoring invalid distribution -illow (c:\\users\\ntran\\anaconda3\\lib\\site-packages)\n",
      "WARNING: Ignoring invalid distribution -illow (c:\\users\\ntran\\anaconda3\\lib\\site-packages)\n"
     ]
    }
   ],
   "source": [
    "!pip install -U nltk[twitter]"
   ]
  },
  {
   "cell_type": "code",
   "execution_count": 245,
   "id": "cebeefe4",
   "metadata": {},
   "outputs": [
    {
     "data": {
      "text/html": [
       "<div>\n",
       "<style scoped>\n",
       "    .dataframe tbody tr th:only-of-type {\n",
       "        vertical-align: middle;\n",
       "    }\n",
       "\n",
       "    .dataframe tbody tr th {\n",
       "        vertical-align: top;\n",
       "    }\n",
       "\n",
       "    .dataframe thead th {\n",
       "        text-align: right;\n",
       "    }\n",
       "</style>\n",
       "<table border=\"1\" class=\"dataframe\">\n",
       "  <thead>\n",
       "    <tr style=\"text-align: right;\">\n",
       "      <th></th>\n",
       "      <th>overall</th>\n",
       "      <th>reviewText</th>\n",
       "    </tr>\n",
       "  </thead>\n",
       "  <tbody>\n",
       "    <tr>\n",
       "      <th>0</th>\n",
       "      <td>positive</td>\n",
       "      <td>i've read this book already and i've got plans...</td>\n",
       "    </tr>\n",
       "    <tr>\n",
       "      <th>1</th>\n",
       "      <td>positive</td>\n",
       "      <td>this book is a most have, if you are serious a...</td>\n",
       "    </tr>\n",
       "    <tr>\n",
       "      <th>2</th>\n",
       "      <td>positive</td>\n",
       "      <td>the best knitting  instruction book i own in m...</td>\n",
       "    </tr>\n",
       "    <tr>\n",
       "      <th>3</th>\n",
       "      <td>positive</td>\n",
       "      <td>a gazillion pattern stitches, lucidly explaine...</td>\n",
       "    </tr>\n",
       "    <tr>\n",
       "      <th>4</th>\n",
       "      <td>negative</td>\n",
       "      <td>just ok. read better knit books.</td>\n",
       "    </tr>\n",
       "  </tbody>\n",
       "</table>\n",
       "</div>"
      ],
      "text/plain": [
       "    overall                                         reviewText\n",
       "0  positive  i've read this book already and i've got plans...\n",
       "1  positive  this book is a most have, if you are serious a...\n",
       "2  positive  the best knitting  instruction book i own in m...\n",
       "3  positive  a gazillion pattern stitches, lucidly explaine...\n",
       "4  negative                   just ok. read better knit books."
      ]
     },
     "execution_count": 245,
     "metadata": {},
     "output_type": "execute_result"
    }
   ],
   "source": [
    "# Turn everything lower case for reviews\n",
    "temp.reviewText = temp.reviewText.str.lower()\n",
    "temp.head()"
   ]
  },
  {
   "cell_type": "code",
   "execution_count": 246,
   "id": "898204a1",
   "metadata": {},
   "outputs": [],
   "source": [
    "from nltk.sentiment.vader import SentimentIntensityAnalyzer\n",
    "\n",
    "# create an instance of SentimentIntensityAnalyzer\n",
    "sid = SentimentIntensityAnalyzer() "
   ]
  },
  {
   "cell_type": "code",
   "execution_count": 247,
   "id": "15d20d98",
   "metadata": {},
   "outputs": [
    {
     "data": {
      "text/html": [
       "<div>\n",
       "<style scoped>\n",
       "    .dataframe tbody tr th:only-of-type {\n",
       "        vertical-align: middle;\n",
       "    }\n",
       "\n",
       "    .dataframe tbody tr th {\n",
       "        vertical-align: top;\n",
       "    }\n",
       "\n",
       "    .dataframe thead th {\n",
       "        text-align: right;\n",
       "    }\n",
       "</style>\n",
       "<table border=\"1\" class=\"dataframe\">\n",
       "  <thead>\n",
       "    <tr style=\"text-align: right;\">\n",
       "      <th></th>\n",
       "      <th>overall</th>\n",
       "      <th>reviewText</th>\n",
       "      <th>scores</th>\n",
       "    </tr>\n",
       "  </thead>\n",
       "  <tbody>\n",
       "    <tr>\n",
       "      <th>0</th>\n",
       "      <td>positive</td>\n",
       "      <td>i've read this book already and i've got plans...</td>\n",
       "      <td>{'neg': 0.0, 'neu': 0.71, 'pos': 0.29, 'compou...</td>\n",
       "    </tr>\n",
       "    <tr>\n",
       "      <th>1</th>\n",
       "      <td>positive</td>\n",
       "      <td>this book is a most have, if you are serious a...</td>\n",
       "      <td>{'neg': 0.035, 'neu': 0.72, 'pos': 0.245, 'com...</td>\n",
       "    </tr>\n",
       "    <tr>\n",
       "      <th>2</th>\n",
       "      <td>positive</td>\n",
       "      <td>the best knitting  instruction book i own in m...</td>\n",
       "      <td>{'neg': 0.0, 'neu': 0.709, 'pos': 0.291, 'comp...</td>\n",
       "    </tr>\n",
       "    <tr>\n",
       "      <th>3</th>\n",
       "      <td>positive</td>\n",
       "      <td>a gazillion pattern stitches, lucidly explaine...</td>\n",
       "      <td>{'neg': 0.0, 'neu': 0.828, 'pos': 0.172, 'comp...</td>\n",
       "    </tr>\n",
       "    <tr>\n",
       "      <th>4</th>\n",
       "      <td>negative</td>\n",
       "      <td>just ok. read better knit books.</td>\n",
       "      <td>{'neg': 0.0, 'neu': 0.44, 'pos': 0.56, 'compou...</td>\n",
       "    </tr>\n",
       "  </tbody>\n",
       "</table>\n",
       "</div>"
      ],
      "text/plain": [
       "    overall                                         reviewText  \\\n",
       "0  positive  i've read this book already and i've got plans...   \n",
       "1  positive  this book is a most have, if you are serious a...   \n",
       "2  positive  the best knitting  instruction book i own in m...   \n",
       "3  positive  a gazillion pattern stitches, lucidly explaine...   \n",
       "4  negative                   just ok. read better knit books.   \n",
       "\n",
       "                                              scores  \n",
       "0  {'neg': 0.0, 'neu': 0.71, 'pos': 0.29, 'compou...  \n",
       "1  {'neg': 0.035, 'neu': 0.72, 'pos': 0.245, 'com...  \n",
       "2  {'neg': 0.0, 'neu': 0.709, 'pos': 0.291, 'comp...  \n",
       "3  {'neg': 0.0, 'neu': 0.828, 'pos': 0.172, 'comp...  \n",
       "4  {'neg': 0.0, 'neu': 0.44, 'pos': 0.56, 'compou...  "
      ]
     },
     "execution_count": 247,
     "metadata": {},
     "output_type": "execute_result"
    }
   ],
   "source": [
    "# apply sid polarity scores to every single review in our data frame:\n",
    "temp['scores'] = temp['reviewText'].apply(lambda review: sid.polarity_scores(review))\n",
    "\n",
    "temp.head()"
   ]
  },
  {
   "cell_type": "code",
   "execution_count": 248,
   "id": "111d15e9",
   "metadata": {},
   "outputs": [
    {
     "data": {
      "text/html": [
       "<div>\n",
       "<style scoped>\n",
       "    .dataframe tbody tr th:only-of-type {\n",
       "        vertical-align: middle;\n",
       "    }\n",
       "\n",
       "    .dataframe tbody tr th {\n",
       "        vertical-align: top;\n",
       "    }\n",
       "\n",
       "    .dataframe thead th {\n",
       "        text-align: right;\n",
       "    }\n",
       "</style>\n",
       "<table border=\"1\" class=\"dataframe\">\n",
       "  <thead>\n",
       "    <tr style=\"text-align: right;\">\n",
       "      <th></th>\n",
       "      <th>overall</th>\n",
       "      <th>reviewText</th>\n",
       "      <th>scores</th>\n",
       "      <th>compound</th>\n",
       "    </tr>\n",
       "  </thead>\n",
       "  <tbody>\n",
       "    <tr>\n",
       "      <th>0</th>\n",
       "      <td>positive</td>\n",
       "      <td>i've read this book already and i've got plans...</td>\n",
       "      <td>{'neg': 0.0, 'neu': 0.71, 'pos': 0.29, 'compou...</td>\n",
       "      <td>0.9748</td>\n",
       "    </tr>\n",
       "    <tr>\n",
       "      <th>1</th>\n",
       "      <td>positive</td>\n",
       "      <td>this book is a most have, if you are serious a...</td>\n",
       "      <td>{'neg': 0.035, 'neu': 0.72, 'pos': 0.245, 'com...</td>\n",
       "      <td>0.8360</td>\n",
       "    </tr>\n",
       "    <tr>\n",
       "      <th>2</th>\n",
       "      <td>positive</td>\n",
       "      <td>the best knitting  instruction book i own in m...</td>\n",
       "      <td>{'neg': 0.0, 'neu': 0.709, 'pos': 0.291, 'comp...</td>\n",
       "      <td>0.7901</td>\n",
       "    </tr>\n",
       "    <tr>\n",
       "      <th>3</th>\n",
       "      <td>positive</td>\n",
       "      <td>a gazillion pattern stitches, lucidly explaine...</td>\n",
       "      <td>{'neg': 0.0, 'neu': 0.828, 'pos': 0.172, 'comp...</td>\n",
       "      <td>0.8670</td>\n",
       "    </tr>\n",
       "    <tr>\n",
       "      <th>4</th>\n",
       "      <td>negative</td>\n",
       "      <td>just ok. read better knit books.</td>\n",
       "      <td>{'neg': 0.0, 'neu': 0.44, 'pos': 0.56, 'compou...</td>\n",
       "      <td>0.6249</td>\n",
       "    </tr>\n",
       "  </tbody>\n",
       "</table>\n",
       "</div>"
      ],
      "text/plain": [
       "    overall                                         reviewText  \\\n",
       "0  positive  i've read this book already and i've got plans...   \n",
       "1  positive  this book is a most have, if you are serious a...   \n",
       "2  positive  the best knitting  instruction book i own in m...   \n",
       "3  positive  a gazillion pattern stitches, lucidly explaine...   \n",
       "4  negative                   just ok. read better knit books.   \n",
       "\n",
       "                                              scores  compound  \n",
       "0  {'neg': 0.0, 'neu': 0.71, 'pos': 0.29, 'compou...    0.9748  \n",
       "1  {'neg': 0.035, 'neu': 0.72, 'pos': 0.245, 'com...    0.8360  \n",
       "2  {'neg': 0.0, 'neu': 0.709, 'pos': 0.291, 'comp...    0.7901  \n",
       "3  {'neg': 0.0, 'neu': 0.828, 'pos': 0.172, 'comp...    0.8670  \n",
       "4  {'neg': 0.0, 'neu': 0.44, 'pos': 0.56, 'compou...    0.6249  "
      ]
     },
     "execution_count": 248,
     "metadata": {},
     "output_type": "execute_result"
    }
   ],
   "source": [
    "# Get the compound score\n",
    "temp['compound']  = temp['scores'].apply(lambda score_dict: score_dict['compound'])\n",
    "\n",
    "temp.head()"
   ]
  },
  {
   "cell_type": "code",
   "execution_count": 249,
   "id": "c88aa02c",
   "metadata": {},
   "outputs": [
    {
     "data": {
      "text/html": [
       "<div>\n",
       "<style scoped>\n",
       "    .dataframe tbody tr th:only-of-type {\n",
       "        vertical-align: middle;\n",
       "    }\n",
       "\n",
       "    .dataframe tbody tr th {\n",
       "        vertical-align: top;\n",
       "    }\n",
       "\n",
       "    .dataframe thead th {\n",
       "        text-align: right;\n",
       "    }\n",
       "</style>\n",
       "<table border=\"1\" class=\"dataframe\">\n",
       "  <thead>\n",
       "    <tr style=\"text-align: right;\">\n",
       "      <th></th>\n",
       "      <th>overall</th>\n",
       "      <th>reviewText</th>\n",
       "      <th>scores</th>\n",
       "      <th>compound</th>\n",
       "      <th>comp_score</th>\n",
       "    </tr>\n",
       "  </thead>\n",
       "  <tbody>\n",
       "    <tr>\n",
       "      <th>0</th>\n",
       "      <td>positive</td>\n",
       "      <td>i've read this book already and i've got plans...</td>\n",
       "      <td>{'neg': 0.0, 'neu': 0.71, 'pos': 0.29, 'compou...</td>\n",
       "      <td>0.9748</td>\n",
       "      <td>positive</td>\n",
       "    </tr>\n",
       "    <tr>\n",
       "      <th>1</th>\n",
       "      <td>positive</td>\n",
       "      <td>this book is a most have, if you are serious a...</td>\n",
       "      <td>{'neg': 0.035, 'neu': 0.72, 'pos': 0.245, 'com...</td>\n",
       "      <td>0.8360</td>\n",
       "      <td>positive</td>\n",
       "    </tr>\n",
       "    <tr>\n",
       "      <th>2</th>\n",
       "      <td>positive</td>\n",
       "      <td>the best knitting  instruction book i own in m...</td>\n",
       "      <td>{'neg': 0.0, 'neu': 0.709, 'pos': 0.291, 'comp...</td>\n",
       "      <td>0.7901</td>\n",
       "      <td>positive</td>\n",
       "    </tr>\n",
       "    <tr>\n",
       "      <th>3</th>\n",
       "      <td>positive</td>\n",
       "      <td>a gazillion pattern stitches, lucidly explaine...</td>\n",
       "      <td>{'neg': 0.0, 'neu': 0.828, 'pos': 0.172, 'comp...</td>\n",
       "      <td>0.8670</td>\n",
       "      <td>positive</td>\n",
       "    </tr>\n",
       "    <tr>\n",
       "      <th>4</th>\n",
       "      <td>negative</td>\n",
       "      <td>just ok. read better knit books.</td>\n",
       "      <td>{'neg': 0.0, 'neu': 0.44, 'pos': 0.56, 'compou...</td>\n",
       "      <td>0.6249</td>\n",
       "      <td>positive</td>\n",
       "    </tr>\n",
       "  </tbody>\n",
       "</table>\n",
       "</div>"
      ],
      "text/plain": [
       "    overall                                         reviewText  \\\n",
       "0  positive  i've read this book already and i've got plans...   \n",
       "1  positive  this book is a most have, if you are serious a...   \n",
       "2  positive  the best knitting  instruction book i own in m...   \n",
       "3  positive  a gazillion pattern stitches, lucidly explaine...   \n",
       "4  negative                   just ok. read better knit books.   \n",
       "\n",
       "                                              scores  compound comp_score  \n",
       "0  {'neg': 0.0, 'neu': 0.71, 'pos': 0.29, 'compou...    0.9748   positive  \n",
       "1  {'neg': 0.035, 'neu': 0.72, 'pos': 0.245, 'com...    0.8360   positive  \n",
       "2  {'neg': 0.0, 'neu': 0.709, 'pos': 0.291, 'comp...    0.7901   positive  \n",
       "3  {'neg': 0.0, 'neu': 0.828, 'pos': 0.172, 'comp...    0.8670   positive  \n",
       "4  {'neg': 0.0, 'neu': 0.44, 'pos': 0.56, 'compou...    0.6249   positive  "
      ]
     },
     "execution_count": 249,
     "metadata": {},
     "output_type": "execute_result"
    }
   ],
   "source": [
    "# Based on the compound score, should it be labeled as positive, negative, or neutral?\n",
    "temp['comp_score'] = temp['compound'].apply(lambda c: 'positive' if c > 0.05 else 'negative' if c < -0.05 else 'neutral')\n",
    "\n",
    "temp.head()"
   ]
  },
  {
   "cell_type": "code",
   "execution_count": 250,
   "id": "ffece0d1",
   "metadata": {},
   "outputs": [
    {
     "data": {
      "text/html": [
       "<div>\n",
       "<style scoped>\n",
       "    .dataframe tbody tr th:only-of-type {\n",
       "        vertical-align: middle;\n",
       "    }\n",
       "\n",
       "    .dataframe tbody tr th {\n",
       "        vertical-align: top;\n",
       "    }\n",
       "\n",
       "    .dataframe thead th {\n",
       "        text-align: right;\n",
       "    }\n",
       "</style>\n",
       "<table border=\"1\" class=\"dataframe\">\n",
       "  <thead>\n",
       "    <tr style=\"text-align: right;\">\n",
       "      <th></th>\n",
       "      <th>overall</th>\n",
       "      <th>reviewText</th>\n",
       "      <th>scores</th>\n",
       "      <th>compound</th>\n",
       "      <th>comp_score</th>\n",
       "    </tr>\n",
       "  </thead>\n",
       "  <tbody>\n",
       "    <tr>\n",
       "      <th>2875897</th>\n",
       "      <td>positive</td>\n",
       "      <td>great</td>\n",
       "      <td>{'neg': 0.0, 'neu': 0.0, 'pos': 1.0, 'compound...</td>\n",
       "      <td>0.6249</td>\n",
       "      <td>positive</td>\n",
       "    </tr>\n",
       "    <tr>\n",
       "      <th>2875898</th>\n",
       "      <td>positive</td>\n",
       "      <td>perfect for a sash but not good quality to sti...</td>\n",
       "      <td>{'neg': 0.215, 'neu': 0.622, 'pos': 0.163, 'co...</td>\n",
       "      <td>-0.1923</td>\n",
       "      <td>negative</td>\n",
       "    </tr>\n",
       "    <tr>\n",
       "      <th>2875899</th>\n",
       "      <td>positive</td>\n",
       "      <td>love ordering from this company. great product...</td>\n",
       "      <td>{'neg': 0.0, 'neu': 0.52, 'pos': 0.48, 'compou...</td>\n",
       "      <td>0.8519</td>\n",
       "      <td>positive</td>\n",
       "    </tr>\n",
       "    <tr>\n",
       "      <th>2875900</th>\n",
       "      <td>positive</td>\n",
       "      <td>extremely pleased with the quality of this rib...</td>\n",
       "      <td>{'neg': 0.133, 'neu': 0.781, 'pos': 0.085, 'co...</td>\n",
       "      <td>-0.7247</td>\n",
       "      <td>negative</td>\n",
       "    </tr>\n",
       "    <tr>\n",
       "      <th>2875901</th>\n",
       "      <td>positive</td>\n",
       "      <td>this is the nicest ribbon. i was really skepti...</td>\n",
       "      <td>{'neg': 0.068, 'neu': 0.607, 'pos': 0.324, 'co...</td>\n",
       "      <td>0.8652</td>\n",
       "      <td>positive</td>\n",
       "    </tr>\n",
       "    <tr>\n",
       "      <th>2875902</th>\n",
       "      <td>positive</td>\n",
       "      <td>if you are a crafter or like decorating your h...</td>\n",
       "      <td>{'neg': 0.0, 'neu': 0.732, 'pos': 0.268, 'comp...</td>\n",
       "      <td>0.7369</td>\n",
       "      <td>positive</td>\n",
       "    </tr>\n",
       "    <tr>\n",
       "      <th>2875903</th>\n",
       "      <td>negative</td>\n",
       "      <td>this ribbon was ridged, so i couldn't use it f...</td>\n",
       "      <td>{'neg': 0.0, 'neu': 1.0, 'pos': 0.0, 'compound...</td>\n",
       "      <td>0.0000</td>\n",
       "      <td>neutral</td>\n",
       "    </tr>\n",
       "    <tr>\n",
       "      <th>2875904</th>\n",
       "      <td>positive</td>\n",
       "      <td>very pretty ribbon.  good quality and good price.</td>\n",
       "      <td>{'neg': 0.0, 'neu': 0.337, 'pos': 0.663, 'comp...</td>\n",
       "      <td>0.8696</td>\n",
       "      <td>positive</td>\n",
       "    </tr>\n",
       "    <tr>\n",
       "      <th>2875905</th>\n",
       "      <td>positive</td>\n",
       "      <td>high quality ribbon, very wide.</td>\n",
       "      <td>{'neg': 0.0, 'neu': 1.0, 'pos': 0.0, 'compound...</td>\n",
       "      <td>0.0000</td>\n",
       "      <td>neutral</td>\n",
       "    </tr>\n",
       "    <tr>\n",
       "      <th>2875906</th>\n",
       "      <td>positive</td>\n",
       "      <td>thank you for helping out with my issue!</td>\n",
       "      <td>{'neg': 0.0, 'neu': 0.546, 'pos': 0.454, 'comp...</td>\n",
       "      <td>0.6114</td>\n",
       "      <td>positive</td>\n",
       "    </tr>\n",
       "    <tr>\n",
       "      <th>2875907</th>\n",
       "      <td>neutral</td>\n",
       "      <td>these didn't work well for the purpose i bough...</td>\n",
       "      <td>{'neg': 0.071, 'neu': 0.747, 'pos': 0.182, 'co...</td>\n",
       "      <td>0.2033</td>\n",
       "      <td>positive</td>\n",
       "    </tr>\n",
       "    <tr>\n",
       "      <th>2875908</th>\n",
       "      <td>positive</td>\n",
       "      <td>very nice</td>\n",
       "      <td>{'neg': 0.0, 'neu': 0.244, 'pos': 0.756, 'comp...</td>\n",
       "      <td>0.4754</td>\n",
       "      <td>positive</td>\n",
       "    </tr>\n",
       "    <tr>\n",
       "      <th>2875909</th>\n",
       "      <td>positive</td>\n",
       "      <td>good quality... bright colors.. very happy wit...</td>\n",
       "      <td>{'neg': 0.0, 'neu': 0.283, 'pos': 0.717, 'comp...</td>\n",
       "      <td>0.9134</td>\n",
       "      <td>positive</td>\n",
       "    </tr>\n",
       "    <tr>\n",
       "      <th>2875910</th>\n",
       "      <td>negative</td>\n",
       "      <td>dry</td>\n",
       "      <td>{'neg': 0.0, 'neu': 1.0, 'pos': 0.0, 'compound...</td>\n",
       "      <td>0.0000</td>\n",
       "      <td>neutral</td>\n",
       "    </tr>\n",
       "    <tr>\n",
       "      <th>2875911</th>\n",
       "      <td>positive</td>\n",
       "      <td>these are easy to use and the paint comes out ...</td>\n",
       "      <td>{'neg': 0.048, 'neu': 0.795, 'pos': 0.158, 'co...</td>\n",
       "      <td>0.7864</td>\n",
       "      <td>positive</td>\n",
       "    </tr>\n",
       "    <tr>\n",
       "      <th>2875912</th>\n",
       "      <td>neutral</td>\n",
       "      <td>the pens took weeks to arrive and ran out of i...</td>\n",
       "      <td>{'neg': 0.0, 'neu': 0.789, 'pos': 0.211, 'comp...</td>\n",
       "      <td>0.4939</td>\n",
       "      <td>positive</td>\n",
       "    </tr>\n",
       "    <tr>\n",
       "      <th>2875913</th>\n",
       "      <td>positive</td>\n",
       "      <td>used these on our wedding canvas guest book, t...</td>\n",
       "      <td>{'neg': 0.056, 'neu': 0.821, 'pos': 0.123, 'co...</td>\n",
       "      <td>0.5216</td>\n",
       "      <td>positive</td>\n",
       "    </tr>\n",
       "    <tr>\n",
       "      <th>2875914</th>\n",
       "      <td>positive</td>\n",
       "      <td>love love love</td>\n",
       "      <td>{'neg': 0.0, 'neu': 0.0, 'pos': 1.0, 'compound...</td>\n",
       "      <td>0.9274</td>\n",
       "      <td>positive</td>\n",
       "    </tr>\n",
       "    <tr>\n",
       "      <th>2875915</th>\n",
       "      <td>negative</td>\n",
       "      <td>color won't stop running once you activate the...</td>\n",
       "      <td>{'neg': 0.0, 'neu': 0.841, 'pos': 0.159, 'comp...</td>\n",
       "      <td>0.2235</td>\n",
       "      <td>positive</td>\n",
       "    </tr>\n",
       "    <tr>\n",
       "      <th>2875916</th>\n",
       "      <td>negative</td>\n",
       "      <td>i received these earlier than expected. have r...</td>\n",
       "      <td>{'neg': 0.0, 'neu': 0.882, 'pos': 0.118, 'comp...</td>\n",
       "      <td>0.4215</td>\n",
       "      <td>positive</td>\n",
       "    </tr>\n",
       "  </tbody>\n",
       "</table>\n",
       "</div>"
      ],
      "text/plain": [
       "          overall                                         reviewText  \\\n",
       "2875897  positive                                              great   \n",
       "2875898  positive  perfect for a sash but not good quality to sti...   \n",
       "2875899  positive  love ordering from this company. great product...   \n",
       "2875900  positive  extremely pleased with the quality of this rib...   \n",
       "2875901  positive  this is the nicest ribbon. i was really skepti...   \n",
       "2875902  positive  if you are a crafter or like decorating your h...   \n",
       "2875903  negative  this ribbon was ridged, so i couldn't use it f...   \n",
       "2875904  positive  very pretty ribbon.  good quality and good price.   \n",
       "2875905  positive                    high quality ribbon, very wide.   \n",
       "2875906  positive           thank you for helping out with my issue!   \n",
       "2875907   neutral  these didn't work well for the purpose i bough...   \n",
       "2875908  positive                                          very nice   \n",
       "2875909  positive  good quality... bright colors.. very happy wit...   \n",
       "2875910  negative                                                dry   \n",
       "2875911  positive  these are easy to use and the paint comes out ...   \n",
       "2875912   neutral  the pens took weeks to arrive and ran out of i...   \n",
       "2875913  positive  used these on our wedding canvas guest book, t...   \n",
       "2875914  positive                                     love love love   \n",
       "2875915  negative  color won't stop running once you activate the...   \n",
       "2875916  negative  i received these earlier than expected. have r...   \n",
       "\n",
       "                                                    scores  compound  \\\n",
       "2875897  {'neg': 0.0, 'neu': 0.0, 'pos': 1.0, 'compound...    0.6249   \n",
       "2875898  {'neg': 0.215, 'neu': 0.622, 'pos': 0.163, 'co...   -0.1923   \n",
       "2875899  {'neg': 0.0, 'neu': 0.52, 'pos': 0.48, 'compou...    0.8519   \n",
       "2875900  {'neg': 0.133, 'neu': 0.781, 'pos': 0.085, 'co...   -0.7247   \n",
       "2875901  {'neg': 0.068, 'neu': 0.607, 'pos': 0.324, 'co...    0.8652   \n",
       "2875902  {'neg': 0.0, 'neu': 0.732, 'pos': 0.268, 'comp...    0.7369   \n",
       "2875903  {'neg': 0.0, 'neu': 1.0, 'pos': 0.0, 'compound...    0.0000   \n",
       "2875904  {'neg': 0.0, 'neu': 0.337, 'pos': 0.663, 'comp...    0.8696   \n",
       "2875905  {'neg': 0.0, 'neu': 1.0, 'pos': 0.0, 'compound...    0.0000   \n",
       "2875906  {'neg': 0.0, 'neu': 0.546, 'pos': 0.454, 'comp...    0.6114   \n",
       "2875907  {'neg': 0.071, 'neu': 0.747, 'pos': 0.182, 'co...    0.2033   \n",
       "2875908  {'neg': 0.0, 'neu': 0.244, 'pos': 0.756, 'comp...    0.4754   \n",
       "2875909  {'neg': 0.0, 'neu': 0.283, 'pos': 0.717, 'comp...    0.9134   \n",
       "2875910  {'neg': 0.0, 'neu': 1.0, 'pos': 0.0, 'compound...    0.0000   \n",
       "2875911  {'neg': 0.048, 'neu': 0.795, 'pos': 0.158, 'co...    0.7864   \n",
       "2875912  {'neg': 0.0, 'neu': 0.789, 'pos': 0.211, 'comp...    0.4939   \n",
       "2875913  {'neg': 0.056, 'neu': 0.821, 'pos': 0.123, 'co...    0.5216   \n",
       "2875914  {'neg': 0.0, 'neu': 0.0, 'pos': 1.0, 'compound...    0.9274   \n",
       "2875915  {'neg': 0.0, 'neu': 0.841, 'pos': 0.159, 'comp...    0.2235   \n",
       "2875916  {'neg': 0.0, 'neu': 0.882, 'pos': 0.118, 'comp...    0.4215   \n",
       "\n",
       "        comp_score  \n",
       "2875897   positive  \n",
       "2875898   negative  \n",
       "2875899   positive  \n",
       "2875900   negative  \n",
       "2875901   positive  \n",
       "2875902   positive  \n",
       "2875903    neutral  \n",
       "2875904   positive  \n",
       "2875905    neutral  \n",
       "2875906   positive  \n",
       "2875907   positive  \n",
       "2875908   positive  \n",
       "2875909   positive  \n",
       "2875910    neutral  \n",
       "2875911   positive  \n",
       "2875912   positive  \n",
       "2875913   positive  \n",
       "2875914   positive  \n",
       "2875915   positive  \n",
       "2875916   positive  "
      ]
     },
     "execution_count": 250,
     "metadata": {},
     "output_type": "execute_result"
    }
   ],
   "source": [
    "# check the last 20 rows\n",
    "temp.tail(20)"
   ]
  },
  {
   "cell_type": "code",
   "execution_count": 251,
   "id": "0becb5ce",
   "metadata": {},
   "outputs": [
    {
     "data": {
      "text/plain": [
       "0.786877715872885"
      ]
     },
     "execution_count": 251,
     "metadata": {},
     "output_type": "execute_result"
    }
   ],
   "source": [
    "from sklearn.metrics import accuracy_score, classification_report, confusion_matrix\n",
    "\n",
    "# Grab the accuracy score\n",
    "accuracy_score(temp['overall'], temp['comp_score'])"
   ]
  },
  {
   "cell_type": "code",
   "execution_count": 252,
   "id": "c264891e",
   "metadata": {},
   "outputs": [
    {
     "name": "stdout",
     "output_type": "stream",
     "text": [
      "              precision    recall  f1-score   support\n",
      "\n",
      "    negative       0.56      0.49      0.52    331226\n",
      "     neutral       0.11      0.17      0.13    198200\n",
      "    positive       0.90      0.88      0.89   2346491\n",
      "\n",
      "    accuracy                           0.79   2875917\n",
      "   macro avg       0.53      0.51      0.52   2875917\n",
      "weighted avg       0.81      0.79      0.80   2875917\n",
      "\n"
     ]
    }
   ],
   "source": [
    "# Print the classification report\n",
    "print(classification_report(temp['overall'], temp['comp_score']))"
   ]
  },
  {
   "cell_type": "code",
   "execution_count": null,
   "id": "9b1a63cf",
   "metadata": {},
   "outputs": [],
   "source": []
  }
 ],
 "metadata": {
  "kernelspec": {
   "display_name": "Python 3",
   "language": "python",
   "name": "python3"
  },
  "language_info": {
   "codemirror_mode": {
    "name": "ipython",
    "version": 3
   },
   "file_extension": ".py",
   "mimetype": "text/x-python",
   "name": "python",
   "nbconvert_exporter": "python",
   "pygments_lexer": "ipython3",
   "version": "3.8.8"
  }
 },
 "nbformat": 4,
 "nbformat_minor": 5
}
