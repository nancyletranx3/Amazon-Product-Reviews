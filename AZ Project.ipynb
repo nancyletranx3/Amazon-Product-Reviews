{
 "cells": [
  {
   "cell_type": "markdown",
   "id": "565649bc",
   "metadata": {},
   "source": [
    "# Connecting to MongoDB"
   ]
  },
  {
   "cell_type": "code",
   "execution_count": 1,
   "id": "865f9427",
   "metadata": {},
   "outputs": [],
   "source": [
    "import pymongo\n",
    "from pymongo import MongoClient\n",
    "import warnings\n",
    "warnings.filterwarnings('ignore')"
   ]
  },
  {
   "cell_type": "code",
   "execution_count": 2,
   "id": "6c3cd977",
   "metadata": {},
   "outputs": [],
   "source": [
    "# Local host\n",
    "cluster = MongoClient(\"mongodb://localhost:27017/?readPreference=primary&appname=MongoDB%20Compass&directConnection=true&ssl=false\")"
   ]
  },
  {
   "cell_type": "code",
   "execution_count": 3,
   "id": "2be7f349",
   "metadata": {},
   "outputs": [],
   "source": [
    "# Connect to database2\n",
    "db = cluster[\"database2\"]"
   ]
  },
  {
   "cell_type": "code",
   "execution_count": 4,
   "id": "38508a60",
   "metadata": {},
   "outputs": [],
   "source": [
    "# Work with Amazon collection\n",
    "collection = db[\"Amazon\"]"
   ]
  },
  {
   "cell_type": "code",
   "execution_count": 92,
   "id": "94bb712f",
   "metadata": {},
   "outputs": [],
   "source": [
    "# Assign dataframe to all the data in Amazon collection\n",
    "import pandas as pd\n",
    "df = pd.DataFrame(collection.find())"
   ]
  },
  {
   "cell_type": "markdown",
   "id": "b9e86445",
   "metadata": {},
   "source": [
    "# Data Exploratory and Data Preprocessing"
   ]
  },
  {
   "cell_type": "code",
   "execution_count": 93,
   "id": "25a2a18b",
   "metadata": {},
   "outputs": [
    {
     "data": {
      "text/html": [
       "<div>\n",
       "<style scoped>\n",
       "    .dataframe tbody tr th:only-of-type {\n",
       "        vertical-align: middle;\n",
       "    }\n",
       "\n",
       "    .dataframe tbody tr th {\n",
       "        vertical-align: top;\n",
       "    }\n",
       "\n",
       "    .dataframe thead th {\n",
       "        text-align: right;\n",
       "    }\n",
       "</style>\n",
       "<table border=\"1\" class=\"dataframe\">\n",
       "  <thead>\n",
       "    <tr style=\"text-align: right;\">\n",
       "      <th></th>\n",
       "      <th>_id</th>\n",
       "      <th></th>\n",
       "      <th>overall</th>\n",
       "      <th>vote</th>\n",
       "      <th>verified</th>\n",
       "      <th>reviewTime</th>\n",
       "      <th>reviewerID</th>\n",
       "      <th>asin</th>\n",
       "      <th>style</th>\n",
       "      <th>reviewerName</th>\n",
       "      <th>reviewText</th>\n",
       "      <th>summary</th>\n",
       "      <th>unixReviewTime</th>\n",
       "      <th>image</th>\n",
       "    </tr>\n",
       "  </thead>\n",
       "  <tbody>\n",
       "    <tr>\n",
       "      <th>0</th>\n",
       "      <td>60eca3c94d530690eb41d84a</td>\n",
       "      <td>0</td>\n",
       "      <td>5</td>\n",
       "      <td>4</td>\n",
       "      <td>True</td>\n",
       "      <td>11 6, 2013</td>\n",
       "      <td>A3U4E9PIZ8OWH1</td>\n",
       "      <td>449819906</td>\n",
       "      <td>{'Format:': ' Kindle Edition'}</td>\n",
       "      <td>Shirley Curtis</td>\n",
       "      <td>I've read this book already and I've got plans...</td>\n",
       "      <td>A  WONDERFUL BOOK</td>\n",
       "      <td>1383696000</td>\n",
       "      <td></td>\n",
       "    </tr>\n",
       "    <tr>\n",
       "      <th>1</th>\n",
       "      <td>60eca3c94d530690eb41d84b</td>\n",
       "      <td>7</td>\n",
       "      <td>5</td>\n",
       "      <td></td>\n",
       "      <td>True</td>\n",
       "      <td>11 29, 2016</td>\n",
       "      <td>A1IQJ7PGO9I4MI</td>\n",
       "      <td>449819906</td>\n",
       "      <td>{'Format:': ' Kindle Edition'}</td>\n",
       "      <td>GPS</td>\n",
       "      <td>This book is a most have, if you are serious a...</td>\n",
       "      <td>Magnificent</td>\n",
       "      <td>1480377600</td>\n",
       "      <td></td>\n",
       "    </tr>\n",
       "    <tr>\n",
       "      <th>2</th>\n",
       "      <td>60eca3c94d530690eb41d84c</td>\n",
       "      <td>6</td>\n",
       "      <td>5</td>\n",
       "      <td></td>\n",
       "      <td>True</td>\n",
       "      <td>12 23, 2016</td>\n",
       "      <td>A1GJKG5OAQQ69</td>\n",
       "      <td>449819906</td>\n",
       "      <td>{'Format:': ' Kindle Edition'}</td>\n",
       "      <td>Kindle Customer</td>\n",
       "      <td>The best knitting  instruction book I own in m...</td>\n",
       "      <td>Thank you for the best knitting  book I have i...</td>\n",
       "      <td>1482451200</td>\n",
       "      <td></td>\n",
       "    </tr>\n",
       "    <tr>\n",
       "      <th>3</th>\n",
       "      <td>60eca3c94d530690eb41d84d</td>\n",
       "      <td>4</td>\n",
       "      <td>5</td>\n",
       "      <td></td>\n",
       "      <td>True</td>\n",
       "      <td>01 12, 2017</td>\n",
       "      <td>A2846L8Q507JC4</td>\n",
       "      <td>449819906</td>\n",
       "      <td>{'Format:': ' Kindle Edition'}</td>\n",
       "      <td>Dulce</td>\n",
       "      <td>A gazillion pattern stitches, lucidly explaine...</td>\n",
       "      <td>Extremely clear, thorough</td>\n",
       "      <td>1484179200</td>\n",
       "      <td></td>\n",
       "    </tr>\n",
       "    <tr>\n",
       "      <th>4</th>\n",
       "      <td>60eca3c94d530690eb41d84e</td>\n",
       "      <td>5</td>\n",
       "      <td>2</td>\n",
       "      <td></td>\n",
       "      <td>True</td>\n",
       "      <td>01 6, 2017</td>\n",
       "      <td>A3V21ZT37Y242L</td>\n",
       "      <td>449819906</td>\n",
       "      <td>{'Format:': ' Kindle Edition'}</td>\n",
       "      <td>Sheila Fenchak</td>\n",
       "      <td>Just ok. Read better knit books.</td>\n",
       "      <td>Just ok</td>\n",
       "      <td>1483660800</td>\n",
       "      <td></td>\n",
       "    </tr>\n",
       "  </tbody>\n",
       "</table>\n",
       "</div>"
      ],
      "text/plain": [
       "                        _id     overall vote verified   reviewTime  \\\n",
       "0  60eca3c94d530690eb41d84a  0        5    4     True   11 6, 2013   \n",
       "1  60eca3c94d530690eb41d84b  7        5          True  11 29, 2016   \n",
       "2  60eca3c94d530690eb41d84c  6        5          True  12 23, 2016   \n",
       "3  60eca3c94d530690eb41d84d  4        5          True  01 12, 2017   \n",
       "4  60eca3c94d530690eb41d84e  5        2          True   01 6, 2017   \n",
       "\n",
       "       reviewerID       asin                           style     reviewerName  \\\n",
       "0  A3U4E9PIZ8OWH1  449819906  {'Format:': ' Kindle Edition'}   Shirley Curtis   \n",
       "1  A1IQJ7PGO9I4MI  449819906  {'Format:': ' Kindle Edition'}              GPS   \n",
       "2   A1GJKG5OAQQ69  449819906  {'Format:': ' Kindle Edition'}  Kindle Customer   \n",
       "3  A2846L8Q507JC4  449819906  {'Format:': ' Kindle Edition'}            Dulce   \n",
       "4  A3V21ZT37Y242L  449819906  {'Format:': ' Kindle Edition'}   Sheila Fenchak   \n",
       "\n",
       "                                          reviewText  \\\n",
       "0  I've read this book already and I've got plans...   \n",
       "1  This book is a most have, if you are serious a...   \n",
       "2  The best knitting  instruction book I own in m...   \n",
       "3  A gazillion pattern stitches, lucidly explaine...   \n",
       "4                   Just ok. Read better knit books.   \n",
       "\n",
       "                                             summary  unixReviewTime image  \n",
       "0                                  A  WONDERFUL BOOK      1383696000        \n",
       "1                                        Magnificent      1480377600        \n",
       "2  Thank you for the best knitting  book I have i...      1482451200        \n",
       "3                          Extremely clear, thorough      1484179200        \n",
       "4                                            Just ok      1483660800        "
      ]
     },
     "execution_count": 93,
     "metadata": {},
     "output_type": "execute_result"
    }
   ],
   "source": [
    "df.head()"
   ]
  },
  {
   "cell_type": "code",
   "execution_count": 94,
   "id": "4d5399b5",
   "metadata": {},
   "outputs": [
    {
     "data": {
      "text/plain": [
       "(2875917, 14)"
      ]
     },
     "execution_count": 94,
     "metadata": {},
     "output_type": "execute_result"
    }
   ],
   "source": [
    "df.shape"
   ]
  },
  {
   "cell_type": "code",
   "execution_count": 95,
   "id": "872e4c5a",
   "metadata": {},
   "outputs": [
    {
     "data": {
      "text/plain": [
       "5    1984651\n",
       "4     361840\n",
       "1     210232\n",
       "3     198200\n",
       "2     120994\n",
       "Name: overall, dtype: int64"
      ]
     },
     "execution_count": 95,
     "metadata": {},
     "output_type": "execute_result"
    }
   ],
   "source": [
    "# Checking if we can use overall as the target variable\n",
    "df.overall.value_counts()"
   ]
  },
  {
   "cell_type": "code",
   "execution_count": 96,
   "id": "2e603a2a",
   "metadata": {},
   "outputs": [
    {
     "data": {
      "text/plain": [
       "_id                 0\n",
       "                    0\n",
       "overall             0\n",
       "vote                0\n",
       "verified            0\n",
       "reviewTime          0\n",
       "reviewerID          0\n",
       "asin                0\n",
       "style               0\n",
       "reviewerName      326\n",
       "reviewText          0\n",
       "summary             0\n",
       "unixReviewTime      0\n",
       "image               0\n",
       "dtype: int64"
      ]
     },
     "execution_count": 96,
     "metadata": {},
     "output_type": "execute_result"
    }
   ],
   "source": [
    "# Check if there's any nulls\n",
    "df.isnull().sum()"
   ]
  },
  {
   "cell_type": "code",
   "execution_count": 97,
   "id": "574d2eee",
   "metadata": {},
   "outputs": [
    {
     "data": {
      "text/plain": [
       "B004AKS59O    4534\n",
       "B0014DGXU8    4006\n",
       "B000Y00DDK    3862\n",
       "B00172XBQA    3860\n",
       "B00122CN64    3772\n",
       "              ... \n",
       "B00IOOTY06       1\n",
       "B005POIINM       1\n",
       "B016N3HDW0       1\n",
       "B00IEJY1GI       1\n",
       "B010C21BY4       1\n",
       "Name: asin, Length: 302809, dtype: int64"
      ]
     },
     "execution_count": 97,
     "metadata": {},
     "output_type": "execute_result"
    }
   ],
   "source": [
    "# Checking how many reviews are in each item\n",
    "df.asin.value_counts()"
   ]
  },
  {
   "cell_type": "code",
   "execution_count": 98,
   "id": "bb827ad0",
   "metadata": {},
   "outputs": [
    {
     "data": {
      "text/plain": [
       "B004AKS59O    4534\n",
       "B0014DGXU8    4006\n",
       "B000Y00DDK    3862\n",
       "B00172XBQA    3860\n",
       "B00122CN64    3772\n",
       "              ... \n",
       "B00IRHP8A0     101\n",
       "B00DV94JXG     101\n",
       "B007JL37I0     101\n",
       "B00X55WCXU     101\n",
       "B00KJNUI3W     101\n",
       "Name: asin, Length: 4544, dtype: int64"
      ]
     },
     "execution_count": 98,
     "metadata": {},
     "output_type": "execute_result"
    }
   ],
   "source": [
    "# Removing rows that have only 100 value count in their asin since we have more than 2 mil rows\n",
    "df = df.groupby('asin').filter(lambda x : len(x) > 100)\n",
    "df.asin.value_counts()"
   ]
  },
  {
   "cell_type": "code",
   "execution_count": 99,
   "id": "cac3bb99",
   "metadata": {},
   "outputs": [
    {
     "data": {
      "text/plain": [
       "1282703"
      ]
     },
     "execution_count": 99,
     "metadata": {},
     "output_type": "execute_result"
    }
   ],
   "source": [
    "# Checking the length and still have over a million of rows\n",
    "len(df)"
   ]
  },
  {
   "cell_type": "code",
   "execution_count": 100,
   "id": "af3ddb50",
   "metadata": {},
   "outputs": [
    {
     "data": {
      "text/html": [
       "<div>\n",
       "<style scoped>\n",
       "    .dataframe tbody tr th:only-of-type {\n",
       "        vertical-align: middle;\n",
       "    }\n",
       "\n",
       "    .dataframe tbody tr th {\n",
       "        vertical-align: top;\n",
       "    }\n",
       "\n",
       "    .dataframe thead th {\n",
       "        text-align: right;\n",
       "    }\n",
       "</style>\n",
       "<table border=\"1\" class=\"dataframe\">\n",
       "  <thead>\n",
       "    <tr style=\"text-align: right;\">\n",
       "      <th></th>\n",
       "      <th>_id</th>\n",
       "      <th></th>\n",
       "      <th>overall</th>\n",
       "      <th>vote</th>\n",
       "      <th>verified</th>\n",
       "      <th>reviewTime</th>\n",
       "      <th>reviewerID</th>\n",
       "      <th>asin</th>\n",
       "      <th>style</th>\n",
       "      <th>reviewerName</th>\n",
       "      <th>reviewText</th>\n",
       "      <th>summary</th>\n",
       "      <th>unixReviewTime</th>\n",
       "      <th>image</th>\n",
       "    </tr>\n",
       "  </thead>\n",
       "  <tbody>\n",
       "    <tr>\n",
       "      <th>242</th>\n",
       "      <td>60eca3c94d530690eb41d93c</td>\n",
       "      <td>242</td>\n",
       "      <td>5</td>\n",
       "      <td>44</td>\n",
       "      <td>True</td>\n",
       "      <td>06 26, 2007</td>\n",
       "      <td>A2YJ0QZF5CQ2X4</td>\n",
       "      <td>823013626</td>\n",
       "      <td>{'Format:': ' Paperback'}</td>\n",
       "      <td>Cindy</td>\n",
       "      <td>I've loved Donna Kato's work for some time, bu...</td>\n",
       "      <td>Wow!  What a resource!</td>\n",
       "      <td>1182816000</td>\n",
       "      <td></td>\n",
       "    </tr>\n",
       "    <tr>\n",
       "      <th>243</th>\n",
       "      <td>60eca3c94d530690eb41d93d</td>\n",
       "      <td>243</td>\n",
       "      <td>5</td>\n",
       "      <td></td>\n",
       "      <td>True</td>\n",
       "      <td>08 16, 2015</td>\n",
       "      <td>A3K068L50RQXCC</td>\n",
       "      <td>823013626</td>\n",
       "      <td>{'Format:': ' Paperback'}</td>\n",
       "      <td>Carol P</td>\n",
       "      <td>Absolutely fantastic  book. If I could give it...</td>\n",
       "      <td>Essential reading</td>\n",
       "      <td>1439683200</td>\n",
       "      <td></td>\n",
       "    </tr>\n",
       "    <tr>\n",
       "      <th>244</th>\n",
       "      <td>60eca3c94d530690eb41d93e</td>\n",
       "      <td>244</td>\n",
       "      <td>5</td>\n",
       "      <td></td>\n",
       "      <td>True</td>\n",
       "      <td>07 28, 2015</td>\n",
       "      <td>A2NMB9ID620BHK</td>\n",
       "      <td>823013626</td>\n",
       "      <td>{'Format:': ' Paperback'}</td>\n",
       "      <td>Mrs. Eve Smith</td>\n",
       "      <td>Exciting and inspirational!  Great information.</td>\n",
       "      <td>Great information.</td>\n",
       "      <td>1438041600</td>\n",
       "      <td></td>\n",
       "    </tr>\n",
       "    <tr>\n",
       "      <th>245</th>\n",
       "      <td>60eca3c94d530690eb41d93f</td>\n",
       "      <td>245</td>\n",
       "      <td>5</td>\n",
       "      <td></td>\n",
       "      <td>True</td>\n",
       "      <td>07 23, 2015</td>\n",
       "      <td>A24GSIBPJNJWEF</td>\n",
       "      <td>823013626</td>\n",
       "      <td>{'Format:': ' Paperback'}</td>\n",
       "      <td>William V Harrold</td>\n",
       "      <td>very good</td>\n",
       "      <td>Five Stars</td>\n",
       "      <td>1437609600</td>\n",
       "      <td></td>\n",
       "    </tr>\n",
       "    <tr>\n",
       "      <th>246</th>\n",
       "      <td>60eca3c94d530690eb41d940</td>\n",
       "      <td>246</td>\n",
       "      <td>5</td>\n",
       "      <td>2</td>\n",
       "      <td>True</td>\n",
       "      <td>07 3, 2015</td>\n",
       "      <td>A3LAFC1BW6N4N2</td>\n",
       "      <td>823013626</td>\n",
       "      <td>{'Format:': ' Paperback'}</td>\n",
       "      <td>Susan L</td>\n",
       "      <td>I just received Donna Kato's Creative Surface ...</td>\n",
       "      <td>Never enough hours in a day for these beautifu...</td>\n",
       "      <td>1435881600</td>\n",
       "      <td></td>\n",
       "    </tr>\n",
       "  </tbody>\n",
       "</table>\n",
       "</div>"
      ],
      "text/plain": [
       "                          _id       overall vote verified   reviewTime  \\\n",
       "242  60eca3c94d530690eb41d93c  242        5   44     True  06 26, 2007   \n",
       "243  60eca3c94d530690eb41d93d  243        5          True  08 16, 2015   \n",
       "244  60eca3c94d530690eb41d93e  244        5          True  07 28, 2015   \n",
       "245  60eca3c94d530690eb41d93f  245        5          True  07 23, 2015   \n",
       "246  60eca3c94d530690eb41d940  246        5    2     True   07 3, 2015   \n",
       "\n",
       "         reviewerID       asin                      style       reviewerName  \\\n",
       "242  A2YJ0QZF5CQ2X4  823013626  {'Format:': ' Paperback'}              Cindy   \n",
       "243  A3K068L50RQXCC  823013626  {'Format:': ' Paperback'}            Carol P   \n",
       "244  A2NMB9ID620BHK  823013626  {'Format:': ' Paperback'}     Mrs. Eve Smith   \n",
       "245  A24GSIBPJNJWEF  823013626  {'Format:': ' Paperback'}  William V Harrold   \n",
       "246  A3LAFC1BW6N4N2  823013626  {'Format:': ' Paperback'}            Susan L   \n",
       "\n",
       "                                            reviewText  \\\n",
       "242  I've loved Donna Kato's work for some time, bu...   \n",
       "243  Absolutely fantastic  book. If I could give it...   \n",
       "244    Exciting and inspirational!  Great information.   \n",
       "245                                          very good   \n",
       "246  I just received Donna Kato's Creative Surface ...   \n",
       "\n",
       "                                               summary  unixReviewTime image  \n",
       "242                             Wow!  What a resource!      1182816000        \n",
       "243                                  Essential reading      1439683200        \n",
       "244                                 Great information.      1438041600        \n",
       "245                                         Five Stars      1437609600        \n",
       "246  Never enough hours in a day for these beautifu...      1435881600        "
      ]
     },
     "execution_count": 100,
     "metadata": {},
     "output_type": "execute_result"
    }
   ],
   "source": [
    "df.head()"
   ]
  },
  {
   "cell_type": "code",
   "execution_count": 101,
   "id": "ab0c3287",
   "metadata": {},
   "outputs": [
    {
     "data": {
      "text/plain": [
       "(1191326, 14)"
      ]
     },
     "execution_count": 101,
     "metadata": {},
     "output_type": "execute_result"
    }
   ],
   "source": [
    "# Remove rows that verified is FALSE because the reviews are not verified\n",
    "df = df[df.verified == \"True\"]\n",
    "df.shape"
   ]
  },
  {
   "cell_type": "code",
   "execution_count": 102,
   "id": "c5b466b9",
   "metadata": {},
   "outputs": [
    {
     "data": {
      "text/html": [
       "<div>\n",
       "<style scoped>\n",
       "    .dataframe tbody tr th:only-of-type {\n",
       "        vertical-align: middle;\n",
       "    }\n",
       "\n",
       "    .dataframe tbody tr th {\n",
       "        vertical-align: top;\n",
       "    }\n",
       "\n",
       "    .dataframe thead th {\n",
       "        text-align: right;\n",
       "    }\n",
       "</style>\n",
       "<table border=\"1\" class=\"dataframe\">\n",
       "  <thead>\n",
       "    <tr style=\"text-align: right;\">\n",
       "      <th></th>\n",
       "      <th>_id</th>\n",
       "      <th></th>\n",
       "      <th>overall</th>\n",
       "      <th>vote</th>\n",
       "      <th>verified</th>\n",
       "      <th>reviewTime</th>\n",
       "      <th>reviewerID</th>\n",
       "      <th>asin</th>\n",
       "      <th>style</th>\n",
       "      <th>reviewerName</th>\n",
       "      <th>reviewText</th>\n",
       "      <th>summary</th>\n",
       "      <th>unixReviewTime</th>\n",
       "      <th>image</th>\n",
       "    </tr>\n",
       "  </thead>\n",
       "  <tbody>\n",
       "    <tr>\n",
       "      <th>242</th>\n",
       "      <td>60eca3c94d530690eb41d93c</td>\n",
       "      <td>242</td>\n",
       "      <td>5</td>\n",
       "      <td>44</td>\n",
       "      <td>True</td>\n",
       "      <td>06 26, 2007</td>\n",
       "      <td>A2YJ0QZF5CQ2X4</td>\n",
       "      <td>823013626</td>\n",
       "      <td>{'Format:': ' Paperback'}</td>\n",
       "      <td>Cindy</td>\n",
       "      <td>I've loved Donna Kato's work for some time, bu...</td>\n",
       "      <td>Wow!  What a resource!</td>\n",
       "      <td>1182816000</td>\n",
       "      <td>NaN</td>\n",
       "    </tr>\n",
       "    <tr>\n",
       "      <th>243</th>\n",
       "      <td>60eca3c94d530690eb41d93d</td>\n",
       "      <td>243</td>\n",
       "      <td>5</td>\n",
       "      <td>NaN</td>\n",
       "      <td>True</td>\n",
       "      <td>08 16, 2015</td>\n",
       "      <td>A3K068L50RQXCC</td>\n",
       "      <td>823013626</td>\n",
       "      <td>{'Format:': ' Paperback'}</td>\n",
       "      <td>Carol P</td>\n",
       "      <td>Absolutely fantastic  book. If I could give it...</td>\n",
       "      <td>Essential reading</td>\n",
       "      <td>1439683200</td>\n",
       "      <td>NaN</td>\n",
       "    </tr>\n",
       "    <tr>\n",
       "      <th>244</th>\n",
       "      <td>60eca3c94d530690eb41d93e</td>\n",
       "      <td>244</td>\n",
       "      <td>5</td>\n",
       "      <td>NaN</td>\n",
       "      <td>True</td>\n",
       "      <td>07 28, 2015</td>\n",
       "      <td>A2NMB9ID620BHK</td>\n",
       "      <td>823013626</td>\n",
       "      <td>{'Format:': ' Paperback'}</td>\n",
       "      <td>Mrs. Eve Smith</td>\n",
       "      <td>Exciting and inspirational!  Great information.</td>\n",
       "      <td>Great information.</td>\n",
       "      <td>1438041600</td>\n",
       "      <td>NaN</td>\n",
       "    </tr>\n",
       "    <tr>\n",
       "      <th>245</th>\n",
       "      <td>60eca3c94d530690eb41d93f</td>\n",
       "      <td>245</td>\n",
       "      <td>5</td>\n",
       "      <td>NaN</td>\n",
       "      <td>True</td>\n",
       "      <td>07 23, 2015</td>\n",
       "      <td>A24GSIBPJNJWEF</td>\n",
       "      <td>823013626</td>\n",
       "      <td>{'Format:': ' Paperback'}</td>\n",
       "      <td>William V Harrold</td>\n",
       "      <td>very good</td>\n",
       "      <td>Five Stars</td>\n",
       "      <td>1437609600</td>\n",
       "      <td>NaN</td>\n",
       "    </tr>\n",
       "    <tr>\n",
       "      <th>246</th>\n",
       "      <td>60eca3c94d530690eb41d940</td>\n",
       "      <td>246</td>\n",
       "      <td>5</td>\n",
       "      <td>2</td>\n",
       "      <td>True</td>\n",
       "      <td>07 3, 2015</td>\n",
       "      <td>A3LAFC1BW6N4N2</td>\n",
       "      <td>823013626</td>\n",
       "      <td>{'Format:': ' Paperback'}</td>\n",
       "      <td>Susan L</td>\n",
       "      <td>I just received Donna Kato's Creative Surface ...</td>\n",
       "      <td>Never enough hours in a day for these beautifu...</td>\n",
       "      <td>1435881600</td>\n",
       "      <td>NaN</td>\n",
       "    </tr>\n",
       "  </tbody>\n",
       "</table>\n",
       "</div>"
      ],
      "text/plain": [
       "                          _id       overall vote verified   reviewTime  \\\n",
       "242  60eca3c94d530690eb41d93c  242        5   44     True  06 26, 2007   \n",
       "243  60eca3c94d530690eb41d93d  243        5  NaN     True  08 16, 2015   \n",
       "244  60eca3c94d530690eb41d93e  244        5  NaN     True  07 28, 2015   \n",
       "245  60eca3c94d530690eb41d93f  245        5  NaN     True  07 23, 2015   \n",
       "246  60eca3c94d530690eb41d940  246        5    2     True   07 3, 2015   \n",
       "\n",
       "         reviewerID       asin                      style       reviewerName  \\\n",
       "242  A2YJ0QZF5CQ2X4  823013626  {'Format:': ' Paperback'}              Cindy   \n",
       "243  A3K068L50RQXCC  823013626  {'Format:': ' Paperback'}            Carol P   \n",
       "244  A2NMB9ID620BHK  823013626  {'Format:': ' Paperback'}     Mrs. Eve Smith   \n",
       "245  A24GSIBPJNJWEF  823013626  {'Format:': ' Paperback'}  William V Harrold   \n",
       "246  A3LAFC1BW6N4N2  823013626  {'Format:': ' Paperback'}            Susan L   \n",
       "\n",
       "                                            reviewText  \\\n",
       "242  I've loved Donna Kato's work for some time, bu...   \n",
       "243  Absolutely fantastic  book. If I could give it...   \n",
       "244    Exciting and inspirational!  Great information.   \n",
       "245                                          very good   \n",
       "246  I just received Donna Kato's Creative Surface ...   \n",
       "\n",
       "                                               summary  unixReviewTime image  \n",
       "242                             Wow!  What a resource!      1182816000   NaN  \n",
       "243                                  Essential reading      1439683200   NaN  \n",
       "244                                 Great information.      1438041600   NaN  \n",
       "245                                         Five Stars      1437609600   NaN  \n",
       "246  Never enough hours in a day for these beautifu...      1435881600   NaN  "
      ]
     },
     "execution_count": 102,
     "metadata": {},
     "output_type": "execute_result"
    }
   ],
   "source": [
    "# Replacing all blank with NaN values\n",
    "import numpy as np\n",
    "df.replace(\"\", np.nan, inplace = True)\n",
    "df.head()"
   ]
  },
  {
   "cell_type": "code",
   "execution_count": 103,
   "id": "01eabefa",
   "metadata": {},
   "outputs": [
    {
     "data": {
      "text/plain": [
       "_id                     0\n",
       "                        0\n",
       "overall                 0\n",
       "vote              1051047\n",
       "verified                0\n",
       "reviewTime              0\n",
       "reviewerID              0\n",
       "asin                    0\n",
       "style              491364\n",
       "reviewerName          213\n",
       "reviewText            977\n",
       "summary               367\n",
       "unixReviewTime          0\n",
       "image             1160148\n",
       "dtype: int64"
      ]
     },
     "execution_count": 103,
     "metadata": {},
     "output_type": "execute_result"
    }
   ],
   "source": [
    "# Checking for na values again\n",
    "df.isnull().sum()"
   ]
  },
  {
   "cell_type": "code",
   "execution_count": 104,
   "id": "3a1c77ef",
   "metadata": {},
   "outputs": [
    {
     "data": {
      "text/html": [
       "<div>\n",
       "<style scoped>\n",
       "    .dataframe tbody tr th:only-of-type {\n",
       "        vertical-align: middle;\n",
       "    }\n",
       "\n",
       "    .dataframe tbody tr th {\n",
       "        vertical-align: top;\n",
       "    }\n",
       "\n",
       "    .dataframe thead th {\n",
       "        text-align: right;\n",
       "    }\n",
       "</style>\n",
       "<table border=\"1\" class=\"dataframe\">\n",
       "  <thead>\n",
       "    <tr style=\"text-align: right;\">\n",
       "      <th></th>\n",
       "      <th>overall</th>\n",
       "      <th>reviewText</th>\n",
       "    </tr>\n",
       "  </thead>\n",
       "  <tbody>\n",
       "    <tr>\n",
       "      <th>242</th>\n",
       "      <td>5</td>\n",
       "      <td>I've loved Donna Kato's work for some time, bu...</td>\n",
       "    </tr>\n",
       "    <tr>\n",
       "      <th>243</th>\n",
       "      <td>5</td>\n",
       "      <td>Absolutely fantastic  book. If I could give it...</td>\n",
       "    </tr>\n",
       "    <tr>\n",
       "      <th>244</th>\n",
       "      <td>5</td>\n",
       "      <td>Exciting and inspirational!  Great information.</td>\n",
       "    </tr>\n",
       "    <tr>\n",
       "      <th>245</th>\n",
       "      <td>5</td>\n",
       "      <td>very good</td>\n",
       "    </tr>\n",
       "    <tr>\n",
       "      <th>246</th>\n",
       "      <td>5</td>\n",
       "      <td>I just received Donna Kato's Creative Surface ...</td>\n",
       "    </tr>\n",
       "  </tbody>\n",
       "</table>\n",
       "</div>"
      ],
      "text/plain": [
       "     overall                                         reviewText\n",
       "242        5  I've loved Donna Kato's work for some time, bu...\n",
       "243        5  Absolutely fantastic  book. If I could give it...\n",
       "244        5    Exciting and inspirational!  Great information.\n",
       "245        5                                          very good\n",
       "246        5  I just received Donna Kato's Creative Surface ..."
      ]
     },
     "execution_count": 104,
     "metadata": {},
     "output_type": "execute_result"
    }
   ],
   "source": [
    "# Choosing only overall and review text column\n",
    "df = df[[\"overall\", \"reviewText\"]]\n",
    "df.head()"
   ]
  },
  {
   "cell_type": "code",
   "execution_count": 105,
   "id": "4bc64c9a",
   "metadata": {},
   "outputs": [
    {
     "data": {
      "text/plain": [
       "overall         0\n",
       "reviewText    977\n",
       "dtype: int64"
      ]
     },
     "execution_count": 105,
     "metadata": {},
     "output_type": "execute_result"
    }
   ],
   "source": [
    "# Checking if there's any nulls still\n",
    "df.isnull().sum()"
   ]
  },
  {
   "cell_type": "code",
   "execution_count": 106,
   "id": "9e78a5b3",
   "metadata": {},
   "outputs": [
    {
     "data": {
      "text/plain": [
       "overall       0\n",
       "reviewText    0\n",
       "dtype: int64"
      ]
     },
     "execution_count": 106,
     "metadata": {},
     "output_type": "execute_result"
    }
   ],
   "source": [
    "# Dropping the rows with NA values since reviewText is an important variable\n",
    "df.dropna(inplace = True)\n",
    "df.isnull().sum()"
   ]
  },
  {
   "cell_type": "code",
   "execution_count": 107,
   "id": "94a1d21d",
   "metadata": {},
   "outputs": [
    {
     "data": {
      "text/plain": [
       "(1190349, 2)"
      ]
     },
     "execution_count": 107,
     "metadata": {},
     "output_type": "execute_result"
    }
   ],
   "source": [
    "# Checking the shape of dataframe\n",
    "df.shape"
   ]
  },
  {
   "cell_type": "code",
   "execution_count": 108,
   "id": "591aeabf",
   "metadata": {},
   "outputs": [
    {
     "data": {
      "text/html": [
       "<div>\n",
       "<style scoped>\n",
       "    .dataframe tbody tr th:only-of-type {\n",
       "        vertical-align: middle;\n",
       "    }\n",
       "\n",
       "    .dataframe tbody tr th {\n",
       "        vertical-align: top;\n",
       "    }\n",
       "\n",
       "    .dataframe thead th {\n",
       "        text-align: right;\n",
       "    }\n",
       "</style>\n",
       "<table border=\"1\" class=\"dataframe\">\n",
       "  <thead>\n",
       "    <tr style=\"text-align: right;\">\n",
       "      <th></th>\n",
       "      <th>overall</th>\n",
       "      <th>reviewText</th>\n",
       "    </tr>\n",
       "  </thead>\n",
       "  <tbody>\n",
       "    <tr>\n",
       "      <th>242</th>\n",
       "      <td>positive</td>\n",
       "      <td>I've loved Donna Kato's work for some time, bu...</td>\n",
       "    </tr>\n",
       "    <tr>\n",
       "      <th>243</th>\n",
       "      <td>positive</td>\n",
       "      <td>Absolutely fantastic  book. If I could give it...</td>\n",
       "    </tr>\n",
       "    <tr>\n",
       "      <th>244</th>\n",
       "      <td>positive</td>\n",
       "      <td>Exciting and inspirational!  Great information.</td>\n",
       "    </tr>\n",
       "    <tr>\n",
       "      <th>245</th>\n",
       "      <td>positive</td>\n",
       "      <td>very good</td>\n",
       "    </tr>\n",
       "    <tr>\n",
       "      <th>246</th>\n",
       "      <td>positive</td>\n",
       "      <td>I just received Donna Kato's Creative Surface ...</td>\n",
       "    </tr>\n",
       "  </tbody>\n",
       "</table>\n",
       "</div>"
      ],
      "text/plain": [
       "      overall                                         reviewText\n",
       "242  positive  I've loved Donna Kato's work for some time, bu...\n",
       "243  positive  Absolutely fantastic  book. If I could give it...\n",
       "244  positive    Exciting and inspirational!  Great information.\n",
       "245  positive                                          very good\n",
       "246  positive  I just received Donna Kato's Creative Surface ..."
      ]
     },
     "execution_count": 108,
     "metadata": {},
     "output_type": "execute_result"
    }
   ],
   "source": [
    "# Change 1-2 to negative, 3 to neutral, and 4-5 to positive for overall column\n",
    "df.overall.mask(df.overall == 1, \"negative\", inplace = True)\n",
    "df.overall.mask(df.overall == 2, \"negative\", inplace = True)\n",
    "df.overall.mask(df.overall == 3, \"neutral\", inplace = True)\n",
    "df.overall.mask(df.overall == 4, \"positive\", inplace = True)\n",
    "df.overall.mask(df.overall == 5, \"positive\", inplace = True)\n",
    "df.head()"
   ]
  },
  {
   "cell_type": "code",
   "execution_count": 109,
   "id": "9bbd0789",
   "metadata": {},
   "outputs": [],
   "source": [
    "# Creating length of words column\n",
    "df[\"length\"] = df[\"reviewText\"].str.split().str.len()"
   ]
  },
  {
   "cell_type": "code",
   "execution_count": 110,
   "id": "876877cd",
   "metadata": {},
   "outputs": [
    {
     "data": {
      "text/html": [
       "<div>\n",
       "<style scoped>\n",
       "    .dataframe tbody tr th:only-of-type {\n",
       "        vertical-align: middle;\n",
       "    }\n",
       "\n",
       "    .dataframe tbody tr th {\n",
       "        vertical-align: top;\n",
       "    }\n",
       "\n",
       "    .dataframe thead th {\n",
       "        text-align: right;\n",
       "    }\n",
       "</style>\n",
       "<table border=\"1\" class=\"dataframe\">\n",
       "  <thead>\n",
       "    <tr style=\"text-align: right;\">\n",
       "      <th></th>\n",
       "      <th>overall</th>\n",
       "      <th>reviewText</th>\n",
       "      <th>length</th>\n",
       "    </tr>\n",
       "  </thead>\n",
       "  <tbody>\n",
       "    <tr>\n",
       "      <th>50582</th>\n",
       "      <td>positive</td>\n",
       "      <td>1</td>\n",
       "      <td>NaN</td>\n",
       "    </tr>\n",
       "    <tr>\n",
       "      <th>50737</th>\n",
       "      <td>positive</td>\n",
       "      <td>1</td>\n",
       "      <td>NaN</td>\n",
       "    </tr>\n",
       "    <tr>\n",
       "      <th>108437</th>\n",
       "      <td>positive</td>\n",
       "      <td>1</td>\n",
       "      <td>NaN</td>\n",
       "    </tr>\n",
       "    <tr>\n",
       "      <th>125948</th>\n",
       "      <td>positive</td>\n",
       "      <td>1</td>\n",
       "      <td>NaN</td>\n",
       "    </tr>\n",
       "    <tr>\n",
       "      <th>128244</th>\n",
       "      <td>positive</td>\n",
       "      <td>1</td>\n",
       "      <td>NaN</td>\n",
       "    </tr>\n",
       "    <tr>\n",
       "      <th>...</th>\n",
       "      <td>...</td>\n",
       "      <td>...</td>\n",
       "      <td>...</td>\n",
       "    </tr>\n",
       "    <tr>\n",
       "      <th>1685641</th>\n",
       "      <td>positive</td>\n",
       "      <td>1</td>\n",
       "      <td>NaN</td>\n",
       "    </tr>\n",
       "    <tr>\n",
       "      <th>1872640</th>\n",
       "      <td>positive</td>\n",
       "      <td>1</td>\n",
       "      <td>NaN</td>\n",
       "    </tr>\n",
       "    <tr>\n",
       "      <th>1968848</th>\n",
       "      <td>positive</td>\n",
       "      <td>1</td>\n",
       "      <td>NaN</td>\n",
       "    </tr>\n",
       "    <tr>\n",
       "      <th>1986641</th>\n",
       "      <td>positive</td>\n",
       "      <td>1</td>\n",
       "      <td>NaN</td>\n",
       "    </tr>\n",
       "    <tr>\n",
       "      <th>2213828</th>\n",
       "      <td>positive</td>\n",
       "      <td>1</td>\n",
       "      <td>NaN</td>\n",
       "    </tr>\n",
       "  </tbody>\n",
       "</table>\n",
       "<p>65 rows × 3 columns</p>\n",
       "</div>"
      ],
      "text/plain": [
       "          overall reviewText  length\n",
       "50582    positive          1     NaN\n",
       "50737    positive          1     NaN\n",
       "108437   positive          1     NaN\n",
       "125948   positive          1     NaN\n",
       "128244   positive          1     NaN\n",
       "...           ...        ...     ...\n",
       "1685641  positive          1     NaN\n",
       "1872640  positive          1     NaN\n",
       "1968848  positive          1     NaN\n",
       "1986641  positive          1     NaN\n",
       "2213828  positive          1     NaN\n",
       "\n",
       "[65 rows x 3 columns]"
      ]
     },
     "execution_count": 110,
     "metadata": {},
     "output_type": "execute_result"
    }
   ],
   "source": [
    "# Checking why there's null values in the length\n",
    "row_has_NaN = df.isnull().any(axis=1)\n",
    "df[row_has_NaN]\n",
    "# It seems like the length of NaN means that the reviews aren't words"
   ]
  },
  {
   "cell_type": "code",
   "execution_count": 111,
   "id": "d0414f30",
   "metadata": {},
   "outputs": [
    {
     "data": {
      "text/plain": [
       "overall       0\n",
       "reviewText    0\n",
       "length        0\n",
       "dtype: int64"
      ]
     },
     "execution_count": 111,
     "metadata": {},
     "output_type": "execute_result"
    }
   ],
   "source": [
    "# Because those reviews are not text, will get rid of those rows so we could turn the length column into integer\n",
    "df.dropna(inplace = True)\n",
    "df.isnull().sum()"
   ]
  },
  {
   "cell_type": "code",
   "execution_count": 112,
   "id": "c611e7f6",
   "metadata": {},
   "outputs": [],
   "source": [
    "# Change to integer\n",
    "df.length = df.length.astype(\"int\")"
   ]
  },
  {
   "cell_type": "code",
   "execution_count": 113,
   "id": "1a6f1e9b",
   "metadata": {},
   "outputs": [
    {
     "data": {
      "text/html": [
       "<div>\n",
       "<style scoped>\n",
       "    .dataframe tbody tr th:only-of-type {\n",
       "        vertical-align: middle;\n",
       "    }\n",
       "\n",
       "    .dataframe tbody tr th {\n",
       "        vertical-align: top;\n",
       "    }\n",
       "\n",
       "    .dataframe thead th {\n",
       "        text-align: right;\n",
       "    }\n",
       "</style>\n",
       "<table border=\"1\" class=\"dataframe\">\n",
       "  <thead>\n",
       "    <tr style=\"text-align: right;\">\n",
       "      <th></th>\n",
       "      <th>overall</th>\n",
       "      <th>reviewText</th>\n",
       "      <th>length</th>\n",
       "      <th>punct</th>\n",
       "    </tr>\n",
       "  </thead>\n",
       "  <tbody>\n",
       "    <tr>\n",
       "      <th>242</th>\n",
       "      <td>positive</td>\n",
       "      <td>I've loved Donna Kato's work for some time, bu...</td>\n",
       "      <td>110</td>\n",
       "      <td>26</td>\n",
       "    </tr>\n",
       "    <tr>\n",
       "      <th>243</th>\n",
       "      <td>positive</td>\n",
       "      <td>Absolutely fantastic  book. If I could give it...</td>\n",
       "      <td>12</td>\n",
       "      <td>3</td>\n",
       "    </tr>\n",
       "    <tr>\n",
       "      <th>244</th>\n",
       "      <td>positive</td>\n",
       "      <td>Exciting and inspirational!  Great information.</td>\n",
       "      <td>5</td>\n",
       "      <td>2</td>\n",
       "    </tr>\n",
       "    <tr>\n",
       "      <th>245</th>\n",
       "      <td>positive</td>\n",
       "      <td>very good</td>\n",
       "      <td>2</td>\n",
       "      <td>0</td>\n",
       "    </tr>\n",
       "    <tr>\n",
       "      <th>246</th>\n",
       "      <td>positive</td>\n",
       "      <td>I just received Donna Kato's Creative Surface ...</td>\n",
       "      <td>121</td>\n",
       "      <td>12</td>\n",
       "    </tr>\n",
       "  </tbody>\n",
       "</table>\n",
       "</div>"
      ],
      "text/plain": [
       "      overall                                         reviewText  length  \\\n",
       "242  positive  I've loved Donna Kato's work for some time, bu...     110   \n",
       "243  positive  Absolutely fantastic  book. If I could give it...      12   \n",
       "244  positive    Exciting and inspirational!  Great information.       5   \n",
       "245  positive                                          very good       2   \n",
       "246  positive  I just received Donna Kato's Creative Surface ...     121   \n",
       "\n",
       "     punct  \n",
       "242     26  \n",
       "243      3  \n",
       "244      2  \n",
       "245      0  \n",
       "246     12  "
      ]
     },
     "execution_count": 113,
     "metadata": {},
     "output_type": "execute_result"
    }
   ],
   "source": [
    "# Create number of punc column\n",
    "import string\n",
    "count = lambda l1, l2: sum([1 for x in l1 if x in l2])\n",
    "\n",
    "df[\"punct\"] = df.reviewText.apply(lambda y: count(y, string.punctuation))\n",
    "df.head()"
   ]
  },
  {
   "cell_type": "code",
   "execution_count": 114,
   "id": "f5de6f6f",
   "metadata": {},
   "outputs": [
    {
     "data": {
      "text/plain": [
       "[]"
      ]
     },
     "execution_count": 114,
     "metadata": {},
     "output_type": "execute_result"
    }
   ],
   "source": [
    "# check for space i.e. any blank message\n",
    "blanks = []\n",
    "\n",
    "for idx, label, review, length, punct in df.itertuples():\n",
    "    if review.isspace():\n",
    "        blanks.append(i)\n",
    "blanks\n",
    "\n",
    "# Since there isn't any blank messages, we can continue to the next step"
   ]
  },
  {
   "cell_type": "code",
   "execution_count": 115,
   "id": "2a832638",
   "metadata": {},
   "outputs": [
    {
     "data": {
      "text/html": [
       "<div>\n",
       "<style scoped>\n",
       "    .dataframe tbody tr th:only-of-type {\n",
       "        vertical-align: middle;\n",
       "    }\n",
       "\n",
       "    .dataframe tbody tr th {\n",
       "        vertical-align: top;\n",
       "    }\n",
       "\n",
       "    .dataframe thead th {\n",
       "        text-align: right;\n",
       "    }\n",
       "</style>\n",
       "<table border=\"1\" class=\"dataframe\">\n",
       "  <thead>\n",
       "    <tr style=\"text-align: right;\">\n",
       "      <th></th>\n",
       "      <th>overall</th>\n",
       "      <th>reviewText</th>\n",
       "      <th>length</th>\n",
       "      <th>punct</th>\n",
       "    </tr>\n",
       "  </thead>\n",
       "  <tbody>\n",
       "    <tr>\n",
       "      <th>242</th>\n",
       "      <td>positive</td>\n",
       "      <td>I've loved Donna Kato's work for some time, bu...</td>\n",
       "      <td>110</td>\n",
       "      <td>26</td>\n",
       "    </tr>\n",
       "    <tr>\n",
       "      <th>243</th>\n",
       "      <td>positive</td>\n",
       "      <td>Absolutely fantastic  book. If I could give it...</td>\n",
       "      <td>12</td>\n",
       "      <td>3</td>\n",
       "    </tr>\n",
       "    <tr>\n",
       "      <th>244</th>\n",
       "      <td>positive</td>\n",
       "      <td>Exciting and inspirational!  Great information.</td>\n",
       "      <td>5</td>\n",
       "      <td>2</td>\n",
       "    </tr>\n",
       "    <tr>\n",
       "      <th>245</th>\n",
       "      <td>positive</td>\n",
       "      <td>very good</td>\n",
       "      <td>2</td>\n",
       "      <td>0</td>\n",
       "    </tr>\n",
       "    <tr>\n",
       "      <th>246</th>\n",
       "      <td>positive</td>\n",
       "      <td>I just received Donna Kato's Creative Surface ...</td>\n",
       "      <td>121</td>\n",
       "      <td>12</td>\n",
       "    </tr>\n",
       "  </tbody>\n",
       "</table>\n",
       "</div>"
      ],
      "text/plain": [
       "      overall                                         reviewText  length  \\\n",
       "242  positive  I've loved Donna Kato's work for some time, bu...     110   \n",
       "243  positive  Absolutely fantastic  book. If I could give it...      12   \n",
       "244  positive    Exciting and inspirational!  Great information.       5   \n",
       "245  positive                                          very good       2   \n",
       "246  positive  I just received Donna Kato's Creative Surface ...     121   \n",
       "\n",
       "     punct  \n",
       "242     26  \n",
       "243      3  \n",
       "244      2  \n",
       "245      0  \n",
       "246     12  "
      ]
     },
     "execution_count": 115,
     "metadata": {},
     "output_type": "execute_result"
    }
   ],
   "source": [
    "# Remove HTML code artifacts\n",
    "from bs4 import BeautifulSoup\n",
    "\n",
    "df['reviewText'] = [BeautifulSoup(text).get_text() for text in df['reviewText']]\n",
    "df.head()"
   ]
  },
  {
   "cell_type": "code",
   "execution_count": 116,
   "id": "db0dbfb0",
   "metadata": {},
   "outputs": [
    {
     "data": {
      "text/html": [
       "<div>\n",
       "<style scoped>\n",
       "    .dataframe tbody tr th:only-of-type {\n",
       "        vertical-align: middle;\n",
       "    }\n",
       "\n",
       "    .dataframe tbody tr th {\n",
       "        vertical-align: top;\n",
       "    }\n",
       "\n",
       "    .dataframe thead th {\n",
       "        text-align: right;\n",
       "    }\n",
       "</style>\n",
       "<table border=\"1\" class=\"dataframe\">\n",
       "  <thead>\n",
       "    <tr style=\"text-align: right;\">\n",
       "      <th></th>\n",
       "      <th>overall</th>\n",
       "      <th>reviewText</th>\n",
       "      <th>length</th>\n",
       "      <th>punct</th>\n",
       "    </tr>\n",
       "  </thead>\n",
       "  <tbody>\n",
       "    <tr>\n",
       "      <th>242</th>\n",
       "      <td>positive</td>\n",
       "      <td>I ve loved Donna Kato s work for some time  bu...</td>\n",
       "      <td>110</td>\n",
       "      <td>26</td>\n",
       "    </tr>\n",
       "    <tr>\n",
       "      <th>243</th>\n",
       "      <td>positive</td>\n",
       "      <td>Absolutely fantastic  book  If I could give it...</td>\n",
       "      <td>12</td>\n",
       "      <td>3</td>\n",
       "    </tr>\n",
       "    <tr>\n",
       "      <th>244</th>\n",
       "      <td>positive</td>\n",
       "      <td>Exciting and inspirational   Great information</td>\n",
       "      <td>5</td>\n",
       "      <td>2</td>\n",
       "    </tr>\n",
       "    <tr>\n",
       "      <th>245</th>\n",
       "      <td>positive</td>\n",
       "      <td>very good</td>\n",
       "      <td>2</td>\n",
       "      <td>0</td>\n",
       "    </tr>\n",
       "    <tr>\n",
       "      <th>246</th>\n",
       "      <td>positive</td>\n",
       "      <td>I just received Donna Kato s Creative Surface ...</td>\n",
       "      <td>121</td>\n",
       "      <td>12</td>\n",
       "    </tr>\n",
       "  </tbody>\n",
       "</table>\n",
       "</div>"
      ],
      "text/plain": [
       "      overall                                         reviewText  length  \\\n",
       "242  positive  I ve loved Donna Kato s work for some time  bu...     110   \n",
       "243  positive  Absolutely fantastic  book  If I could give it...      12   \n",
       "244  positive    Exciting and inspirational   Great information        5   \n",
       "245  positive                                          very good       2   \n",
       "246  positive  I just received Donna Kato s Creative Surface ...     121   \n",
       "\n",
       "     punct  \n",
       "242     26  \n",
       "243      3  \n",
       "244      2  \n",
       "245      0  \n",
       "246     12  "
      ]
     },
     "execution_count": 116,
     "metadata": {},
     "output_type": "execute_result"
    }
   ],
   "source": [
    "# Remove non letters\n",
    "df['reviewText'] = df.reviewText.str.replace('[^a-zA-Z]', ' ')\n",
    "df.head()"
   ]
  },
  {
   "cell_type": "code",
   "execution_count": 117,
   "id": "a5ec0aa2",
   "metadata": {},
   "outputs": [
    {
     "data": {
      "text/html": [
       "<div>\n",
       "<style scoped>\n",
       "    .dataframe tbody tr th:only-of-type {\n",
       "        vertical-align: middle;\n",
       "    }\n",
       "\n",
       "    .dataframe tbody tr th {\n",
       "        vertical-align: top;\n",
       "    }\n",
       "\n",
       "    .dataframe thead th {\n",
       "        text-align: right;\n",
       "    }\n",
       "</style>\n",
       "<table border=\"1\" class=\"dataframe\">\n",
       "  <thead>\n",
       "    <tr style=\"text-align: right;\">\n",
       "      <th></th>\n",
       "      <th>overall</th>\n",
       "      <th>reviewText</th>\n",
       "      <th>length</th>\n",
       "      <th>punct</th>\n",
       "    </tr>\n",
       "  </thead>\n",
       "  <tbody>\n",
       "    <tr>\n",
       "      <th>242</th>\n",
       "      <td>positive</td>\n",
       "      <td>I ve loved Donna Kato s work for some time  bu...</td>\n",
       "      <td>110</td>\n",
       "      <td>26</td>\n",
       "    </tr>\n",
       "    <tr>\n",
       "      <th>243</th>\n",
       "      <td>positive</td>\n",
       "      <td>Absolutely fantastic  book  If I could give it...</td>\n",
       "      <td>12</td>\n",
       "      <td>3</td>\n",
       "    </tr>\n",
       "    <tr>\n",
       "      <th>244</th>\n",
       "      <td>positive</td>\n",
       "      <td>Exciting and inspirational   Great information</td>\n",
       "      <td>5</td>\n",
       "      <td>2</td>\n",
       "    </tr>\n",
       "    <tr>\n",
       "      <th>245</th>\n",
       "      <td>positive</td>\n",
       "      <td>very good</td>\n",
       "      <td>2</td>\n",
       "      <td>0</td>\n",
       "    </tr>\n",
       "    <tr>\n",
       "      <th>246</th>\n",
       "      <td>positive</td>\n",
       "      <td>I just received Donna Kato s Creative Surface ...</td>\n",
       "      <td>121</td>\n",
       "      <td>12</td>\n",
       "    </tr>\n",
       "  </tbody>\n",
       "</table>\n",
       "</div>"
      ],
      "text/plain": [
       "      overall                                         reviewText  length  \\\n",
       "242  positive  I ve loved Donna Kato s work for some time  bu...     110   \n",
       "243  positive  Absolutely fantastic  book  If I could give it...      12   \n",
       "244  positive    Exciting and inspirational   Great information        5   \n",
       "245  positive                                          very good       2   \n",
       "246  positive  I just received Donna Kato s Creative Surface ...     121   \n",
       "\n",
       "     punct  \n",
       "242     26  \n",
       "243      3  \n",
       "244      2  \n",
       "245      0  \n",
       "246     12  "
      ]
     },
     "execution_count": 117,
     "metadata": {},
     "output_type": "execute_result"
    }
   ],
   "source": [
    "# Remove punctuations from the reviews\n",
    "df[\"reviewText\"] = df['reviewText'].str.replace('[^\\w\\s]','')\n",
    "df.head()"
   ]
  },
  {
   "cell_type": "code",
   "execution_count": 118,
   "id": "ed9b2759",
   "metadata": {},
   "outputs": [
    {
     "data": {
      "text/html": [
       "<div>\n",
       "<style scoped>\n",
       "    .dataframe tbody tr th:only-of-type {\n",
       "        vertical-align: middle;\n",
       "    }\n",
       "\n",
       "    .dataframe tbody tr th {\n",
       "        vertical-align: top;\n",
       "    }\n",
       "\n",
       "    .dataframe thead th {\n",
       "        text-align: right;\n",
       "    }\n",
       "</style>\n",
       "<table border=\"1\" class=\"dataframe\">\n",
       "  <thead>\n",
       "    <tr style=\"text-align: right;\">\n",
       "      <th></th>\n",
       "      <th>overall</th>\n",
       "      <th>reviewText</th>\n",
       "      <th>length</th>\n",
       "      <th>punct</th>\n",
       "    </tr>\n",
       "  </thead>\n",
       "  <tbody>\n",
       "    <tr>\n",
       "      <th>242</th>\n",
       "      <td>positive</td>\n",
       "      <td>i ve loved donna kato s work for some time  bu...</td>\n",
       "      <td>110</td>\n",
       "      <td>26</td>\n",
       "    </tr>\n",
       "    <tr>\n",
       "      <th>243</th>\n",
       "      <td>positive</td>\n",
       "      <td>absolutely fantastic  book  if i could give it...</td>\n",
       "      <td>12</td>\n",
       "      <td>3</td>\n",
       "    </tr>\n",
       "    <tr>\n",
       "      <th>244</th>\n",
       "      <td>positive</td>\n",
       "      <td>exciting and inspirational   great information</td>\n",
       "      <td>5</td>\n",
       "      <td>2</td>\n",
       "    </tr>\n",
       "    <tr>\n",
       "      <th>245</th>\n",
       "      <td>positive</td>\n",
       "      <td>very good</td>\n",
       "      <td>2</td>\n",
       "      <td>0</td>\n",
       "    </tr>\n",
       "    <tr>\n",
       "      <th>246</th>\n",
       "      <td>positive</td>\n",
       "      <td>i just received donna kato s creative surface ...</td>\n",
       "      <td>121</td>\n",
       "      <td>12</td>\n",
       "    </tr>\n",
       "  </tbody>\n",
       "</table>\n",
       "</div>"
      ],
      "text/plain": [
       "      overall                                         reviewText  length  \\\n",
       "242  positive  i ve loved donna kato s work for some time  bu...     110   \n",
       "243  positive  absolutely fantastic  book  if i could give it...      12   \n",
       "244  positive    exciting and inspirational   great information        5   \n",
       "245  positive                                          very good       2   \n",
       "246  positive  i just received donna kato s creative surface ...     121   \n",
       "\n",
       "     punct  \n",
       "242     26  \n",
       "243      3  \n",
       "244      2  \n",
       "245      0  \n",
       "246     12  "
      ]
     },
     "execution_count": 118,
     "metadata": {},
     "output_type": "execute_result"
    }
   ],
   "source": [
    "# Turn everything lower case for reviews\n",
    "df.reviewText = df.reviewText.str.lower()\n",
    "df.head()"
   ]
  },
  {
   "cell_type": "code",
   "execution_count": 119,
   "id": "4dde0d72",
   "metadata": {},
   "outputs": [
    {
     "data": {
      "text/plain": [
       "['i',\n",
       " 'me',\n",
       " 'my',\n",
       " 'myself',\n",
       " 'we',\n",
       " 'our',\n",
       " 'ours',\n",
       " 'ourselves',\n",
       " 'you',\n",
       " \"you're\",\n",
       " \"you've\",\n",
       " \"you'll\",\n",
       " \"you'd\",\n",
       " 'your',\n",
       " 'yours',\n",
       " 'yourself',\n",
       " 'yourselves',\n",
       " 'he',\n",
       " 'him',\n",
       " 'his',\n",
       " 'himself',\n",
       " 'she',\n",
       " \"she's\",\n",
       " 'her',\n",
       " 'hers',\n",
       " 'herself',\n",
       " 'it',\n",
       " \"it's\",\n",
       " 'its',\n",
       " 'itself',\n",
       " 'they',\n",
       " 'them',\n",
       " 'their',\n",
       " 'theirs',\n",
       " 'themselves',\n",
       " 'what',\n",
       " 'which',\n",
       " 'who',\n",
       " 'whom',\n",
       " 'this',\n",
       " 'that',\n",
       " \"that'll\",\n",
       " 'these',\n",
       " 'those',\n",
       " 'am',\n",
       " 'is',\n",
       " 'are',\n",
       " 'was',\n",
       " 'were',\n",
       " 'be',\n",
       " 'been',\n",
       " 'being',\n",
       " 'have',\n",
       " 'has',\n",
       " 'had',\n",
       " 'having',\n",
       " 'do',\n",
       " 'does',\n",
       " 'did',\n",
       " 'doing',\n",
       " 'a',\n",
       " 'an',\n",
       " 'the',\n",
       " 'and',\n",
       " 'but',\n",
       " 'if',\n",
       " 'or',\n",
       " 'because',\n",
       " 'as',\n",
       " 'until',\n",
       " 'while',\n",
       " 'of',\n",
       " 'at',\n",
       " 'by',\n",
       " 'for',\n",
       " 'with',\n",
       " 'about',\n",
       " 'against',\n",
       " 'between',\n",
       " 'into',\n",
       " 'through',\n",
       " 'during',\n",
       " 'before',\n",
       " 'after',\n",
       " 'above',\n",
       " 'below',\n",
       " 'to',\n",
       " 'from',\n",
       " 'up',\n",
       " 'down',\n",
       " 'in',\n",
       " 'out',\n",
       " 'on',\n",
       " 'off',\n",
       " 'over',\n",
       " 'under',\n",
       " 'again',\n",
       " 'further',\n",
       " 'then',\n",
       " 'once',\n",
       " 'here',\n",
       " 'there',\n",
       " 'when',\n",
       " 'where',\n",
       " 'why',\n",
       " 'how',\n",
       " 'all',\n",
       " 'any',\n",
       " 'both',\n",
       " 'each',\n",
       " 'few',\n",
       " 'more',\n",
       " 'most',\n",
       " 'other',\n",
       " 'some',\n",
       " 'such',\n",
       " 'no',\n",
       " 'nor',\n",
       " 'not',\n",
       " 'only',\n",
       " 'own',\n",
       " 'same',\n",
       " 'so',\n",
       " 'than',\n",
       " 'too',\n",
       " 'very',\n",
       " 's',\n",
       " 't',\n",
       " 'can',\n",
       " 'will',\n",
       " 'just',\n",
       " 'don',\n",
       " \"don't\",\n",
       " 'should',\n",
       " \"should've\",\n",
       " 'now',\n",
       " 'd',\n",
       " 'll',\n",
       " 'm',\n",
       " 'o',\n",
       " 're',\n",
       " 've',\n",
       " 'y',\n",
       " 'ain',\n",
       " 'aren',\n",
       " \"aren't\",\n",
       " 'couldn',\n",
       " \"couldn't\",\n",
       " 'didn',\n",
       " \"didn't\",\n",
       " 'doesn',\n",
       " \"doesn't\",\n",
       " 'hadn',\n",
       " \"hadn't\",\n",
       " 'hasn',\n",
       " \"hasn't\",\n",
       " 'haven',\n",
       " \"haven't\",\n",
       " 'isn',\n",
       " \"isn't\",\n",
       " 'ma',\n",
       " 'mightn',\n",
       " \"mightn't\",\n",
       " 'mustn',\n",
       " \"mustn't\",\n",
       " 'needn',\n",
       " \"needn't\",\n",
       " 'shan',\n",
       " \"shan't\",\n",
       " 'shouldn',\n",
       " \"shouldn't\",\n",
       " 'wasn',\n",
       " \"wasn't\",\n",
       " 'weren',\n",
       " \"weren't\",\n",
       " 'won',\n",
       " \"won't\",\n",
       " 'wouldn',\n",
       " \"wouldn't\"]"
      ]
     },
     "execution_count": 119,
     "metadata": {},
     "output_type": "execute_result"
    }
   ],
   "source": [
    "# Checking what are stop words\n",
    "from nltk.corpus import stopwords\n",
    "stop = stopwords.words(\"english\")\n",
    "stop"
   ]
  },
  {
   "cell_type": "code",
   "execution_count": 120,
   "id": "ef77cdb3",
   "metadata": {},
   "outputs": [
    {
     "data": {
      "text/html": [
       "<div>\n",
       "<style scoped>\n",
       "    .dataframe tbody tr th:only-of-type {\n",
       "        vertical-align: middle;\n",
       "    }\n",
       "\n",
       "    .dataframe tbody tr th {\n",
       "        vertical-align: top;\n",
       "    }\n",
       "\n",
       "    .dataframe thead th {\n",
       "        text-align: right;\n",
       "    }\n",
       "</style>\n",
       "<table border=\"1\" class=\"dataframe\">\n",
       "  <thead>\n",
       "    <tr style=\"text-align: right;\">\n",
       "      <th></th>\n",
       "      <th>overall</th>\n",
       "      <th>reviewText</th>\n",
       "      <th>length</th>\n",
       "      <th>punct</th>\n",
       "    </tr>\n",
       "  </thead>\n",
       "  <tbody>\n",
       "    <tr>\n",
       "      <th>242</th>\n",
       "      <td>positive</td>\n",
       "      <td>loved donna kato work time purchased several p...</td>\n",
       "      <td>110</td>\n",
       "      <td>26</td>\n",
       "    </tr>\n",
       "    <tr>\n",
       "      <th>243</th>\n",
       "      <td>positive</td>\n",
       "      <td>absolutely fantastic book could give stars would</td>\n",
       "      <td>12</td>\n",
       "      <td>3</td>\n",
       "    </tr>\n",
       "    <tr>\n",
       "      <th>244</th>\n",
       "      <td>positive</td>\n",
       "      <td>exciting inspirational great information</td>\n",
       "      <td>5</td>\n",
       "      <td>2</td>\n",
       "    </tr>\n",
       "    <tr>\n",
       "      <th>245</th>\n",
       "      <td>positive</td>\n",
       "      <td>good</td>\n",
       "      <td>2</td>\n",
       "      <td>0</td>\n",
       "    </tr>\n",
       "    <tr>\n",
       "      <th>246</th>\n",
       "      <td>positive</td>\n",
       "      <td>received donna kato creative surface effects b...</td>\n",
       "      <td>121</td>\n",
       "      <td>12</td>\n",
       "    </tr>\n",
       "  </tbody>\n",
       "</table>\n",
       "</div>"
      ],
      "text/plain": [
       "      overall                                         reviewText  length  \\\n",
       "242  positive  loved donna kato work time purchased several p...     110   \n",
       "243  positive   absolutely fantastic book could give stars would      12   \n",
       "244  positive           exciting inspirational great information       5   \n",
       "245  positive                                               good       2   \n",
       "246  positive  received donna kato creative surface effects b...     121   \n",
       "\n",
       "     punct  \n",
       "242     26  \n",
       "243      3  \n",
       "244      2  \n",
       "245      0  \n",
       "246     12  "
      ]
     },
     "execution_count": 120,
     "metadata": {},
     "output_type": "execute_result"
    }
   ],
   "source": [
    "# Removing stop words\n",
    "df.reviewText = df.reviewText.apply(lambda x: \" \".join([word for word in x.split() if word not in (stop)]))\n",
    "df.head()"
   ]
  },
  {
   "cell_type": "code",
   "execution_count": 121,
   "id": "b43a475e",
   "metadata": {},
   "outputs": [
    {
     "data": {
      "text/html": [
       "<div>\n",
       "<style scoped>\n",
       "    .dataframe tbody tr th:only-of-type {\n",
       "        vertical-align: middle;\n",
       "    }\n",
       "\n",
       "    .dataframe tbody tr th {\n",
       "        vertical-align: top;\n",
       "    }\n",
       "\n",
       "    .dataframe thead th {\n",
       "        text-align: right;\n",
       "    }\n",
       "</style>\n",
       "<table border=\"1\" class=\"dataframe\">\n",
       "  <thead>\n",
       "    <tr style=\"text-align: right;\">\n",
       "      <th></th>\n",
       "      <th>0</th>\n",
       "    </tr>\n",
       "  </thead>\n",
       "  <tbody>\n",
       "    <tr>\n",
       "      <th>0</th>\n",
       "      <td>a</td>\n",
       "    </tr>\n",
       "    <tr>\n",
       "      <th>1</th>\n",
       "      <td>able</td>\n",
       "    </tr>\n",
       "    <tr>\n",
       "      <th>2</th>\n",
       "      <td>about</td>\n",
       "    </tr>\n",
       "    <tr>\n",
       "      <th>3</th>\n",
       "      <td>above</td>\n",
       "    </tr>\n",
       "    <tr>\n",
       "      <th>4</th>\n",
       "      <td>abst</td>\n",
       "    </tr>\n",
       "  </tbody>\n",
       "</table>\n",
       "</div>"
      ],
      "text/plain": [
       "       0\n",
       "0      a\n",
       "1   able\n",
       "2  about\n",
       "3  above\n",
       "4   abst"
      ]
     },
     "execution_count": 121,
     "metadata": {},
     "output_type": "execute_result"
    }
   ],
   "source": [
    "# Import the stop words csv file that I created from the website\n",
    "# https://www.ranks.nl/stopwords\n",
    "\n",
    "stop = pd.read_csv(\"stop_words.csv\", header = None)\n",
    "stop.head()"
   ]
  },
  {
   "cell_type": "code",
   "execution_count": 122,
   "id": "e191c5dc",
   "metadata": {},
   "outputs": [
    {
     "data": {
      "text/html": [
       "<div>\n",
       "<style scoped>\n",
       "    .dataframe tbody tr th:only-of-type {\n",
       "        vertical-align: middle;\n",
       "    }\n",
       "\n",
       "    .dataframe tbody tr th {\n",
       "        vertical-align: top;\n",
       "    }\n",
       "\n",
       "    .dataframe thead th {\n",
       "        text-align: right;\n",
       "    }\n",
       "</style>\n",
       "<table border=\"1\" class=\"dataframe\">\n",
       "  <thead>\n",
       "    <tr style=\"text-align: right;\">\n",
       "      <th></th>\n",
       "      <th>overall</th>\n",
       "      <th>reviewText</th>\n",
       "      <th>length</th>\n",
       "      <th>punct</th>\n",
       "    </tr>\n",
       "  </thead>\n",
       "  <tbody>\n",
       "    <tr>\n",
       "      <th>242</th>\n",
       "      <td>positive</td>\n",
       "      <td>loved donna kato work time purchased polymer c...</td>\n",
       "      <td>110</td>\n",
       "      <td>26</td>\n",
       "    </tr>\n",
       "    <tr>\n",
       "      <th>243</th>\n",
       "      <td>positive</td>\n",
       "      <td>absolutely fantastic book stars</td>\n",
       "      <td>12</td>\n",
       "      <td>3</td>\n",
       "    </tr>\n",
       "    <tr>\n",
       "      <th>244</th>\n",
       "      <td>positive</td>\n",
       "      <td>exciting inspirational great</td>\n",
       "      <td>5</td>\n",
       "      <td>2</td>\n",
       "    </tr>\n",
       "    <tr>\n",
       "      <th>245</th>\n",
       "      <td>positive</td>\n",
       "      <td>good</td>\n",
       "      <td>2</td>\n",
       "      <td>0</td>\n",
       "    </tr>\n",
       "    <tr>\n",
       "      <th>246</th>\n",
       "      <td>positive</td>\n",
       "      <td>received donna kato creative surface effects b...</td>\n",
       "      <td>121</td>\n",
       "      <td>12</td>\n",
       "    </tr>\n",
       "  </tbody>\n",
       "</table>\n",
       "</div>"
      ],
      "text/plain": [
       "      overall                                         reviewText  length  \\\n",
       "242  positive  loved donna kato work time purchased polymer c...     110   \n",
       "243  positive                    absolutely fantastic book stars      12   \n",
       "244  positive                       exciting inspirational great       5   \n",
       "245  positive                                               good       2   \n",
       "246  positive  received donna kato creative surface effects b...     121   \n",
       "\n",
       "     punct  \n",
       "242     26  \n",
       "243      3  \n",
       "244      2  \n",
       "245      0  \n",
       "246     12  "
      ]
     },
     "execution_count": 122,
     "metadata": {},
     "output_type": "execute_result"
    }
   ],
   "source": [
    "# Turn it into a list\n",
    "stop = [x for x in stop[0]]\n",
    "\n",
    "# Removing stop words again\n",
    "df.reviewText = df.reviewText.apply(lambda x: \" \".join([word for word in x.split() if word not in (stop)]))\n",
    "df.head()"
   ]
  },
  {
   "cell_type": "code",
   "execution_count": 123,
   "id": "41fdfab3",
   "metadata": {},
   "outputs": [
    {
     "data": {
      "text/plain": [
       "'loved donna kato work time purchased polymer clay books years working pc ms kato books purchased received today read cover cover hands itching techniques generously painstakingly shares leading polymer clay artists sell techniques individually seminars expensive dvds ms kato demonstrated processes hungry learn place beautiful inexpensive written book hats donna kato'"
      ]
     },
     "execution_count": 123,
     "metadata": {},
     "output_type": "execute_result"
    }
   ],
   "source": [
    "df.reviewText[242]"
   ]
  },
  {
   "cell_type": "code",
   "execution_count": 124,
   "id": "1d1e649a",
   "metadata": {},
   "outputs": [],
   "source": [
    "# Making a copy of the data frame so we can test one with lemmatization and one without\n",
    "# Lemmatizing means to assign the base form of words. This will help turn all the text into its base words so we won't\n",
    "# duplicate the same words. For example: shop, shopping, shopped\n",
    "df2 = df.copy()"
   ]
  },
  {
   "cell_type": "code",
   "execution_count": 125,
   "id": "754bf727",
   "metadata": {},
   "outputs": [],
   "source": [
    "# Lemmatize the copied dataframe with PorterStemmer\n",
    "import nltk\n",
    "\n",
    "lm = nltk.PorterStemmer()"
   ]
  },
  {
   "cell_type": "code",
   "execution_count": 126,
   "id": "66b1fc9b",
   "metadata": {},
   "outputs": [
    {
     "data": {
      "text/html": [
       "<div>\n",
       "<style scoped>\n",
       "    .dataframe tbody tr th:only-of-type {\n",
       "        vertical-align: middle;\n",
       "    }\n",
       "\n",
       "    .dataframe tbody tr th {\n",
       "        vertical-align: top;\n",
       "    }\n",
       "\n",
       "    .dataframe thead th {\n",
       "        text-align: right;\n",
       "    }\n",
       "</style>\n",
       "<table border=\"1\" class=\"dataframe\">\n",
       "  <thead>\n",
       "    <tr style=\"text-align: right;\">\n",
       "      <th></th>\n",
       "      <th>overall</th>\n",
       "      <th>reviewText</th>\n",
       "      <th>length</th>\n",
       "      <th>punct</th>\n",
       "    </tr>\n",
       "  </thead>\n",
       "  <tbody>\n",
       "    <tr>\n",
       "      <th>242</th>\n",
       "      <td>positive</td>\n",
       "      <td>love donna kato work time purchas polym clay b...</td>\n",
       "      <td>110</td>\n",
       "      <td>26</td>\n",
       "    </tr>\n",
       "    <tr>\n",
       "      <th>243</th>\n",
       "      <td>positive</td>\n",
       "      <td>absolut fantast book star</td>\n",
       "      <td>12</td>\n",
       "      <td>3</td>\n",
       "    </tr>\n",
       "    <tr>\n",
       "      <th>244</th>\n",
       "      <td>positive</td>\n",
       "      <td>excit inspir great</td>\n",
       "      <td>5</td>\n",
       "      <td>2</td>\n",
       "    </tr>\n",
       "    <tr>\n",
       "      <th>245</th>\n",
       "      <td>positive</td>\n",
       "      <td>good</td>\n",
       "      <td>2</td>\n",
       "      <td>0</td>\n",
       "    </tr>\n",
       "    <tr>\n",
       "      <th>246</th>\n",
       "      <td>positive</td>\n",
       "      <td>receiv donna kato creativ surfac effect book a...</td>\n",
       "      <td>121</td>\n",
       "      <td>12</td>\n",
       "    </tr>\n",
       "  </tbody>\n",
       "</table>\n",
       "</div>"
      ],
      "text/plain": [
       "      overall                                         reviewText  length  \\\n",
       "242  positive  love donna kato work time purchas polym clay b...     110   \n",
       "243  positive                          absolut fantast book star      12   \n",
       "244  positive                                 excit inspir great       5   \n",
       "245  positive                                               good       2   \n",
       "246  positive  receiv donna kato creativ surfac effect book a...     121   \n",
       "\n",
       "     punct  \n",
       "242     26  \n",
       "243      3  \n",
       "244      2  \n",
       "245      0  \n",
       "246     12  "
      ]
     },
     "execution_count": 126,
     "metadata": {},
     "output_type": "execute_result"
    }
   ],
   "source": [
    "# Create a function for PorterStemmer\n",
    "def lemmatize_txt(text):\n",
    "    word_list = nltk.word_tokenize(text)\n",
    "    \n",
    "    lm_output = \" \".join([lm.stem(x) for x in word_list])\n",
    "    return lm_output\n",
    "\n",
    "# Lemmatize the reviews\n",
    "df2.reviewText = df.reviewText.apply(lemmatize_txt)\n",
    "df2.head()"
   ]
  },
  {
   "cell_type": "code",
   "execution_count": 127,
   "id": "94bb7685",
   "metadata": {},
   "outputs": [
    {
     "data": {
      "text/html": [
       "<div>\n",
       "<style scoped>\n",
       "    .dataframe tbody tr th:only-of-type {\n",
       "        vertical-align: middle;\n",
       "    }\n",
       "\n",
       "    .dataframe tbody tr th {\n",
       "        vertical-align: top;\n",
       "    }\n",
       "\n",
       "    .dataframe thead th {\n",
       "        text-align: right;\n",
       "    }\n",
       "</style>\n",
       "<table border=\"1\" class=\"dataframe\">\n",
       "  <thead>\n",
       "    <tr style=\"text-align: right;\">\n",
       "      <th></th>\n",
       "      <th>overall</th>\n",
       "      <th>reviewText</th>\n",
       "      <th>length</th>\n",
       "      <th>punct</th>\n",
       "    </tr>\n",
       "  </thead>\n",
       "  <tbody>\n",
       "    <tr>\n",
       "      <th>242</th>\n",
       "      <td>positive</td>\n",
       "      <td>loved donna kato work time purchased polymer c...</td>\n",
       "      <td>110</td>\n",
       "      <td>26</td>\n",
       "    </tr>\n",
       "    <tr>\n",
       "      <th>243</th>\n",
       "      <td>positive</td>\n",
       "      <td>absolutely fantastic book star</td>\n",
       "      <td>12</td>\n",
       "      <td>3</td>\n",
       "    </tr>\n",
       "    <tr>\n",
       "      <th>244</th>\n",
       "      <td>positive</td>\n",
       "      <td>exciting inspirational great</td>\n",
       "      <td>5</td>\n",
       "      <td>2</td>\n",
       "    </tr>\n",
       "    <tr>\n",
       "      <th>245</th>\n",
       "      <td>positive</td>\n",
       "      <td>good</td>\n",
       "      <td>2</td>\n",
       "      <td>0</td>\n",
       "    </tr>\n",
       "    <tr>\n",
       "      <th>246</th>\n",
       "      <td>positive</td>\n",
       "      <td>received donna kato creative surface effect bo...</td>\n",
       "      <td>121</td>\n",
       "      <td>12</td>\n",
       "    </tr>\n",
       "  </tbody>\n",
       "</table>\n",
       "</div>"
      ],
      "text/plain": [
       "      overall                                         reviewText  length  \\\n",
       "242  positive  loved donna kato work time purchased polymer c...     110   \n",
       "243  positive                     absolutely fantastic book star      12   \n",
       "244  positive                       exciting inspirational great       5   \n",
       "245  positive                                               good       2   \n",
       "246  positive  received donna kato creative surface effect bo...     121   \n",
       "\n",
       "     punct  \n",
       "242     26  \n",
       "243      3  \n",
       "244      2  \n",
       "245      0  \n",
       "246     12  "
      ]
     },
     "execution_count": 127,
     "metadata": {},
     "output_type": "execute_result"
    }
   ],
   "source": [
    "# Making another copy of the data frame\n",
    "lm2 = nltk.stem.WordNetLemmatizer()\n",
    "\n",
    "df3 = df.copy()\n",
    "\n",
    "# Create a function for WordNetLemmatizer\n",
    "def lemmatize_txt2(text):\n",
    "    word_list = nltk.word_tokenize(text)\n",
    "    \n",
    "    lm_output = \" \".join([lm2.lemmatize(x) for x in word_list])\n",
    "    return lm_output\n",
    "\n",
    "# Lemmatize the reviews\n",
    "df3.reviewText = df3.reviewText.apply(lemmatize_txt2)\n",
    "df3.head()"
   ]
  },
  {
   "cell_type": "code",
   "execution_count": 128,
   "id": "8bdd517a",
   "metadata": {},
   "outputs": [
    {
     "data": {
      "image/png": "[encoded data removed]",
      "text/plain": [
       "<Figure size 720x432 with 1 Axes>"
      ]
     },
     "metadata": {
      "needs_background": "light"
     },
     "output_type": "display_data"
    }
   ],
   "source": [
    "# Time to create graphs with the original dataframe\n",
    "import seaborn as sns\n",
    "import matplotlib.pyplot as plt\n",
    "%matplotlib inline\n",
    "\n",
    "fig, ax = plt.subplots(figsize = (10, 6))\n",
    "ax.ticklabel_format(useOffset = False, style = \"plain\")\n",
    "sns.countplot(df.overall, palette = \"rainbow\")\n",
    "plt.xlabel(\"Overall Rating\")\n",
    "plt.ylabel(\"Count\")\n",
    "plt.title(\"Bar Chart of Overall Rating\");\n",
    "\n",
    "# This bar graph shows that there are more positive reviews than neutral and negative. It also shows that there's definitely an\n",
    "# imbalance with the overall rating. "
   ]
  },
  {
   "cell_type": "code",
   "execution_count": 99,
   "id": "72ba9b91",
   "metadata": {},
   "outputs": [
    {
     "data": {
      "image/png": "[encoded data removed]",
      "text/plain": [
       "<Figure size 720x576 with 1 Axes>"
      ]
     },
     "metadata": {
      "needs_background": "light"
     },
     "output_type": "display_data"
    }
   ],
   "source": [
    "# Creating histogram with the length of words, scaling the x by log so it would respond to skewness towards large values\n",
    "# (which  one or a few points are much larger than the majority of the data)\n",
    "plt.figure(figsize = (10,8))\n",
    "plt.xscale(\"log\")\n",
    "bins = 1.5 ** (np.arange(0,15))\n",
    "plt.hist(df[df.overall == \"positive\"][\"length\"], bins = bins, alpha = .6)\n",
    "plt.hist(df[df.overall == \"negative\"][\"length\"], bins = bins, alpha = .6)\n",
    "plt.hist(df[df.overall == \"neutral\"][\"length\"], bins = bins, alpha = .6)\n",
    "plt.xlabel(\"Number of Words\")\n",
    "plt.ylabel(\"Count\")\n",
    "plt.title(\"Histogram of Number of Words by Rating (scaled)\")\n",
    "plt.legend((\"positive\", \"negative\", \"neutral\"))\n",
    "plt.show();\n",
    "\n",
    "# Since there's not that much difference between number of words between the ratings,\n",
    "# it might not be impactful to predictions"
   ]
  },
  {
   "cell_type": "code",
   "execution_count": 100,
   "id": "99a0bdd9",
   "metadata": {},
   "outputs": [
    {
     "data": {
      "image/png": "[encoded data removed]",
      "text/plain": [
       "<Figure size 720x576 with 1 Axes>"
      ]
     },
     "metadata": {
      "needs_background": "light"
     },
     "output_type": "display_data"
    }
   ],
   "source": [
    "# Creating a graph with number of punctuations, scaling x by log\n",
    "plt.figure(figsize = (10,8))\n",
    "plt.xscale(\"log\")\n",
    "bins = 1.5 ** (np.arange(0,15))\n",
    "plt.hist(df[df.overall == \"positive\"][\"punct\"], bins = bins, alpha = .6)\n",
    "plt.hist(df[df.overall == \"negative\"][\"punct\"], bins = bins, alpha = .6)\n",
    "plt.hist(df[df.overall == \"neutral\"][\"punct\"], bins = bins, alpha = .6)\n",
    "plt.xlabel(\"Number of Punctuations\")\n",
    "plt.ylabel(\"Count\")\n",
    "plt.title(\"Histogram of Number of Punctuations by Rating (scaled)\")\n",
    "plt.legend((\"positive\", \"negative\", \"neutral\"))\n",
    "plt.show();\n",
    "\n",
    "# This histogram shows the positive reviews will have less number of punctuations compared to the neutral and negative reviews"
   ]
  },
  {
   "cell_type": "code",
   "execution_count": 101,
   "id": "b21acb96",
   "metadata": {},
   "outputs": [
    {
     "data": {
      "image/png": "[encoded data removed]",
      "text/plain": [
       "<Figure size 720x576 with 1 Axes>"
      ]
     },
     "metadata": {
      "needs_background": "light"
     },
     "output_type": "display_data"
    }
   ],
   "source": [
    "# Getting the scatterplot between the number of words and number of punctuations\n",
    "plt.figure(figsize = (10, 8))\n",
    "sns.scatterplot(x = \"length\", y = \"punct\", data = df, alpha = .5)\n",
    "m, b = np.polyfit(df.length, df.punct, 1)\n",
    "plt.plot(df.length, m * df.length + b)\n",
    "plt.xlabel(\"Number of Words\")\n",
    "plt.ylabel(\"Number of Punctuations\")\n",
    "plt.title(\"Scatterplot of Number of Words vs. Number of Punctuations\");\n",
    "\n",
    "# As expected, there is a positive correlation between the number of words and number of punctuations. If we are writing a \n",
    "# long review with lots of sentences, there will be lots of punctuations"
   ]
  },
  {
   "cell_type": "code",
   "execution_count": 102,
   "id": "faf8c4a7",
   "metadata": {},
   "outputs": [
    {
     "data": {
      "text/plain": [
       "positive    979620\n",
       "negative    130437\n",
       "neutral      80227\n",
       "Name: overall, dtype: int64"
      ]
     },
     "execution_count": 102,
     "metadata": {},
     "output_type": "execute_result"
    }
   ],
   "source": [
    "df.overall.value_counts()"
   ]
  },
  {
   "cell_type": "markdown",
   "id": "ea4bab0c",
   "metadata": {},
   "source": [
    "# Word Cloud"
   ]
  },
  {
   "cell_type": "code",
   "execution_count": 256,
   "id": "0301706a",
   "metadata": {},
   "outputs": [
    {
     "data": {
      "image/png": "[encoded data removed]",
      "text/plain": [
       "<Figure size 576x576 with 1 Axes>"
      ]
     },
     "metadata": {
      "needs_background": "light"
     },
     "output_type": "display_data"
    }
   ],
   "source": [
    "import matplotlib.pyplot as plt\n",
    "from wordcloud import WordCloud, STOPWORDS\n",
    "\n",
    "comment_words = \" \"\n",
    "stopwords = set(STOPWORDS)\n",
    "\n",
    "# iterate through reviews\n",
    "for val in df.reviewText:\n",
    "    # Turn each review to string in case if it's not string\n",
    "    val = str(val)\n",
    "    \n",
    "    # split the value\n",
    "    tokens = val.split()\n",
    "    \n",
    "# Converts each token to lowercase\n",
    "for i in range(len(tokens)):\n",
    "    tokens[i] = tokens[i].lower()\n",
    "    \n",
    "for words in tokens:    \n",
    "    comment_words = comment_words + words + \" \"\n",
    "    \n",
    "wordcloud = WordCloud(width = 800,\n",
    "                     height = 800,\n",
    "                     background_color = \"white\",\n",
    "                     stopwords = stopwords,\n",
    "                     min_font_size = 1).generate(comment_words)\n",
    "\n",
    "# Plot the wordcloud image\n",
    "plt.figure(figsize = (8,8), facecolor = None)\n",
    "plt.imshow(wordcloud)\n",
    "plt.axis(\"off\")\n",
    "plt.tight_layout(pad = 0)\n",
    "plt.show()"
   ]
  },
  {
   "cell_type": "markdown",
   "id": "b7c24def",
   "metadata": {},
   "source": [
    "# Partition the Data"
   ]
  },
  {
   "cell_type": "code",
   "execution_count": 129,
   "id": "a72f6d37",
   "metadata": {},
   "outputs": [],
   "source": [
    "from sklearn.model_selection import train_test_split\n",
    "\n",
    "# Try this with original data\n",
    "X1 = df.reviewText\n",
    "y1 = df.overall\n",
    "\n",
    "X1_train, X1_test, y1_train, y1_test = train_test_split(X1, \n",
    "                                                        y1, \n",
    "                                                        test_size = 0.1, \n",
    "                                                        stratify = y1, \n",
    "                                                        random_state = 42)"
   ]
  },
  {
   "cell_type": "code",
   "execution_count": 130,
   "id": "53b4094a",
   "metadata": {},
   "outputs": [],
   "source": [
    "# Try this with Porter Stemmer data\n",
    "X2 = df2.reviewText\n",
    "y2 = df2.overall\n",
    "\n",
    "X2_train, X2_test, y2_train, y2_test = train_test_split(X2, y2, test_size = 0.1, stratify = y2, random_state = 42)"
   ]
  },
  {
   "cell_type": "code",
   "execution_count": 131,
   "id": "4c5129e4",
   "metadata": {},
   "outputs": [],
   "source": [
    "# Try this with Word Net Lemmatizer data\n",
    "X3 = df3.reviewText\n",
    "y3 = df3.overall\n",
    "\n",
    "X3_train, X3_test, y3_train, y3_test = train_test_split(X3, y3, test_size = 0.1, stratify = y3, random_state = 42)"
   ]
  },
  {
   "cell_type": "markdown",
   "id": "8a132506",
   "metadata": {},
   "source": [
    "# Building Pipeline for both TfidfVectorizer and Classifier"
   ]
  },
  {
   "cell_type": "code",
   "execution_count": 132,
   "id": "4e5709df",
   "metadata": {},
   "outputs": [
    {
     "data": {
      "text/plain": [
       "Pipeline(steps=[('tfidf',\n",
       "                 TfidfVectorizer(max_df=0.98, min_df=2, stop_words='english')),\n",
       "                ('clf', LinearSVC())])"
      ]
     },
     "execution_count": 132,
     "metadata": {},
     "output_type": "execute_result"
    }
   ],
   "source": [
    "# Use the pipeline and fit the training data to the model\n",
    "from sklearn.feature_extraction.text import TfidfVectorizer\n",
    "from sklearn.pipeline import Pipeline\n",
    "from sklearn.svm import LinearSVC\n",
    "\n",
    "# min df = 2 means a word must occur in at least 2 documents from the corpus\n",
    "# max df = .98 means ignore words that occur in more than 98% of the documents from the corpus\n",
    "text_svc1 = Pipeline([(\"tfidf\", TfidfVectorizer(min_df = 2, max_df = .98, stop_words = \"english\")),\n",
    "                     (\"clf\", LinearSVC())])\n",
    "text_svc2 = Pipeline([(\"tfidf\", TfidfVectorizer(min_df = 2, max_df = .98, stop_words = \"english\")),\n",
    "                     (\"clf\", LinearSVC())])\n",
    "text_svc3 = Pipeline([(\"tfidf\", TfidfVectorizer(min_df = 2, max_df = .98, stop_words = \"english\")),\n",
    "                     (\"clf\", LinearSVC())])\n",
    "\n",
    "text_svc1.fit(X1_train, y1_train)\n",
    "text_svc2.fit(X2_train, y2_train)\n",
    "text_svc3.fit(X3_train, y3_train)"
   ]
  },
  {
   "cell_type": "code",
   "execution_count": 133,
   "id": "51156fb3",
   "metadata": {},
   "outputs": [],
   "source": [
    "# Form a prediction set\n",
    "pred1 = text_svc1.predict(X1_test)\n",
    "pred2 = text_svc1.predict(X2_test)\n",
    "pred3 = text_svc1.predict(X3_test)"
   ]
  },
  {
   "cell_type": "code",
   "execution_count": 134,
   "id": "b1605bba",
   "metadata": {},
   "outputs": [
    {
     "name": "stdout",
     "output_type": "stream",
     "text": [
      "[[ 8124   202  4718]\n",
      " [ 1725   353  5945]\n",
      " [ 1554   219 96189]]\n",
      "              precision    recall  f1-score   support\n",
      "\n",
      "    negative       0.71      0.62      0.66     13044\n",
      "     neutral       0.46      0.04      0.08      8023\n",
      "    positive       0.90      0.98      0.94     97962\n",
      "\n",
      "    accuracy                           0.88    119029\n",
      "   macro avg       0.69      0.55      0.56    119029\n",
      "weighted avg       0.85      0.88      0.85    119029\n",
      "\n"
     ]
    }
   ],
   "source": [
    "# Check the confusion matrix and the classification reports\n",
    "from sklearn.metrics import confusion_matrix, classification_report\n",
    "\n",
    "# With original data\n",
    "print(confusion_matrix(y1_test, pred1))\n",
    "print(classification_report(y1_test, pred1))"
   ]
  },
  {
   "cell_type": "code",
   "execution_count": 135,
   "id": "c45daca5",
   "metadata": {},
   "outputs": [
    {
     "name": "stdout",
     "output_type": "stream",
     "text": [
      "[[ 5448   212  7384]\n",
      " [ 1398   273  6352]\n",
      " [ 3357   462 94143]]\n",
      "              precision    recall  f1-score   support\n",
      "\n",
      "    negative       0.53      0.42      0.47     13044\n",
      "     neutral       0.29      0.03      0.06      8023\n",
      "    positive       0.87      0.96      0.91     97962\n",
      "\n",
      "    accuracy                           0.84    119029\n",
      "   macro avg       0.56      0.47      0.48    119029\n",
      "weighted avg       0.80      0.84      0.81    119029\n",
      "\n"
     ]
    }
   ],
   "source": [
    "# Next Porter Stemmer\n",
    "print(confusion_matrix(y2_test, pred2))\n",
    "print(classification_report(y2_test, pred2))"
   ]
  },
  {
   "cell_type": "code",
   "execution_count": 136,
   "id": "9ce24168",
   "metadata": {},
   "outputs": [
    {
     "name": "stdout",
     "output_type": "stream",
     "text": [
      "[[ 8204   196  4644]\n",
      " [ 1925   329  5769]\n",
      " [ 2404   241 95317]]\n",
      "              precision    recall  f1-score   support\n",
      "\n",
      "    negative       0.65      0.63      0.64     13044\n",
      "     neutral       0.43      0.04      0.07      8023\n",
      "    positive       0.90      0.97      0.94     97962\n",
      "\n",
      "    accuracy                           0.87    119029\n",
      "   macro avg       0.66      0.55      0.55    119029\n",
      "weighted avg       0.84      0.87      0.85    119029\n",
      "\n"
     ]
    }
   ],
   "source": [
    "# Lastly Word Net Lemmatizer\n",
    "print(confusion_matrix(y3_test, pred3))\n",
    "print(classification_report(y3_test, pred3))"
   ]
  },
  {
   "cell_type": "markdown",
   "id": "bd61cdcf",
   "metadata": {},
   "source": [
    "## Undersampling"
   ]
  },
  {
   "cell_type": "code",
   "execution_count": 137,
   "id": "57959356",
   "metadata": {},
   "outputs": [
    {
     "data": {
      "text/plain": [
       "Pipeline(steps=[('tfidfvectorizer',\n",
       "                 TfidfVectorizer(max_df=0.98, min_df=2, stop_words='english')),\n",
       "                ('randomundersampler',\n",
       "                 RandomUnderSampler(random_state=42,\n",
       "                                    sampling_strategy='majority')),\n",
       "                ('linearsvc', LinearSVC())])"
      ]
     },
     "execution_count": 137,
     "metadata": {},
     "output_type": "execute_result"
    }
   ],
   "source": [
    "# Using undersampling with the majority class where it under samples the majority class (positive) then fit it to the model\n",
    "# using LinearSVC\n",
    "from sklearn.feature_extraction.text import TfidfTransformer, CountVectorizer\n",
    "from imblearn.pipeline import make_pipeline\n",
    "from imblearn.under_sampling import RandomUnderSampler\n",
    "\n",
    "model = make_pipeline(TfidfVectorizer(min_df = 2, max_df = .98, stop_words = \"english\"),\n",
    "                     RandomUnderSampler(random_state = 42, sampling_strategy = \"majority\"),\n",
    "                      LinearSVC())\n",
    "\n",
    "model.fit(X1_train, y1_train)"
   ]
  },
  {
   "cell_type": "code",
   "execution_count": 138,
   "id": "8c1531d4",
   "metadata": {},
   "outputs": [],
   "source": [
    "# Make predictions\n",
    "y_pred = model.predict(X1_test)"
   ]
  },
  {
   "cell_type": "code",
   "execution_count": 139,
   "id": "890dba1b",
   "metadata": {},
   "outputs": [],
   "source": [
    "# Saving the model\n",
    "import pickle as p\n",
    "\n",
    "filename = \"rus_svc.sav\"\n",
    "\n",
    "p.dump(model, open(filename, \"wb\"))"
   ]
  },
  {
   "cell_type": "code",
   "execution_count": 140,
   "id": "ab1840db",
   "metadata": {},
   "outputs": [
    {
     "name": "stdout",
     "output_type": "stream",
     "text": [
      "[[10865  1481   698]\n",
      " [ 3417  3187  1419]\n",
      " [11733 11484 74745]]\n"
     ]
    }
   ],
   "source": [
    "# Print confusion matrix\n",
    "print(confusion_matrix(y1_test, y_pred))"
   ]
  },
  {
   "cell_type": "code",
   "execution_count": 141,
   "id": "d551574d",
   "metadata": {},
   "outputs": [
    {
     "name": "stdout",
     "output_type": "stream",
     "text": [
      "              precision    recall  f1-score   support\n",
      "\n",
      "    negative       0.42      0.83      0.56     13044\n",
      "     neutral       0.20      0.40      0.26      8023\n",
      "    positive       0.97      0.76      0.86     97962\n",
      "\n",
      "    accuracy                           0.75    119029\n",
      "   macro avg       0.53      0.66      0.56    119029\n",
      "weighted avg       0.86      0.75      0.78    119029\n",
      "\n"
     ]
    }
   ],
   "source": [
    "# Print classification report\n",
    "print(classification_report(y1_test, y_pred))"
   ]
  },
  {
   "cell_type": "code",
   "execution_count": 142,
   "id": "d5672f51",
   "metadata": {},
   "outputs": [
    {
     "data": {
      "text/plain": [
       "Pipeline(steps=[('tfidfvectorizer',\n",
       "                 TfidfVectorizer(max_df=0.98, min_df=2, stop_words='english')),\n",
       "                ('randomundersampler',\n",
       "                 RandomUnderSampler(random_state=42,\n",
       "                                    sampling_strategy='not minority')),\n",
       "                ('linearsvc', LinearSVC())])"
      ]
     },
     "execution_count": 142,
     "metadata": {},
     "output_type": "execute_result"
    }
   ],
   "source": [
    "# Trying this with sampling strategy of not minority meaning it will resample all classes but the minority class (neutral)\n",
    "# then fit the model\n",
    "model = make_pipeline(TfidfVectorizer(min_df = 2, max_df = .98, stop_words = \"english\"),\n",
    "                     RandomUnderSampler(random_state = 42, sampling_strategy = \"not minority\"),\n",
    "                      LinearSVC())\n",
    "\n",
    "model.fit(X1_train, y1_train)"
   ]
  },
  {
   "cell_type": "code",
   "execution_count": 143,
   "id": "40d63631",
   "metadata": {},
   "outputs": [],
   "source": [
    "# Make predictions\n",
    "y_pred = model.predict(X1_test)"
   ]
  },
  {
   "cell_type": "code",
   "execution_count": 144,
   "id": "fa1a658d",
   "metadata": {},
   "outputs": [
    {
     "name": "stdout",
     "output_type": "stream",
     "text": [
      "[[ 9177  2993   874]\n",
      " [ 2053  4434  1536]\n",
      " [ 5725 16158 76079]]\n"
     ]
    }
   ],
   "source": [
    "# Print confusion matrix\n",
    "print(confusion_matrix(y1_test, y_pred))"
   ]
  },
  {
   "cell_type": "code",
   "execution_count": 145,
   "id": "0947b6c1",
   "metadata": {},
   "outputs": [
    {
     "name": "stdout",
     "output_type": "stream",
     "text": [
      "              precision    recall  f1-score   support\n",
      "\n",
      "    negative       0.54      0.70      0.61     13044\n",
      "     neutral       0.19      0.55      0.28      8023\n",
      "    positive       0.97      0.78      0.86     97962\n",
      "\n",
      "    accuracy                           0.75    119029\n",
      "   macro avg       0.57      0.68      0.58    119029\n",
      "weighted avg       0.87      0.75      0.80    119029\n",
      "\n"
     ]
    }
   ],
   "source": [
    "# Print classification report\n",
    "print(classification_report(y1_test, y_pred))"
   ]
  },
  {
   "cell_type": "code",
   "execution_count": 146,
   "id": "58892cd1",
   "metadata": {},
   "outputs": [
    {
     "data": {
      "text/plain": [
       "Pipeline(steps=[('tfidfvectorizer',\n",
       "                 TfidfVectorizer(max_df=0.98, min_df=2, ngram_range=(1, 2),\n",
       "                                 stop_words='english')),\n",
       "                ('randomundersampler',\n",
       "                 RandomUnderSampler(random_state=42,\n",
       "                                    sampling_strategy='not minority')),\n",
       "                ('linearsvc', LinearSVC())])"
      ]
     },
     "execution_count": 146,
     "metadata": {},
     "output_type": "execute_result"
    }
   ],
   "source": [
    "# Add n-gram to range (1,2) bigram\n",
    "model = make_pipeline(TfidfVectorizer(min_df = 2, max_df = .98, stop_words = \"english\", ngram_range = (1,2)),\n",
    "                     RandomUnderSampler(random_state = 42, sampling_strategy = \"not minority\"),\n",
    "                      LinearSVC())\n",
    "\n",
    "model.fit(X1_train, y1_train)"
   ]
  },
  {
   "cell_type": "code",
   "execution_count": 147,
   "id": "80179376",
   "metadata": {},
   "outputs": [],
   "source": [
    "# Make predictions\n",
    "y_pred = model.predict(X1_test)"
   ]
  },
  {
   "cell_type": "code",
   "execution_count": 148,
   "id": "886f28e2",
   "metadata": {},
   "outputs": [
    {
     "name": "stdout",
     "output_type": "stream",
     "text": [
      "[[ 9325  2910   809]\n",
      " [ 1803  4897  1323]\n",
      " [ 5217 15597 77148]]\n"
     ]
    }
   ],
   "source": [
    "# Print confusion matrix\n",
    "print(confusion_matrix(y1_test, y_pred))"
   ]
  },
  {
   "cell_type": "code",
   "execution_count": 149,
   "id": "fa14bf9f",
   "metadata": {},
   "outputs": [
    {
     "name": "stdout",
     "output_type": "stream",
     "text": [
      "              precision    recall  f1-score   support\n",
      "\n",
      "    negative       0.57      0.71      0.63     13044\n",
      "     neutral       0.21      0.61      0.31      8023\n",
      "    positive       0.97      0.79      0.87     97962\n",
      "\n",
      "    accuracy                           0.77    119029\n",
      "   macro avg       0.58      0.70      0.61    119029\n",
      "weighted avg       0.88      0.77      0.81    119029\n",
      "\n"
     ]
    }
   ],
   "source": [
    "# Print classification report\n",
    "print(classification_report(y1_test, y_pred))"
   ]
  },
  {
   "cell_type": "code",
   "execution_count": 150,
   "id": "7834de66",
   "metadata": {},
   "outputs": [
    {
     "data": {
      "text/plain": [
       "Pipeline(steps=[('tfidfvectorizer',\n",
       "                 TfidfVectorizer(max_df=0.98, min_df=2, ngram_range=(1, 3),\n",
       "                                 stop_words='english')),\n",
       "                ('randomundersampler',\n",
       "                 RandomUnderSampler(random_state=42,\n",
       "                                    sampling_strategy='not minority')),\n",
       "                ('linearsvc', LinearSVC())])"
      ]
     },
     "execution_count": 150,
     "metadata": {},
     "output_type": "execute_result"
    }
   ],
   "source": [
    "# Add n-gram to range (1,3) trigram\n",
    "model = make_pipeline(TfidfVectorizer(min_df = 2, max_df = .98, stop_words = \"english\", ngram_range = (1,3)),\n",
    "                     RandomUnderSampler(random_state = 42, sampling_strategy = \"not minority\"),\n",
    "                      LinearSVC())\n",
    "\n",
    "model.fit(X1_train, y1_train)"
   ]
  },
  {
   "cell_type": "code",
   "execution_count": 151,
   "id": "1c95fd87",
   "metadata": {},
   "outputs": [],
   "source": [
    "# Make predictions\n",
    "y_pred = model.predict(X1_test)"
   ]
  },
  {
   "cell_type": "code",
   "execution_count": 152,
   "id": "3e3ce5fa",
   "metadata": {},
   "outputs": [
    {
     "name": "stdout",
     "output_type": "stream",
     "text": [
      "[[ 9425  2737   882]\n",
      " [ 1815  4695  1513]\n",
      " [ 5169 13729 79064]]\n"
     ]
    }
   ],
   "source": [
    "# Print confusion matrix\n",
    "print(confusion_matrix(y1_test, y_pred))"
   ]
  },
  {
   "cell_type": "code",
   "execution_count": 153,
   "id": "658a5821",
   "metadata": {},
   "outputs": [
    {
     "name": "stdout",
     "output_type": "stream",
     "text": [
      "              precision    recall  f1-score   support\n",
      "\n",
      "    negative       0.57      0.72      0.64     13044\n",
      "     neutral       0.22      0.59      0.32      8023\n",
      "    positive       0.97      0.81      0.88     97962\n",
      "\n",
      "    accuracy                           0.78    119029\n",
      "   macro avg       0.59      0.70      0.61    119029\n",
      "weighted avg       0.88      0.78      0.82    119029\n",
      "\n"
     ]
    }
   ],
   "source": [
    "# Print classification report\n",
    "print(classification_report(y1_test, y_pred))"
   ]
  },
  {
   "cell_type": "code",
   "execution_count": 154,
   "id": "252c02b1",
   "metadata": {},
   "outputs": [
    {
     "data": {
      "text/plain": [
       "Pipeline(steps=[('tfidfvectorizer',\n",
       "                 TfidfVectorizer(max_df=0.98, min_df=2, ngram_range=(1, 4),\n",
       "                                 stop_words='english')),\n",
       "                ('randomundersampler',\n",
       "                 RandomUnderSampler(random_state=42,\n",
       "                                    sampling_strategy='not minority')),\n",
       "                ('linearsvc', LinearSVC())])"
      ]
     },
     "execution_count": 154,
     "metadata": {},
     "output_type": "execute_result"
    }
   ],
   "source": [
    "# Add n-gram to range (1,4) qualgram\n",
    "model = make_pipeline(TfidfVectorizer(min_df = 2, max_df = .98, stop_words = \"english\", ngram_range = (1,4)),\n",
    "                     RandomUnderSampler(random_state = 42, sampling_strategy = \"not minority\"),\n",
    "                      LinearSVC())\n",
    "\n",
    "model.fit(X1_train, y1_train)"
   ]
  },
  {
   "cell_type": "code",
   "execution_count": 155,
   "id": "fc30a534",
   "metadata": {},
   "outputs": [],
   "source": [
    "# Make predictions\n",
    "y_pred = model.predict(X1_test)"
   ]
  },
  {
   "cell_type": "code",
   "execution_count": 156,
   "id": "a856bd59",
   "metadata": {},
   "outputs": [
    {
     "name": "stdout",
     "output_type": "stream",
     "text": [
      "[[ 9433  2727   884]\n",
      " [ 1806  4719  1498]\n",
      " [ 5172 13791 78999]]\n"
     ]
    }
   ],
   "source": [
    "# Print confusion matrix\n",
    "print(confusion_matrix(y1_test, y_pred))"
   ]
  },
  {
   "cell_type": "code",
   "execution_count": 157,
   "id": "68485ac1",
   "metadata": {},
   "outputs": [
    {
     "name": "stdout",
     "output_type": "stream",
     "text": [
      "              precision    recall  f1-score   support\n",
      "\n",
      "    negative       0.57      0.72      0.64     13044\n",
      "     neutral       0.22      0.59      0.32      8023\n",
      "    positive       0.97      0.81      0.88     97962\n",
      "\n",
      "    accuracy                           0.78    119029\n",
      "   macro avg       0.59      0.71      0.61    119029\n",
      "weighted avg       0.88      0.78      0.82    119029\n",
      "\n"
     ]
    }
   ],
   "source": [
    "# Print classification report\n",
    "print(classification_report(y1_test, y_pred))"
   ]
  },
  {
   "cell_type": "code",
   "execution_count": 158,
   "id": "72f0ca2a",
   "metadata": {},
   "outputs": [
    {
     "data": {
      "text/plain": [
       "Pipeline(steps=[('tfidfvectorizer',\n",
       "                 TfidfVectorizer(max_df=0.98, min_df=2, ngram_range=(1, 5),\n",
       "                                 stop_words='english')),\n",
       "                ('randomundersampler',\n",
       "                 RandomUnderSampler(random_state=42,\n",
       "                                    sampling_strategy='not minority')),\n",
       "                ('linearsvc', LinearSVC())])"
      ]
     },
     "execution_count": 158,
     "metadata": {},
     "output_type": "execute_result"
    }
   ],
   "source": [
    "# Add n-gram to range (1,5) Not sure what it's called after qualgram\n",
    "model = make_pipeline(TfidfVectorizer(min_df = 2, max_df = .98, stop_words = \"english\", ngram_range = (1,5)),\n",
    "                     RandomUnderSampler(random_state = 42, sampling_strategy = \"not minority\"),\n",
    "                      LinearSVC())\n",
    "\n",
    "model.fit(X1_train, y1_train)"
   ]
  },
  {
   "cell_type": "code",
   "execution_count": 159,
   "id": "54b5ad4e",
   "metadata": {},
   "outputs": [],
   "source": [
    "# Make predictions\n",
    "y_pred = model.predict(X1_test)"
   ]
  },
  {
   "cell_type": "code",
   "execution_count": 160,
   "id": "a653d36a",
   "metadata": {},
   "outputs": [
    {
     "name": "stdout",
     "output_type": "stream",
     "text": [
      "[[ 9428  2738   878]\n",
      " [ 1811  4721  1491]\n",
      " [ 5179 13841 78942]]\n"
     ]
    }
   ],
   "source": [
    "# Print confusion matrix\n",
    "print(confusion_matrix(y1_test, y_pred))"
   ]
  },
  {
   "cell_type": "code",
   "execution_count": 161,
   "id": "60bc2788",
   "metadata": {},
   "outputs": [
    {
     "name": "stdout",
     "output_type": "stream",
     "text": [
      "              precision    recall  f1-score   support\n",
      "\n",
      "    negative       0.57      0.72      0.64     13044\n",
      "     neutral       0.22      0.59      0.32      8023\n",
      "    positive       0.97      0.81      0.88     97962\n",
      "\n",
      "    accuracy                           0.78    119029\n",
      "   macro avg       0.59      0.71      0.61    119029\n",
      "weighted avg       0.88      0.78      0.82    119029\n",
      "\n"
     ]
    }
   ],
   "source": [
    "# Print classification report\n",
    "print(classification_report(y1_test, y_pred))"
   ]
  },
  {
   "cell_type": "code",
   "execution_count": 162,
   "id": "e4114372",
   "metadata": {},
   "outputs": [
    {
     "data": {
      "text/plain": [
       "array(['positive', 'neutral', 'positive', ..., 'positive', 'positive',\n",
       "       'negative'], dtype=object)"
      ]
     },
     "execution_count": 162,
     "metadata": {},
     "output_type": "execute_result"
    }
   ],
   "source": [
    "y_pred"
   ]
  },
  {
   "cell_type": "code",
   "execution_count": 72,
   "id": "0f14d147",
   "metadata": {},
   "outputs": [],
   "source": [
    "# Save model\n",
    "filename = \"rus_svc_ngram.sav\"\n",
    "\n",
    "p.dump(model, open(filename, \"wb\"))"
   ]
  },
  {
   "cell_type": "code",
   "execution_count": 163,
   "id": "8a109084",
   "metadata": {},
   "outputs": [],
   "source": [
    "# Save model in h5\n",
    "filename = \"rus_svc_ngram.h5\"\n",
    "\n",
    "p.dump(model, open(filename, \"wb\"))"
   ]
  },
  {
   "cell_type": "code",
   "execution_count": 217,
   "id": "44f31804",
   "metadata": {},
   "outputs": [
    {
     "data": {
      "text/plain": [
       "Pipeline(steps=[('tfidfvectorizer',\n",
       "                 TfidfVectorizer(max_df=0.98, min_df=2, stop_words='english')),\n",
       "                ('randomundersampler',\n",
       "                 RandomUnderSampler(random_state=42,\n",
       "                                    sampling_strategy='not minority')),\n",
       "                ('randomoversampler',\n",
       "                 RandomOverSampler(random_state=42,\n",
       "                                   sampling_strategy='not majority')),\n",
       "                ('linearsvc', LinearSVC())])"
      ]
     },
     "execution_count": 217,
     "metadata": {},
     "output_type": "execute_result"
    }
   ],
   "source": [
    "# Combine under sampling and over sampling\n",
    "from imblearn.over_sampling import RandomOverSampler\n",
    "model = make_pipeline(TfidfVectorizer(min_df = 2, max_df = .98, stop_words = \"english\"),\n",
    "                     RandomUnderSampler(random_state = 42, sampling_strategy = \"not minority\"),\n",
    "                      RandomOverSampler(random_state = 42, sampling_strategy = \"not majority\"),\n",
    "                      LinearSVC())\n",
    "\n",
    "model.fit(X1_train, y1_train)"
   ]
  },
  {
   "cell_type": "code",
   "execution_count": 218,
   "id": "ddea2e57",
   "metadata": {},
   "outputs": [],
   "source": [
    "# Make predictions\n",
    "y_pred = model.predict(X1_test)"
   ]
  },
  {
   "cell_type": "code",
   "execution_count": 219,
   "id": "8f03e4ab",
   "metadata": {},
   "outputs": [
    {
     "name": "stdout",
     "output_type": "stream",
     "text": [
      "[[ 9272  2939   833]\n",
      " [ 2019  4479  1525]\n",
      " [ 5500 15189 77273]]\n"
     ]
    }
   ],
   "source": [
    "# Print confusion matrix\n",
    "print(confusion_matrix(y1_test, y_pred))"
   ]
  },
  {
   "cell_type": "code",
   "execution_count": 220,
   "id": "d09d068b",
   "metadata": {},
   "outputs": [
    {
     "name": "stdout",
     "output_type": "stream",
     "text": [
      "              precision    recall  f1-score   support\n",
      "\n",
      "    negative       0.55      0.71      0.62     13044\n",
      "     neutral       0.20      0.56      0.29      8023\n",
      "    positive       0.97      0.79      0.87     97962\n",
      "\n",
      "    accuracy                           0.76    119029\n",
      "   macro avg       0.57      0.69      0.59    119029\n",
      "weighted avg       0.87      0.76      0.80    119029\n",
      "\n"
     ]
    }
   ],
   "source": [
    "# Print classification report\n",
    "print(classification_report(y1_test, y_pred))"
   ]
  },
  {
   "cell_type": "code",
   "execution_count": 221,
   "id": "50026b9f",
   "metadata": {},
   "outputs": [
    {
     "data": {
      "text/plain": [
       "Pipeline(steps=[('tfidfvectorizer',\n",
       "                 TfidfVectorizer(max_df=0.98, min_df=2, stop_words='english')),\n",
       "                ('randomundersampler',\n",
       "                 RandomUnderSampler(random_state=42,\n",
       "                                    sampling_strategy='not minority')),\n",
       "                ('multinomialnb', MultinomialNB())])"
      ]
     },
     "execution_count": 221,
     "metadata": {},
     "output_type": "execute_result"
    }
   ],
   "source": [
    "# Using Naive Bayes\n",
    "from sklearn.naive_bayes import MultinomialNB\n",
    "model = make_pipeline(TfidfVectorizer(min_df = 2, max_df = .98, stop_words = \"english\"),\n",
    "                     RandomUnderSampler(random_state = 42, sampling_strategy = \"not minority\"),\n",
    "                      MultinomialNB())\n",
    "\n",
    "model.fit(X1_train, y1_train)"
   ]
  },
  {
   "cell_type": "code",
   "execution_count": 222,
   "id": "37975cbf",
   "metadata": {},
   "outputs": [],
   "source": [
    "# Make predictions\n",
    "y_pred = model.predict(X1_test)"
   ]
  },
  {
   "cell_type": "code",
   "execution_count": 223,
   "id": "3844fdf0",
   "metadata": {},
   "outputs": [
    {
     "name": "stdout",
     "output_type": "stream",
     "text": [
      "[[ 9117  3244   683]\n",
      " [ 2039  4690  1294]\n",
      " [ 6865 17985 73112]]\n"
     ]
    }
   ],
   "source": [
    "# Print confusion matrix\n",
    "print(confusion_matrix(y1_test, y_pred))"
   ]
  },
  {
   "cell_type": "code",
   "execution_count": 224,
   "id": "adf7e915",
   "metadata": {},
   "outputs": [
    {
     "name": "stdout",
     "output_type": "stream",
     "text": [
      "              precision    recall  f1-score   support\n",
      "\n",
      "    negative       0.51      0.70      0.59     13044\n",
      "     neutral       0.18      0.58      0.28      8023\n",
      "    positive       0.97      0.75      0.84     97962\n",
      "\n",
      "    accuracy                           0.73    119029\n",
      "   macro avg       0.55      0.68      0.57    119029\n",
      "weighted avg       0.87      0.73      0.78    119029\n",
      "\n"
     ]
    }
   ],
   "source": [
    "# Print classification report\n",
    "print(classification_report(y1_test, y_pred))"
   ]
  },
  {
   "cell_type": "code",
   "execution_count": 225,
   "id": "42d7e36d",
   "metadata": {},
   "outputs": [
    {
     "data": {
      "text/plain": [
       "Pipeline(steps=[('tfidfvectorizer',\n",
       "                 TfidfVectorizer(max_df=0.98, min_df=2, stop_words='english')),\n",
       "                ('randomundersampler',\n",
       "                 RandomUnderSampler(random_state=42,\n",
       "                                    sampling_strategy='not minority')),\n",
       "                ('logisticregression', LogisticRegression())])"
      ]
     },
     "execution_count": 225,
     "metadata": {},
     "output_type": "execute_result"
    }
   ],
   "source": [
    "# Using Logistic Regression\n",
    "from sklearn.linear_model import LogisticRegression\n",
    "model = make_pipeline(TfidfVectorizer(min_df = 2, max_df = .98, stop_words = \"english\"),\n",
    "                     RandomUnderSampler(random_state = 42, sampling_strategy = \"not minority\"),\n",
    "                      LogisticRegression())\n",
    "\n",
    "model.fit(X1_train, y1_train)"
   ]
  },
  {
   "cell_type": "code",
   "execution_count": 226,
   "id": "7dd3294f",
   "metadata": {},
   "outputs": [],
   "source": [
    "# Make predictions\n",
    "y_pred = model.predict(X1_test)"
   ]
  },
  {
   "cell_type": "code",
   "execution_count": 227,
   "id": "12ac18d1",
   "metadata": {},
   "outputs": [
    {
     "name": "stdout",
     "output_type": "stream",
     "text": [
      "[[ 9332  3034   678]\n",
      " [ 1940  4724  1359]\n",
      " [ 4673 16686 76603]]\n"
     ]
    }
   ],
   "source": [
    "# Print confusion matrix\n",
    "print(confusion_matrix(y1_test, y_pred))"
   ]
  },
  {
   "cell_type": "code",
   "execution_count": 228,
   "id": "a1af6f08",
   "metadata": {},
   "outputs": [
    {
     "name": "stdout",
     "output_type": "stream",
     "text": [
      "              precision    recall  f1-score   support\n",
      "\n",
      "    negative       0.59      0.72      0.64     13044\n",
      "     neutral       0.19      0.59      0.29      8023\n",
      "    positive       0.97      0.78      0.87     97962\n",
      "\n",
      "    accuracy                           0.76    119029\n",
      "   macro avg       0.58      0.70      0.60    119029\n",
      "weighted avg       0.88      0.76      0.80    119029\n",
      "\n"
     ]
    }
   ],
   "source": [
    "# Print classification report\n",
    "print(classification_report(y1_test, y_pred))"
   ]
  },
  {
   "cell_type": "code",
   "execution_count": 229,
   "id": "d05f8e03",
   "metadata": {},
   "outputs": [
    {
     "data": {
      "text/plain": [
       "Pipeline(steps=[('tfidfvectorizer',\n",
       "                 TfidfVectorizer(max_df=0.98, min_df=2, stop_words='english')),\n",
       "                ('randomundersampler',\n",
       "                 RandomUnderSampler(random_state=42,\n",
       "                                    sampling_strategy='not minority')),\n",
       "                ('kneighborsclassifier', KNeighborsClassifier())])"
      ]
     },
     "execution_count": 229,
     "metadata": {},
     "output_type": "execute_result"
    }
   ],
   "source": [
    "# Using KNN\n",
    "from sklearn.neighbors import KNeighborsClassifier\n",
    "model = make_pipeline(TfidfVectorizer(min_df = 2, max_df = .98, stop_words = \"english\"),\n",
    "                     RandomUnderSampler(random_state = 42, sampling_strategy = \"not minority\"),\n",
    "                      KNeighborsClassifier(n_neighbors = 5))\n",
    "\n",
    "model.fit(X1_train, y1_train)"
   ]
  },
  {
   "cell_type": "code",
   "execution_count": 230,
   "id": "5ddc2f9d",
   "metadata": {},
   "outputs": [],
   "source": [
    "# Make predictions\n",
    "y_pred = model.predict(X1_test)"
   ]
  },
  {
   "cell_type": "code",
   "execution_count": 231,
   "id": "1dca43f6",
   "metadata": {},
   "outputs": [
    {
     "name": "stdout",
     "output_type": "stream",
     "text": [
      "[[ 5170  5975  1899]\n",
      " [ 1673  4798  1552]\n",
      " [10962 38128 48872]]\n"
     ]
    }
   ],
   "source": [
    "# Print confusion matrix\n",
    "print(confusion_matrix(y1_test, y_pred))"
   ]
  },
  {
   "cell_type": "code",
   "execution_count": 232,
   "id": "0e86bf65",
   "metadata": {},
   "outputs": [
    {
     "name": "stdout",
     "output_type": "stream",
     "text": [
      "              precision    recall  f1-score   support\n",
      "\n",
      "    negative       0.29      0.40      0.34     13044\n",
      "     neutral       0.10      0.60      0.17      8023\n",
      "    positive       0.93      0.50      0.65     97962\n",
      "\n",
      "    accuracy                           0.49    119029\n",
      "   macro avg       0.44      0.50      0.38    119029\n",
      "weighted avg       0.81      0.49      0.58    119029\n",
      "\n"
     ]
    }
   ],
   "source": [
    "# Print classification report\n",
    "print(classification_report(y1_test, y_pred))"
   ]
  },
  {
   "cell_type": "code",
   "execution_count": 233,
   "id": "e65972a5",
   "metadata": {},
   "outputs": [
    {
     "data": {
      "text/plain": [
       "Pipeline(steps=[('tfidfvectorizer',\n",
       "                 TfidfVectorizer(max_df=0.98, min_df=2, stop_words='english')),\n",
       "                ('randomundersampler',\n",
       "                 RandomUnderSampler(random_state=42,\n",
       "                                    sampling_strategy='not minority')),\n",
       "                ('decisiontreeclassifier',\n",
       "                 DecisionTreeClassifier(max_depth=5, random_state=42))])"
      ]
     },
     "execution_count": 233,
     "metadata": {},
     "output_type": "execute_result"
    }
   ],
   "source": [
    "# Using Decision Tree\n",
    "from sklearn.tree import DecisionTreeClassifier\n",
    "\n",
    "model = make_pipeline(TfidfVectorizer(min_df = 2, max_df = .98, stop_words = \"english\"),\n",
    "                     RandomUnderSampler(random_state = 42, sampling_strategy = \"not minority\"),\n",
    "                      DecisionTreeClassifier(max_depth = 5, \n",
    "                             random_state = 42))\n",
    "\n",
    "model.fit(X1_train, y1_train)"
   ]
  },
  {
   "cell_type": "code",
   "execution_count": 234,
   "id": "51b72f88",
   "metadata": {},
   "outputs": [],
   "source": [
    "# Make predictions\n",
    "y_pred = model.predict(X1_test)"
   ]
  },
  {
   "cell_type": "code",
   "execution_count": 235,
   "id": "658d7171",
   "metadata": {},
   "outputs": [
    {
     "name": "stdout",
     "output_type": "stream",
     "text": [
      "[[ 1623 10976   445]\n",
      " [  301  6973   749]\n",
      " [  453 59595 37914]]\n"
     ]
    }
   ],
   "source": [
    "# Print confusion matrix\n",
    "print(confusion_matrix(y1_test, y_pred))"
   ]
  },
  {
   "cell_type": "code",
   "execution_count": 236,
   "id": "e64cbd13",
   "metadata": {},
   "outputs": [
    {
     "name": "stdout",
     "output_type": "stream",
     "text": [
      "              precision    recall  f1-score   support\n",
      "\n",
      "    negative       0.68      0.12      0.21     13044\n",
      "     neutral       0.09      0.87      0.16      8023\n",
      "    positive       0.97      0.39      0.55     97962\n",
      "\n",
      "    accuracy                           0.39    119029\n",
      "   macro avg       0.58      0.46      0.31    119029\n",
      "weighted avg       0.88      0.39      0.49    119029\n",
      "\n"
     ]
    }
   ],
   "source": [
    "# Print classification report\n",
    "print(classification_report(y1_test, y_pred))"
   ]
  },
  {
   "cell_type": "code",
   "execution_count": 237,
   "id": "95b31427",
   "metadata": {},
   "outputs": [
    {
     "data": {
      "text/plain": [
       "Pipeline(steps=[('tfidfvectorizer',\n",
       "                 TfidfVectorizer(max_df=0.98, min_df=2, stop_words='english')),\n",
       "                ('randomundersampler',\n",
       "                 RandomUnderSampler(random_state=42,\n",
       "                                    sampling_strategy='not minority')),\n",
       "                ('smote',\n",
       "                 SMOTE(random_state=42, sampling_strategy='not majority')),\n",
       "                ('linearsvc', LinearSVC())])"
      ]
     },
     "execution_count": 237,
     "metadata": {},
     "output_type": "execute_result"
    }
   ],
   "source": [
    "# Instead of using Random Over Sampling, trying to use SMOTE\n",
    "from imblearn.over_sampling import SMOTE\n",
    "model = make_pipeline(TfidfVectorizer(min_df = 2, max_df = .98, stop_words = \"english\"),\n",
    "                     RandomUnderSampler(random_state = 42, sampling_strategy = \"not minority\"),\n",
    "                      SMOTE(random_state = 42, sampling_strategy = \"not majority\"),\n",
    "                      LinearSVC())\n",
    "\n",
    "model.fit(X1_train, y1_train)"
   ]
  },
  {
   "cell_type": "code",
   "execution_count": 238,
   "id": "547615da",
   "metadata": {},
   "outputs": [],
   "source": [
    "# Make predictions\n",
    "y_pred = model.predict(X1_test)"
   ]
  },
  {
   "cell_type": "code",
   "execution_count": 239,
   "id": "24de984d",
   "metadata": {},
   "outputs": [
    {
     "name": "stdout",
     "output_type": "stream",
     "text": [
      "[[ 9272  2939   833]\n",
      " [ 2019  4479  1525]\n",
      " [ 5500 15188 77274]]\n"
     ]
    }
   ],
   "source": [
    "# Print confusion matrix\n",
    "print(confusion_matrix(y1_test, y_pred))"
   ]
  },
  {
   "cell_type": "code",
   "execution_count": 240,
   "id": "42dfd5c7",
   "metadata": {},
   "outputs": [
    {
     "name": "stdout",
     "output_type": "stream",
     "text": [
      "              precision    recall  f1-score   support\n",
      "\n",
      "    negative       0.55      0.71      0.62     13044\n",
      "     neutral       0.20      0.56      0.29      8023\n",
      "    positive       0.97      0.79      0.87     97962\n",
      "\n",
      "    accuracy                           0.76    119029\n",
      "   macro avg       0.57      0.69      0.59    119029\n",
      "weighted avg       0.87      0.76      0.80    119029\n",
      "\n"
     ]
    }
   ],
   "source": [
    "# Print classification report\n",
    "print(classification_report(y1_test, y_pred))"
   ]
  },
  {
   "cell_type": "markdown",
   "id": "e7740730",
   "metadata": {},
   "source": [
    "### Going to try using a higher test size"
   ]
  },
  {
   "cell_type": "code",
   "execution_count": 51,
   "id": "c80d7563",
   "metadata": {},
   "outputs": [],
   "source": [
    "# Here we will use a 30% test size\n",
    "X1_train, X1_test, y1_train, y1_test = train_test_split(X1, y1, test_size = 0.3, stratify = y1, random_state = 42)"
   ]
  },
  {
   "cell_type": "code",
   "execution_count": 52,
   "id": "06959495",
   "metadata": {},
   "outputs": [
    {
     "data": {
      "text/plain": [
       "Pipeline(steps=[('tfidfvectorizer', TfidfVectorizer()),\n",
       "                ('smote', SMOTE(random_state=42)),\n",
       "                ('kneighborsclassifier', KNeighborsClassifier())])"
      ]
     },
     "execution_count": 52,
     "metadata": {},
     "output_type": "execute_result"
    }
   ],
   "source": [
    "# SMOTE and KNN\n",
    "from imblearn.over_sampling import ADASYN, SMOTE, RandomOverSampler\n",
    "from sklearn.feature_extraction.text import TfidfTransformer, CountVectorizer\n",
    "from sklearn.neighbors import KNeighborsClassifier\n",
    "from imblearn.pipeline import make_pipeline\n",
    "\n",
    "model = make_pipeline(TfidfVectorizer(),\n",
    "                     SMOTE(random_state = 42),\n",
    "                     KNeighborsClassifier(n_neighbors = 5))\n",
    "\n",
    "model.fit(X1_train, y1_train)"
   ]
  },
  {
   "cell_type": "code",
   "execution_count": 53,
   "id": "51adde27",
   "metadata": {},
   "outputs": [],
   "source": [
    "# Make predictions\n",
    "ypred = model.predict(X1_test)"
   ]
  },
  {
   "cell_type": "code",
   "execution_count": 54,
   "id": "35e64cd5",
   "metadata": {},
   "outputs": [],
   "source": [
    "# Saving the model\n",
    "import pickle as p\n",
    "\n",
    "filename = \"smote_knn.sav\"\n",
    "\n",
    "p.dump(model, open(filename, \"wb\"))"
   ]
  },
  {
   "cell_type": "code",
   "execution_count": 55,
   "id": "2534360d",
   "metadata": {},
   "outputs": [],
   "source": [
    "# Load the model from the disk if needed\n",
    "# loaded_model = pickle.load(open(filename, 'rb'))"
   ]
  },
  {
   "cell_type": "code",
   "execution_count": 56,
   "id": "6733644b",
   "metadata": {},
   "outputs": [
    {
     "name": "stdout",
     "output_type": "stream",
     "text": [
      "[[ 25184  12879   1068]\n",
      " [  7912  14458   1698]\n",
      " [ 71115 107431 115341]]\n"
     ]
    }
   ],
   "source": [
    "# Print confusion matrix\n",
    "print(confusion_matrix(y1_test, ypred))"
   ]
  },
  {
   "cell_type": "code",
   "execution_count": 57,
   "id": "b73ff9c5",
   "metadata": {},
   "outputs": [
    {
     "name": "stdout",
     "output_type": "stream",
     "text": [
      "              precision    recall  f1-score   support\n",
      "\n",
      "    negative       0.24      0.64      0.35     39131\n",
      "     neutral       0.11      0.60      0.18     24068\n",
      "    positive       0.98      0.39      0.56    293887\n",
      "\n",
      "    accuracy                           0.43    357086\n",
      "   macro avg       0.44      0.55      0.36    357086\n",
      "weighted avg       0.84      0.43      0.51    357086\n",
      "\n"
     ]
    }
   ],
   "source": [
    "# Print classification report\n",
    "print(classification_report(y1_test, ypred))"
   ]
  },
  {
   "cell_type": "code",
   "execution_count": 63,
   "id": "a974f708",
   "metadata": {},
   "outputs": [
    {
     "data": {
      "text/plain": [
       "Pipeline(steps=[('tfidfvectorizer', TfidfVectorizer()),\n",
       "                ('smote', SMOTE(random_state=42)), ('linearsvc', LinearSVC())])"
      ]
     },
     "execution_count": 63,
     "metadata": {},
     "output_type": "execute_result"
    }
   ],
   "source": [
    "# Use SMOTE and linear SVC\n",
    "svc_clf = make_pipeline(TfidfVectorizer(),\n",
    "                     SMOTE(random_state = 42),\n",
    "                     LinearSVC())\n",
    "\n",
    "svc_clf.fit(X1_train, y1_train)"
   ]
  },
  {
   "cell_type": "code",
   "execution_count": 64,
   "id": "f6c2c6ce",
   "metadata": {},
   "outputs": [],
   "source": [
    "# Saving the model\n",
    "import pickle as p\n",
    "\n",
    "filename = \"smote_svc.sav\"\n",
    "\n",
    "p.dump(model, open(filename, \"wb\"))"
   ]
  },
  {
   "cell_type": "code",
   "execution_count": 65,
   "id": "9dd27cce",
   "metadata": {},
   "outputs": [],
   "source": [
    "# Make predictions\n",
    "ypred = model.predict(X1_test)"
   ]
  },
  {
   "cell_type": "code",
   "execution_count": 67,
   "id": "87478390",
   "metadata": {},
   "outputs": [
    {
     "name": "stdout",
     "output_type": "stream",
     "text": [
      "[[ 25184  12879   1068]\n",
      " [  7912  14458   1698]\n",
      " [ 71115 107431 115341]]\n"
     ]
    }
   ],
   "source": [
    "# Print confusion matrix\n",
    "print(confusion_matrix(y1_test, ypred))"
   ]
  },
  {
   "cell_type": "code",
   "execution_count": 69,
   "id": "4847884b",
   "metadata": {},
   "outputs": [
    {
     "name": "stdout",
     "output_type": "stream",
     "text": [
      "              precision    recall  f1-score   support\n",
      "\n",
      "    negative       0.24      0.64      0.35     39131\n",
      "     neutral       0.11      0.60      0.18     24068\n",
      "    positive       0.98      0.39      0.56    293887\n",
      "\n",
      "    accuracy                           0.43    357086\n",
      "   macro avg       0.44      0.55      0.36    357086\n",
      "weighted avg       0.84      0.43      0.51    357086\n",
      "\n"
     ]
    }
   ],
   "source": [
    "# Print classification report\n",
    "print(classification_report(y1_test, ypred))"
   ]
  },
  {
   "cell_type": "markdown",
   "id": "4fe48d09",
   "metadata": {},
   "source": [
    "## Using GridSearchCV"
   ]
  },
  {
   "cell_type": "code",
   "execution_count": 203,
   "id": "0bfbadb8",
   "metadata": {},
   "outputs": [],
   "source": [
    "# Using gridsearchCV to\n",
    "from sklearn.pipeline import Pipeline\n",
    "from sklearn.feature_extraction.text import CountVectorizer\n",
    "\n",
    "pipe = Pipeline([(\"cvec\", CountVectorizer(min_df = 2, max_df = .98, stop_words = \"english\")),\n",
    "                 (\"svc\", LinearSVC())])"
   ]
  },
  {
   "cell_type": "code",
   "execution_count": 205,
   "id": "b723385f",
   "metadata": {},
   "outputs": [],
   "source": [
    "from sklearn.model_selection import GridSearchCV\n",
    "\n",
    "# Create the possible parameters\n",
    "pipe_params = {\"cvec__max_df\": [.9, .95],\n",
    "              \"cvec__max_features\": [4000, 4500, 5000],\n",
    "              \"cvec__min_df\": [2, 3],\n",
    "              \"cvec__ngram_range\": [(1,1), (1,2)]}\n",
    "\n",
    "# Create an instance of the gridsearch CV with cross validation of 3\n",
    "gs = GridSearchCV(estimator = pipe,\n",
    "                 cv = 3,\n",
    "                 param_grid = pipe_params)"
   ]
  },
  {
   "cell_type": "code",
   "execution_count": 206,
   "id": "e258c1e3",
   "metadata": {},
   "outputs": [
    {
     "data": {
      "text/plain": [
       "GridSearchCV(cv=3,\n",
       "             estimator=Pipeline(steps=[('cvec',\n",
       "                                        CountVectorizer(max_df=0.98, min_df=2,\n",
       "                                                        stop_words='english')),\n",
       "                                       ('svc', LinearSVC())]),\n",
       "             param_grid={'cvec__max_df': [0.9, 0.95],\n",
       "                         'cvec__max_features': [4000, 4500, 5000],\n",
       "                         'cvec__min_df': [2, 3],\n",
       "                         'cvec__ngram_range': [(1, 1), (1, 2)]})"
      ]
     },
     "execution_count": 206,
     "metadata": {},
     "output_type": "execute_result"
    }
   ],
   "source": [
    "# Fit the training data\n",
    "gs.fit(X1_train, y1_train)"
   ]
  },
  {
   "cell_type": "code",
   "execution_count": 207,
   "id": "d4d8be7d",
   "metadata": {},
   "outputs": [],
   "source": [
    "# Make predictions\n",
    "y_pred = gs.predict(X1_test)"
   ]
  },
  {
   "cell_type": "code",
   "execution_count": 208,
   "id": "788cce1e",
   "metadata": {},
   "outputs": [
    {
     "name": "stdout",
     "output_type": "stream",
     "text": [
      "[[ 7303   158  5583]\n",
      " [ 1432   341  6250]\n",
      " [ 1077   267 96618]]\n"
     ]
    }
   ],
   "source": [
    "# Print confusion matrix\n",
    "print(confusion_matrix(y1_test, y_pred))"
   ]
  },
  {
   "cell_type": "code",
   "execution_count": 209,
   "id": "97269651",
   "metadata": {},
   "outputs": [
    {
     "name": "stdout",
     "output_type": "stream",
     "text": [
      "              precision    recall  f1-score   support\n",
      "\n",
      "    negative       0.74      0.56      0.64     13044\n",
      "     neutral       0.45      0.04      0.08      8023\n",
      "    positive       0.89      0.99      0.94     97962\n",
      "\n",
      "    accuracy                           0.88    119029\n",
      "   macro avg       0.69      0.53      0.55    119029\n",
      "weighted avg       0.84      0.88      0.85    119029\n",
      "\n"
     ]
    }
   ],
   "source": [
    "# Print classification report\n",
    "print(classification_report(y1_test, y_pred))"
   ]
  },
  {
   "cell_type": "markdown",
   "id": "57e635fe",
   "metadata": {},
   "source": [
    "## Sentiment Analysis"
   ]
  },
  {
   "cell_type": "code",
   "execution_count": 210,
   "id": "01071dd4",
   "metadata": {},
   "outputs": [
    {
     "name": "stderr",
     "output_type": "stream",
     "text": [
      "[nltk_data] Downloading package vader_lexicon to\n",
      "[nltk_data]     C:\\Users\\ntran\\AppData\\Roaming\\nltk_data...\n",
      "[nltk_data]   Package vader_lexicon is already up-to-date!\n"
     ]
    },
    {
     "data": {
      "text/plain": [
       "True"
      ]
     },
     "execution_count": 210,
     "metadata": {},
     "output_type": "execute_result"
    }
   ],
   "source": [
    "import nltk\n",
    "nltk.download('vader_lexicon')"
   ]
  },
  {
   "cell_type": "code",
   "execution_count": 211,
   "id": "519a5d65",
   "metadata": {},
   "outputs": [
    {
     "name": "stdout",
     "output_type": "stream",
     "text": [
      "Requirement already satisfied: nltk[twitter] in c:\\users\\ntran\\anaconda3\\lib\\site-packages (3.6.1)\n",
      "Requirement already satisfied: joblib in c:\\users\\ntran\\anaconda3\\lib\\site-packages (from nltk[twitter]) (1.0.1)\n",
      "Requirement already satisfied: click in c:\\users\\ntran\\anaconda3\\lib\\site-packages (from nltk[twitter]) (7.1.2)\n",
      "Requirement already satisfied: tqdm in c:\\users\\ntran\\anaconda3\\lib\\site-packages (from nltk[twitter]) (4.59.0)\n",
      "Requirement already satisfied: regex in c:\\users\\ntran\\anaconda3\\lib\\site-packages (from nltk[twitter]) (2021.4.4)\n",
      "Collecting twython\n",
      "  Downloading twython-3.9.1-py3-none-any.whl (33 kB)\n",
      "Requirement already satisfied: requests-oauthlib>=0.4.0 in c:\\users\\ntran\\anaconda3\\lib\\site-packages (from twython->nltk[twitter]) (1.3.0)\n",
      "Requirement already satisfied: requests>=2.1.0 in c:\\users\\ntran\\anaconda3\\lib\\site-packages (from twython->nltk[twitter]) (2.25.1)\n",
      "Requirement already satisfied: idna<3,>=2.5 in c:\\users\\ntran\\anaconda3\\lib\\site-packages (from requests>=2.1.0->twython->nltk[twitter]) (2.10)\n",
      "Requirement already satisfied: certifi>=2017.4.17 in c:\\users\\ntran\\anaconda3\\lib\\site-packages (from requests>=2.1.0->twython->nltk[twitter]) (2021.5.30)\n",
      "Requirement already satisfied: urllib3<1.27,>=1.21.1 in c:\\users\\ntran\\anaconda3\\lib\\site-packages (from requests>=2.1.0->twython->nltk[twitter]) (1.26.4)\n",
      "Requirement already satisfied: chardet<5,>=3.0.2 in c:\\users\\ntran\\anaconda3\\lib\\site-packages (from requests>=2.1.0->twython->nltk[twitter]) (4.0.0)\n",
      "Requirement already satisfied: oauthlib>=3.0.0 in c:\\users\\ntran\\anaconda3\\lib\\site-packages (from requests-oauthlib>=0.4.0->twython->nltk[twitter]) (3.1.1)\n",
      "Installing collected packages: twython\n",
      "Successfully installed twython-3.9.1\n"
     ]
    },
    {
     "name": "stderr",
     "output_type": "stream",
     "text": [
      "WARNING: Ignoring invalid distribution -illow (c:\\users\\ntran\\anaconda3\\lib\\site-packages)\n",
      "WARNING: Ignoring invalid distribution -illow (c:\\users\\ntran\\anaconda3\\lib\\site-packages)\n",
      "WARNING: Ignoring invalid distribution -illow (c:\\users\\ntran\\anaconda3\\lib\\site-packages)\n",
      "WARNING: Ignoring invalid distribution -illow (c:\\users\\ntran\\anaconda3\\lib\\site-packages)\n",
      "WARNING: Ignoring invalid distribution -illow (c:\\users\\ntran\\anaconda3\\lib\\site-packages)\n",
      "WARNING: Ignoring invalid distribution -illow (c:\\users\\ntran\\anaconda3\\lib\\site-packages)\n"
     ]
    }
   ],
   "source": [
    "!pip install -U nltk[twitter]"
   ]
  },
  {
   "cell_type": "code",
   "execution_count": 40,
   "id": "1ff47a5a",
   "metadata": {},
   "outputs": [],
   "source": [
    "from nltk.sentiment.vader import SentimentIntensityAnalyzer\n",
    "\n",
    "# create an instance of SentimentIntensityAnalyzer\n",
    "sid = SentimentIntensityAnalyzer() "
   ]
  },
  {
   "cell_type": "code",
   "execution_count": 85,
   "id": "69918965",
   "metadata": {},
   "outputs": [
    {
     "data": {
      "text/html": [
       "<div>\n",
       "<style scoped>\n",
       "    .dataframe tbody tr th:only-of-type {\n",
       "        vertical-align: middle;\n",
       "    }\n",
       "\n",
       "    .dataframe tbody tr th {\n",
       "        vertical-align: top;\n",
       "    }\n",
       "\n",
       "    .dataframe thead th {\n",
       "        text-align: right;\n",
       "    }\n",
       "</style>\n",
       "<table border=\"1\" class=\"dataframe\">\n",
       "  <thead>\n",
       "    <tr style=\"text-align: right;\">\n",
       "      <th></th>\n",
       "      <th>overall</th>\n",
       "      <th>reviewText</th>\n",
       "      <th>length</th>\n",
       "      <th>punct</th>\n",
       "      <th>scores</th>\n",
       "    </tr>\n",
       "  </thead>\n",
       "  <tbody>\n",
       "    <tr>\n",
       "      <th>242</th>\n",
       "      <td>positive</td>\n",
       "      <td>loved donna kato work time purchased polymer c...</td>\n",
       "      <td>110</td>\n",
       "      <td>26</td>\n",
       "      <td>{'neg': 0.0, 'neu': 0.786, 'pos': 0.214, 'comp...</td>\n",
       "    </tr>\n",
       "    <tr>\n",
       "      <th>243</th>\n",
       "      <td>positive</td>\n",
       "      <td>absolutely fantastic book stars</td>\n",
       "      <td>12</td>\n",
       "      <td>3</td>\n",
       "      <td>{'neg': 0.0, 'neu': 0.435, 'pos': 0.565, 'comp...</td>\n",
       "    </tr>\n",
       "    <tr>\n",
       "      <th>244</th>\n",
       "      <td>positive</td>\n",
       "      <td>exciting inspirational great</td>\n",
       "      <td>5</td>\n",
       "      <td>2</td>\n",
       "      <td>{'neg': 0.0, 'neu': 0.0, 'pos': 1.0, 'compound...</td>\n",
       "    </tr>\n",
       "    <tr>\n",
       "      <th>245</th>\n",
       "      <td>positive</td>\n",
       "      <td>good</td>\n",
       "      <td>2</td>\n",
       "      <td>0</td>\n",
       "      <td>{'neg': 0.0, 'neu': 0.0, 'pos': 1.0, 'compound...</td>\n",
       "    </tr>\n",
       "    <tr>\n",
       "      <th>246</th>\n",
       "      <td>positive</td>\n",
       "      <td>received donna kato creative surface effects b...</td>\n",
       "      <td>121</td>\n",
       "      <td>12</td>\n",
       "      <td>{'neg': 0.0, 'neu': 0.525, 'pos': 0.475, 'comp...</td>\n",
       "    </tr>\n",
       "  </tbody>\n",
       "</table>\n",
       "</div>"
      ],
      "text/plain": [
       "      overall                                         reviewText  length  \\\n",
       "242  positive  loved donna kato work time purchased polymer c...     110   \n",
       "243  positive                    absolutely fantastic book stars      12   \n",
       "244  positive                       exciting inspirational great       5   \n",
       "245  positive                                               good       2   \n",
       "246  positive  received donna kato creative surface effects b...     121   \n",
       "\n",
       "     punct                                             scores  \n",
       "242     26  {'neg': 0.0, 'neu': 0.786, 'pos': 0.214, 'comp...  \n",
       "243      3  {'neg': 0.0, 'neu': 0.435, 'pos': 0.565, 'comp...  \n",
       "244      2  {'neg': 0.0, 'neu': 0.0, 'pos': 1.0, 'compound...  \n",
       "245      0  {'neg': 0.0, 'neu': 0.0, 'pos': 1.0, 'compound...  \n",
       "246     12  {'neg': 0.0, 'neu': 0.525, 'pos': 0.475, 'comp...  "
      ]
     },
     "execution_count": 85,
     "metadata": {},
     "output_type": "execute_result"
    }
   ],
   "source": [
    "# apply sid polarity scores to every single review in our data frame:\n",
    "df['scores'] = df['reviewText'].apply(lambda review: sid.polarity_scores(review))\n",
    "\n",
    "df.head()"
   ]
  },
  {
   "cell_type": "code",
   "execution_count": 86,
   "id": "10dcae2e",
   "metadata": {},
   "outputs": [
    {
     "data": {
      "text/html": [
       "<div>\n",
       "<style scoped>\n",
       "    .dataframe tbody tr th:only-of-type {\n",
       "        vertical-align: middle;\n",
       "    }\n",
       "\n",
       "    .dataframe tbody tr th {\n",
       "        vertical-align: top;\n",
       "    }\n",
       "\n",
       "    .dataframe thead th {\n",
       "        text-align: right;\n",
       "    }\n",
       "</style>\n",
       "<table border=\"1\" class=\"dataframe\">\n",
       "  <thead>\n",
       "    <tr style=\"text-align: right;\">\n",
       "      <th></th>\n",
       "      <th>overall</th>\n",
       "      <th>reviewText</th>\n",
       "      <th>length</th>\n",
       "      <th>punct</th>\n",
       "      <th>scores</th>\n",
       "      <th>compound</th>\n",
       "    </tr>\n",
       "  </thead>\n",
       "  <tbody>\n",
       "    <tr>\n",
       "      <th>242</th>\n",
       "      <td>positive</td>\n",
       "      <td>loved donna kato work time purchased polymer c...</td>\n",
       "      <td>110</td>\n",
       "      <td>26</td>\n",
       "      <td>{'neg': 0.0, 'neu': 0.786, 'pos': 0.214, 'comp...</td>\n",
       "      <td>0.9153</td>\n",
       "    </tr>\n",
       "    <tr>\n",
       "      <th>243</th>\n",
       "      <td>positive</td>\n",
       "      <td>absolutely fantastic book stars</td>\n",
       "      <td>12</td>\n",
       "      <td>3</td>\n",
       "      <td>{'neg': 0.0, 'neu': 0.435, 'pos': 0.565, 'comp...</td>\n",
       "      <td>0.5984</td>\n",
       "    </tr>\n",
       "    <tr>\n",
       "      <th>244</th>\n",
       "      <td>positive</td>\n",
       "      <td>exciting inspirational great</td>\n",
       "      <td>5</td>\n",
       "      <td>2</td>\n",
       "      <td>{'neg': 0.0, 'neu': 0.0, 'pos': 1.0, 'compound...</td>\n",
       "      <td>0.8910</td>\n",
       "    </tr>\n",
       "    <tr>\n",
       "      <th>245</th>\n",
       "      <td>positive</td>\n",
       "      <td>good</td>\n",
       "      <td>2</td>\n",
       "      <td>0</td>\n",
       "      <td>{'neg': 0.0, 'neu': 0.0, 'pos': 1.0, 'compound...</td>\n",
       "      <td>0.4404</td>\n",
       "    </tr>\n",
       "    <tr>\n",
       "      <th>246</th>\n",
       "      <td>positive</td>\n",
       "      <td>received donna kato creative surface effects b...</td>\n",
       "      <td>121</td>\n",
       "      <td>12</td>\n",
       "      <td>{'neg': 0.0, 'neu': 0.525, 'pos': 0.475, 'comp...</td>\n",
       "      <td>0.9883</td>\n",
       "    </tr>\n",
       "  </tbody>\n",
       "</table>\n",
       "</div>"
      ],
      "text/plain": [
       "      overall                                         reviewText  length  \\\n",
       "242  positive  loved donna kato work time purchased polymer c...     110   \n",
       "243  positive                    absolutely fantastic book stars      12   \n",
       "244  positive                       exciting inspirational great       5   \n",
       "245  positive                                               good       2   \n",
       "246  positive  received donna kato creative surface effects b...     121   \n",
       "\n",
       "     punct                                             scores  compound  \n",
       "242     26  {'neg': 0.0, 'neu': 0.786, 'pos': 0.214, 'comp...    0.9153  \n",
       "243      3  {'neg': 0.0, 'neu': 0.435, 'pos': 0.565, 'comp...    0.5984  \n",
       "244      2  {'neg': 0.0, 'neu': 0.0, 'pos': 1.0, 'compound...    0.8910  \n",
       "245      0  {'neg': 0.0, 'neu': 0.0, 'pos': 1.0, 'compound...    0.4404  \n",
       "246     12  {'neg': 0.0, 'neu': 0.525, 'pos': 0.475, 'comp...    0.9883  "
      ]
     },
     "execution_count": 86,
     "metadata": {},
     "output_type": "execute_result"
    }
   ],
   "source": [
    "# Get the compound score\n",
    "df['compound']  = df['scores'].apply(lambda score_dict: score_dict['compound'])\n",
    "\n",
    "df.head()"
   ]
  },
  {
   "cell_type": "code",
   "execution_count": 87,
   "id": "c5d20aa6",
   "metadata": {},
   "outputs": [
    {
     "data": {
      "text/html": [
       "<div>\n",
       "<style scoped>\n",
       "    .dataframe tbody tr th:only-of-type {\n",
       "        vertical-align: middle;\n",
       "    }\n",
       "\n",
       "    .dataframe tbody tr th {\n",
       "        vertical-align: top;\n",
       "    }\n",
       "\n",
       "    .dataframe thead th {\n",
       "        text-align: right;\n",
       "    }\n",
       "</style>\n",
       "<table border=\"1\" class=\"dataframe\">\n",
       "  <thead>\n",
       "    <tr style=\"text-align: right;\">\n",
       "      <th></th>\n",
       "      <th>overall</th>\n",
       "      <th>reviewText</th>\n",
       "      <th>length</th>\n",
       "      <th>punct</th>\n",
       "      <th>scores</th>\n",
       "      <th>compound</th>\n",
       "      <th>comp_score</th>\n",
       "    </tr>\n",
       "  </thead>\n",
       "  <tbody>\n",
       "    <tr>\n",
       "      <th>242</th>\n",
       "      <td>positive</td>\n",
       "      <td>loved donna kato work time purchased polymer c...</td>\n",
       "      <td>110</td>\n",
       "      <td>26</td>\n",
       "      <td>{'neg': 0.0, 'neu': 0.786, 'pos': 0.214, 'comp...</td>\n",
       "      <td>0.9153</td>\n",
       "      <td>positive</td>\n",
       "    </tr>\n",
       "    <tr>\n",
       "      <th>243</th>\n",
       "      <td>positive</td>\n",
       "      <td>absolutely fantastic book stars</td>\n",
       "      <td>12</td>\n",
       "      <td>3</td>\n",
       "      <td>{'neg': 0.0, 'neu': 0.435, 'pos': 0.565, 'comp...</td>\n",
       "      <td>0.5984</td>\n",
       "      <td>positive</td>\n",
       "    </tr>\n",
       "    <tr>\n",
       "      <th>244</th>\n",
       "      <td>positive</td>\n",
       "      <td>exciting inspirational great</td>\n",
       "      <td>5</td>\n",
       "      <td>2</td>\n",
       "      <td>{'neg': 0.0, 'neu': 0.0, 'pos': 1.0, 'compound...</td>\n",
       "      <td>0.8910</td>\n",
       "      <td>positive</td>\n",
       "    </tr>\n",
       "    <tr>\n",
       "      <th>245</th>\n",
       "      <td>positive</td>\n",
       "      <td>good</td>\n",
       "      <td>2</td>\n",
       "      <td>0</td>\n",
       "      <td>{'neg': 0.0, 'neu': 0.0, 'pos': 1.0, 'compound...</td>\n",
       "      <td>0.4404</td>\n",
       "      <td>positive</td>\n",
       "    </tr>\n",
       "    <tr>\n",
       "      <th>246</th>\n",
       "      <td>positive</td>\n",
       "      <td>received donna kato creative surface effects b...</td>\n",
       "      <td>121</td>\n",
       "      <td>12</td>\n",
       "      <td>{'neg': 0.0, 'neu': 0.525, 'pos': 0.475, 'comp...</td>\n",
       "      <td>0.9883</td>\n",
       "      <td>positive</td>\n",
       "    </tr>\n",
       "  </tbody>\n",
       "</table>\n",
       "</div>"
      ],
      "text/plain": [
       "      overall                                         reviewText  length  \\\n",
       "242  positive  loved donna kato work time purchased polymer c...     110   \n",
       "243  positive                    absolutely fantastic book stars      12   \n",
       "244  positive                       exciting inspirational great       5   \n",
       "245  positive                                               good       2   \n",
       "246  positive  received donna kato creative surface effects b...     121   \n",
       "\n",
       "     punct                                             scores  compound  \\\n",
       "242     26  {'neg': 0.0, 'neu': 0.786, 'pos': 0.214, 'comp...    0.9153   \n",
       "243      3  {'neg': 0.0, 'neu': 0.435, 'pos': 0.565, 'comp...    0.5984   \n",
       "244      2  {'neg': 0.0, 'neu': 0.0, 'pos': 1.0, 'compound...    0.8910   \n",
       "245      0  {'neg': 0.0, 'neu': 0.0, 'pos': 1.0, 'compound...    0.4404   \n",
       "246     12  {'neg': 0.0, 'neu': 0.525, 'pos': 0.475, 'comp...    0.9883   \n",
       "\n",
       "    comp_score  \n",
       "242   positive  \n",
       "243   positive  \n",
       "244   positive  \n",
       "245   positive  \n",
       "246   positive  "
      ]
     },
     "execution_count": 87,
     "metadata": {},
     "output_type": "execute_result"
    }
   ],
   "source": [
    "# Based on the compound score, should it be labeled as positive, negative, or neutral?\n",
    "df['comp_score'] = df['compound'].apply(lambda c: 'positive' if c > 0.05 else 'negative' if c < -0.05 else 'neutral')\n",
    "\n",
    "df.head()"
   ]
  },
  {
   "cell_type": "code",
   "execution_count": 88,
   "id": "0931d309",
   "metadata": {},
   "outputs": [
    {
     "data": {
      "text/html": [
       "<div>\n",
       "<style scoped>\n",
       "    .dataframe tbody tr th:only-of-type {\n",
       "        vertical-align: middle;\n",
       "    }\n",
       "\n",
       "    .dataframe tbody tr th {\n",
       "        vertical-align: top;\n",
       "    }\n",
       "\n",
       "    .dataframe thead th {\n",
       "        text-align: right;\n",
       "    }\n",
       "</style>\n",
       "<table border=\"1\" class=\"dataframe\">\n",
       "  <thead>\n",
       "    <tr style=\"text-align: right;\">\n",
       "      <th></th>\n",
       "      <th>overall</th>\n",
       "      <th>reviewText</th>\n",
       "      <th>length</th>\n",
       "      <th>punct</th>\n",
       "      <th>scores</th>\n",
       "      <th>compound</th>\n",
       "      <th>comp_score</th>\n",
       "    </tr>\n",
       "  </thead>\n",
       "  <tbody>\n",
       "    <tr>\n",
       "      <th>2874320</th>\n",
       "      <td>positive</td>\n",
       "      <td>longer construct thought great wares watch tub...</td>\n",
       "      <td>25</td>\n",
       "      <td>2</td>\n",
       "      <td>{'neg': 0.0, 'neu': 0.687, 'pos': 0.313, 'comp...</td>\n",
       "      <td>0.6249</td>\n",
       "      <td>positive</td>\n",
       "    </tr>\n",
       "    <tr>\n",
       "      <th>2875352</th>\n",
       "      <td>negative</td>\n",
       "      <td>ive wanted scissors dull called replace told p...</td>\n",
       "      <td>25</td>\n",
       "      <td>5</td>\n",
       "      <td>{'neg': 0.237, 'neu': 0.526, 'pos': 0.237, 'co...</td>\n",
       "      <td>0.0000</td>\n",
       "      <td>neutral</td>\n",
       "    </tr>\n",
       "    <tr>\n",
       "      <th>2875353</th>\n",
       "      <td>positive</td>\n",
       "      <td>garden wall cosplay complete</td>\n",
       "      <td>9</td>\n",
       "      <td>1</td>\n",
       "      <td>{'neg': 0.0, 'neu': 1.0, 'pos': 0.0, 'compound...</td>\n",
       "      <td>0.0000</td>\n",
       "      <td>neutral</td>\n",
       "    </tr>\n",
       "    <tr>\n",
       "      <th>2875354</th>\n",
       "      <td>positive</td>\n",
       "      <td>sewers sewists sewpeople gather scissors accus...</td>\n",
       "      <td>128</td>\n",
       "      <td>20</td>\n",
       "      <td>{'neg': 0.094, 'neu': 0.555, 'pos': 0.351, 'co...</td>\n",
       "      <td>0.9590</td>\n",
       "      <td>positive</td>\n",
       "    </tr>\n",
       "    <tr>\n",
       "      <th>2875355</th>\n",
       "      <td>positive</td>\n",
       "      <td>fine great sewing love scissors</td>\n",
       "      <td>8</td>\n",
       "      <td>3</td>\n",
       "      <td>{'neg': 0.0, 'neu': 0.165, 'pos': 0.835, 'comp...</td>\n",
       "      <td>0.8779</td>\n",
       "      <td>positive</td>\n",
       "    </tr>\n",
       "    <tr>\n",
       "      <th>2875356</th>\n",
       "      <td>positive</td>\n",
       "      <td>pretty</td>\n",
       "      <td>4</td>\n",
       "      <td>0</td>\n",
       "      <td>{'neg': 0.0, 'neu': 0.0, 'pos': 1.0, 'compound...</td>\n",
       "      <td>0.4939</td>\n",
       "      <td>positive</td>\n",
       "    </tr>\n",
       "    <tr>\n",
       "      <th>2875357</th>\n",
       "      <td>positive</td>\n",
       "      <td>small size nice machining nice pair scissors</td>\n",
       "      <td>13</td>\n",
       "      <td>1</td>\n",
       "      <td>{'neg': 0.0, 'neu': 0.472, 'pos': 0.528, 'comp...</td>\n",
       "      <td>0.6808</td>\n",
       "      <td>positive</td>\n",
       "    </tr>\n",
       "    <tr>\n",
       "      <th>2875358</th>\n",
       "      <td>positive</td>\n",
       "      <td>great scissors size weight good quality price</td>\n",
       "      <td>19</td>\n",
       "      <td>3</td>\n",
       "      <td>{'neg': 0.0, 'neu': 0.417, 'pos': 0.583, 'comp...</td>\n",
       "      <td>0.7906</td>\n",
       "      <td>positive</td>\n",
       "    </tr>\n",
       "    <tr>\n",
       "      <th>2875359</th>\n",
       "      <td>positive</td>\n",
       "      <td>super sharp beautifully designed complaints</td>\n",
       "      <td>7</td>\n",
       "      <td>2</td>\n",
       "      <td>{'neg': 0.22, 'neu': 0.163, 'pos': 0.618, 'com...</td>\n",
       "      <td>0.7096</td>\n",
       "      <td>positive</td>\n",
       "    </tr>\n",
       "    <tr>\n",
       "      <th>2875360</th>\n",
       "      <td>positive</td>\n",
       "      <td>larger thought</td>\n",
       "      <td>4</td>\n",
       "      <td>0</td>\n",
       "      <td>{'neg': 0.0, 'neu': 1.0, 'pos': 0.0, 'compound...</td>\n",
       "      <td>0.0000</td>\n",
       "      <td>neutral</td>\n",
       "    </tr>\n",
       "    <tr>\n",
       "      <th>2875409</th>\n",
       "      <td>positive</td>\n",
       "      <td>ordered set hand started cramping regular hook...</td>\n",
       "      <td>26</td>\n",
       "      <td>3</td>\n",
       "      <td>{'neg': 0.0, 'neu': 0.549, 'pos': 0.451, 'comp...</td>\n",
       "      <td>0.8126</td>\n",
       "      <td>positive</td>\n",
       "    </tr>\n",
       "    <tr>\n",
       "      <th>2875410</th>\n",
       "      <td>positive</td>\n",
       "      <td>enjoyed learning crochet kit handles soft plas...</td>\n",
       "      <td>116</td>\n",
       "      <td>7</td>\n",
       "      <td>{'neg': 0.102, 'neu': 0.766, 'pos': 0.132, 'co...</td>\n",
       "      <td>0.3400</td>\n",
       "      <td>positive</td>\n",
       "    </tr>\n",
       "    <tr>\n",
       "      <th>2875411</th>\n",
       "      <td>positive</td>\n",
       "      <td>love complains fast delivery accurate products...</td>\n",
       "      <td>49</td>\n",
       "      <td>5</td>\n",
       "      <td>{'neg': 0.172, 'neu': 0.448, 'pos': 0.381, 'co...</td>\n",
       "      <td>0.7650</td>\n",
       "      <td>positive</td>\n",
       "    </tr>\n",
       "    <tr>\n",
       "      <th>2875412</th>\n",
       "      <td>positive</td>\n",
       "      <td>love great case yarn needle plastic wrap doesn...</td>\n",
       "      <td>26</td>\n",
       "      <td>1</td>\n",
       "      <td>{'neg': 0.0, 'neu': 0.52, 'pos': 0.48, 'compou...</td>\n",
       "      <td>0.8519</td>\n",
       "      <td>positive</td>\n",
       "    </tr>\n",
       "    <tr>\n",
       "      <th>2875413</th>\n",
       "      <td>positive</td>\n",
       "      <td>dunno hooks strain bag darned cute worth bag</td>\n",
       "      <td>24</td>\n",
       "      <td>3</td>\n",
       "      <td>{'neg': 0.108, 'neu': 0.45, 'pos': 0.441, 'com...</td>\n",
       "      <td>0.5719</td>\n",
       "      <td>positive</td>\n",
       "    </tr>\n",
       "    <tr>\n",
       "      <th>2875414</th>\n",
       "      <td>positive</td>\n",
       "      <td>great kit price included materials work functi...</td>\n",
       "      <td>15</td>\n",
       "      <td>2</td>\n",
       "      <td>{'neg': 0.0, 'neu': 0.594, 'pos': 0.406, 'comp...</td>\n",
       "      <td>0.6249</td>\n",
       "      <td>positive</td>\n",
       "    </tr>\n",
       "    <tr>\n",
       "      <th>2875415</th>\n",
       "      <td>positive</td>\n",
       "      <td>nice set presentation lovely great gift</td>\n",
       "      <td>12</td>\n",
       "      <td>2</td>\n",
       "      <td>{'neg': 0.0, 'neu': 0.128, 'pos': 0.872, 'comp...</td>\n",
       "      <td>0.9274</td>\n",
       "      <td>positive</td>\n",
       "    </tr>\n",
       "    <tr>\n",
       "      <th>2875416</th>\n",
       "      <td>positive</td>\n",
       "      <td>nice set price</td>\n",
       "      <td>6</td>\n",
       "      <td>1</td>\n",
       "      <td>{'neg': 0.0, 'neu': 0.417, 'pos': 0.583, 'comp...</td>\n",
       "      <td>0.4215</td>\n",
       "      <td>positive</td>\n",
       "    </tr>\n",
       "    <tr>\n",
       "      <th>2875417</th>\n",
       "      <td>positive</td>\n",
       "      <td>great kit great price</td>\n",
       "      <td>4</td>\n",
       "      <td>2</td>\n",
       "      <td>{'neg': 0.0, 'neu': 0.196, 'pos': 0.804, 'comp...</td>\n",
       "      <td>0.8481</td>\n",
       "      <td>positive</td>\n",
       "    </tr>\n",
       "    <tr>\n",
       "      <th>2875418</th>\n",
       "      <td>positive</td>\n",
       "      <td>bought mom absolutely loves needed start croch...</td>\n",
       "      <td>36</td>\n",
       "      <td>3</td>\n",
       "      <td>{'neg': 0.0, 'neu': 0.502, 'pos': 0.498, 'comp...</td>\n",
       "      <td>0.8977</td>\n",
       "      <td>positive</td>\n",
       "    </tr>\n",
       "  </tbody>\n",
       "</table>\n",
       "</div>"
      ],
      "text/plain": [
       "          overall                                         reviewText  length  \\\n",
       "2874320  positive  longer construct thought great wares watch tub...      25   \n",
       "2875352  negative  ive wanted scissors dull called replace told p...      25   \n",
       "2875353  positive                       garden wall cosplay complete       9   \n",
       "2875354  positive  sewers sewists sewpeople gather scissors accus...     128   \n",
       "2875355  positive                    fine great sewing love scissors       8   \n",
       "2875356  positive                                             pretty       4   \n",
       "2875357  positive       small size nice machining nice pair scissors      13   \n",
       "2875358  positive      great scissors size weight good quality price      19   \n",
       "2875359  positive        super sharp beautifully designed complaints       7   \n",
       "2875360  positive                                     larger thought       4   \n",
       "2875409  positive  ordered set hand started cramping regular hook...      26   \n",
       "2875410  positive  enjoyed learning crochet kit handles soft plas...     116   \n",
       "2875411  positive  love complains fast delivery accurate products...      49   \n",
       "2875412  positive  love great case yarn needle plastic wrap doesn...      26   \n",
       "2875413  positive       dunno hooks strain bag darned cute worth bag      24   \n",
       "2875414  positive  great kit price included materials work functi...      15   \n",
       "2875415  positive            nice set presentation lovely great gift      12   \n",
       "2875416  positive                                     nice set price       6   \n",
       "2875417  positive                              great kit great price       4   \n",
       "2875418  positive  bought mom absolutely loves needed start croch...      36   \n",
       "\n",
       "         punct                                             scores  compound  \\\n",
       "2874320      2  {'neg': 0.0, 'neu': 0.687, 'pos': 0.313, 'comp...    0.6249   \n",
       "2875352      5  {'neg': 0.237, 'neu': 0.526, 'pos': 0.237, 'co...    0.0000   \n",
       "2875353      1  {'neg': 0.0, 'neu': 1.0, 'pos': 0.0, 'compound...    0.0000   \n",
       "2875354     20  {'neg': 0.094, 'neu': 0.555, 'pos': 0.351, 'co...    0.9590   \n",
       "2875355      3  {'neg': 0.0, 'neu': 0.165, 'pos': 0.835, 'comp...    0.8779   \n",
       "2875356      0  {'neg': 0.0, 'neu': 0.0, 'pos': 1.0, 'compound...    0.4939   \n",
       "2875357      1  {'neg': 0.0, 'neu': 0.472, 'pos': 0.528, 'comp...    0.6808   \n",
       "2875358      3  {'neg': 0.0, 'neu': 0.417, 'pos': 0.583, 'comp...    0.7906   \n",
       "2875359      2  {'neg': 0.22, 'neu': 0.163, 'pos': 0.618, 'com...    0.7096   \n",
       "2875360      0  {'neg': 0.0, 'neu': 1.0, 'pos': 0.0, 'compound...    0.0000   \n",
       "2875409      3  {'neg': 0.0, 'neu': 0.549, 'pos': 0.451, 'comp...    0.8126   \n",
       "2875410      7  {'neg': 0.102, 'neu': 0.766, 'pos': 0.132, 'co...    0.3400   \n",
       "2875411      5  {'neg': 0.172, 'neu': 0.448, 'pos': 0.381, 'co...    0.7650   \n",
       "2875412      1  {'neg': 0.0, 'neu': 0.52, 'pos': 0.48, 'compou...    0.8519   \n",
       "2875413      3  {'neg': 0.108, 'neu': 0.45, 'pos': 0.441, 'com...    0.5719   \n",
       "2875414      2  {'neg': 0.0, 'neu': 0.594, 'pos': 0.406, 'comp...    0.6249   \n",
       "2875415      2  {'neg': 0.0, 'neu': 0.128, 'pos': 0.872, 'comp...    0.9274   \n",
       "2875416      1  {'neg': 0.0, 'neu': 0.417, 'pos': 0.583, 'comp...    0.4215   \n",
       "2875417      2  {'neg': 0.0, 'neu': 0.196, 'pos': 0.804, 'comp...    0.8481   \n",
       "2875418      3  {'neg': 0.0, 'neu': 0.502, 'pos': 0.498, 'comp...    0.8977   \n",
       "\n",
       "        comp_score  \n",
       "2874320   positive  \n",
       "2875352    neutral  \n",
       "2875353    neutral  \n",
       "2875354   positive  \n",
       "2875355   positive  \n",
       "2875356   positive  \n",
       "2875357   positive  \n",
       "2875358   positive  \n",
       "2875359   positive  \n",
       "2875360    neutral  \n",
       "2875409   positive  \n",
       "2875410   positive  \n",
       "2875411   positive  \n",
       "2875412   positive  \n",
       "2875413   positive  \n",
       "2875414   positive  \n",
       "2875415   positive  \n",
       "2875416   positive  \n",
       "2875417   positive  \n",
       "2875418   positive  "
      ]
     },
     "execution_count": 88,
     "metadata": {},
     "output_type": "execute_result"
    }
   ],
   "source": [
    "# check the last 20 rows\n",
    "df.tail(20)"
   ]
  },
  {
   "cell_type": "code",
   "execution_count": 89,
   "id": "9cbef01a",
   "metadata": {},
   "outputs": [],
   "source": [
    "# Save to CSV file\n",
    "df.to_csv(\"final_az_project.csv\")"
   ]
  },
  {
   "cell_type": "code",
   "execution_count": 90,
   "id": "4d585de9",
   "metadata": {},
   "outputs": [
    {
     "data": {
      "text/plain": [
       "0.746091689042279"
      ]
     },
     "execution_count": 90,
     "metadata": {},
     "output_type": "execute_result"
    }
   ],
   "source": [
    "from sklearn.metrics import accuracy_score, classification_report, confusion_matrix\n",
    "\n",
    "# Grab the accuracy score\n",
    "accuracy_score(df['overall'], df['comp_score'])"
   ]
  },
  {
   "cell_type": "code",
   "execution_count": 91,
   "id": "019eaa25",
   "metadata": {},
   "outputs": [
    {
     "name": "stdout",
     "output_type": "stream",
     "text": [
      "              precision    recall  f1-score   support\n",
      "\n",
      "    negative       0.50      0.43      0.46    130437\n",
      "     neutral       0.11      0.26      0.16     80227\n",
      "    positive       0.90      0.83      0.86    979620\n",
      "\n",
      "    accuracy                           0.75   1190284\n",
      "   macro avg       0.51      0.50      0.49   1190284\n",
      "weighted avg       0.81      0.75      0.77   1190284\n",
      "\n"
     ]
    }
   ],
   "source": [
    "# Print the classification report\n",
    "print(classification_report(df['overall'], df['comp_score']))"
   ]
  },
  {
   "cell_type": "code",
   "execution_count": null,
   "id": "681591b8",
   "metadata": {},
   "outputs": [],
   "source": []
  }
 ],
 "metadata": {
  "kernelspec": {
   "display_name": "Python 3",
   "language": "python",
   "name": "python3"
  },
  "language_info": {
   "codemirror_mode": {
    "name": "ipython",
    "version": 3
   },
   "file_extension": ".py",
   "mimetype": "text/x-python",
   "name": "python",
   "nbconvert_exporter": "python",
   "pygments_lexer": "ipython3",
   "version": "3.8.8"
  }
 },
 "nbformat": 4,
 "nbformat_minor": 5
}
